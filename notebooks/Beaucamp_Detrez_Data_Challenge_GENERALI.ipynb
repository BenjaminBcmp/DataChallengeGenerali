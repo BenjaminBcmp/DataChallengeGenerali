{
 "cells": [
  {
   "cell_type": "markdown",
   "metadata": {
    "colab_type": "text",
    "id": "9IJLwKTM-ReK"
   },
   "source": [
    "# Data Challenge GENERALI"
   ]
  },
  {
   "cell_type": "markdown",
   "metadata": {
    "colab_type": "text",
    "id": "W3HBhNJ_yEGM"
   },
   "source": [
    "# Préliminaires"
   ]
  },
  {
   "cell_type": "code",
   "execution_count": 0,
   "metadata": {
    "colab": {},
    "colab_type": "code",
    "id": "1zJGxSYH9pKN"
   },
   "outputs": [],
   "source": [
    "%matplotlib inline\n",
    "import numpy as np\n",
    "import pandas as pd\n",
    "from sklearn.model_selection import GridSearchCV\n",
    "import matplotlib.pyplot as plt\n",
    "import pickle #Pour sauvegarder les modèles\n",
    "from urllib.request import urlopen #Pour charger les modèles depuis GitHub"
   ]
  },
  {
   "cell_type": "markdown",
   "metadata": {
    "colab_type": "text",
    "id": "tJeAXXXAyIn8"
   },
   "source": [
    "Pour charger et sauvegarder des modèles :"
   ]
  },
  {
   "cell_type": "code",
   "execution_count": 0,
   "metadata": {
    "colab": {},
    "colab_type": "code",
    "id": "0IrWANoUnRuz"
   },
   "outputs": [],
   "source": [
    "load_models_url = \"https://raw.githubusercontent.com/BenjaminBcmp/DataChallengeGenerali/master/modeles/\" #GitHub\n",
    "#load_models_url = \"/Users/Benjamin/Documents/MATHAPPLI/APST-ML/DataChallenge/DataChallengeGenerali/modeles/\" #Benjamin\n",
    "#save_models_path = \"/Users/Benjamin/Documents/MATHAPPLI/APST-ML/DataChallenge/DataChallengeGenerali/modeles/\" #Benjamin\n",
    "save_models_path=\"C:/Users/Asus/Documents/Cours/EI2/APST/Generali/Modele/\" #Célia\n",
    "#save_models_path = \"\" #VM Google Cloud"
   ]
  },
  {
   "cell_type": "code",
   "execution_count": 102,
   "metadata": {
    "colab": {
     "base_uri": "https://localhost:8080/",
     "height": 0
    },
    "colab_type": "code",
    "id": "mxiwljvMq9Ap",
    "outputId": "fcc44a5f-e66a-4b7f-d3ed-1ba2fe8e59d6"
   },
   "outputs": [
    {
     "data": {
      "text/plain": [
       "4"
      ]
     },
     "execution_count": 102,
     "metadata": {
      "tags": []
     },
     "output_type": "execute_result"
    }
   ],
   "source": [
    "import multiprocessing\n",
    "n_jobs=multiprocessing.cpu_count()\n",
    "n_jobs"
   ]
  },
  {
   "cell_type": "markdown",
   "metadata": {
    "colab_type": "text",
    "id": "RSBt4_aDVnUz"
   },
   "source": [
    "# Sommaire\n"
   ]
  },
  {
   "cell_type": "markdown",
   "metadata": {
    "colab_type": "text",
    "id": "r7WyaChN2C9u"
   },
   "source": [
    "1. [Traitement des données](#data)  \n",
    "2. [Réduction de dimension](#reduction_dim)\n",
    "3. [Préparatifs pour l'entrainement de modèles](#preparatifs)\n",
    "4. [XGBoost](#xgb)\n",
    "5. [RandomForest](#rfc)\n",
    "6. [LightGBM](#lgbm)\n",
    "7. [Régression logistique](#reglog)\n",
    "8. [Réseau de neurones](#neural_net)\n",
    "9. [Adaboost](#ada)\n",
    "10. [SVM](#svm)\n",
    "11. [Ensembling](#ensembling)\n",
    "12. [Construction des prédictions](#pred)"
   ]
  },
  {
   "cell_type": "markdown",
   "metadata": {
    "colab_type": "text",
    "id": "N8uCK3cg-JHd"
   },
   "source": [
    "# Traitement des données\n",
    "<a id=\"data\"></a>"
   ]
  },
  {
   "cell_type": "markdown",
   "metadata": {
    "colab_type": "text",
    "id": "VvFMSC-S2FMw"
   },
   "source": [
    "## Importation"
   ]
  },
  {
   "cell_type": "code",
   "execution_count": 103,
   "metadata": {
    "colab": {
     "base_uri": "https://localhost:8080/",
     "height": 52
    },
    "colab_type": "code",
    "id": "Ny9kIa2i-DkB",
    "outputId": "ca13200d-c3f4-4cec-b474-cf484328042d"
   },
   "outputs": [
    {
     "name": "stdout",
     "output_type": "stream",
     "text": [
      "(10110, 34)\n",
      "(3412, 34)\n"
     ]
    }
   ],
   "source": [
    "X_train_url = \"https://raw.githubusercontent.com/BenjaminBcmp/DataChallengeGenerali/master/data/X_train_new_data.csv\"\n",
    "X_test_url = \"https://raw.githubusercontent.com/BenjaminBcmp/DataChallengeGenerali/master/data/X_test_new_data.csv\"\n",
    "y_train_url = \"https://raw.githubusercontent.com/BenjaminBcmp/DataChallengeGenerali/master/data/y_train_saegPGl_new_data.csv\"\n",
    "X_train = pd.read_csv(X_train_url, header=0, index_col=0)\n",
    "X_test = pd.read_csv(X_test_url, header=0, index_col=0)\n",
    "y_train = pd.read_csv(y_train_url, header=0, index_col=0)\n",
    "print(X_train.shape)\n",
    "print(X_test.shape)"
   ]
  },
  {
   "cell_type": "code",
   "execution_count": 104,
   "metadata": {
    "colab": {
     "base_uri": "https://localhost:8080/",
     "height": 256
    },
    "colab_type": "code",
    "id": "1I-5c8Cu_HbJ",
    "outputId": "750b34f2-4f8f-4590-b479-b0411cfced4e"
   },
   "outputs": [
    {
     "data": {
      "text/html": [
       "<div>\n",
       "<style scoped>\n",
       "    .dataframe tbody tr th:only-of-type {\n",
       "        vertical-align: middle;\n",
       "    }\n",
       "\n",
       "    .dataframe tbody tr th {\n",
       "        vertical-align: top;\n",
       "    }\n",
       "\n",
       "    .dataframe thead th {\n",
       "        text-align: right;\n",
       "    }\n",
       "</style>\n",
       "<table border=\"1\" class=\"dataframe\">\n",
       "  <thead>\n",
       "    <tr style=\"text-align: right;\">\n",
       "      <th></th>\n",
       "      <th>Identifiant</th>\n",
       "      <th>ft_2_categ</th>\n",
       "      <th>EXPO</th>\n",
       "      <th>ft_4_categ</th>\n",
       "      <th>ft_5_categ</th>\n",
       "      <th>ft_6_categ</th>\n",
       "      <th>ft_7_categ</th>\n",
       "      <th>ft_8_categ</th>\n",
       "      <th>ft_9_categ</th>\n",
       "      <th>ft_10_categ</th>\n",
       "      <th>...</th>\n",
       "      <th>Insee</th>\n",
       "      <th>pluie</th>\n",
       "      <th>catnat</th>\n",
       "      <th>criminalite</th>\n",
       "      <th>pprn</th>\n",
       "      <th>chomage</th>\n",
       "      <th>rev_med</th>\n",
       "      <th>log_sociaux</th>\n",
       "      <th>fuites</th>\n",
       "      <th>entreprises</th>\n",
       "    </tr>\n",
       "  </thead>\n",
       "  <tbody>\n",
       "    <tr>\n",
       "      <th>0</th>\n",
       "      <td>18702</td>\n",
       "      <td>2014</td>\n",
       "      <td>1</td>\n",
       "      <td>0</td>\n",
       "      <td>V</td>\n",
       "      <td>N</td>\n",
       "      <td>1</td>\n",
       "      <td>O</td>\n",
       "      <td>1</td>\n",
       "      <td>O</td>\n",
       "      <td>...</td>\n",
       "      <td>65440</td>\n",
       "      <td>7</td>\n",
       "      <td>1.0</td>\n",
       "      <td>0.044062</td>\n",
       "      <td>1</td>\n",
       "      <td>11.350</td>\n",
       "      <td>17098.000000</td>\n",
       "      <td>556</td>\n",
       "      <td>7.589677</td>\n",
       "      <td>4756.0</td>\n",
       "    </tr>\n",
       "    <tr>\n",
       "      <th>1</th>\n",
       "      <td>3877</td>\n",
       "      <td>2014</td>\n",
       "      <td>1</td>\n",
       "      <td>0</td>\n",
       "      <td>V</td>\n",
       "      <td>V</td>\n",
       "      <td>V</td>\n",
       "      <td>V</td>\n",
       "      <td>V</td>\n",
       "      <td>V</td>\n",
       "      <td>...</td>\n",
       "      <td>14341</td>\n",
       "      <td>1</td>\n",
       "      <td>0.0</td>\n",
       "      <td>0.039299</td>\n",
       "      <td>0</td>\n",
       "      <td>9.750</td>\n",
       "      <td>19767.619048</td>\n",
       "      <td>826</td>\n",
       "      <td>2.636626</td>\n",
       "      <td>12025.0</td>\n",
       "    </tr>\n",
       "    <tr>\n",
       "      <th>2</th>\n",
       "      <td>4942</td>\n",
       "      <td>2013</td>\n",
       "      <td>1</td>\n",
       "      <td>1</td>\n",
       "      <td>V</td>\n",
       "      <td>V</td>\n",
       "      <td>V</td>\n",
       "      <td>V</td>\n",
       "      <td>V</td>\n",
       "      <td>V</td>\n",
       "      <td>...</td>\n",
       "      <td>75109</td>\n",
       "      <td>0</td>\n",
       "      <td>0.0</td>\n",
       "      <td>0.109341</td>\n",
       "      <td>0</td>\n",
       "      <td>8.275</td>\n",
       "      <td>32166.978261</td>\n",
       "      <td>1054</td>\n",
       "      <td>15.665170</td>\n",
       "      <td>100837.0</td>\n",
       "    </tr>\n",
       "    <tr>\n",
       "      <th>3</th>\n",
       "      <td>13428</td>\n",
       "      <td>2013</td>\n",
       "      <td>0,246575342</td>\n",
       "      <td>0</td>\n",
       "      <td>N</td>\n",
       "      <td>V</td>\n",
       "      <td>V</td>\n",
       "      <td>V</td>\n",
       "      <td>V</td>\n",
       "      <td>V</td>\n",
       "      <td>...</td>\n",
       "      <td>92004</td>\n",
       "      <td>0</td>\n",
       "      <td>0.0</td>\n",
       "      <td>0.063562</td>\n",
       "      <td>0</td>\n",
       "      <td>7.750</td>\n",
       "      <td>23320.555556</td>\n",
       "      <td>1240</td>\n",
       "      <td>4.064081</td>\n",
       "      <td>31493.0</td>\n",
       "    </tr>\n",
       "    <tr>\n",
       "      <th>4</th>\n",
       "      <td>17137</td>\n",
       "      <td>2015</td>\n",
       "      <td>1</td>\n",
       "      <td>0</td>\n",
       "      <td>V</td>\n",
       "      <td>N</td>\n",
       "      <td>2</td>\n",
       "      <td>O</td>\n",
       "      <td>1</td>\n",
       "      <td>O</td>\n",
       "      <td>...</td>\n",
       "      <td>59340</td>\n",
       "      <td>1</td>\n",
       "      <td>0.0</td>\n",
       "      <td>0.062406</td>\n",
       "      <td>67</td>\n",
       "      <td>12.950</td>\n",
       "      <td>20914.000000</td>\n",
       "      <td>1025</td>\n",
       "      <td>6.069644</td>\n",
       "      <td>38651.0</td>\n",
       "    </tr>\n",
       "  </tbody>\n",
       "</table>\n",
       "<p>5 rows × 34 columns</p>\n",
       "</div>"
      ],
      "text/plain": [
       "   Identifiant  ft_2_categ         EXPO  ft_4_categ ft_5_categ ft_6_categ  \\\n",
       "0        18702        2014            1           0          V          N   \n",
       "1         3877        2014            1           0          V          V   \n",
       "2         4942        2013            1           1          V          V   \n",
       "3        13428        2013  0,246575342           0          N          V   \n",
       "4        17137        2015            1           0          V          N   \n",
       "\n",
       "  ft_7_categ ft_8_categ ft_9_categ ft_10_categ     ...       Insee pluie  \\\n",
       "0          1          O          1           O     ...       65440     7   \n",
       "1          V          V          V           V     ...       14341     1   \n",
       "2          V          V          V           V     ...       75109     0   \n",
       "3          V          V          V           V     ...       92004     0   \n",
       "4          2          O          1           O     ...       59340     1   \n",
       "\n",
       "  catnat criminalite pprn chomage       rev_med log_sociaux     fuites  \\\n",
       "0    1.0    0.044062    1  11.350  17098.000000         556   7.589677   \n",
       "1    0.0    0.039299    0   9.750  19767.619048         826   2.636626   \n",
       "2    0.0    0.109341    0   8.275  32166.978261        1054  15.665170   \n",
       "3    0.0    0.063562    0   7.750  23320.555556        1240   4.064081   \n",
       "4    0.0    0.062406   67  12.950  20914.000000        1025   6.069644   \n",
       "\n",
       "   entreprises  \n",
       "0       4756.0  \n",
       "1      12025.0  \n",
       "2     100837.0  \n",
       "3      31493.0  \n",
       "4      38651.0  \n",
       "\n",
       "[5 rows x 34 columns]"
      ]
     },
     "execution_count": 104,
     "metadata": {
      "tags": []
     },
     "output_type": "execute_result"
    }
   ],
   "source": [
    "X_train.head()"
   ]
  },
  {
   "cell_type": "code",
   "execution_count": 105,
   "metadata": {
    "colab": {
     "base_uri": "https://localhost:8080/",
     "height": 173
    },
    "colab_type": "code",
    "id": "r-isFIx8rU_n",
    "outputId": "028b3f6f-2960-403a-dfac-32618f7e4a80"
   },
   "outputs": [
    {
     "data": {
      "text/plain": [
       "count    10110.000000\n",
       "mean      1725.529674\n",
       "std        643.949264\n",
       "min         -1.000000\n",
       "25%       1950.000000\n",
       "50%       1960.000000\n",
       "75%       1980.000000\n",
       "max       2016.000000\n",
       "Name: ft_22_categ, dtype: float64"
      ]
     },
     "execution_count": 105,
     "metadata": {
      "tags": []
     },
     "output_type": "execute_result"
    }
   ],
   "source": [
    "X_train[\"ft_22_categ\"].describe()"
   ]
  },
  {
   "cell_type": "code",
   "execution_count": 106,
   "metadata": {
    "colab": {
     "base_uri": "https://localhost:8080/",
     "height": 86
    },
    "colab_type": "code",
    "id": "9J4A8l5QBbIu",
    "outputId": "4de87a70-9a23-41dc-94fd-197a475c654d"
   },
   "outputs": [
    {
     "data": {
      "text/plain": [
       "float64     9\n",
       "int64       8\n",
       "object     17\n",
       "dtype: int64"
      ]
     },
     "execution_count": 106,
     "metadata": {
      "tags": []
     },
     "output_type": "execute_result"
    }
   ],
   "source": [
    "X_train.get_dtype_counts()\n"
   ]
  },
  {
   "cell_type": "code",
   "execution_count": 107,
   "metadata": {
    "colab": {
     "base_uri": "https://localhost:8080/",
     "height": 206
    },
    "colab_type": "code",
    "id": "9x7tyr1AByuc",
    "outputId": "8e2344c2-8c01-4b0b-ff1b-4b603c6261de"
   },
   "outputs": [
    {
     "data": {
      "text/html": [
       "<div>\n",
       "<style scoped>\n",
       "    .dataframe tbody tr th:only-of-type {\n",
       "        vertical-align: middle;\n",
       "    }\n",
       "\n",
       "    .dataframe tbody tr th {\n",
       "        vertical-align: top;\n",
       "    }\n",
       "\n",
       "    .dataframe thead th {\n",
       "        text-align: right;\n",
       "    }\n",
       "</style>\n",
       "<table border=\"1\" class=\"dataframe\">\n",
       "  <thead>\n",
       "    <tr style=\"text-align: right;\">\n",
       "      <th></th>\n",
       "      <th>Identifiant</th>\n",
       "      <th>target</th>\n",
       "    </tr>\n",
       "  </thead>\n",
       "  <tbody>\n",
       "    <tr>\n",
       "      <th>0</th>\n",
       "      <td>18702</td>\n",
       "      <td>0</td>\n",
       "    </tr>\n",
       "    <tr>\n",
       "      <th>1</th>\n",
       "      <td>3877</td>\n",
       "      <td>1</td>\n",
       "    </tr>\n",
       "    <tr>\n",
       "      <th>2</th>\n",
       "      <td>4942</td>\n",
       "      <td>0</td>\n",
       "    </tr>\n",
       "    <tr>\n",
       "      <th>3</th>\n",
       "      <td>13428</td>\n",
       "      <td>0</td>\n",
       "    </tr>\n",
       "    <tr>\n",
       "      <th>4</th>\n",
       "      <td>17137</td>\n",
       "      <td>0</td>\n",
       "    </tr>\n",
       "  </tbody>\n",
       "</table>\n",
       "</div>"
      ],
      "text/plain": [
       "   Identifiant  target\n",
       "0        18702       0\n",
       "1         3877       1\n",
       "2         4942       0\n",
       "3        13428       0\n",
       "4        17137       0"
      ]
     },
     "execution_count": 107,
     "metadata": {
      "tags": []
     },
     "output_type": "execute_result"
    }
   ],
   "source": [
    "y_train.head()"
   ]
  },
  {
   "cell_type": "markdown",
   "metadata": {
    "colab_type": "text",
    "id": "wUKDAGEf2-Fn"
   },
   "source": [
    "## Encoding des variables catégorielles"
   ]
  },
  {
   "cell_type": "markdown",
   "metadata": {
    "colab_type": "text",
    "id": "g7Va5M0ozxJP"
   },
   "source": [
    "One-hot-encoding des variables catégorielles pour que notre jeu de données soit utilisable par les algorithmes. Pour s'assurer d'avoir les mêmes variables dans le train et le test, on regroupe les deux datasets ensemble, on encode les variables catégorielles puis on les sépare à nouveau."
   ]
  },
  {
   "cell_type": "code",
   "execution_count": 0,
   "metadata": {
    "colab": {},
    "colab_type": "code",
    "id": "qTCSC5dCDEo9"
   },
   "outputs": [],
   "source": [
    "id_train = X_train['Identifiant'] #Pour séparer le train du test\n",
    "id_test = X_test['Identifiant']"
   ]
  },
  {
   "cell_type": "code",
   "execution_count": 110,
   "metadata": {
    "colab": {
     "base_uri": "https://localhost:8080/",
     "height": 0
    },
    "colab_type": "code",
    "id": "r1L9eOnhEO9K",
    "outputId": "6b8d92a2-5852-4174-f599-72973834c657"
   },
   "outputs": [
    {
     "data": {
      "text/plain": [
       "(13522, 34)"
      ]
     },
     "execution_count": 110,
     "metadata": {
      "tags": []
     },
     "output_type": "execute_result"
    }
   ],
   "source": [
    "X_train_test = pd.concat([X_train,X_test])\n",
    "X_train_test.shape"
   ]
  },
  {
   "cell_type": "markdown",
   "metadata": {
    "colab_type": "text",
    "id": "lQ2zxMeFzPzC"
   },
   "source": [
    "La variable 'EXPO' est numérique mais les flottants sont entrés comme des chaines de caractère, avec une virgule au lieu d'un point pour la partie décimale. On applique donc une fonction sur toute la colonne afin d'avoir une variable numérique :"
   ]
  },
  {
   "cell_type": "code",
   "execution_count": 0,
   "metadata": {
    "colab": {},
    "colab_type": "code",
    "id": "MvD3g3mMw2BT"
   },
   "outputs": [],
   "source": [
    "func = lambda x: float(x.replace(',','.')) if type(x) is str else x\n",
    "X_train_test['EXPO'] = X_train_test['EXPO'].apply(func)"
   ]
  },
  {
   "cell_type": "markdown",
   "metadata": {
    "colab_type": "text",
    "id": "c02C9g8PKnTi"
   },
   "source": [
    "On change le type des variables catégorielles du train et du test :"
   ]
  },
  {
   "cell_type": "code",
   "execution_count": 112,
   "metadata": {
    "colab": {
     "base_uri": "https://localhost:8080/",
     "height": 0
    },
    "colab_type": "code",
    "id": "txRa2_oPKjo4",
    "outputId": "a0e43ec0-eb04-485a-9971-4efca6152e9d"
   },
   "outputs": [
    {
     "data": {
      "text/plain": [
       "Identifiant       int64\n",
       "ft_2_categ     category\n",
       "EXPO            float64\n",
       "ft_4_categ     category\n",
       "ft_5_categ     category\n",
       "ft_6_categ     category\n",
       "ft_7_categ     category\n",
       "ft_8_categ     category\n",
       "ft_9_categ     category\n",
       "ft_10_categ    category\n",
       "ft_11_categ    category\n",
       "ft_12_categ    category\n",
       "ft_13_categ    category\n",
       "ft_14_categ    category\n",
       "ft_15_categ    category\n",
       "ft_16_categ    category\n",
       "ft_17_categ    category\n",
       "ft_18_categ    category\n",
       "ft_19_categ    category\n",
       "superficief     float64\n",
       "ft_21_categ    category\n",
       "ft_22_categ    category\n",
       "ft_23_categ    category\n",
       "ft_24_categ    category\n",
       "Insee            object\n",
       "pluie             int64\n",
       "catnat          float64\n",
       "criminalite     float64\n",
       "pprn              int64\n",
       "chomage         float64\n",
       "rev_med         float64\n",
       "log_sociaux     float64\n",
       "fuites          float64\n",
       "entreprises     float64\n",
       "dtype: object"
      ]
     },
     "execution_count": 112,
     "metadata": {
      "tags": []
     },
     "output_type": "execute_result"
    }
   ],
   "source": [
    "vars_categ = [var for var in X_train.columns if var[:2]==\"ft\"]\n",
    "#vars_categ = [var for var in X_train.columns if var[:2]==\"ft\" and var!=\"ft_22_categ\"]\n",
    "X_train_test[vars_categ] = X_train_test[vars_categ].astype('category')\n",
    "X_train_test.dtypes"
   ]
  },
  {
   "cell_type": "markdown",
   "metadata": {
    "colab_type": "text",
    "id": "Yc0eIYSpgy5m"
   },
   "source": [
    "Problème de type pour ft_23_categ :"
   ]
  },
  {
   "cell_type": "code",
   "execution_count": 113,
   "metadata": {
    "colab": {
     "base_uri": "https://localhost:8080/",
     "height": 0
    },
    "colab_type": "code",
    "id": "74PRJtLPgnVq",
    "outputId": "69b4348e-bc50-4d86-f95e-93523caf299e"
   },
   "outputs": [
    {
     "data": {
      "text/plain": [
       "Index([0.0, 0.3, 0.6, 1.0, 1.5, 2.0, '0.0', '0.3', '0.6', '1.0', '1.5', '2.0',\n",
       "       'V'],\n",
       "      dtype='object')"
      ]
     },
     "execution_count": 113,
     "metadata": {
      "tags": []
     },
     "output_type": "execute_result"
    }
   ],
   "source": [
    "X_train_test.ft_23_categ.cat.categories"
   ]
  },
  {
   "cell_type": "code",
   "execution_count": 114,
   "metadata": {
    "colab": {
     "base_uri": "https://localhost:8080/",
     "height": 0
    },
    "colab_type": "code",
    "id": "kxIhZ2yng3eL",
    "outputId": "307b85b8-9340-42d2-b4be-c99f016da4b1"
   },
   "outputs": [
    {
     "data": {
      "text/plain": [
       "Index([0.0, 0.3, 0.6, 1.0, 1.5, 2.0, 'V'], dtype='object')"
      ]
     },
     "execution_count": 114,
     "metadata": {
      "tags": []
     },
     "output_type": "execute_result"
    }
   ],
   "source": [
    "func = lambda x: float(x.replace(',','.')) if type(x) is str and x != 'V' else x\n",
    "X_train_test['ft_23_categ'] = X_train_test['ft_23_categ'].apply(func)\n",
    "X_train_test['ft_23_categ'] = X_train_test['ft_23_categ'].astype('category')\n",
    "X_train_test.ft_23_categ.cat.categories"
   ]
  },
  {
   "cell_type": "markdown",
   "metadata": {
    "colab_type": "text",
    "id": "61-aQM7wJc5o"
   },
   "source": [
    "ft_22_categ possède beaucoup de niveaux qui sont des années, nous allons donc les regrouper par groupe de 50 ans afin de réduire le nombre de variables après one-hot-encoding : "
   ]
  },
  {
   "cell_type": "code",
   "execution_count": 115,
   "metadata": {
    "colab": {
     "base_uri": "https://localhost:8080/",
     "height": 0
    },
    "colab_type": "code",
    "id": "qNLnqaASJcEJ",
    "outputId": "a79b9ac0-6518-413c-ed74-8628d987d800"
   },
   "outputs": [
    {
     "data": {
      "text/plain": [
       "Float64Index([  -1.0, 1500.0, 1545.0, 1550.0, 1600.0, 1613.0, 1630.0, 1700.0,\n",
       "              1718.0, 1750.0,\n",
       "              ...\n",
       "              2007.0, 2008.0, 2009.0, 2010.0, 2011.0, 2012.0, 2013.0, 2014.0,\n",
       "              2015.0, 2016.0],\n",
       "             dtype='float64', length=149)"
      ]
     },
     "execution_count": 115,
     "metadata": {
      "tags": []
     },
     "output_type": "execute_result"
    }
   ],
   "source": [
    "X_train_test.ft_22_categ.cat.categories"
   ]
  },
  {
   "cell_type": "code",
   "execution_count": 0,
   "metadata": {
    "colab": {},
    "colab_type": "code",
    "id": "uQ3Mr1BoLo3S"
   },
   "outputs": [],
   "source": [
    "def regroup_year(col):\n",
    "    \"\"\"On remplace chaque année par la cinquantaine inférieure\n",
    "    Exemple : on remplace 1973 par 1950, 2012 par 2000\"\"\"\n",
    "    for k in range(len(col)):\n",
    "        if col[k] != -1: #-1 : la valeur n'est pas renseignée\n",
    "            if col[k] % 100 >= 50:\n",
    "                col[k] = col[k]//100 * 100 + 50\n",
    "            else:\n",
    "                col[k] = col[k]//100 * 100\n",
    "    return col\n",
    "\n",
    "X_train_test.ft_22_categ = regroup_year(np.array(X_train_test.ft_22_categ))\n",
    "X_train_test.ft_22_categ = X_train_test.ft_22_categ.astype('category')"
   ]
  },
  {
   "cell_type": "code",
   "execution_count": 117,
   "metadata": {
    "colab": {
     "base_uri": "https://localhost:8080/",
     "height": 0
    },
    "colab_type": "code",
    "id": "NBxgsyYGR_ll",
    "outputId": "0cebfbb6-07da-4feb-c13a-986f04012e84"
   },
   "outputs": [
    {
     "data": {
      "text/plain": [
       "Float64Index([  -1.0, 1500.0, 1550.0, 1600.0, 1700.0, 1750.0, 1800.0, 1850.0,\n",
       "              1900.0, 1950.0, 2000.0],\n",
       "             dtype='float64')"
      ]
     },
     "execution_count": 117,
     "metadata": {
      "tags": []
     },
     "output_type": "execute_result"
    }
   ],
   "source": [
    "X_train_test.ft_22_categ.cat.categories"
   ]
  },
  {
   "cell_type": "markdown",
   "metadata": {
    "colab_type": "text",
    "id": "CKfI4I3N79Uw"
   },
   "source": [
    "Une autre solution est de considérer ft_22_categ comme ordinal et permettra de réduire le nombre de variables crées par le One-hot-encoding : "
   ]
  },
  {
   "cell_type": "code",
   "execution_count": 0,
   "metadata": {
    "colab": {},
    "colab_type": "code",
    "id": "oFjjIbQCFqGZ"
   },
   "outputs": [],
   "source": [
    "#from sklearn.preprocessing import LabelEncoder\n",
    "#le = LabelEncoder()"
   ]
  },
  {
   "cell_type": "code",
   "execution_count": 0,
   "metadata": {
    "colab": {},
    "colab_type": "code",
    "id": "JWAvpk8U8fYk"
   },
   "outputs": [],
   "source": [
    "#X_train_test['ft_22_categ']=le.fit_transform(X_train_test['ft_22_categ'])"
   ]
  },
  {
   "cell_type": "markdown",
   "metadata": {
    "colab_type": "text",
    "id": "QiIk6oUnFFcN"
   },
   "source": [
    "One-hot-encoding :"
   ]
  },
  {
   "cell_type": "code",
   "execution_count": 0,
   "metadata": {
    "colab": {},
    "colab_type": "code",
    "id": "Ab2340HSE3Ba"
   },
   "outputs": [],
   "source": [
    "X_train_test = pd.get_dummies(X_train_test, columns=vars_categ, prefix=vars_categ)"
   ]
  },
  {
   "cell_type": "code",
   "execution_count": 121,
   "metadata": {
    "colab": {
     "base_uri": "https://localhost:8080/",
     "height": 0
    },
    "colab_type": "code",
    "id": "hyIL_sXBFOvi",
    "outputId": "16e7ff6c-ab7f-41cc-fc31-fc701bccd041"
   },
   "outputs": [
    {
     "name": "stdout",
     "output_type": "stream",
     "text": [
      "Index(['Identifiant', 'EXPO', 'superficief', 'Insee', 'pluie', 'catnat',\n",
      "       'criminalite', 'pprn', 'chomage', 'rev_med', 'log_sociaux', 'fuites',\n",
      "       'entreprises', 'ft_2_categ_2012', 'ft_2_categ_2013', 'ft_2_categ_2014',\n",
      "       'ft_2_categ_2015', 'ft_2_categ_2016', 'ft_4_categ_0', 'ft_4_categ_1',\n",
      "       'ft_5_categ_N', 'ft_5_categ_O', 'ft_5_categ_V', 'ft_6_categ_N',\n",
      "       'ft_6_categ_O', 'ft_6_categ_V', 'ft_7_categ_1', 'ft_7_categ_2',\n",
      "       'ft_7_categ_3', 'ft_7_categ_V', 'ft_8_categ_N', 'ft_8_categ_O',\n",
      "       'ft_8_categ_V', 'ft_9_categ_1', 'ft_9_categ_2', 'ft_9_categ_3',\n",
      "       'ft_9_categ_V', 'ft_10_categ_N', 'ft_10_categ_O', 'ft_10_categ_V',\n",
      "       'ft_11_categ_N', 'ft_11_categ_O', 'ft_11_categ_V', 'ft_12_categ_N',\n",
      "       'ft_12_categ_O', 'ft_12_categ_V', 'ft_13_categ_N', 'ft_13_categ_O',\n",
      "       'ft_13_categ_V', 'ft_14_categ_N', 'ft_14_categ_O', 'ft_14_categ_V',\n",
      "       'ft_15_categ_AUTRE', 'ft_15_categ_V', 'ft_16_categ_IDENTIQUE',\n",
      "       'ft_16_categ_V', 'ft_17_categ_N', 'ft_17_categ_O', 'ft_17_categ_V',\n",
      "       'ft_18_categ_V', 'ft_18_categ_base', 'ft_18_categ_eff',\n",
      "       'ft_18_categ_effpi', 'ft_18_categ_pi', 'ft_19_categ_1', 'ft_19_categ_2',\n",
      "       'ft_21_categ_1', 'ft_21_categ_2', 'ft_21_categ_3', 'ft_21_categ_4',\n",
      "       'ft_22_categ_-1.0', 'ft_22_categ_1500.0', 'ft_22_categ_1550.0',\n",
      "       'ft_22_categ_1600.0', 'ft_22_categ_1700.0', 'ft_22_categ_1750.0',\n",
      "       'ft_22_categ_1800.0', 'ft_22_categ_1850.0', 'ft_22_categ_1900.0',\n",
      "       'ft_22_categ_1950.0', 'ft_22_categ_2000.0', 'ft_23_categ_0.0',\n",
      "       'ft_23_categ_0.3', 'ft_23_categ_0.6', 'ft_23_categ_1.0',\n",
      "       'ft_23_categ_1.5', 'ft_23_categ_2.0', 'ft_23_categ_V',\n",
      "       'ft_24_categ_   .', 'ft_24_categ_   1', 'ft_24_categ_   2',\n",
      "       'ft_24_categ_   3', 'ft_24_categ_   4', 'ft_24_categ_   5',\n",
      "       'ft_24_categ_   6', 'ft_24_categ_   7', 'ft_24_categ_   8',\n",
      "       'ft_24_categ_   9', 'ft_24_categ_>=10'],\n",
      "      dtype='object')\n"
     ]
    }
   ],
   "source": [
    "print(X_train_test.columns)"
   ]
  },
  {
   "cell_type": "markdown",
   "metadata": {
    "colab_type": "text",
    "id": "bTqN5EZZFfWi"
   },
   "source": [
    "On re-sépare en train et test :"
   ]
  },
  {
   "cell_type": "code",
   "execution_count": 0,
   "metadata": {
    "colab": {},
    "colab_type": "code",
    "id": "hzve537juB6T"
   },
   "outputs": [],
   "source": [
    "X_train = X_train_test.loc[X_train_test['Identifiant'].isin(id_train),:].copy()\n",
    "X_test = X_train_test.loc[X_train_test['Identifiant'].isin(id_test),:].copy()"
   ]
  },
  {
   "cell_type": "code",
   "execution_count": 123,
   "metadata": {
    "colab": {
     "base_uri": "https://localhost:8080/",
     "height": 0
    },
    "colab_type": "code",
    "id": "9jOC_yLUHAqT",
    "outputId": "904bdbe9-43c0-468e-cb45-b32b344dd65b"
   },
   "outputs": [
    {
     "data": {
      "text/plain": [
       "(3412, 99)"
      ]
     },
     "execution_count": 123,
     "metadata": {
      "tags": []
     },
     "output_type": "execute_result"
    }
   ],
   "source": [
    "X_test.shape"
   ]
  },
  {
   "cell_type": "code",
   "execution_count": 124,
   "metadata": {
    "colab": {
     "base_uri": "https://localhost:8080/",
     "height": 0
    },
    "colab_type": "code",
    "id": "9oTJTlhW1XrS",
    "outputId": "ef60e16e-29c4-46ac-c800-1c5179b91a8f"
   },
   "outputs": [
    {
     "data": {
      "text/plain": [
       "(10110, 99)"
      ]
     },
     "execution_count": 124,
     "metadata": {
      "tags": []
     },
     "output_type": "execute_result"
    }
   ],
   "source": [
    "X_train.shape"
   ]
  },
  {
   "cell_type": "markdown",
   "metadata": {
    "colab_type": "text",
    "id": "DU6i0rMvSyRk"
   },
   "source": [
    "## Suppression de colonnes"
   ]
  },
  {
   "cell_type": "markdown",
   "metadata": {
    "colab_type": "text",
    "id": "7wRf7BSDS4Pt"
   },
   "source": [
    "On supprime les colonnes \"Identifiant\" et \"Insee\" (inutile pour nos modèles) :"
   ]
  },
  {
   "cell_type": "code",
   "execution_count": 0,
   "metadata": {
    "colab": {},
    "colab_type": "code",
    "id": "pao00ohPS3ui"
   },
   "outputs": [],
   "source": [
    "X_train.drop('Identifiant',1, inplace=True)\n",
    "X_test.drop('Identifiant',1, inplace=True)\n",
    "y_train.drop('Identifiant',1, inplace=True)\n",
    "\n",
    "X_train.drop('Insee', 1, inplace=True)\n",
    "X_test.drop('Insee', 1, inplace=True)"
   ]
  },
  {
   "cell_type": "markdown",
   "metadata": {
    "colab_type": "text",
    "id": "ssGiwprkQIrd"
   },
   "source": [
    "Suppression de certaines colonnes pour faire marcher d'anciens modèles :"
   ]
  },
  {
   "cell_type": "code",
   "execution_count": 0,
   "metadata": {
    "colab": {},
    "colab_type": "code",
    "id": "s6Cvn1sIQNZ0"
   },
   "outputs": [],
   "source": [
    "X_train.drop('fuites', 1, inplace=True)\n",
    "X_test.drop('fuites', 1, inplace=True)\n",
    "\n",
    "X_train.drop('entreprises', 1, inplace=True)\n",
    "X_test.drop('entreprises', 1, inplace=True)"
   ]
  },
  {
   "cell_type": "markdown",
   "metadata": {
    "colab_type": "text",
    "id": "IQNHuEW2Wil-"
   },
   "source": [
    "On modifie y_train pour qu'il soit de la forme (n_samples, ) :"
   ]
  },
  {
   "cell_type": "code",
   "execution_count": 127,
   "metadata": {
    "colab": {
     "base_uri": "https://localhost:8080/",
     "height": 34
    },
    "colab_type": "code",
    "id": "CT52crrpWo41",
    "outputId": "47389aea-326a-4b9a-8da2-e66f0ef20cdc"
   },
   "outputs": [
    {
     "data": {
      "text/plain": [
       "(10110,)"
      ]
     },
     "execution_count": 127,
     "metadata": {
      "tags": []
     },
     "output_type": "execute_result"
    }
   ],
   "source": [
    "y_train = np.array(y_train).ravel()\n",
    "y_train.shape"
   ]
  },
  {
   "cell_type": "markdown",
   "metadata": {
    "colab_type": "text",
    "id": "kdvc2njyIyTv"
   },
   "source": [
    "Colonnes finales présentes dans notre jeu de données :"
   ]
  },
  {
   "cell_type": "code",
   "execution_count": 29,
   "metadata": {
    "colab": {
     "base_uri": "https://localhost:8080/",
     "height": 503
    },
    "colab_type": "code",
    "id": "LdZJrEXef_KG",
    "outputId": "ddeab32f-f48f-4585-f690-867bbc47ed4e"
   },
   "outputs": [
    {
     "data": {
      "text/plain": [
       "Index(['EXPO', 'superficief', 'pluie', 'catnat', 'criminalite', 'pprn',\n",
       "       'chomage', 'rev_med', 'log_sociaux', 'ft_2_categ_2012',\n",
       "       'ft_2_categ_2013', 'ft_2_categ_2014', 'ft_2_categ_2015',\n",
       "       'ft_2_categ_2016', 'ft_4_categ_0', 'ft_4_categ_1', 'ft_5_categ_N',\n",
       "       'ft_5_categ_O', 'ft_5_categ_V', 'ft_6_categ_N', 'ft_6_categ_O',\n",
       "       'ft_6_categ_V', 'ft_7_categ_1', 'ft_7_categ_2', 'ft_7_categ_3',\n",
       "       'ft_7_categ_V', 'ft_8_categ_N', 'ft_8_categ_O', 'ft_8_categ_V',\n",
       "       'ft_9_categ_1', 'ft_9_categ_2', 'ft_9_categ_3', 'ft_9_categ_V',\n",
       "       'ft_10_categ_N', 'ft_10_categ_O', 'ft_10_categ_V', 'ft_11_categ_N',\n",
       "       'ft_11_categ_O', 'ft_11_categ_V', 'ft_12_categ_N', 'ft_12_categ_O',\n",
       "       'ft_12_categ_V', 'ft_13_categ_N', 'ft_13_categ_O', 'ft_13_categ_V',\n",
       "       'ft_14_categ_N', 'ft_14_categ_O', 'ft_14_categ_V', 'ft_15_categ_AUTRE',\n",
       "       'ft_15_categ_V', 'ft_16_categ_IDENTIQUE', 'ft_16_categ_V',\n",
       "       'ft_17_categ_N', 'ft_17_categ_O', 'ft_17_categ_V', 'ft_18_categ_V',\n",
       "       'ft_18_categ_base', 'ft_18_categ_eff', 'ft_18_categ_effpi',\n",
       "       'ft_18_categ_pi', 'ft_19_categ_1', 'ft_19_categ_2', 'ft_21_categ_1',\n",
       "       'ft_21_categ_2', 'ft_21_categ_3', 'ft_21_categ_4', 'ft_22_categ_-1.0',\n",
       "       'ft_22_categ_1500.0', 'ft_22_categ_1550.0', 'ft_22_categ_1600.0',\n",
       "       'ft_22_categ_1700.0', 'ft_22_categ_1750.0', 'ft_22_categ_1800.0',\n",
       "       'ft_22_categ_1850.0', 'ft_22_categ_1900.0', 'ft_22_categ_1950.0',\n",
       "       'ft_22_categ_2000.0', 'ft_23_categ_0.0', 'ft_23_categ_0.3',\n",
       "       'ft_23_categ_0.6', 'ft_23_categ_1.0', 'ft_23_categ_1.5',\n",
       "       'ft_23_categ_2.0', 'ft_23_categ_V', 'ft_24_categ_   .',\n",
       "       'ft_24_categ_   1', 'ft_24_categ_   2', 'ft_24_categ_   3',\n",
       "       'ft_24_categ_   4', 'ft_24_categ_   5', 'ft_24_categ_   6',\n",
       "       'ft_24_categ_   7', 'ft_24_categ_   8', 'ft_24_categ_   9',\n",
       "       'ft_24_categ_>=10'],\n",
       "      dtype='object')"
      ]
     },
     "execution_count": 29,
     "metadata": {
      "tags": []
     },
     "output_type": "execute_result"
    }
   ],
   "source": [
    "X_train.columns"
   ]
  },
  {
   "cell_type": "markdown",
   "metadata": {
    "colab_type": "text",
    "id": "q2nE7-yTCG8y"
   },
   "source": [
    "# Réduction de dimension\n",
    "<a id=\"reduction_dim\"></a>"
   ]
  },
  {
   "cell_type": "markdown",
   "metadata": {
    "colab_type": "text",
    "id": "t_oeW59HKvB2"
   },
   "source": [
    "## PCA"
   ]
  },
  {
   "cell_type": "markdown",
   "metadata": {
    "colab_type": "text",
    "id": "cGM8emb_L_g6"
   },
   "source": [
    "Afin de réduire la dimension du problème, on recherche les axes avec une plus grande variante grâce à PCA sur les variables quantitatives:"
   ]
  },
  {
   "cell_type": "code",
   "execution_count": 0,
   "metadata": {
    "colab": {},
    "colab_type": "code",
    "id": "GMoBbofFCM0i"
   },
   "outputs": [],
   "source": [
    "from sklearn.decomposition import PCA"
   ]
  },
  {
   "cell_type": "code",
   "execution_count": 0,
   "metadata": {
    "colab": {
     "base_uri": "https://localhost:8080/",
     "height": 54
    },
    "colab_type": "code",
    "id": "ewRD2c2DCPEl",
    "outputId": "0c835817-d635-4a62-af61-fa48433b6545"
   },
   "outputs": [
    {
     "data": {
      "text/plain": [
       "PCA(copy=True, iterated_power='auto', n_components=9, random_state=None,\n",
       "  svd_solver='auto', tol=0.0, whiten=False)"
      ]
     },
     "execution_count": 68,
     "metadata": {
      "tags": []
     },
     "output_type": "execute_result"
    }
   ],
   "source": [
    "var_quant = [var for var in X_train.columns if var[:2]!=\"ft\"]\n",
    "\n",
    "PCA=PCA(n_components=9)\n",
    "PCA.fit(X_train[var_quant])\n"
   ]
  },
  {
   "cell_type": "markdown",
   "metadata": {
    "colab_type": "text",
    "id": "2fjUgVbwMUwq"
   },
   "source": [
    "On perd le côté explicatif du modèle mais la représentation ci-dessous permet de voir quelle variable est importante sur chaque axe."
   ]
  },
  {
   "cell_type": "code",
   "execution_count": 0,
   "metadata": {
    "colab": {
     "base_uri": "https://localhost:8080/",
     "height": 300
    },
    "colab_type": "code",
    "id": "_1RjETWlDron",
    "outputId": "a6a03e9a-bc62-49dc-a039-5c75dab3e43e"
   },
   "outputs": [
    {
     "data": {
      "image/png": "[encoded data removed]",
      "text/plain": [
       "<Figure size 288x288 with 2 Axes>"
      ]
     },
     "metadata": {
      "tags": []
     },
     "output_type": "display_data"
    }
   ],
   "source": [
    "plt.matshow(PCA.components_,cmap='viridis')\n",
    "plt.yticks([0,1,2,3,4,5,6,7,8],['Axe 1','Axe 2','Axe 3','Axe 4','Axe 5','Axe 6','Axe 7','Axe 8','Axe 8'],fontsize=10)\n",
    "plt.colorbar()\n",
    "plt.xticks(range(len(X_train[var_quant].columns)),X_train[var_quant].columns,rotation=65,ha='left')\n",
    "plt.show()"
   ]
  },
  {
   "cell_type": "markdown",
   "metadata": {
    "colab_type": "text",
    "id": "SLqPrsciM1D9"
   },
   "source": [
    "On cherche les axes avec la plus grande variance :"
   ]
  },
  {
   "cell_type": "code",
   "execution_count": 0,
   "metadata": {
    "colab": {
     "base_uri": "https://localhost:8080/",
     "height": 72
    },
    "colab_type": "code",
    "id": "mxuGrxMJLneG",
    "outputId": "7d45f047-92ff-469b-adea-139d46f3a378"
   },
   "outputs": [
    {
     "name": "stdout",
     "output_type": "stream",
     "text": [
      "[7.86232130e-01 2.11400091e-01 2.35017192e-03 8.84267370e-06\n",
      " 7.85405290e-06 7.99279023e-07 1.08835011e-07 2.21967815e-09\n",
      " 1.14394999e-11]\n"
     ]
    }
   ],
   "source": [
    "X_pca=PCA.transform(X_train[var_quant]) \n",
    "print (PCA.explained_variance_ratio_)"
   ]
  },
  {
   "cell_type": "markdown",
   "metadata": {
    "colab_type": "text",
    "id": "QUDNU9ZZM8Dy"
   },
   "source": [
    "Les résultats ci-dessus permettent d'extraire les trois axes principaux."
   ]
  },
  {
   "cell_type": "code",
   "execution_count": 0,
   "metadata": {
    "colab": {
     "base_uri": "https://localhost:8080/",
     "height": 248
    },
    "colab_type": "code",
    "id": "CLO9CWEFNhL0",
    "outputId": "8c9d53f7-e56d-4ad4-d2b8-d860d04342fd"
   },
   "outputs": [
    {
     "data": {
      "image/png": "[encoded data removed]",
      "text/plain": [
       "<Figure size 432x288 with 1 Axes>"
      ]
     },
     "metadata": {
      "tags": []
     },
     "output_type": "display_data"
    }
   ],
   "source": [
    "from mpl_toolkits.mplot3d import Axes3D\n",
    "labels=['No claim','Claim']\n",
    "cdict={'No claim':'red','Claim':'blue'}\n",
    "labl={'No claim':0,'Claim':1}\n",
    "marker={'No claim':'*','Claim':'o'}\n",
    "alpha={'No claim':.3, 'Claim':.5}\n",
    "fig = plt.figure()\n",
    "ax = fig.add_subplot(111, projection='3d')\n",
    "\n",
    "for l in labels:\n",
    "  ix=np.where(y_train==labl[l])\n",
    "  ax.scatter3D(xs=X_pca[:,1][ix],ys=X_pca[:,2][ix],zs=X_pca[:,0][ix],c=cdict[l],s=40,label=l,marker=marker[l],alpha=alpha[l])\n",
    "\n",
    "ax.set_xlabel('Axe 1',fontsize=14)\n",
    "ax.set_ylabel('Axe 2',fontsize=14)\n",
    "ax.set_zlabel('Axe 3',fontsize=14)\n",
    "plt.legend()\n",
    "plt.show()"
   ]
  },
  {
   "cell_type": "code",
   "execution_count": 0,
   "metadata": {
    "colab": {},
    "colab_type": "code",
    "id": "uarbVznWaqUk"
   },
   "outputs": [],
   "source": [
    "var_cat = [var for var in X_train.columns if var[:2]==\"ft\"]\n",
    "X_train=pd.concat([pd.DataFrame({0:X_pca[:,0]}),pd.DataFrame({1:X_pca[:,1]}),X_train[var_cat]],axis=1)"
   ]
  },
  {
   "cell_type": "code",
   "execution_count": 0,
   "metadata": {
    "colab": {
     "base_uri": "https://localhost:8080/",
     "height": 273
    },
    "colab_type": "code",
    "id": "-4zsiaLTcQ75",
    "outputId": "1b3f5c07-bb0a-4239-e4b0-dc83b5bed1f8"
   },
   "outputs": [
    {
     "data": {
      "text/html": [
       "<div>\n",
       "<style scoped>\n",
       "    .dataframe tbody tr th:only-of-type {\n",
       "        vertical-align: middle;\n",
       "    }\n",
       "\n",
       "    .dataframe tbody tr th {\n",
       "        vertical-align: top;\n",
       "    }\n",
       "\n",
       "    .dataframe thead th {\n",
       "        text-align: right;\n",
       "    }\n",
       "</style>\n",
       "<table border=\"1\" class=\"dataframe\">\n",
       "  <thead>\n",
       "    <tr style=\"text-align: right;\">\n",
       "      <th></th>\n",
       "      <th>0</th>\n",
       "      <th>1</th>\n",
       "      <th>ft_2_categ_2012</th>\n",
       "      <th>ft_2_categ_2013</th>\n",
       "      <th>ft_2_categ_2014</th>\n",
       "      <th>ft_2_categ_2015</th>\n",
       "      <th>ft_2_categ_2016</th>\n",
       "      <th>ft_4_categ_0</th>\n",
       "      <th>ft_4_categ_1</th>\n",
       "      <th>ft_5_categ_N</th>\n",
       "      <th>...</th>\n",
       "      <th>ft_24_categ_   1</th>\n",
       "      <th>ft_24_categ_   2</th>\n",
       "      <th>ft_24_categ_   3</th>\n",
       "      <th>ft_24_categ_   4</th>\n",
       "      <th>ft_24_categ_   5</th>\n",
       "      <th>ft_24_categ_   6</th>\n",
       "      <th>ft_24_categ_   7</th>\n",
       "      <th>ft_24_categ_   8</th>\n",
       "      <th>ft_24_categ_   9</th>\n",
       "      <th>ft_24_categ_&gt;=10</th>\n",
       "    </tr>\n",
       "  </thead>\n",
       "  <tbody>\n",
       "    <tr>\n",
       "      <th>0</th>\n",
       "      <td>-3698.225577</td>\n",
       "      <td>-401.428736</td>\n",
       "      <td>0</td>\n",
       "      <td>0</td>\n",
       "      <td>1</td>\n",
       "      <td>0</td>\n",
       "      <td>0</td>\n",
       "      <td>1</td>\n",
       "      <td>0</td>\n",
       "      <td>0</td>\n",
       "      <td>...</td>\n",
       "      <td>0</td>\n",
       "      <td>1</td>\n",
       "      <td>0</td>\n",
       "      <td>0</td>\n",
       "      <td>0</td>\n",
       "      <td>0</td>\n",
       "      <td>0</td>\n",
       "      <td>0</td>\n",
       "      <td>0</td>\n",
       "      <td>0</td>\n",
       "    </tr>\n",
       "    <tr>\n",
       "      <th>1</th>\n",
       "      <td>-1013.815883</td>\n",
       "      <td>170.658243</td>\n",
       "      <td>0</td>\n",
       "      <td>0</td>\n",
       "      <td>1</td>\n",
       "      <td>0</td>\n",
       "      <td>0</td>\n",
       "      <td>1</td>\n",
       "      <td>0</td>\n",
       "      <td>0</td>\n",
       "      <td>...</td>\n",
       "      <td>0</td>\n",
       "      <td>0</td>\n",
       "      <td>0</td>\n",
       "      <td>0</td>\n",
       "      <td>0</td>\n",
       "      <td>0</td>\n",
       "      <td>0</td>\n",
       "      <td>0</td>\n",
       "      <td>0</td>\n",
       "      <td>0</td>\n",
       "    </tr>\n",
       "    <tr>\n",
       "      <th>2</th>\n",
       "      <td>11379.739758</td>\n",
       "      <td>-388.612765</td>\n",
       "      <td>0</td>\n",
       "      <td>1</td>\n",
       "      <td>0</td>\n",
       "      <td>0</td>\n",
       "      <td>0</td>\n",
       "      <td>0</td>\n",
       "      <td>1</td>\n",
       "      <td>0</td>\n",
       "      <td>...</td>\n",
       "      <td>0</td>\n",
       "      <td>0</td>\n",
       "      <td>0</td>\n",
       "      <td>0</td>\n",
       "      <td>0</td>\n",
       "      <td>0</td>\n",
       "      <td>0</td>\n",
       "      <td>0</td>\n",
       "      <td>0</td>\n",
       "      <td>0</td>\n",
       "    </tr>\n",
       "    <tr>\n",
       "      <th>3</th>\n",
       "      <td>2520.055472</td>\n",
       "      <td>-1334.497853</td>\n",
       "      <td>0</td>\n",
       "      <td>1</td>\n",
       "      <td>0</td>\n",
       "      <td>0</td>\n",
       "      <td>0</td>\n",
       "      <td>1</td>\n",
       "      <td>0</td>\n",
       "      <td>1</td>\n",
       "      <td>...</td>\n",
       "      <td>0</td>\n",
       "      <td>0</td>\n",
       "      <td>0</td>\n",
       "      <td>0</td>\n",
       "      <td>0</td>\n",
       "      <td>0</td>\n",
       "      <td>0</td>\n",
       "      <td>0</td>\n",
       "      <td>0</td>\n",
       "      <td>0</td>\n",
       "    </tr>\n",
       "    <tr>\n",
       "      <th>4</th>\n",
       "      <td>119.536483</td>\n",
       "      <td>-772.866697</td>\n",
       "      <td>0</td>\n",
       "      <td>0</td>\n",
       "      <td>0</td>\n",
       "      <td>1</td>\n",
       "      <td>0</td>\n",
       "      <td>1</td>\n",
       "      <td>0</td>\n",
       "      <td>0</td>\n",
       "      <td>...</td>\n",
       "      <td>0</td>\n",
       "      <td>0</td>\n",
       "      <td>0</td>\n",
       "      <td>1</td>\n",
       "      <td>0</td>\n",
       "      <td>0</td>\n",
       "      <td>0</td>\n",
       "      <td>0</td>\n",
       "      <td>0</td>\n",
       "      <td>0</td>\n",
       "    </tr>\n",
       "  </tbody>\n",
       "</table>\n",
       "<p>5 rows × 226 columns</p>\n",
       "</div>"
      ],
      "text/plain": [
       "              0            1  ft_2_categ_2012  ft_2_categ_2013  \\\n",
       "0  -3698.225577  -401.428736                0                0   \n",
       "1  -1013.815883   170.658243                0                0   \n",
       "2  11379.739758  -388.612765                0                1   \n",
       "3   2520.055472 -1334.497853                0                1   \n",
       "4    119.536483  -772.866697                0                0   \n",
       "\n",
       "   ft_2_categ_2014  ft_2_categ_2015  ft_2_categ_2016  ft_4_categ_0  \\\n",
       "0                1                0                0             1   \n",
       "1                1                0                0             1   \n",
       "2                0                0                0             0   \n",
       "3                0                0                0             1   \n",
       "4                0                1                0             1   \n",
       "\n",
       "   ft_4_categ_1  ft_5_categ_N  ...  ft_24_categ_   1  ft_24_categ_   2  \\\n",
       "0             0             0  ...                 0                 1   \n",
       "1             0             0  ...                 0                 0   \n",
       "2             1             0  ...                 0                 0   \n",
       "3             0             1  ...                 0                 0   \n",
       "4             0             0  ...                 0                 0   \n",
       "\n",
       "   ft_24_categ_   3  ft_24_categ_   4  ft_24_categ_   5  ft_24_categ_   6  \\\n",
       "0                 0                 0                 0                 0   \n",
       "1                 0                 0                 0                 0   \n",
       "2                 0                 0                 0                 0   \n",
       "3                 0                 0                 0                 0   \n",
       "4                 0                 1                 0                 0   \n",
       "\n",
       "   ft_24_categ_   7  ft_24_categ_   8  ft_24_categ_   9  ft_24_categ_>=10  \n",
       "0                 0                 0                 0                 0  \n",
       "1                 0                 0                 0                 0  \n",
       "2                 0                 0                 0                 0  \n",
       "3                 0                 0                 0                 0  \n",
       "4                 0                 0                 0                 0  \n",
       "\n",
       "[5 rows x 226 columns]"
      ]
     },
     "execution_count": 92,
     "metadata": {
      "tags": []
     },
     "output_type": "execute_result"
    }
   ],
   "source": [
    "X_train.head()"
   ]
  },
  {
   "cell_type": "markdown",
   "metadata": {
    "colab_type": "text",
    "id": "SebgLa1PH_2s"
   },
   "source": [
    "## Factor analysis of mixed data (FAMD)"
   ]
  },
  {
   "cell_type": "markdown",
   "metadata": {
    "colab_type": "text",
    "id": "vt5HtJ3WIChe"
   },
   "source": [
    "Afin de réduire la dimension de l'ensemble du modèle, on peut utiliser FAMD (voir [ici](https://github.com/MaxHalford/prince#factor-analysis-of-mixed-data-famd))"
   ]
  },
  {
   "cell_type": "code",
   "execution_count": 0,
   "metadata": {
    "colab": {},
    "colab_type": "code",
    "id": "Dij0Q_DvE5cV"
   },
   "outputs": [],
   "source": [
    "vars_categ = [var for var in X_train.columns if var[:2]==\"ft\"]\n",
    "X_train[vars_categ] = X_train[vars_categ].astype('category')"
   ]
  },
  {
   "cell_type": "code",
   "execution_count": 0,
   "metadata": {
    "colab": {},
    "colab_type": "code",
    "id": "XfEvyFY2IXll"
   },
   "outputs": [],
   "source": [
    "import prince\n",
    "famd = prince.FAMD(n_components=50)\n",
    "famd = famd.fit(X_train)"
   ]
  },
  {
   "cell_type": "code",
   "execution_count": 0,
   "metadata": {
    "colab": {},
    "colab_type": "code",
    "id": "txv-HRvftZTZ"
   },
   "outputs": [],
   "source": [
    "X_famd=famd.transform(X_train) "
   ]
  },
  {
   "cell_type": "markdown",
   "metadata": {
    "colab_type": "text",
    "id": "-w9fKzoPF3ls"
   },
   "source": [
    "Critère de Kaiser : on retient les axes où les valeurs propres sont supérieures à l'inertie moyenne"
   ]
  },
  {
   "cell_type": "code",
   "execution_count": 0,
   "metadata": {
    "colab": {
     "base_uri": "https://localhost:8080/",
     "height": 35
    },
    "colab_type": "code",
    "id": "ItRHMBrIFlQN",
    "outputId": "01ba3d4a-ba2a-45cc-f5f0-5682616cd4c9"
   },
   "outputs": [
    {
     "data": {
      "text/plain": [
       "(27,)"
      ]
     },
     "execution_count": 146,
     "metadata": {
      "tags": []
     },
     "output_type": "execute_result"
    }
   ],
   "source": [
    "inertie_moyenne=famd.total_inertia_/len(famd.eigenvalues_)\n",
    "np.where(np.array(famd.eigenvalues_)>=inertie_moyenne)[0]"
   ]
  },
  {
   "cell_type": "code",
   "execution_count": 0,
   "metadata": {
    "colab": {
     "base_uri": "https://localhost:8080/",
     "height": 35
    },
    "colab_type": "code",
    "id": "1G9kZmCqGalM",
    "outputId": "134ba07e-6613-4601-eb87-f2063c4924ca"
   },
   "outputs": [
    {
     "data": {
      "text/plain": [
       "0.990841664015883"
      ]
     },
     "execution_count": 151,
     "metadata": {
      "tags": []
     },
     "output_type": "execute_result"
    }
   ],
   "source": [
    "sum(famd.explained_inertia_[:2])\n"
   ]
  },
  {
   "cell_type": "markdown",
   "metadata": {
    "colab_type": "text",
    "id": "LcCTebk9Gvmd"
   },
   "source": [
    "Les deux premiers axes représentent 75% de l'inertie totale."
   ]
  },
  {
   "cell_type": "code",
   "execution_count": 0,
   "metadata": {
    "colab": {
     "base_uri": "https://localhost:8080/",
     "height": 287
    },
    "colab_type": "code",
    "id": "Uq5BkFnqG-aS",
    "outputId": "eb6581d5-a9f7-456d-e41c-2d4026b9a67f"
   },
   "outputs": [
    {
     "data": {
      "image/png": "[encoded data removed]",
      "text/plain": [
       "<Figure size 432x288 with 1 Axes>"
      ]
     },
     "metadata": {
      "tags": []
     },
     "output_type": "display_data"
    }
   ],
   "source": [
    "from mpl_toolkits.mplot3d import Axes3D\n",
    "labels=['No claim','Claim']\n",
    "cdict={'No claim':'red','Claim':'blue'}\n",
    "labl={'No claim':0,'Claim':1}\n",
    "marker={'No claim':'*','Claim':'o'}\n",
    "alpha={'No claim':.3, 'Claim':.5}\n",
    "\n",
    "\n",
    "for l in labels:\n",
    "  ix=y_train==labl[l]\n",
    "  plt.scatter(x=X_famd[0][ix],y=X_famd[1][ix],c=cdict[l],s=40,label=l)\n",
    "\n",
    "plt.xlabel('Axe 0',fontsize=14)\n",
    "plt.ylabel('Axe 1',fontsize=14)\n",
    "plt.legend()\n",
    "plt.show()"
   ]
  },
  {
   "cell_type": "markdown",
   "metadata": {
    "colab_type": "text",
    "id": "ibLMCnjLI8Dl"
   },
   "source": [
    "Le critère du coude consiste à retire les axes   : les deux premiers axes avant que la décroissance devienne régulière (ici : axe 0 et axe 1). On retrouve le même résultat qu'avec la première régle."
   ]
  },
  {
   "cell_type": "code",
   "execution_count": 0,
   "metadata": {
    "colab": {
     "base_uri": "https://localhost:8080/",
     "height": 301
    },
    "colab_type": "code",
    "id": "eUw-hLt77FMz",
    "outputId": "d263c28a-b167-4b46-8c2c-90ddc922a155"
   },
   "outputs": [
    {
     "data": {
      "text/plain": [
       "Text(0.5, 0, 'Axe')"
      ]
     },
     "execution_count": 29,
     "metadata": {
      "tags": []
     },
     "output_type": "execute_result"
    },
    {
     "data": {
      "image/png": "[encoded data removed]",
      "text/plain": [
       "<Figure size 432x288 with 1 Axes>"
      ]
     },
     "metadata": {
      "tags": []
     },
     "output_type": "display_data"
    }
   ],
   "source": [
    "plt.plot(range(0,len(famd.explained_inertia_))[:10],famd.explained_inertia_[:10],'-o')\n",
    "plt.ylabel('Inertie %')\n",
    "plt.xlabel('Axe')"
   ]
  },
  {
   "cell_type": "code",
   "execution_count": 0,
   "metadata": {
    "colab": {},
    "colab_type": "code",
    "id": "eT8VHrMsJYfT"
   },
   "outputs": [],
   "source": [
    "X_train=X_famd"
   ]
  },
  {
   "cell_type": "markdown",
   "metadata": {
    "colab_type": "text",
    "id": "Y6wWXwTKkG-y"
   },
   "source": [
    "# Préparatifs pour l'entrainement de modèles\n",
    "<a id=\"preparatifs\"></a>"
   ]
  },
  {
   "cell_type": "markdown",
   "metadata": {
    "colab_type": "text",
    "id": "z39rt8uRjygq"
   },
   "source": [
    "Pour pouvoir tester les performances de nos modèles, on découpe le jeu de données train en train-test :"
   ]
  },
  {
   "cell_type": "code",
   "execution_count": 30,
   "metadata": {
    "colab": {
     "base_uri": "https://localhost:8080/",
     "height": 273
    },
    "colab_type": "code",
    "id": "mgtMBYf3kKW-",
    "outputId": "fe17691a-9f5b-4b34-f304-5bd7bf1a27b8"
   },
   "outputs": [
    {
     "data": {
      "text/html": [
       "<div>\n",
       "<style scoped>\n",
       "    .dataframe tbody tr th:only-of-type {\n",
       "        vertical-align: middle;\n",
       "    }\n",
       "\n",
       "    .dataframe tbody tr th {\n",
       "        vertical-align: top;\n",
       "    }\n",
       "\n",
       "    .dataframe thead th {\n",
       "        text-align: right;\n",
       "    }\n",
       "</style>\n",
       "<table border=\"1\" class=\"dataframe\">\n",
       "  <thead>\n",
       "    <tr style=\"text-align: right;\">\n",
       "      <th></th>\n",
       "      <th>EXPO</th>\n",
       "      <th>superficief</th>\n",
       "      <th>pluie</th>\n",
       "      <th>catnat</th>\n",
       "      <th>criminalite</th>\n",
       "      <th>pprn</th>\n",
       "      <th>chomage</th>\n",
       "      <th>rev_med</th>\n",
       "      <th>log_sociaux</th>\n",
       "      <th>ft_2_categ_2012</th>\n",
       "      <th>...</th>\n",
       "      <th>ft_24_categ_   1</th>\n",
       "      <th>ft_24_categ_   2</th>\n",
       "      <th>ft_24_categ_   3</th>\n",
       "      <th>ft_24_categ_   4</th>\n",
       "      <th>ft_24_categ_   5</th>\n",
       "      <th>ft_24_categ_   6</th>\n",
       "      <th>ft_24_categ_   7</th>\n",
       "      <th>ft_24_categ_   8</th>\n",
       "      <th>ft_24_categ_   9</th>\n",
       "      <th>ft_24_categ_&gt;=10</th>\n",
       "    </tr>\n",
       "  </thead>\n",
       "  <tbody>\n",
       "    <tr>\n",
       "      <th>0</th>\n",
       "      <td>1.000000</td>\n",
       "      <td>1351.0</td>\n",
       "      <td>7</td>\n",
       "      <td>1.0</td>\n",
       "      <td>0.044062</td>\n",
       "      <td>1</td>\n",
       "      <td>11.350</td>\n",
       "      <td>17098.000000</td>\n",
       "      <td>556.0</td>\n",
       "      <td>0</td>\n",
       "      <td>...</td>\n",
       "      <td>0</td>\n",
       "      <td>1</td>\n",
       "      <td>0</td>\n",
       "      <td>0</td>\n",
       "      <td>0</td>\n",
       "      <td>0</td>\n",
       "      <td>0</td>\n",
       "      <td>0</td>\n",
       "      <td>0</td>\n",
       "      <td>0</td>\n",
       "    </tr>\n",
       "    <tr>\n",
       "      <th>1</th>\n",
       "      <td>1.000000</td>\n",
       "      <td>1972.0</td>\n",
       "      <td>1</td>\n",
       "      <td>0.0</td>\n",
       "      <td>0.039299</td>\n",
       "      <td>0</td>\n",
       "      <td>9.750</td>\n",
       "      <td>19767.619048</td>\n",
       "      <td>826.0</td>\n",
       "      <td>0</td>\n",
       "      <td>...</td>\n",
       "      <td>0</td>\n",
       "      <td>0</td>\n",
       "      <td>0</td>\n",
       "      <td>0</td>\n",
       "      <td>0</td>\n",
       "      <td>0</td>\n",
       "      <td>0</td>\n",
       "      <td>0</td>\n",
       "      <td>0</td>\n",
       "      <td>0</td>\n",
       "    </tr>\n",
       "    <tr>\n",
       "      <th>2</th>\n",
       "      <td>1.000000</td>\n",
       "      <td>1630.0</td>\n",
       "      <td>0</td>\n",
       "      <td>0.0</td>\n",
       "      <td>0.109341</td>\n",
       "      <td>0</td>\n",
       "      <td>8.275</td>\n",
       "      <td>32166.978261</td>\n",
       "      <td>1054.0</td>\n",
       "      <td>0</td>\n",
       "      <td>...</td>\n",
       "      <td>0</td>\n",
       "      <td>0</td>\n",
       "      <td>0</td>\n",
       "      <td>0</td>\n",
       "      <td>0</td>\n",
       "      <td>0</td>\n",
       "      <td>0</td>\n",
       "      <td>0</td>\n",
       "      <td>0</td>\n",
       "      <td>0</td>\n",
       "    </tr>\n",
       "    <tr>\n",
       "      <th>3</th>\n",
       "      <td>0.246575</td>\n",
       "      <td>532.0</td>\n",
       "      <td>0</td>\n",
       "      <td>0.0</td>\n",
       "      <td>0.063562</td>\n",
       "      <td>0</td>\n",
       "      <td>7.750</td>\n",
       "      <td>23320.555556</td>\n",
       "      <td>1240.0</td>\n",
       "      <td>0</td>\n",
       "      <td>...</td>\n",
       "      <td>0</td>\n",
       "      <td>0</td>\n",
       "      <td>0</td>\n",
       "      <td>0</td>\n",
       "      <td>0</td>\n",
       "      <td>0</td>\n",
       "      <td>0</td>\n",
       "      <td>0</td>\n",
       "      <td>0</td>\n",
       "      <td>0</td>\n",
       "    </tr>\n",
       "    <tr>\n",
       "      <th>4</th>\n",
       "      <td>1.000000</td>\n",
       "      <td>1050.0</td>\n",
       "      <td>1</td>\n",
       "      <td>0.0</td>\n",
       "      <td>0.062406</td>\n",
       "      <td>67</td>\n",
       "      <td>12.950</td>\n",
       "      <td>20914.000000</td>\n",
       "      <td>1025.0</td>\n",
       "      <td>0</td>\n",
       "      <td>...</td>\n",
       "      <td>0</td>\n",
       "      <td>0</td>\n",
       "      <td>0</td>\n",
       "      <td>1</td>\n",
       "      <td>0</td>\n",
       "      <td>0</td>\n",
       "      <td>0</td>\n",
       "      <td>0</td>\n",
       "      <td>0</td>\n",
       "      <td>0</td>\n",
       "    </tr>\n",
       "  </tbody>\n",
       "</table>\n",
       "<p>5 rows × 95 columns</p>\n",
       "</div>"
      ],
      "text/plain": [
       "       EXPO  superficief  pluie  catnat  criminalite  pprn  chomage  \\\n",
       "0  1.000000       1351.0      7     1.0     0.044062     1   11.350   \n",
       "1  1.000000       1972.0      1     0.0     0.039299     0    9.750   \n",
       "2  1.000000       1630.0      0     0.0     0.109341     0    8.275   \n",
       "3  0.246575        532.0      0     0.0     0.063562     0    7.750   \n",
       "4  1.000000       1050.0      1     0.0     0.062406    67   12.950   \n",
       "\n",
       "        rev_med  log_sociaux  ft_2_categ_2012        ...         \\\n",
       "0  17098.000000        556.0                0        ...          \n",
       "1  19767.619048        826.0                0        ...          \n",
       "2  32166.978261       1054.0                0        ...          \n",
       "3  23320.555556       1240.0                0        ...          \n",
       "4  20914.000000       1025.0                0        ...          \n",
       "\n",
       "   ft_24_categ_   1  ft_24_categ_   2  ft_24_categ_   3  ft_24_categ_   4  \\\n",
       "0                 0                 1                 0                 0   \n",
       "1                 0                 0                 0                 0   \n",
       "2                 0                 0                 0                 0   \n",
       "3                 0                 0                 0                 0   \n",
       "4                 0                 0                 0                 1   \n",
       "\n",
       "   ft_24_categ_   5  ft_24_categ_   6  ft_24_categ_   7  ft_24_categ_   8  \\\n",
       "0                 0                 0                 0                 0   \n",
       "1                 0                 0                 0                 0   \n",
       "2                 0                 0                 0                 0   \n",
       "3                 0                 0                 0                 0   \n",
       "4                 0                 0                 0                 0   \n",
       "\n",
       "   ft_24_categ_   9  ft_24_categ_>=10  \n",
       "0                 0                 0  \n",
       "1                 0                 0  \n",
       "2                 0                 0  \n",
       "3                 0                 0  \n",
       "4                 0                 0  \n",
       "\n",
       "[5 rows x 95 columns]"
      ]
     },
     "execution_count": 30,
     "metadata": {
      "tags": []
     },
     "output_type": "execute_result"
    }
   ],
   "source": [
    "from sklearn.model_selection import train_test_split\n",
    "\n",
    "seed = 666\n",
    "Xtrain,Xtest,Ytrain,Ytest = train_test_split(X_train,y_train,train_size=0.7,test_size=0.3, random_state=seed)\n",
    "Xtrain = X_train\n",
    "Ytrain = y_train\n",
    "Xtrain.head()"
   ]
  },
  {
   "cell_type": "markdown",
   "metadata": {
    "colab_type": "text",
    "id": "kz4bxncxj8CE"
   },
   "source": [
    "On définit la métrique utilisée par le challenge ainsi qu'un scorer basé sur cette métrique, qui sera utilisé dans la GridSearch pour déterminer le meilleur modèle :"
   ]
  },
  {
   "cell_type": "code",
   "execution_count": 0,
   "metadata": {
    "colab": {},
    "colab_type": "code",
    "id": "ZV12sRiYkOy6"
   },
   "outputs": [],
   "source": [
    "import numpy as np\n",
    "\n",
    "def gini(actual, pred):\n",
    "    assert (len(actual) == len(pred))\n",
    "    all = np.asarray(np.c_[actual, pred, np.arange(len(actual))], dtype=np.float)\n",
    "    all = all[np.lexsort((all[:, 2], -1 * all[:, 1]))]\n",
    "    totalLosses = all[:, 0].sum()\n",
    "    giniSum = all[:, 0].cumsum().sum() / totalLosses\n",
    "\n",
    "    giniSum -= (len(actual) + 1) / 2.\n",
    "    return giniSum / len(actual)\n",
    "\n",
    "\n",
    "def gini_normalized(actual, pred):\n",
    "    return gini(actual, pred) / gini(actual, actual)"
   ]
  },
  {
   "cell_type": "code",
   "execution_count": 0,
   "metadata": {
    "colab": {},
    "colab_type": "code",
    "id": "To93ERkLkMiJ"
   },
   "outputs": [],
   "source": [
    "from sklearn.metrics import make_scorer\n",
    "gini_scorer = make_scorer(gini_normalized, greater_is_better=True, needs_proba=True)"
   ]
  },
  {
   "cell_type": "markdown",
   "metadata": {
    "colab_type": "text",
    "id": "SAV2nc4akQCy"
   },
   "source": [
    "On définit une fonction pour afficher l'importance des variables dans nos modèles :"
   ]
  },
  {
   "cell_type": "code",
   "execution_count": 0,
   "metadata": {
    "colab": {},
    "colab_type": "code",
    "id": "fBgCqBC-kPdj"
   },
   "outputs": [],
   "source": [
    "def feat_importance(model, feature_names, max_num_features=10):\n",
    "    \"\"\"model doit posséder la méthode feature_importances_\n",
    "    num_features : nombre de features à afficher\"\"\"\n",
    "    importance = list(zip(feature_names, model.feature_importances_))\n",
    "    importance.sort(key=lambda x: x[1], reverse=True)\n",
    "    importance = [[elem[0], elem[1]] for elem in importance]\n",
    "    names, vals = zip(*importance)\n",
    "    plt.figure()\n",
    "    plt.barh(np.arange(max_num_features)[::-1], vals[:max_num_features], tick_label=names[:max_num_features])\n",
    "    plt.xticks([])\n",
    "    plt.show()"
   ]
  },
  {
   "cell_type": "markdown",
   "metadata": {
    "colab_type": "text",
    "id": "qh3Kt5Qejs2N"
   },
   "source": [
    "# XGBoost\n",
    "<a id=\"xgb\"></a>"
   ]
  },
  {
   "cell_type": "code",
   "execution_count": 0,
   "metadata": {
    "colab": {},
    "colab_type": "code",
    "id": "0upoDr--sBaJ"
   },
   "outputs": [],
   "source": [
    "from xgboost import XGBClassifier, Booster\n",
    "from xgboost import plot_importance"
   ]
  },
  {
   "cell_type": "markdown",
   "metadata": {
    "colab_type": "text",
    "id": "t785UVfnuv-p"
   },
   "source": [
    "## (Optionnel) Chargement d'un modèle"
   ]
  },
  {
   "cell_type": "markdown",
   "metadata": {
    "colab_type": "text",
    "id": "2Nf5NFDOr3wF"
   },
   "source": [
    "Pour éviter de faire un GridSearch :"
   ]
  },
  {
   "cell_type": "code",
   "execution_count": 0,
   "metadata": {
    "colab": {},
    "colab_type": "code",
    "id": "H7Snm0kZza13"
   },
   "outputs": [],
   "source": [
    "model_name = \"xgbfull\"\n",
    "with urlopen(load_models_url+'XGB/%s.txt'%(model_name)) as f:\n",
    "    XGB = pickle.loads(f.read())"
   ]
  },
  {
   "cell_type": "code",
   "execution_count": 35,
   "metadata": {
    "colab": {
     "base_uri": "https://localhost:8080/",
     "height": 382
    },
    "colab_type": "code",
    "id": "PQlhkwrm_HkG",
    "outputId": "a7c0ad85-05b5-4e9b-e012-4bafb642d81e"
   },
   "outputs": [
    {
     "data": {
      "text/plain": [
       "{'base_score': 0.5,\n",
       " 'booster': 'gbtree',\n",
       " 'colsample_bylevel': 0.7,\n",
       " 'colsample_bytree': 1,\n",
       " 'gamma': 0,\n",
       " 'learning_rate': 0.01,\n",
       " 'max_delta_step': 0,\n",
       " 'max_depth': 3,\n",
       " 'min_child_weight': 3,\n",
       " 'missing': nan,\n",
       " 'n_estimators': 1000,\n",
       " 'n_jobs': 1,\n",
       " 'nthread': None,\n",
       " 'objective': 'binary:logistic',\n",
       " 'random_state': 0,\n",
       " 'reg_alpha': 1,\n",
       " 'reg_lambda': 0,\n",
       " 'scale_pos_weight': 1,\n",
       " 'seed': None,\n",
       " 'silent': True,\n",
       " 'subsample': 1}"
      ]
     },
     "execution_count": 35,
     "metadata": {
      "tags": []
     },
     "output_type": "execute_result"
    }
   ],
   "source": [
    "XGB.get_params()"
   ]
  },
  {
   "cell_type": "markdown",
   "metadata": {
    "colab_type": "text",
    "id": "M87qNcruu3kX"
   },
   "source": [
    "## Tuning par GridSearch"
   ]
  },
  {
   "cell_type": "markdown",
   "metadata": {
    "colab_type": "text",
    "id": "x5NvZ3FQlHNH"
   },
   "source": [
    "On entraîne un classifieur XGBoost par GridSearch (comme pour le benchmark) sur notre jeu de données. On commence par fixer `n_estimators` et `learning_rate` pour déterminer les autres paramètres :"
   ]
  },
  {
   "cell_type": "code",
   "execution_count": 0,
   "metadata": {
    "colab": {
     "base_uri": "https://localhost:8080/",
     "height": 486
    },
    "colab_type": "code",
    "id": "KAsWc3zIkTkP",
    "outputId": "b51290cb-5d88-499b-9957-a7861b9e6310"
   },
   "outputs": [
    {
     "name": "stdout",
     "output_type": "stream",
     "text": [
      "Fitting 5 folds for each of 2700 candidates, totalling 13500 fits\n"
     ]
    },
    {
     "name": "stderr",
     "output_type": "stream",
     "text": [
      "[Parallel(n_jobs=8)]: Using backend LokyBackend with 8 concurrent workers.\n",
      "[Parallel(n_jobs=8)]: Done  16 tasks      | elapsed:    3.5s\n",
      "[Parallel(n_jobs=8)]: Done 112 tasks      | elapsed:   13.9s\n",
      "[Parallel(n_jobs=8)]: Done 272 tasks      | elapsed:   31.0s\n",
      "[Parallel(n_jobs=8)]: Done 496 tasks      | elapsed:   57.4s\n",
      "[Parallel(n_jobs=8)]: Done 784 tasks      | elapsed:  1.6min\n",
      "[Parallel(n_jobs=8)]: Done 1136 tasks      | elapsed:  2.5min\n",
      "[Parallel(n_jobs=8)]: Done 1552 tasks      | elapsed:  3.6min\n",
      "[Parallel(n_jobs=8)]: Done 2032 tasks      | elapsed:  4.7min\n",
      "[Parallel(n_jobs=8)]: Done 2576 tasks      | elapsed:  6.3min\n",
      "[Parallel(n_jobs=8)]: Done 3184 tasks      | elapsed:  8.4min\n",
      "[Parallel(n_jobs=8)]: Done 3856 tasks      | elapsed: 10.4min\n",
      "[Parallel(n_jobs=8)]: Done 4592 tasks      | elapsed: 13.4min\n",
      "[Parallel(n_jobs=8)]: Done 5392 tasks      | elapsed: 15.4min\n",
      "[Parallel(n_jobs=8)]: Done 6256 tasks      | elapsed: 18.3min\n",
      "[Parallel(n_jobs=8)]: Done 7184 tasks      | elapsed: 22.2min\n",
      "[Parallel(n_jobs=8)]: Done 8176 tasks      | elapsed: 26.7min\n",
      "[Parallel(n_jobs=8)]: Done 9232 tasks      | elapsed: 33.0min\n",
      "[Parallel(n_jobs=8)]: Done 10352 tasks      | elapsed: 36.9min\n",
      "[Parallel(n_jobs=8)]: Done 11536 tasks      | elapsed: 42.3min\n",
      "[Parallel(n_jobs=8)]: Done 12784 tasks      | elapsed: 49.7min\n",
      "[Parallel(n_jobs=8)]: Done 13500 out of 13500 | elapsed: 56.5min finished\n"
     ]
    },
    {
     "name": "stdout",
     "output_type": "stream",
     "text": [
      "Best parameters : {'colsample_bylevel': 1, 'colsample_bytree': 0.7, 'max_depth': 3, 'min_child_weight': 4, 'reg_alpha': 0, 'reg_lambda': 1, 'subsample': 1}\n"
     ]
    }
   ],
   "source": [
    "#Grille de paramètres\n",
    "max_depth = [1, 2, 3, 4, 5]\n",
    "min_child_weight = [1, 2, 3, 4, 5]\n",
    "reg_alpha = [0,1]\n",
    "reg_lambda = [0,1]\n",
    "subsample = [0.3, 0.7, 1]\n",
    "colsample_bytree = [0.3, 0.7, 1]\n",
    "colsample_bylevel = [0.3, 0.7, 1]\n",
    "param_grid = dict(max_depth=max_depth, min_child_weight=min_child_weight, reg_alpha=reg_alpha, reg_lambda=reg_lambda,\n",
    "                 colsample_bytree=colsample_bytree, colsample_bylevel=colsample_bytree, subsample=subsample)\n",
    "\n",
    "#GridSearch\n",
    "grid_search = GridSearchCV(XGBClassifier(learning_rate=0.1, n_estimators=100),\n",
    "                           param_grid, cv=5, n_jobs=n_jobs, scoring=gini_scorer, verbose=3)\n",
    "grid_result = grid_search.fit(X_train, y_train)\n",
    "\n",
    "#Résultats\n",
    "best_params = grid_result.best_params_\n",
    "print(\"Best parameters :\", best_params)"
   ]
  },
  {
   "cell_type": "code",
   "execution_count": 0,
   "metadata": {
    "colab": {},
    "colab_type": "code",
    "id": "F24BaFIq3cpt"
   },
   "outputs": [],
   "source": [
    "max_depth = best_params[\"max_depth\"]\n",
    "min_child_weight = best_params[\"min_child_weight\"]\n",
    "reg_alpha = best_params[\"reg_alpha\"]\n",
    "reg_lambda = best_params[\"reg_lambda\"]\n",
    "subsample = best_params[\"subsample\"]\n",
    "colsample_bytree = best_params[\"colsample_bytree\"]\n",
    "colsample_bylevel = best_params[\"colsample_bylevel\"]"
   ]
  },
  {
   "cell_type": "markdown",
   "metadata": {
    "colab_type": "text",
    "id": "oZ6ntgIOlmlM"
   },
   "source": [
    "On cherche maintenant les meilleurs valeurs pour `n_estimators` et `learning_rate` :"
   ]
  },
  {
   "cell_type": "code",
   "execution_count": 0,
   "metadata": {
    "colab": {
     "base_uri": "https://localhost:8080/",
     "height": 111
    },
    "colab_type": "code",
    "id": "mq52NcUU1KmG",
    "outputId": "14624bd7-6db0-4abf-a52f-d985e7876463"
   },
   "outputs": [
    {
     "name": "stdout",
     "output_type": "stream",
     "text": [
      "Fitting 5 folds for each of 15 candidates, totalling 75 fits\n"
     ]
    },
    {
     "name": "stderr",
     "output_type": "stream",
     "text": [
      "[Parallel(n_jobs=8)]: Using backend LokyBackend with 8 concurrent workers.\n",
      "[Parallel(n_jobs=8)]: Done  16 tasks      | elapsed:   33.6s\n",
      "[Parallel(n_jobs=8)]: Done  75 out of  75 | elapsed:  3.2min finished\n"
     ]
    },
    {
     "name": "stdout",
     "output_type": "stream",
     "text": [
      "Best parameters : {'learning_rate': 0.01, 'n_estimators': 1000}\n"
     ]
    }
   ],
   "source": [
    "#Grille de paramètres\n",
    "learning_rate = [1e-3, 1e-2, 1e-1]\n",
    "n_estimators = [200, 500, 700, 1000, 2000]\n",
    "param_grid = dict(learning_rate=learning_rate, n_estimators=n_estimators)\n",
    "\n",
    "#GridSearch\n",
    "grid_search = GridSearchCV(XGBClassifier(max_depth=max_depth, min_child_weight=min_child_weight, reg_alpha=reg_alpha,\n",
    "                                         reg_lambda=reg_lambda, colsample_bytree=colsample_bytree, colsample_bylevel=colsample_bylevel),\n",
    "                           param_grid, cv=5, n_jobs=n_jobs, scoring=gini_scorer, verbose=3)\n",
    "grid_result = grid_search.fit(Xtrain, Ytrain)\n",
    "\n",
    "#Résultats\n",
    "best_params = grid_result.best_params_\n",
    "print(\"Best parameters :\", best_params)\n",
    "XGB = grid_result.best_estimator_"
   ]
  },
  {
   "cell_type": "markdown",
   "metadata": {
    "colab_type": "text",
    "id": "hsrgeXKEVlj-"
   },
   "source": [
    "## Résultats"
   ]
  },
  {
   "cell_type": "markdown",
   "metadata": {
    "colab_type": "text",
    "id": "Q9HodIpumnpe"
   },
   "source": [
    "Score obtenu :"
   ]
  },
  {
   "cell_type": "code",
   "execution_count": 0,
   "metadata": {
    "colab": {},
    "colab_type": "code",
    "id": "5E-LfXSYXqjw"
   },
   "outputs": [],
   "source": [
    "print(grid_result.best_score_)"
   ]
  },
  {
   "cell_type": "code",
   "execution_count": 0,
   "metadata": {
    "colab": {
     "base_uri": "https://localhost:8080/",
     "height": 34
    },
    "colab_type": "code",
    "id": "Y-kiQ7f4I-zr",
    "outputId": "3211c8ae-b3a8-463f-fd5d-6ef34220b8f7"
   },
   "outputs": [
    {
     "data": {
      "text/plain": [
       "0.5526017333709308"
      ]
     },
     "execution_count": 48,
     "metadata": {
      "tags": []
     },
     "output_type": "execute_result"
    }
   ],
   "source": [
    "gini_scorer(XGB, Xtest, Ytest)"
   ]
  },
  {
   "cell_type": "code",
   "execution_count": 0,
   "metadata": {
    "colab": {
     "base_uri": "https://localhost:8080/",
     "height": 34
    },
    "colab_type": "code",
    "id": "qMazcWjbRcRK",
    "outputId": "9149acbf-17d1-4e9d-e334-bc113969357d"
   },
   "outputs": [
    {
     "data": {
      "text/plain": [
       "0.5526017333709308"
      ]
     },
     "execution_count": 49,
     "metadata": {
      "tags": []
     },
     "output_type": "execute_result"
    }
   ],
   "source": [
    "gini_normalized(Ytest, XGB.predict_proba(Xtest)[:,1])"
   ]
  },
  {
   "cell_type": "markdown",
   "metadata": {
    "colab_type": "text",
    "id": "THNGOP7fml0J"
   },
   "source": [
    "Importance des variables :"
   ]
  },
  {
   "cell_type": "code",
   "execution_count": 0,
   "metadata": {
    "colab": {
     "base_uri": "https://localhost:8080/",
     "height": 301
    },
    "colab_type": "code",
    "id": "O44ABC1llb0s",
    "outputId": "e63fa203-fc6f-4460-8824-d103a6ca5020"
   },
   "outputs": [
    {
     "data": {
      "image/png": "[encoded data removed]",
      "text/plain": [
       "<Figure size 432x288 with 1 Axes>"
      ]
     },
     "metadata": {
      "tags": []
     },
     "output_type": "display_data"
    }
   ],
   "source": [
    "plot_importance(XGB, max_num_features=10)\n",
    "plt.show()"
   ]
  },
  {
   "cell_type": "markdown",
   "metadata": {
    "colab_type": "text",
    "id": "sasbI6LZmpmg"
   },
   "source": [
    "Sauvegarde du modèle :"
   ]
  },
  {
   "cell_type": "code",
   "execution_count": 0,
   "metadata": {
    "colab": {},
    "colab_type": "code",
    "id": "mhGhRwDamsgG"
   },
   "outputs": [],
   "source": [
    "model_name = 'xgb' + str(seed)\n",
    "with open(save_models_path+'%s.txt'%(model_name), 'wb') as f:\n",
    "    pickle.dump(XGB, f)"
   ]
  },
  {
   "cell_type": "markdown",
   "metadata": {
    "colab_type": "text",
    "id": "FfCwKDl2qFh0"
   },
   "source": [
    "# Random Forest\n",
    "<a id=\"rfc\"></a>"
   ]
  },
  {
   "cell_type": "code",
   "execution_count": 0,
   "metadata": {
    "colab": {},
    "colab_type": "code",
    "id": "RuMla277tj0A"
   },
   "outputs": [],
   "source": [
    "from sklearn.ensemble import RandomForestClassifier"
   ]
  },
  {
   "cell_type": "markdown",
   "metadata": {
    "colab_type": "text",
    "id": "JG1RIQASulBi"
   },
   "source": [
    "## Chargement d'un modèle"
   ]
  },
  {
   "cell_type": "code",
   "execution_count": 0,
   "metadata": {
    "colab": {},
    "colab_type": "code",
    "id": "95X1xoxYugY5"
   },
   "outputs": [],
   "source": [
    "model_name = \"rfcfull\"\n",
    "with urlopen(load_models_url+'RFC/%s.txt'%(model_name)) as f:\n",
    "    RFC = pickle.loads(f.read())"
   ]
  },
  {
   "cell_type": "code",
   "execution_count": 0,
   "metadata": {
    "colab": {
     "base_uri": "https://localhost:8080/",
     "height": 312
    },
    "colab_type": "code",
    "id": "EkPm1_3GJXIM",
    "outputId": "48029120-b7ec-4c6b-8293-72b4850cba6d"
   },
   "outputs": [
    {
     "data": {
      "text/plain": [
       "{'bootstrap': True,\n",
       " 'class_weight': None,\n",
       " 'criterion': 'gini',\n",
       " 'max_depth': 7,\n",
       " 'max_features': 30,\n",
       " 'max_leaf_nodes': None,\n",
       " 'min_impurity_decrease': 0.0,\n",
       " 'min_impurity_split': None,\n",
       " 'min_samples_leaf': 1,\n",
       " 'min_samples_split': 0.01,\n",
       " 'min_weight_fraction_leaf': 0.0,\n",
       " 'n_estimators': 300,\n",
       " 'n_jobs': None,\n",
       " 'oob_score': False,\n",
       " 'random_state': None,\n",
       " 'verbose': 0,\n",
       " 'warm_start': False}"
      ]
     },
     "execution_count": 53,
     "metadata": {
      "tags": []
     },
     "output_type": "execute_result"
    }
   ],
   "source": [
    "RFC.get_params()"
   ]
  },
  {
   "cell_type": "markdown",
   "metadata": {
    "colab_type": "text",
    "id": "HINxXYNRzB0X"
   },
   "source": [
    "## Tuning par GridSearch"
   ]
  },
  {
   "cell_type": "code",
   "execution_count": 0,
   "metadata": {
    "colab": {
     "base_uri": "https://localhost:8080/",
     "height": 1801
    },
    "colab_type": "code",
    "id": "AIfcGQ0Kq5lh",
    "outputId": "59af922b-fe2d-401a-bf08-a2cc6c5d3807"
   },
   "outputs": [
    {
     "name": "stdout",
     "output_type": "stream",
     "text": [
      "Fitting 5 folds for each of 168 candidates, totalling 840 fits\n"
     ]
    },
    {
     "name": "stderr",
     "output_type": "stream",
     "text": [
      "[Parallel(n_jobs=8)]: Using backend LokyBackend with 8 concurrent workers.\n"
     ]
    },
    {
     "ename": "ValueError",
     "evalue": "ignored",
     "output_type": "error",
     "traceback": [
      "\u001b[0;31m---------------------------------------------------------------------------\u001b[0m",
      "\u001b[0;31m_RemoteTraceback\u001b[0m                          Traceback (most recent call last)",
      "\u001b[0;31m_RemoteTraceback\u001b[0m: \n\"\"\"\nTraceback (most recent call last):\n  File \"/opt/anaconda3/lib/python3.7/site-packages/sklearn/externals/joblib/externals/loky/process_executor.py\", line 418, in _process_worker\n    r = call_item()\n  File \"/opt/anaconda3/lib/python3.7/site-packages/sklearn/externals/joblib/externals/loky/process_executor.py\", line 272, in __call__\n    return self.fn(*self.args, **self.kwargs)\n  File \"/opt/anaconda3/lib/python3.7/site-packages/sklearn/externals/joblib/_parallel_backends.py\", line 567, in __call__\n    return self.func(*args, **kwargs)\n  File \"/opt/anaconda3/lib/python3.7/site-packages/sklearn/externals/joblib/parallel.py\", line 225, in __call__\n    for func, args, kwargs in self.items]\n  File \"/opt/anaconda3/lib/python3.7/site-packages/sklearn/externals/joblib/parallel.py\", line 225, in <listcomp>\n    for func, args, kwargs in self.items]\n  File \"/opt/anaconda3/lib/python3.7/site-packages/sklearn/model_selection/_validation.py\", line 528, in _fit_and_score\n    estimator.fit(X_train, y_train, **fit_params)\n  File \"/opt/anaconda3/lib/python3.7/site-packages/sklearn/ensemble/forest.py\", line 250, in fit\n    X = check_array(X, accept_sparse=\"csc\", dtype=DTYPE)\n  File \"/opt/anaconda3/lib/python3.7/site-packages/sklearn/utils/validation.py\", line 573, in check_array\n    allow_nan=force_all_finite == 'allow-nan')\n  File \"/opt/anaconda3/lib/python3.7/site-packages/sklearn/utils/validation.py\", line 56, in _assert_all_finite\n    raise ValueError(msg_err.format(type_err, X.dtype))\nValueError: Input contains NaN, infinity or a value too large for dtype('float32').\n\"\"\"",
      "\nThe above exception was the direct cause of the following exception:\n",
      "\u001b[0;31mValueError\u001b[0m                                Traceback (most recent call last)",
      "\u001b[0;32m<ipython-input-82-2c81a80f3846>\u001b[0m in \u001b[0;36m<module>\u001b[0;34m\u001b[0m\n\u001b[1;32m      7\u001b[0m grid_search = GridSearchCV(RandomForestClassifier(n_estimators=30),\n\u001b[1;32m      8\u001b[0m                            param_grid, cv=5, n_jobs=n_jobs, scoring=gini_scorer, verbose=3)\n\u001b[0;32m----> 9\u001b[0;31m \u001b[0mgrid_result\u001b[0m \u001b[0;34m=\u001b[0m \u001b[0mgrid_search\u001b[0m\u001b[0;34m.\u001b[0m\u001b[0mfit\u001b[0m\u001b[0;34m(\u001b[0m\u001b[0mXtrain\u001b[0m\u001b[0;34m,\u001b[0m \u001b[0mYtrain\u001b[0m\u001b[0;34m)\u001b[0m\u001b[0;34m\u001b[0m\u001b[0;34m\u001b[0m\u001b[0m\n\u001b[0m\u001b[1;32m     10\u001b[0m \u001b[0;34m\u001b[0m\u001b[0m\n\u001b[1;32m     11\u001b[0m \u001b[0;31m#Résultats\u001b[0m\u001b[0;34m\u001b[0m\u001b[0;34m\u001b[0m\u001b[0;34m\u001b[0m\u001b[0m\n",
      "\u001b[0;32m/opt/anaconda3/lib/python3.7/site-packages/sklearn/model_selection/_search.py\u001b[0m in \u001b[0;36mfit\u001b[0;34m(self, X, y, groups, **fit_params)\u001b[0m\n\u001b[1;32m    720\u001b[0m                 \u001b[0;32mreturn\u001b[0m \u001b[0mresults_container\u001b[0m\u001b[0;34m[\u001b[0m\u001b[0;36m0\u001b[0m\u001b[0;34m]\u001b[0m\u001b[0;34m\u001b[0m\u001b[0;34m\u001b[0m\u001b[0m\n\u001b[1;32m    721\u001b[0m \u001b[0;34m\u001b[0m\u001b[0m\n\u001b[0;32m--> 722\u001b[0;31m             \u001b[0mself\u001b[0m\u001b[0;34m.\u001b[0m\u001b[0m_run_search\u001b[0m\u001b[0;34m(\u001b[0m\u001b[0mevaluate_candidates\u001b[0m\u001b[0;34m)\u001b[0m\u001b[0;34m\u001b[0m\u001b[0;34m\u001b[0m\u001b[0m\n\u001b[0m\u001b[1;32m    723\u001b[0m \u001b[0;34m\u001b[0m\u001b[0m\n\u001b[1;32m    724\u001b[0m         \u001b[0mresults\u001b[0m \u001b[0;34m=\u001b[0m \u001b[0mresults_container\u001b[0m\u001b[0;34m[\u001b[0m\u001b[0;36m0\u001b[0m\u001b[0;34m]\u001b[0m\u001b[0;34m\u001b[0m\u001b[0;34m\u001b[0m\u001b[0m\n",
      "\u001b[0;32m/opt/anaconda3/lib/python3.7/site-packages/sklearn/model_selection/_search.py\u001b[0m in \u001b[0;36m_run_search\u001b[0;34m(self, evaluate_candidates)\u001b[0m\n\u001b[1;32m   1189\u001b[0m     \u001b[0;32mdef\u001b[0m \u001b[0m_run_search\u001b[0m\u001b[0;34m(\u001b[0m\u001b[0mself\u001b[0m\u001b[0;34m,\u001b[0m \u001b[0mevaluate_candidates\u001b[0m\u001b[0;34m)\u001b[0m\u001b[0;34m:\u001b[0m\u001b[0;34m\u001b[0m\u001b[0;34m\u001b[0m\u001b[0m\n\u001b[1;32m   1190\u001b[0m         \u001b[0;34m\"\"\"Search all candidates in param_grid\"\"\"\u001b[0m\u001b[0;34m\u001b[0m\u001b[0;34m\u001b[0m\u001b[0m\n\u001b[0;32m-> 1191\u001b[0;31m         \u001b[0mevaluate_candidates\u001b[0m\u001b[0;34m(\u001b[0m\u001b[0mParameterGrid\u001b[0m\u001b[0;34m(\u001b[0m\u001b[0mself\u001b[0m\u001b[0;34m.\u001b[0m\u001b[0mparam_grid\u001b[0m\u001b[0;34m)\u001b[0m\u001b[0;34m)\u001b[0m\u001b[0;34m\u001b[0m\u001b[0;34m\u001b[0m\u001b[0m\n\u001b[0m\u001b[1;32m   1192\u001b[0m \u001b[0;34m\u001b[0m\u001b[0m\n\u001b[1;32m   1193\u001b[0m \u001b[0;34m\u001b[0m\u001b[0m\n",
      "\u001b[0;32m/opt/anaconda3/lib/python3.7/site-packages/sklearn/model_selection/_search.py\u001b[0m in \u001b[0;36mevaluate_candidates\u001b[0;34m(candidate_params)\u001b[0m\n\u001b[1;32m    709\u001b[0m                                \u001b[0;32mfor\u001b[0m \u001b[0mparameters\u001b[0m\u001b[0;34m,\u001b[0m \u001b[0;34m(\u001b[0m\u001b[0mtrain\u001b[0m\u001b[0;34m,\u001b[0m \u001b[0mtest\u001b[0m\u001b[0;34m)\u001b[0m\u001b[0;34m\u001b[0m\u001b[0;34m\u001b[0m\u001b[0m\n\u001b[1;32m    710\u001b[0m                                in product(candidate_params,\n\u001b[0;32m--> 711\u001b[0;31m                                           cv.split(X, y, groups)))\n\u001b[0m\u001b[1;32m    712\u001b[0m \u001b[0;34m\u001b[0m\u001b[0m\n\u001b[1;32m    713\u001b[0m                 \u001b[0mall_candidate_params\u001b[0m\u001b[0;34m.\u001b[0m\u001b[0mextend\u001b[0m\u001b[0;34m(\u001b[0m\u001b[0mcandidate_params\u001b[0m\u001b[0;34m)\u001b[0m\u001b[0;34m\u001b[0m\u001b[0;34m\u001b[0m\u001b[0m\n",
      "\u001b[0;32m/opt/anaconda3/lib/python3.7/site-packages/sklearn/externals/joblib/parallel.py\u001b[0m in \u001b[0;36m__call__\u001b[0;34m(self, iterable)\u001b[0m\n\u001b[1;32m    928\u001b[0m \u001b[0;34m\u001b[0m\u001b[0m\n\u001b[1;32m    929\u001b[0m             \u001b[0;32mwith\u001b[0m \u001b[0mself\u001b[0m\u001b[0;34m.\u001b[0m\u001b[0m_backend\u001b[0m\u001b[0;34m.\u001b[0m\u001b[0mretrieval_context\u001b[0m\u001b[0;34m(\u001b[0m\u001b[0;34m)\u001b[0m\u001b[0;34m:\u001b[0m\u001b[0;34m\u001b[0m\u001b[0;34m\u001b[0m\u001b[0m\n\u001b[0;32m--> 930\u001b[0;31m                 \u001b[0mself\u001b[0m\u001b[0;34m.\u001b[0m\u001b[0mretrieve\u001b[0m\u001b[0;34m(\u001b[0m\u001b[0;34m)\u001b[0m\u001b[0;34m\u001b[0m\u001b[0;34m\u001b[0m\u001b[0m\n\u001b[0m\u001b[1;32m    931\u001b[0m             \u001b[0;31m# Make sure that we get a last message telling us we are done\u001b[0m\u001b[0;34m\u001b[0m\u001b[0;34m\u001b[0m\u001b[0;34m\u001b[0m\u001b[0m\n\u001b[1;32m    932\u001b[0m             \u001b[0melapsed_time\u001b[0m \u001b[0;34m=\u001b[0m \u001b[0mtime\u001b[0m\u001b[0;34m.\u001b[0m\u001b[0mtime\u001b[0m\u001b[0;34m(\u001b[0m\u001b[0;34m)\u001b[0m \u001b[0;34m-\u001b[0m \u001b[0mself\u001b[0m\u001b[0;34m.\u001b[0m\u001b[0m_start_time\u001b[0m\u001b[0;34m\u001b[0m\u001b[0;34m\u001b[0m\u001b[0m\n",
      "\u001b[0;32m/opt/anaconda3/lib/python3.7/site-packages/sklearn/externals/joblib/parallel.py\u001b[0m in \u001b[0;36mretrieve\u001b[0;34m(self)\u001b[0m\n\u001b[1;32m    831\u001b[0m             \u001b[0;32mtry\u001b[0m\u001b[0;34m:\u001b[0m\u001b[0;34m\u001b[0m\u001b[0;34m\u001b[0m\u001b[0m\n\u001b[1;32m    832\u001b[0m                 \u001b[0;32mif\u001b[0m \u001b[0mgetattr\u001b[0m\u001b[0;34m(\u001b[0m\u001b[0mself\u001b[0m\u001b[0;34m.\u001b[0m\u001b[0m_backend\u001b[0m\u001b[0;34m,\u001b[0m \u001b[0;34m'supports_timeout'\u001b[0m\u001b[0;34m,\u001b[0m \u001b[0;32mFalse\u001b[0m\u001b[0;34m)\u001b[0m\u001b[0;34m:\u001b[0m\u001b[0;34m\u001b[0m\u001b[0;34m\u001b[0m\u001b[0m\n\u001b[0;32m--> 833\u001b[0;31m                     \u001b[0mself\u001b[0m\u001b[0;34m.\u001b[0m\u001b[0m_output\u001b[0m\u001b[0;34m.\u001b[0m\u001b[0mextend\u001b[0m\u001b[0;34m(\u001b[0m\u001b[0mjob\u001b[0m\u001b[0;34m.\u001b[0m\u001b[0mget\u001b[0m\u001b[0;34m(\u001b[0m\u001b[0mtimeout\u001b[0m\u001b[0;34m=\u001b[0m\u001b[0mself\u001b[0m\u001b[0;34m.\u001b[0m\u001b[0mtimeout\u001b[0m\u001b[0;34m)\u001b[0m\u001b[0;34m)\u001b[0m\u001b[0;34m\u001b[0m\u001b[0;34m\u001b[0m\u001b[0m\n\u001b[0m\u001b[1;32m    834\u001b[0m                 \u001b[0;32melse\u001b[0m\u001b[0;34m:\u001b[0m\u001b[0;34m\u001b[0m\u001b[0;34m\u001b[0m\u001b[0m\n\u001b[1;32m    835\u001b[0m                     \u001b[0mself\u001b[0m\u001b[0;34m.\u001b[0m\u001b[0m_output\u001b[0m\u001b[0;34m.\u001b[0m\u001b[0mextend\u001b[0m\u001b[0;34m(\u001b[0m\u001b[0mjob\u001b[0m\u001b[0;34m.\u001b[0m\u001b[0mget\u001b[0m\u001b[0;34m(\u001b[0m\u001b[0;34m)\u001b[0m\u001b[0;34m)\u001b[0m\u001b[0;34m\u001b[0m\u001b[0;34m\u001b[0m\u001b[0m\n",
      "\u001b[0;32m/opt/anaconda3/lib/python3.7/site-packages/sklearn/externals/joblib/_parallel_backends.py\u001b[0m in \u001b[0;36mwrap_future_result\u001b[0;34m(future, timeout)\u001b[0m\n\u001b[1;32m    519\u001b[0m         AsyncResults.get from multiprocessing.\"\"\"\n\u001b[1;32m    520\u001b[0m         \u001b[0;32mtry\u001b[0m\u001b[0;34m:\u001b[0m\u001b[0;34m\u001b[0m\u001b[0;34m\u001b[0m\u001b[0m\n\u001b[0;32m--> 521\u001b[0;31m             \u001b[0;32mreturn\u001b[0m \u001b[0mfuture\u001b[0m\u001b[0;34m.\u001b[0m\u001b[0mresult\u001b[0m\u001b[0;34m(\u001b[0m\u001b[0mtimeout\u001b[0m\u001b[0;34m=\u001b[0m\u001b[0mtimeout\u001b[0m\u001b[0;34m)\u001b[0m\u001b[0;34m\u001b[0m\u001b[0;34m\u001b[0m\u001b[0m\n\u001b[0m\u001b[1;32m    522\u001b[0m         \u001b[0;32mexcept\u001b[0m \u001b[0mLokyTimeoutError\u001b[0m\u001b[0;34m:\u001b[0m\u001b[0;34m\u001b[0m\u001b[0;34m\u001b[0m\u001b[0m\n\u001b[1;32m    523\u001b[0m             \u001b[0;32mraise\u001b[0m \u001b[0mTimeoutError\u001b[0m\u001b[0;34m(\u001b[0m\u001b[0;34m)\u001b[0m\u001b[0;34m\u001b[0m\u001b[0;34m\u001b[0m\u001b[0m\n",
      "\u001b[0;32m/opt/anaconda3/lib/python3.7/concurrent/futures/_base.py\u001b[0m in \u001b[0;36mresult\u001b[0;34m(self, timeout)\u001b[0m\n\u001b[1;32m    430\u001b[0m                 \u001b[0;32mraise\u001b[0m \u001b[0mCancelledError\u001b[0m\u001b[0;34m(\u001b[0m\u001b[0;34m)\u001b[0m\u001b[0;34m\u001b[0m\u001b[0;34m\u001b[0m\u001b[0m\n\u001b[1;32m    431\u001b[0m             \u001b[0;32melif\u001b[0m \u001b[0mself\u001b[0m\u001b[0;34m.\u001b[0m\u001b[0m_state\u001b[0m \u001b[0;34m==\u001b[0m \u001b[0mFINISHED\u001b[0m\u001b[0;34m:\u001b[0m\u001b[0;34m\u001b[0m\u001b[0;34m\u001b[0m\u001b[0m\n\u001b[0;32m--> 432\u001b[0;31m                 \u001b[0;32mreturn\u001b[0m \u001b[0mself\u001b[0m\u001b[0;34m.\u001b[0m\u001b[0m__get_result\u001b[0m\u001b[0;34m(\u001b[0m\u001b[0;34m)\u001b[0m\u001b[0;34m\u001b[0m\u001b[0;34m\u001b[0m\u001b[0m\n\u001b[0m\u001b[1;32m    433\u001b[0m             \u001b[0;32melse\u001b[0m\u001b[0;34m:\u001b[0m\u001b[0;34m\u001b[0m\u001b[0;34m\u001b[0m\u001b[0m\n\u001b[1;32m    434\u001b[0m                 \u001b[0;32mraise\u001b[0m \u001b[0mTimeoutError\u001b[0m\u001b[0;34m(\u001b[0m\u001b[0;34m)\u001b[0m\u001b[0;34m\u001b[0m\u001b[0;34m\u001b[0m\u001b[0m\n",
      "\u001b[0;32m/opt/anaconda3/lib/python3.7/concurrent/futures/_base.py\u001b[0m in \u001b[0;36m__get_result\u001b[0;34m(self)\u001b[0m\n\u001b[1;32m    382\u001b[0m     \u001b[0;32mdef\u001b[0m \u001b[0m__get_result\u001b[0m\u001b[0;34m(\u001b[0m\u001b[0mself\u001b[0m\u001b[0;34m)\u001b[0m\u001b[0;34m:\u001b[0m\u001b[0;34m\u001b[0m\u001b[0;34m\u001b[0m\u001b[0m\n\u001b[1;32m    383\u001b[0m         \u001b[0;32mif\u001b[0m \u001b[0mself\u001b[0m\u001b[0;34m.\u001b[0m\u001b[0m_exception\u001b[0m\u001b[0;34m:\u001b[0m\u001b[0;34m\u001b[0m\u001b[0;34m\u001b[0m\u001b[0m\n\u001b[0;32m--> 384\u001b[0;31m             \u001b[0;32mraise\u001b[0m \u001b[0mself\u001b[0m\u001b[0;34m.\u001b[0m\u001b[0m_exception\u001b[0m\u001b[0;34m\u001b[0m\u001b[0;34m\u001b[0m\u001b[0m\n\u001b[0m\u001b[1;32m    385\u001b[0m         \u001b[0;32melse\u001b[0m\u001b[0;34m:\u001b[0m\u001b[0;34m\u001b[0m\u001b[0;34m\u001b[0m\u001b[0m\n\u001b[1;32m    386\u001b[0m             \u001b[0;32mreturn\u001b[0m \u001b[0mself\u001b[0m\u001b[0;34m.\u001b[0m\u001b[0m_result\u001b[0m\u001b[0;34m\u001b[0m\u001b[0;34m\u001b[0m\u001b[0m\n",
      "\u001b[0;31mValueError\u001b[0m: Input contains NaN, infinity or a value too large for dtype('float32')."
     ]
    }
   ],
   "source": [
    "#Grille de paramètres\n",
    "max_depth = [None, 3, 5, 7, 10, 15]\n",
    "min_samples_split = [0.001, 0.005, 0.01, 0.05]\n",
    "max_features = [10, 20, 30, 40, 50, 60, 70]\n",
    "param_grid = dict(max_features=max_features, min_samples_split=min_samples_split, max_depth=max_depth)\n",
    "\n",
    "#GridSearch\n",
    "grid_search = GridSearchCV(RandomForestClassifier(n_estimators=30),\n",
    "                           param_grid, cv=5, n_jobs=n_jobs, scoring=gini_scorer, verbose=3)\n",
    "grid_result = grid_search.fit(Xtrain, Ytrain)\n",
    "\n",
    "#Résultats\n",
    "best_params = grid_result.best_params_\n",
    "print(\"Best parameters :\", best_params)"
   ]
  },
  {
   "cell_type": "markdown",
   "metadata": {
    "colab_type": "text",
    "id": "vhGe7JYvycGV"
   },
   "source": [
    "On optimise `n_estimators` :"
   ]
  },
  {
   "cell_type": "code",
   "execution_count": 0,
   "metadata": {
    "colab": {},
    "colab_type": "code",
    "id": "vF4qv-lWyuWu"
   },
   "outputs": [],
   "source": [
    "max_features = best_params[\"max_features\"]\n",
    "min_samples_split = best_params[\"min_samples_split\"]\n",
    "max_depth = best_params[\"max_depth\"]"
   ]
  },
  {
   "cell_type": "code",
   "execution_count": 0,
   "metadata": {
    "colab": {},
    "colab_type": "code",
    "id": "bm7JyFOVyiIO"
   },
   "outputs": [],
   "source": [
    "#Grille de paramètres\n",
    "n_estimators = [30, 50, 100, 300, 500, 700, 1000, 1500, 2000, 2500, 3000]\n",
    "param_grid = dict(n_estimators=n_estimators)\n",
    "\n",
    "#GridSearch\n",
    "grid_search = GridSearchCV(RandomForestClassifier(max_features=max_features, min_samples_split=min_samples_split, max_depth=max_depth),\n",
    "                           param_grid, cv=10, n_jobs=n_jobs, scoring=gini_scorer, verbose=5)\n",
    "grid_result = grid_search.fit(Xtrain, Ytrain)\n",
    "\n",
    "#Résultats\n",
    "best_params = grid_result.best_params_\n",
    "print(\"Best parameters :\", best_params)\n",
    "RFC = grid_result.best_estimator_"
   ]
  },
  {
   "cell_type": "markdown",
   "metadata": {
    "colab_type": "text",
    "id": "zTzG-7-Bt3K9"
   },
   "source": [
    "Score :"
   ]
  },
  {
   "cell_type": "code",
   "execution_count": 0,
   "metadata": {
    "colab": {
     "base_uri": "https://localhost:8080/",
     "height": 35
    },
    "colab_type": "code",
    "id": "Ro9e4CfOmiSa",
    "outputId": "667c3faa-61f3-4438-9313-c609277c3d55"
   },
   "outputs": [
    {
     "name": "stdout",
     "output_type": "stream",
     "text": [
      "0.4340533318488004\n"
     ]
    }
   ],
   "source": [
    "print(grid_result.best_score_)"
   ]
  },
  {
   "cell_type": "code",
   "execution_count": 0,
   "metadata": {
    "colab": {
     "base_uri": "https://localhost:8080/",
     "height": 34
    },
    "colab_type": "code",
    "id": "4Q_5KVvRsKBC",
    "outputId": "4aa6e594-4b5f-4960-8d68-5f796af961d7"
   },
   "outputs": [
    {
     "name": "stdout",
     "output_type": "stream",
     "text": [
      "0.4588538684084016\n"
     ]
    }
   ],
   "source": [
    "print(gini_scorer(RFC, Xtest, Ytest))"
   ]
  },
  {
   "cell_type": "code",
   "execution_count": 0,
   "metadata": {
    "colab": {
     "base_uri": "https://localhost:8080/",
     "height": 34
    },
    "colab_type": "code",
    "id": "NvJ0VlPf6Pw8",
    "outputId": "5e34c70d-2543-46df-8fe0-869d6a7130cb"
   },
   "outputs": [
    {
     "name": "stdout",
     "output_type": "stream",
     "text": [
      "0.4588538684084016\n"
     ]
    }
   ],
   "source": [
    "print(gini_normalized(Ytest, RFC.predict_proba(Xtest)[:,1]))"
   ]
  },
  {
   "cell_type": "markdown",
   "metadata": {
    "colab_type": "text",
    "id": "PKRaAbwVa1ej"
   },
   "source": [
    "Importance des variables :"
   ]
  },
  {
   "cell_type": "code",
   "execution_count": 0,
   "metadata": {
    "colab": {
     "base_uri": "https://localhost:8080/",
     "height": 260
    },
    "colab_type": "code",
    "id": "ZC-cUM1cbUgC",
    "outputId": "08a11a58-c2f8-4b2b-d803-e09792264df4"
   },
   "outputs": [
    {
     "data": {
      "image/png": "[encoded data removed]",
      "text/plain": [
       "<Figure size 432x288 with 1 Axes>"
      ]
     },
     "metadata": {
      "tags": []
     },
     "output_type": "display_data"
    }
   ],
   "source": [
    "feat_importance(RFC, np.array(X_train.columns), 10)"
   ]
  },
  {
   "cell_type": "markdown",
   "metadata": {
    "colab_type": "text",
    "id": "UVHv9TVXuWT3"
   },
   "source": [
    "Sauvegarde du modèle :"
   ]
  },
  {
   "cell_type": "code",
   "execution_count": 0,
   "metadata": {
    "colab": {},
    "colab_type": "code",
    "id": "iO4jNT2GuYCo"
   },
   "outputs": [],
   "source": [
    "model_name = 'rfc' + str(seed)\n",
    "with open(save_models_path+'%s.txt'%(model_name), 'wb') as f:\n",
    "    pickle.dump(RFC, f)"
   ]
  },
  {
   "cell_type": "markdown",
   "metadata": {
    "colab_type": "text",
    "id": "4M6AXayE56r-"
   },
   "source": [
    "## (Pour les tests) Paramètres customs"
   ]
  },
  {
   "cell_type": "code",
   "execution_count": 0,
   "metadata": {
    "colab": {
     "base_uri": "https://localhost:8080/",
     "height": 139
    },
    "colab_type": "code",
    "id": "-EEPzrBxsBId",
    "outputId": "cfc1c14e-d72d-431e-a3b2-3d17cdb776d2"
   },
   "outputs": [
    {
     "data": {
      "text/plain": [
       "RandomForestClassifier(bootstrap=True, class_weight=None, criterion='gini',\n",
       "            max_depth=50, max_features=10, max_leaf_nodes=None,\n",
       "            min_impurity_decrease=0.0, min_impurity_split=None,\n",
       "            min_samples_leaf=1, min_samples_split=500,\n",
       "            min_weight_fraction_leaf=0.0, n_estimators=200, n_jobs=1,\n",
       "            oob_score=False, random_state=None, verbose=0,\n",
       "            warm_start=False)"
      ]
     },
     "execution_count": 83,
     "metadata": {
      "tags": []
     },
     "output_type": "execute_result"
    }
   ],
   "source": [
    "RFC = RandomForestClassifier(n_estimators=200, max_features=10, max_depth=50, min_samples_split=500)\n",
    "RFC.fit(Xtrain, Ytrain)"
   ]
  },
  {
   "cell_type": "code",
   "execution_count": 0,
   "metadata": {
    "colab": {
     "base_uri": "https://localhost:8080/",
     "height": 34
    },
    "colab_type": "code",
    "id": "ySUzllL_ytW0",
    "outputId": "fef5495e-0b22-44ee-df99-55fd2bd31525"
   },
   "outputs": [
    {
     "name": "stdout",
     "output_type": "stream",
     "text": [
      "-0.4084453997648442\n"
     ]
    }
   ],
   "source": [
    "print(gini_scorer(RFC, Xtest, Ytest))"
   ]
  },
  {
   "cell_type": "code",
   "execution_count": 0,
   "metadata": {
    "colab": {
     "base_uri": "https://localhost:8080/",
     "height": 34
    },
    "colab_type": "code",
    "id": "NjpTHR1zEYzy",
    "outputId": "38e87abe-36ca-4dce-a01e-7feb04f637f9"
   },
   "outputs": [
    {
     "data": {
      "text/plain": [
       "0.40845458553791886"
      ]
     },
     "execution_count": 85,
     "metadata": {
      "tags": []
     },
     "output_type": "execute_result"
    }
   ],
   "source": [
    "gini_normalized(Ytest, RFC.predict_proba(Xtest)[:,1])"
   ]
  },
  {
   "cell_type": "markdown",
   "metadata": {
    "colab_type": "text",
    "id": "01e4qcsYLNtr"
   },
   "source": [
    "# Light GBM\n",
    "<a id=\"lgbm\"></a>"
   ]
  },
  {
   "cell_type": "markdown",
   "metadata": {
    "colab_type": "text",
    "id": "HNPuka7DQGcK"
   },
   "source": [
    "On utilise la version avec l'API de scikit-learn (voir [ici](https://lightgbm.readthedocs.io/en/latest/Python-API.html#lightgbm.LGBMClassifier))"
   ]
  },
  {
   "cell_type": "code",
   "execution_count": 0,
   "metadata": {
    "colab": {},
    "colab_type": "code",
    "id": "_vP1RmQrLPY_"
   },
   "outputs": [],
   "source": [
    "from lightgbm import LGBMClassifier"
   ]
  },
  {
   "cell_type": "markdown",
   "metadata": {
    "colab_type": "text",
    "id": "zn-LwErJQhOP"
   },
   "source": [
    "Premier test sans spécifier de paramètres :"
   ]
  },
  {
   "cell_type": "code",
   "execution_count": 0,
   "metadata": {
    "colab": {
     "base_uri": "https://localhost:8080/",
     "height": 35
    },
    "colab_type": "code",
    "id": "sh-MY0B-Lkt1",
    "outputId": "8405b756-fbd5-45c2-884d-d40771a6a76f"
   },
   "outputs": [
    {
     "data": {
      "text/plain": [
       "0.7879568106312294"
      ]
     },
     "execution_count": 32,
     "metadata": {
      "tags": []
     },
     "output_type": "execute_result"
    }
   ],
   "source": [
    "LGBM = LGBMClassifier()\n",
    "LGBM.fit(Xtrain, Ytrain)\n",
    "gini_scorer(LGBM, Xtest, Ytest)"
   ]
  },
  {
   "cell_type": "markdown",
   "metadata": {
    "colab_type": "text",
    "id": "HJLOH4CLxqW3"
   },
   "source": [
    "## Chargement d'un modèle"
   ]
  },
  {
   "cell_type": "code",
   "execution_count": 0,
   "metadata": {
    "colab": {},
    "colab_type": "code",
    "id": "WG8xpHf6xqXN"
   },
   "outputs": [],
   "source": [
    "model_name = \"lgbmfull\"\n",
    "with urlopen(load_models_url+'LGBM/%s.txt'%(model_name)) as f:\n",
    "    LGBM = pickle.loads(f.read())"
   ]
  },
  {
   "cell_type": "code",
   "execution_count": 41,
   "metadata": {
    "colab": {
     "base_uri": "https://localhost:8080/",
     "height": 364
    },
    "colab_type": "code",
    "id": "-ZyoE0A-J2h4",
    "outputId": "64510538-01fd-45eb-8ca6-3e93903ec64e"
   },
   "outputs": [
    {
     "data": {
      "text/plain": [
       "{'boosting_type': 'gbdt',\n",
       " 'class_weight': None,\n",
       " 'colsample_bytree': 1.0,\n",
       " 'importance_type': 'split',\n",
       " 'learning_rate': 0.01,\n",
       " 'max_depth': 3,\n",
       " 'min_child_samples': 10,\n",
       " 'min_child_weight': 0.01,\n",
       " 'min_split_gain': 0,\n",
       " 'n_estimators': 1500,\n",
       " 'n_jobs': -1,\n",
       " 'num_leaves': 10,\n",
       " 'objective': None,\n",
       " 'random_state': None,\n",
       " 'reg_alpha': 1,\n",
       " 'reg_lambda': 0.1,\n",
       " 'silent': True,\n",
       " 'subsample': 1.0,\n",
       " 'subsample_for_bin': 200000,\n",
       " 'subsample_freq': 0}"
      ]
     },
     "execution_count": 41,
     "metadata": {
      "tags": []
     },
     "output_type": "execute_result"
    }
   ],
   "source": [
    "LGBM.get_params()"
   ]
  },
  {
   "cell_type": "markdown",
   "metadata": {
    "colab_type": "text",
    "id": "3R-zSGe7Qpmy"
   },
   "source": [
    "## Tuning par GridSearch"
   ]
  },
  {
   "cell_type": "markdown",
   "metadata": {
    "colab_type": "text",
    "id": "CqsIIqX2Rb5F"
   },
   "source": [
    "On commence en fixant `n_estimators` et `learning_rate`, qu'on optimisera après :"
   ]
  },
  {
   "cell_type": "code",
   "execution_count": 0,
   "metadata": {
    "colab": {
     "base_uri": "https://localhost:8080/",
     "height": 635
    },
    "colab_type": "code",
    "id": "p0lv7BDBQeMd",
    "outputId": "f0ee68cf-45b4-433e-e4fb-c2a223dbb6e0"
   },
   "outputs": [
    {
     "name": "stdout",
     "output_type": "stream",
     "text": [
      "Fitting 5 folds for each of 5184 candidates, totalling 25920 fits\n"
     ]
    },
    {
     "name": "stderr",
     "output_type": "stream",
     "text": [
      "[Parallel(n_jobs=8)]: Using backend LokyBackend with 8 concurrent workers.\n",
      "[Parallel(n_jobs=8)]: Done  16 tasks      | elapsed:    1.9s\n",
      "[Parallel(n_jobs=8)]: Done 112 tasks      | elapsed:    7.0s\n",
      "[Parallel(n_jobs=8)]: Done 272 tasks      | elapsed:   15.6s\n",
      "[Parallel(n_jobs=8)]: Done 496 tasks      | elapsed:   27.7s\n",
      "[Parallel(n_jobs=8)]: Done 784 tasks      | elapsed:   43.0s\n",
      "[Parallel(n_jobs=8)]: Done 1136 tasks      | elapsed:  1.0min\n",
      "[Parallel(n_jobs=8)]: Done 1552 tasks      | elapsed:  1.4min\n",
      "[Parallel(n_jobs=8)]: Done 2032 tasks      | elapsed:  1.8min\n",
      "[Parallel(n_jobs=8)]: Done 2576 tasks      | elapsed:  2.3min\n",
      "[Parallel(n_jobs=8)]: Done 3184 tasks      | elapsed:  2.9min\n",
      "[Parallel(n_jobs=8)]: Done 3856 tasks      | elapsed:  3.5min\n",
      "[Parallel(n_jobs=8)]: Done 4592 tasks      | elapsed:  4.1min\n",
      "[Parallel(n_jobs=8)]: Done 5392 tasks      | elapsed:  4.8min\n",
      "[Parallel(n_jobs=8)]: Done 6256 tasks      | elapsed:  5.6min\n",
      "[Parallel(n_jobs=8)]: Done 7184 tasks      | elapsed:  6.5min\n",
      "[Parallel(n_jobs=8)]: Done 8176 tasks      | elapsed:  7.5min\n",
      "[Parallel(n_jobs=8)]: Done 9232 tasks      | elapsed:  8.5min\n",
      "[Parallel(n_jobs=8)]: Done 10352 tasks      | elapsed:  9.6min\n",
      "[Parallel(n_jobs=8)]: Done 11536 tasks      | elapsed: 10.7min\n",
      "[Parallel(n_jobs=8)]: Done 12784 tasks      | elapsed: 11.9min\n",
      "[Parallel(n_jobs=8)]: Done 14096 tasks      | elapsed: 13.3min\n",
      "[Parallel(n_jobs=8)]: Done 15472 tasks      | elapsed: 14.7min\n",
      "[Parallel(n_jobs=8)]: Done 16912 tasks      | elapsed: 16.2min\n",
      "[Parallel(n_jobs=8)]: Done 18416 tasks      | elapsed: 17.8min\n",
      "[Parallel(n_jobs=8)]: Done 19984 tasks      | elapsed: 19.5min\n",
      "[Parallel(n_jobs=8)]: Done 21616 tasks      | elapsed: 21.2min\n",
      "[Parallel(n_jobs=8)]: Done 23312 tasks      | elapsed: 23.1min\n",
      "[Parallel(n_jobs=8)]: Done 25072 tasks      | elapsed: 25.0min\n",
      "[Parallel(n_jobs=8)]: Done 25920 out of 25920 | elapsed: 25.9min finished\n"
     ]
    },
    {
     "name": "stdout",
     "output_type": "stream",
     "text": [
      "Best parameters : {'max_depth': 3, 'min_child_samples': 50, 'min_child_weight': 0.01, 'min_split_gain': 0, 'num_leaves': 7, 'reg_alpha': 1, 'reg_lambda': 0, 'subsample_for_bin': 200000}\n"
     ]
    }
   ],
   "source": [
    "#Grille de paramètres\n",
    "num_leaves = [2, 4, 5, 7, 10, 20]\n",
    "max_depth = [2, 3, 5, -1]\n",
    "subsample_for_bin = [200000]\n",
    "min_split_gain = [0]\n",
    "min_child_weight = [1e-2, 1e-1, 1, 10, 50, 100]\n",
    "min_child_samples = [10, 20, 30, 50, 70, 100]\n",
    "reg_alpha = [0, 1, 10]\n",
    "reg_lambda = [0, 1e-1]\n",
    "\n",
    "#GridSearch\n",
    "param_grid = dict(num_leaves=num_leaves, max_depth=max_depth, subsample_for_bin=subsample_for_bin, min_split_gain=min_split_gain, \n",
    "                  min_child_weight=min_child_weight, min_child_samples=min_child_samples,reg_alpha=reg_alpha, reg_lambda=reg_lambda)\n",
    "grid_search = GridSearchCV(LGBMClassifier(learning_rate=0.1, n_estimators=100),\n",
    "                           param_grid, cv=5, n_jobs=n_jobs, scoring=gini_scorer, verbose=3)\n",
    "grid_result = grid_search.fit(X_train, y_train)\n",
    "\n",
    "\n",
    "#Résultats\n",
    "best_params = grid_result.best_params_\n",
    "print(\"Best parameters :\", best_params)"
   ]
  },
  {
   "cell_type": "code",
   "execution_count": 0,
   "metadata": {
    "colab": {
     "base_uri": "https://localhost:8080/",
     "height": 36
    },
    "colab_type": "code",
    "id": "e7Ophy-VyYAA",
    "outputId": "b71d1054-c260-4cd4-e64b-1d1c7c0345cc"
   },
   "outputs": [
    {
     "name": "stdout",
     "output_type": "stream",
     "text": [
      "0.4395635472916551\n"
     ]
    }
   ],
   "source": [
    "print(grid_result.best_score_)"
   ]
  },
  {
   "cell_type": "code",
   "execution_count": 0,
   "metadata": {
    "colab": {},
    "colab_type": "code",
    "id": "lbSf1nmsRppg"
   },
   "outputs": [],
   "source": [
    "num_leaves = best_params[\"num_leaves\"]\n",
    "max_depth = best_params[\"max_depth\"]\n",
    "subsample_for_bin = best_params[\"subsample_for_bin\"]\n",
    "min_split_gain = best_params[\"min_split_gain\"]\n",
    "min_child_weight = best_params[\"min_child_weight\"]\n",
    "min_child_samples = best_params[\"min_child_samples\"]\n",
    "reg_alpha = best_params[\"reg_alpha\"]\n",
    "reg_lambda = best_params[\"reg_lambda\"]"
   ]
  },
  {
   "cell_type": "markdown",
   "metadata": {
    "colab_type": "text",
    "id": "ZKgA_pUeyvbC"
   },
   "source": [
    "Optimisation de `n_estimators` et `learning_rate` :"
   ]
  },
  {
   "cell_type": "code",
   "execution_count": 0,
   "metadata": {
    "colab": {
     "base_uri": "https://localhost:8080/",
     "height": 167
    },
    "colab_type": "code",
    "id": "iOAEtMpHRosd",
    "outputId": "16292146-7a75-4506-f71d-fed45d5aa72d"
   },
   "outputs": [
    {
     "name": "stdout",
     "output_type": "stream",
     "text": [
      "Fitting 10 folds for each of 64 candidates, totalling 640 fits\n"
     ]
    },
    {
     "name": "stderr",
     "output_type": "stream",
     "text": [
      "[Parallel(n_jobs=8)]: Using backend LokyBackend with 8 concurrent workers.\n",
      "[Parallel(n_jobs=8)]: Done  16 tasks      | elapsed:    0.7s\n",
      "[Parallel(n_jobs=8)]: Done 112 tasks      | elapsed:   26.7s\n",
      "[Parallel(n_jobs=8)]: Done 272 tasks      | elapsed:  1.3min\n",
      "[Parallel(n_jobs=8)]: Done 496 tasks      | elapsed:  2.5min\n",
      "[Parallel(n_jobs=8)]: Done 640 out of 640 | elapsed:  3.3min finished\n"
     ]
    },
    {
     "name": "stdout",
     "output_type": "stream",
     "text": [
      "Best parameters : {'learning_rate': 0.1, 'n_estimators': 100}\n"
     ]
    }
   ],
   "source": [
    "#Grille de paramètres\n",
    "learning_rate = [0.001, 0.01, 0.1, 0.2, 0.3, 0.4, 0.5, 1]\n",
    "n_estimators = [30, 50, 70, 100, 500, 1000, 1500, 2000]\n",
    "param_grid = dict(learning_rate=learning_rate, n_estimators=n_estimators)\n",
    "\n",
    "#GridSearch\n",
    "grid_search = GridSearchCV(LGBMClassifier(num_leaves=num_leaves, max_depth=max_depth, subsample_for_bin=subsample_for_bin, \n",
    "                                          min_split_gain=min_split_gain, min_child_weight=min_child_weight, \n",
    "                                          min_child_samples=min_child_samples,reg_alpha=reg_alpha, reg_lambda=reg_lambda),\n",
    "                           param_grid, cv=10, n_jobs=n_jobs, scoring=gini_scorer, verbose=3)\n",
    "grid_result = grid_search.fit(Xtrain, Ytrain)\n",
    "\n",
    "#Résultats\n",
    "best_params = grid_result.best_params_\n",
    "print(\"Best parameters :\", best_params)\n",
    "LGBM = grid_result.best_estimator_"
   ]
  },
  {
   "cell_type": "markdown",
   "metadata": {
    "colab_type": "text",
    "id": "5-LDz52iUvyL"
   },
   "source": [
    "Score :"
   ]
  },
  {
   "cell_type": "code",
   "execution_count": 0,
   "metadata": {
    "colab": {
     "base_uri": "https://localhost:8080/",
     "height": 36
    },
    "colab_type": "code",
    "id": "fuXnilCKm5yG",
    "outputId": "3cbfd03d-c082-4a3e-ab1a-2785b96e9f56"
   },
   "outputs": [
    {
     "name": "stdout",
     "output_type": "stream",
     "text": [
      "0.44303067416355846\n"
     ]
    }
   ],
   "source": [
    "print(grid_result.best_score_)"
   ]
  },
  {
   "cell_type": "code",
   "execution_count": 78,
   "metadata": {
    "colab": {
     "base_uri": "https://localhost:8080/",
     "height": 34
    },
    "colab_type": "code",
    "id": "pLlZo8VwUujX",
    "outputId": "afc8946f-dc73-4261-a34e-8141d7295774"
   },
   "outputs": [
    {
     "data": {
      "text/plain": [
       "0.5489558536992708"
      ]
     },
     "execution_count": 78,
     "metadata": {
      "tags": []
     },
     "output_type": "execute_result"
    }
   ],
   "source": [
    "gini_scorer(LGBM, Xtest, Ytest)"
   ]
  },
  {
   "cell_type": "code",
   "execution_count": 0,
   "metadata": {
    "colab": {
     "base_uri": "https://localhost:8080/",
     "height": 35
    },
    "colab_type": "code",
    "id": "_22Z4Pd0O9a8",
    "outputId": "e3e1e59d-0a46-44f5-ff55-27f7b84e7400"
   },
   "outputs": [
    {
     "data": {
      "text/plain": [
       "0.42980526904200966"
      ]
     },
     "execution_count": 106,
     "metadata": {
      "tags": []
     },
     "output_type": "execute_result"
    }
   ],
   "source": [
    "gini_normalized(Ytest, LGBM.predict_proba(Xtest)[:,1])"
   ]
  },
  {
   "cell_type": "markdown",
   "metadata": {
    "colab_type": "text",
    "id": "B5u7hjBezFkj"
   },
   "source": [
    "Importance des variables : "
   ]
  },
  {
   "cell_type": "code",
   "execution_count": 0,
   "metadata": {
    "colab": {
     "base_uri": "https://localhost:8080/",
     "height": 255
    },
    "colab_type": "code",
    "id": "sGihZuCIU49d",
    "outputId": "a0a371b6-d3bd-48eb-b9e2-3ed0a273bac4"
   },
   "outputs": [
    {
     "data": {
      "image/png": "[encoded data removed]",
      "text/plain": [
       "<Figure size 432x288 with 1 Axes>"
      ]
     },
     "metadata": {
      "tags": []
     },
     "output_type": "display_data"
    }
   ],
   "source": [
    "feat_importance(LGBM, np.array(X_train.columns), 10)"
   ]
  },
  {
   "cell_type": "markdown",
   "metadata": {
    "colab_type": "text",
    "id": "CN-6OcBDhxrs"
   },
   "source": [
    "On remarque que RandomForest et Light GBM n'ont pas les mêmes variables d'importance."
   ]
  },
  {
   "cell_type": "markdown",
   "metadata": {
    "colab_type": "text",
    "id": "TtzLBlF9zSEn"
   },
   "source": [
    "Sauvegarde du modèle :"
   ]
  },
  {
   "cell_type": "code",
   "execution_count": 0,
   "metadata": {
    "colab": {},
    "colab_type": "code",
    "id": "Lh-G5wuozSEx"
   },
   "outputs": [],
   "source": [
    "model_name = 'lgbmfull_fuites_label_encoder'# + str(seed)\n",
    "with open(save_models_path+'%s.txt'%(model_name), 'wb') as f:\n",
    "    pickle.dump(LGBM, f)"
   ]
  },
  {
   "cell_type": "markdown",
   "metadata": {
    "colab_type": "text",
    "id": "tV2hGYDqk62k"
   },
   "source": [
    "# Régression logistique\n",
    "<a id=\"reglog\"></a>"
   ]
  },
  {
   "cell_type": "code",
   "execution_count": 0,
   "metadata": {
    "colab": {},
    "colab_type": "code",
    "id": "_6rHrkSezvwA"
   },
   "outputs": [],
   "source": [
    "from sklearn.linear_model import LogisticRegression"
   ]
  },
  {
   "cell_type": "markdown",
   "metadata": {
    "colab_type": "text",
    "id": "6urtfdoJzvwr"
   },
   "source": [
    "## Chargement d'un modèle"
   ]
  },
  {
   "cell_type": "code",
   "execution_count": 0,
   "metadata": {
    "colab": {},
    "colab_type": "code",
    "id": "1BzDO1IJzvwy"
   },
   "outputs": [],
   "source": [
    "model_name = \"logregfull\"\n",
    "with urlopen(load_models_url+'LogReg/%s.txt'%(model_name)) as f:\n",
    "    LogReg = pickle.loads(f.read())"
   ]
  },
  {
   "cell_type": "markdown",
   "metadata": {
    "colab_type": "text",
    "id": "PkXvKq1Lzvw6"
   },
   "source": [
    "## Tuning par GridSearch"
   ]
  },
  {
   "cell_type": "markdown",
   "metadata": {
    "colab_type": "text",
    "id": "EvDfMrFB0mhS"
   },
   "source": [
    "On ajuste ici un modèle avec pénalisation l2. Comme il y a peu de paramètres à choisir, on fait de la valisation croisée 10 folds :"
   ]
  },
  {
   "cell_type": "code",
   "execution_count": 0,
   "metadata": {
    "colab": {
     "base_uri": "https://localhost:8080/",
     "height": 185
    },
    "colab_type": "code",
    "id": "ZdZ8zW-Uzvw_",
    "outputId": "a12952a3-70ed-43a7-9d9d-141376ee4879"
   },
   "outputs": [
    {
     "name": "stdout",
     "output_type": "stream",
     "text": [
      "Fitting 10 folds for each of 25 candidates, totalling 250 fits\n"
     ]
    },
    {
     "name": "stderr",
     "output_type": "stream",
     "text": [
      "[Parallel(n_jobs=8)]: Using backend LokyBackend with 8 concurrent workers.\n",
      "[Parallel(n_jobs=8)]: Done  16 tasks      | elapsed:    3.1s\n",
      "[Parallel(n_jobs=8)]: Done 112 tasks      | elapsed:   15.7s\n",
      "[Parallel(n_jobs=8)]: Done 250 out of 250 | elapsed:  1.3min finished\n",
      "/home/Asus/.local/lib/python3.5/site-packages/sklearn/linear_model/logistic.py:433: FutureWarning: Default solver will be changed to 'lbfgs' in 0.22. Specify a solver to silence this warning.\n",
      "  FutureWarning)\n"
     ]
    },
    {
     "name": "stdout",
     "output_type": "stream",
     "text": [
      "Best parameters : {'C': 10, 'tol': 1e-08}\n"
     ]
    }
   ],
   "source": [
    "#Grille de paramètres\n",
    "tol = [1e-4, 1e-6, 1e-8, 1e-10, 1e-12]\n",
    "C = [1e-3, 1e-2, 1e-1, 1, 10]\n",
    "\n",
    "#GridSearch\n",
    "param_grid = dict(tol=tol, C=C)\n",
    "grid_search = GridSearchCV(LogisticRegression(),\n",
    "                           param_grid, cv=10, n_jobs=n_jobs, scoring=gini_scorer, verbose=3)\n",
    "grid_result = grid_search.fit(Xtrain, Ytrain)\n",
    "\n",
    "\n",
    "#Résultats\n",
    "best_params = grid_result.best_params_\n",
    "print(\"Best parameters :\", best_params)\n",
    "LogReg = grid_result.best_estimator_"
   ]
  },
  {
   "cell_type": "markdown",
   "metadata": {
    "colab_type": "text",
    "id": "9JOgllvlzvxM"
   },
   "source": [
    "Score :"
   ]
  },
  {
   "cell_type": "code",
   "execution_count": 0,
   "metadata": {
    "colab": {
     "base_uri": "https://localhost:8080/",
     "height": 35
    },
    "colab_type": "code",
    "id": "viY8qlsQm03D",
    "outputId": "dcbaf52b-408d-400f-b64f-581d63374f10"
   },
   "outputs": [
    {
     "name": "stdout",
     "output_type": "stream",
     "text": [
      "0.2529610866781718\n"
     ]
    }
   ],
   "source": [
    "print(grid_result.best_score_)"
   ]
  },
  {
   "cell_type": "code",
   "execution_count": 77,
   "metadata": {
    "colab": {
     "base_uri": "https://localhost:8080/",
     "height": 34
    },
    "colab_type": "code",
    "id": "lc6tAVtFzvxP",
    "outputId": "170a1e34-a0ed-4731-f368-6f5d5bf0cea4"
   },
   "outputs": [
    {
     "data": {
      "text/plain": [
       "0.4395815843678673"
      ]
     },
     "execution_count": 77,
     "metadata": {
      "tags": []
     },
     "output_type": "execute_result"
    }
   ],
   "source": [
    "gini_scorer(LogReg, Xtest, Ytest)"
   ]
  },
  {
   "cell_type": "markdown",
   "metadata": {
    "colab_type": "text",
    "id": "P7WbsDDRzvxw"
   },
   "source": [
    "Sauvegarde du modèle :"
   ]
  },
  {
   "cell_type": "code",
   "execution_count": 0,
   "metadata": {
    "colab": {},
    "colab_type": "code",
    "id": "myY41r4fzvxz"
   },
   "outputs": [],
   "source": [
    "model_name = 'logreg' + str(seed)\n",
    "with open(save_models_path+'%s.txt'%(model_name), 'wb') as f:\n",
    "    pickle.dump(LogReg, f)"
   ]
  },
  {
   "cell_type": "markdown",
   "metadata": {
    "colab_type": "text",
    "id": "D6N3uw_7aL40"
   },
   "source": [
    "# Réseau de neurones\n",
    "<a id=\"neural_net\"></a>"
   ]
  },
  {
   "cell_type": "code",
   "execution_count": 0,
   "metadata": {
    "colab": {},
    "colab_type": "code",
    "id": "aNKY9QdLaPlc"
   },
   "outputs": [],
   "source": [
    "from keras.models import Sequential\n",
    "from keras.layers.core import Dense, Activation\n",
    "from keras.optimizers import SGD, Adam\n",
    "from keras.utils.np_utils import to_categorical\n",
    "from keras.layers import Dropout"
   ]
  },
  {
   "cell_type": "markdown",
   "metadata": {
    "colab_type": "text",
    "id": "ahVpDuzjbP74"
   },
   "source": [
    "Modèle :"
   ]
  },
  {
   "cell_type": "code",
   "execution_count": 0,
   "metadata": {
    "colab": {},
    "colab_type": "code",
    "id": "Q2Ss_8JVdTp8"
   },
   "outputs": [],
   "source": [
    "Ytrain_neural = to_categorical(Ytrain)\n",
    "Ytest_neural = to_categorical(Ytest)"
   ]
  },
  {
   "cell_type": "code",
   "execution_count": 0,
   "metadata": {
    "colab": {},
    "colab_type": "code",
    "id": "4-grN4neaay-"
   },
   "outputs": [],
   "source": [
    "N = Xtrain.shape[1] #Dimension en entrée\n",
    "H = 400 #Dimension de la couche cachée\n",
    "K = 2 #Nombre de classes"
   ]
  },
  {
   "cell_type": "code",
   "execution_count": 0,
   "metadata": {
    "colab": {},
    "colab_type": "code",
    "id": "AjLNCLJoaoxu"
   },
   "outputs": [],
   "source": [
    "#Modèle\n",
    "model = Sequential()\n",
    "model.add(Dense(H, input_dim=N))\n",
    "model.add(Activation(\"tanh\"))\n",
    "model.add(Dense(H))\n",
    "model.add(Activation(\"tanh\"))\n",
    "model.add(Dense(H))\n",
    "model.add(Activation(\"tanh\"))\n",
    "model.add(Dense(H))\n",
    "model.add(Activation(\"tanh\"))\n",
    "model.add(Dense(H))\n",
    "model.add(Activation(\"tanh\"))\n",
    "model.add(Dense(H//4))\n",
    "model.add(Activation(\"tanh\"))\n",
    "model.add(Dense(H//4))\n",
    "model.add(Activation(\"tanh\"))\n",
    "model.add(Dense(H//4))\n",
    "model.add(Activation(\"tanh\"))\n",
    "model.add(Dense(10))\n",
    "model.add(Activation(\"tanh\"))\n",
    "model.add(Dense(10))\n",
    "model.add(Activation(\"tanh\"))\n",
    "model.add(Dense(K))\n",
    "model.add(Activation(\"tanh\"))\n",
    "model.add(Dense(K))\n",
    "model.add(Activation(\"tanh\"))\n",
    "model.add(Dense(K))\n",
    "model.add(Activation(\"sigmoid\"))\n",
    "\n",
    "#Optimiseur\n",
    "sgd = SGD(lr=0.1, momentum=0)\n",
    "adam = Adam(lr=0.0003)\n",
    "\n",
    "#Compilation\n",
    "model.compile(optimizer=adam,loss='binary_crossentropy', metrics=['accuracy'])"
   ]
  },
  {
   "cell_type": "markdown",
   "metadata": {
    "colab_type": "text",
    "id": "v-CDMM9abPJo"
   },
   "source": [
    "Entrainement :"
   ]
  },
  {
   "cell_type": "code",
   "execution_count": 0,
   "metadata": {
    "colab": {},
    "colab_type": "code",
    "id": "crzgxP3cbOkI"
   },
   "outputs": [],
   "source": [
    "history = model.fit(Xtrain, Ytrain_neural, epochs=500, batch_size=300, verbose=False)"
   ]
  },
  {
   "cell_type": "markdown",
   "metadata": {
    "colab_type": "text",
    "id": "C9iqFfBwbi3-"
   },
   "source": [
    "Score : "
   ]
  },
  {
   "cell_type": "code",
   "execution_count": 0,
   "metadata": {
    "colab": {
     "base_uri": "https://localhost:8080/",
     "height": 54
    },
    "colab_type": "code",
    "id": "EC8ePzWrh9K3",
    "outputId": "f6f52619-be79-4277-f525-63f7ca9c24d7"
   },
   "outputs": [
    {
     "name": "stdout",
     "output_type": "stream",
     "text": [
      "3033/3033 [==============================] - 1s 206us/step\n"
     ]
    },
    {
     "data": {
      "text/plain": [
       "[0.49058501029855694, 0.7876689748484192]"
      ]
     },
     "execution_count": 116,
     "metadata": {
      "tags": []
     },
     "output_type": "execute_result"
    }
   ],
   "source": [
    "model.evaluate(Xtest, Ytest_neural)"
   ]
  },
  {
   "cell_type": "code",
   "execution_count": 0,
   "metadata": {
    "colab": {
     "base_uri": "https://localhost:8080/",
     "height": 35
    },
    "colab_type": "code",
    "id": "6MnTNau7biMP",
    "outputId": "42cbd58f-caa0-4272-c172-80e27079ecc5"
   },
   "outputs": [
    {
     "data": {
      "text/plain": [
       "0.3689950367410886"
      ]
     },
     "execution_count": 117,
     "metadata": {
      "tags": []
     },
     "output_type": "execute_result"
    }
   ],
   "source": [
    "gini_normalized(Ytest, model.predict_proba(Xtest)[:,1])"
   ]
  },
  {
   "cell_type": "code",
   "execution_count": 0,
   "metadata": {
    "colab": {
     "base_uri": "https://localhost:8080/",
     "height": 287
    },
    "colab_type": "code",
    "id": "3s4_2JMvihek",
    "outputId": "b00fac95-ad3d-4706-fb81-5a36be17369c"
   },
   "outputs": [
    {
     "data": {
      "text/plain": [
       "[<matplotlib.lines.Line2D at 0x212c3919668>]"
      ]
     },
     "execution_count": 118,
     "metadata": {
      "tags": []
     },
     "output_type": "execute_result"
    },
    {
     "data": {
      "image/png": "[encoded data removed]",
      "text/plain": [
       "<Figure size 432x288 with 1 Axes>"
      ]
     },
     "metadata": {
      "needs_background": "light",
      "tags": []
     },
     "output_type": "display_data"
    }
   ],
   "source": [
    "plt.plot(history.history['loss'])"
   ]
  },
  {
   "cell_type": "markdown",
   "metadata": {
    "colab_type": "text",
    "id": "Xw0LHBdM4w9-"
   },
   "source": [
    "# Adaboost\n",
    "<a id=\"ada\"></a>"
   ]
  },
  {
   "cell_type": "code",
   "execution_count": 0,
   "metadata": {
    "colab": {},
    "colab_type": "code",
    "id": "94r5Fcvd40MI"
   },
   "outputs": [],
   "source": [
    "from sklearn.ensemble import AdaBoostClassifier\n",
    "from sklearn.tree import DecisionTreeClassifier"
   ]
  },
  {
   "cell_type": "code",
   "execution_count": 0,
   "metadata": {
    "colab": {
     "base_uri": "https://localhost:8080/",
     "height": 237
    },
    "colab_type": "code",
    "id": "SVtbMK2W54_k",
    "outputId": "aa617fc8-88eb-466e-a788-9a106aa4472f"
   },
   "outputs": [
    {
     "name": "stdout",
     "output_type": "stream",
     "text": [
      "Fitting 5 folds for each of 63 candidates, totalling 315 fits\n"
     ]
    },
    {
     "name": "stderr",
     "output_type": "stream",
     "text": [
      "[Parallel(n_jobs=4)]: Using backend LokyBackend with 4 concurrent workers.\n",
      "[Parallel(n_jobs=4)]: Done  24 tasks      | elapsed:  2.3min\n",
      "[Parallel(n_jobs=4)]: Done 120 tasks      | elapsed: 16.0min\n",
      "[Parallel(n_jobs=4)]: Done 280 tasks      | elapsed: 37.3min\n",
      "[Parallel(n_jobs=4)]: Done 315 out of 315 | elapsed: 40.3min finished\n"
     ]
    },
    {
     "name": "stdout",
     "output_type": "stream",
     "text": [
      "Best parameters : {'algorithm': 'SAMME.R', 'base_estimator': LGBMClassifier(boosting_type='gbdt', class_weight=None, colsample_bytree=1.0,\n",
      "        importance_type='split', learning_rate=0.1, max_depth=5,\n",
      "        min_child_samples=70, min_child_weight=0.01, min_split_gain=0,\n",
      "        n_estimators=70, n_jobs=-1, num_leaves=10, objective=None,\n",
      "        random_state=None, reg_alpha=0, reg_lambda=0, silent=True,\n",
      "        subsample=1.0, subsample_for_bin=200000, subsample_freq=0), 'learning_rate': 0.01, 'n_estimators': 50}\n"
     ]
    }
   ],
   "source": [
    "#Grille de paramètres\n",
    "n_estimators=[50]\n",
    "learning_rate=[0.01]\n",
    "algorithm=['SAMME.R']\n",
    "base_estimator=[LGBMClassifier(boosting_type='gbdt', class_weight=None, colsample_bytree=1.0,\n",
    "        importance_type='split', learning_rate=0.1, max_depth=5,\n",
    "        min_child_samples=70, min_child_weight=0.01, min_split_gain=0,\n",
    "        n_estimators=70, n_jobs=-1, num_leaves=10, objective=None,\n",
    "        random_state=None, reg_alpha=0, reg_lambda=0, silent=True,\n",
    "        subsample=1.0, subsample_for_bin=200000, subsample_freq=0)]\n",
    "#GridSearch\n",
    "param_grid = dict(n_estimators=n_estimators,learning_rate=learning_rate,algorithm=algorithm,base_estimator=base_estimator)\n",
    "grid_search = GridSearchCV(AdaBoostClassifier(),\n",
    "                           param_grid, cv=5, n_jobs=n_jobs, scoring=gini_scorer, verbose=3)\n",
    "grid_result = grid_search.fit(X_train, y_train)\n",
    "\n",
    "\n",
    "#Résultats\n",
    "best_params = grid_result.best_params_\n",
    "print(\"Best parameters :\", best_params)"
   ]
  },
  {
   "cell_type": "code",
   "execution_count": 0,
   "metadata": {
    "colab": {
     "base_uri": "https://localhost:8080/",
     "height": 35
    },
    "colab_type": "code",
    "id": "bTiEP_Yt8HSw",
    "outputId": "450e9b91-88c1-4c6f-e301-ac2a1931866d"
   },
   "outputs": [
    {
     "name": "stdout",
     "output_type": "stream",
     "text": [
      "0.4351455770194289\n"
     ]
    }
   ],
   "source": [
    "print(grid_result.best_score_)"
   ]
  },
  {
   "cell_type": "code",
   "execution_count": 0,
   "metadata": {
    "colab": {
     "base_uri": "https://localhost:8080/",
     "height": 182
    },
    "colab_type": "code",
    "id": "JTdzvrNe8Ueb",
    "outputId": "7470c88e-7157-4365-cdcb-f69a154cc2f0"
   },
   "outputs": [
    {
     "data": {
      "text/plain": [
       "AdaBoostClassifier(algorithm='SAMME.R',\n",
       "          base_estimator=XGBClassifier(base_score=0.5, booster='gbtree', colsample_by_level=0.7,\n",
       "       colsample_by_tree=1, colsample_bylevel=1, colsample_bytree=1,\n",
       "       gamma=0, learning_rate=0.01, max_delta_step=0, max_depth=3,\n",
       "       min_child_weight=3, missing=None, n_estimators=1000, n_jobs=1,\n",
       "       nthread=None, objective='binary:logistic', random_state=0,\n",
       "       reg_alpha=1, reg_lambda=0, scale_pos_weight=1, seed=None,\n",
       "       silent=True, subsample=1),\n",
       "          learning_rate=0.01, n_estimators=50, random_state=None)"
      ]
     },
     "execution_count": 53,
     "metadata": {
      "tags": []
     },
     "output_type": "execute_result"
    }
   ],
   "source": [
    "ADA=AdaBoostClassifier(algorithm='SAMME.R',base_estimator=XGBClassifier(colsample_by_level=0.7, colsample_by_tree=1, learning_rate=0.01, max_depth=3, min_child_weight=3, n_estimators=1000, reg_alpha=1, reg_lambda=0), learning_rate=0.01, n_estimators=50)\n",
    "ADA.fit(X_train,y_train)"
   ]
  },
  {
   "cell_type": "code",
   "execution_count": 0,
   "metadata": {
    "colab": {
     "base_uri": "https://localhost:8080/",
     "height": 257
    },
    "colab_type": "code",
    "id": "U49Gy1MA8PmL",
    "outputId": "e7dc0dfe-c66a-4c07-eb9d-7cdc834f2704"
   },
   "outputs": [
    {
     "data": {
      "image/png": "[encoded data removed]",
      "text/plain": [
       "<Figure size 432x288 with 1 Axes>"
      ]
     },
     "metadata": {
      "needs_background": "light",
      "tags": []
     },
     "output_type": "display_data"
    }
   ],
   "source": [
    "feat_importance(ADA, np.array(X_train.columns), 10)"
   ]
  },
  {
   "cell_type": "markdown",
   "metadata": {
    "colab_type": "text",
    "id": "ug69Cr7hnZIK"
   },
   "source": [
    "# SVM\n",
    "<a id=\"svm\"></a>"
   ]
  },
  {
   "cell_type": "code",
   "execution_count": 0,
   "metadata": {
    "colab": {},
    "colab_type": "code",
    "id": "oFsHxXU6cJLx"
   },
   "outputs": [],
   "source": [
    "from sklearn.svm import SVC"
   ]
  },
  {
   "cell_type": "markdown",
   "metadata": {
    "colab_type": "text",
    "id": "vXFSUo0ibafW"
   },
   "source": [
    "## GridSearch"
   ]
  },
  {
   "cell_type": "code",
   "execution_count": 0,
   "metadata": {
    "colab": {
     "base_uri": "https://localhost:8080/",
     "height": 72
    },
    "colab_type": "code",
    "id": "B8u4havNndn9",
    "outputId": "4d940318-ad33-4808-dca3-82411ff0b2a2"
   },
   "outputs": [
    {
     "name": "stdout",
     "output_type": "stream",
     "text": [
      "Fitting 5 folds for each of 9 candidates, totalling 45 fits\n"
     ]
    },
    {
     "name": "stderr",
     "output_type": "stream",
     "text": [
      "[Parallel(n_jobs=8)]: Using backend LokyBackend with 8 concurrent workers.\n",
      "[Parallel(n_jobs=8)]: Done   2 tasks      | elapsed:  2.1min\n"
     ]
    }
   ],
   "source": [
    "#Grille de paramètres\n",
    "kernel = ['linear', 'poly', 'rbf']\n",
    "C = [1e-12, 1e-6, 1e-4]\n",
    "gamma = ['scale']\n",
    "\n",
    "#GridSearch\n",
    "param_grid = dict(kernel=kernel, C=C, gamma=gamma)\n",
    "grid_search = GridSearchCV(SVC(probability=True),\n",
    "                           param_grid, cv=5, n_jobs=n_jobs, scoring=gini_scorer, verbose=5)\n",
    "grid_result = grid_search.fit(X_train, y_train)\n",
    "\n",
    "\n",
    "#Résultats\n",
    "best_params = grid_result.best_params_\n",
    "print(\"Best parameters :\", best_params)\n",
    "SVM = grid_result.best_estimator_"
   ]
  },
  {
   "cell_type": "markdown",
   "metadata": {
    "colab_type": "text",
    "id": "jlMVjJfJbYvH"
   },
   "source": [
    "## Score"
   ]
  },
  {
   "cell_type": "code",
   "execution_count": 0,
   "metadata": {
    "colab": {},
    "colab_type": "code",
    "id": "3fVjzBGNbVep"
   },
   "outputs": [],
   "source": [
    "print(grid_result.best_score_)"
   ]
  },
  {
   "cell_type": "code",
   "execution_count": 0,
   "metadata": {
    "colab": {},
    "colab_type": "code",
    "id": "hwLUhUC2bYAJ"
   },
   "outputs": [],
   "source": [
    "print(gini_scorer(SVM, Xtest, Ytest))"
   ]
  },
  {
   "cell_type": "markdown",
   "metadata": {
    "colab_type": "text",
    "id": "CGYMF5A23ghm"
   },
   "source": [
    "# Ensembling\n",
    "<a id=\"ensembling\"></a>"
   ]
  },
  {
   "cell_type": "markdown",
   "metadata": {
    "colab_type": "text",
    "id": "2pYP_hJY3jEF"
   },
   "source": [
    "Dans cette partie on s'intéresse à l'ensembling, une méthode qui consiste à utiliser les prédictions de plusieurs estimateurs différents afin d'en créer un nouveau plus performant. Nous nous concentrons sur deux méthodes différentes :\n",
    "* Weighted Average Probabilities (voir [ici](https://scikit-learn.org/stable/modules/ensemble.html#weighted-average-probabilities-soft-voting)) : consiste à attribuer un poids à chaque modèle, puis à calculer la moyenne pondérée des probabilités d'appartenance à chaque classe.\n",
    "* Stacking/Blending (voir [ici](https://mlwave.com/kaggle-ensembling-guide/)) : consiste à créer un nouveau jeu de données à partir des prédictions faites par nos modèles. On entraine ensuite un nouveau modèle sur ce jeu de données."
   ]
  },
  {
   "cell_type": "code",
   "execution_count": 0,
   "metadata": {
    "colab": {},
    "colab_type": "code",
    "id": "tEec50t7hGsH"
   },
   "outputs": [],
   "source": [
    "ensemble_list = [XGB, RFC, LGBM, LogReg]\n",
    "ensemble_names = ['XGB', 'RFC', 'LGBM', 'LogReg']"
   ]
  },
  {
   "cell_type": "code",
   "execution_count": 0,
   "metadata": {
    "colab": {},
    "colab_type": "code",
    "id": "dNbUSWVpfYYJ"
   },
   "outputs": [],
   "source": [
    "print(\"Scores individuels sur le test :\")\n",
    "for k in range(len(ensemble_list)):\n",
    "    print(ensemble_names[k], ':', gini_scorer(ensemble_list[k], Xtest, Ytest))"
   ]
  },
  {
   "cell_type": "markdown",
   "metadata": {
    "colab_type": "text",
    "id": "9TvlTpgN5kH_"
   },
   "source": [
    "## Weighted Average Probabilities\n"
   ]
  },
  {
   "cell_type": "markdown",
   "metadata": {
    "colab_type": "text",
    "id": "ZWYuwMyGL8uM"
   },
   "source": [
    "Prédictions de la classe 1 par les algorithmes :"
   ]
  },
  {
   "cell_type": "code",
   "execution_count": 0,
   "metadata": {
    "colab": {},
    "colab_type": "code",
    "id": "GKtESZGjMCC-"
   },
   "outputs": [],
   "source": [
    "def raw_preds1(ensemble, X):\n",
    "    \"\"\"Prédictions des modèles de premier niveau\"\"\"\n",
    "    y_pred = np.hstack([model.predict_proba(X) for model in ensemble]) #Toutes les prédictions\n",
    "    return y_pred[:, 1::2] #Prédictions pour la classe 1\n",
    "\n",
    "def ensemble_preds(raw_preds, weights):\n",
    "    \"\"\"Prédiction de l'ensemble sur Xtest\"\"\"\n",
    "    if sum(weights) ==0:\n",
    "        return np.zeros((len(Xtest), 2))\n",
    "    else:\n",
    "        return np.average(raw_preds, axis=1, weights=weights)\n",
    "\n",
    "def normalize(weights):\n",
    "\t# calculate l1 vector norm\n",
    "\tresult = np.linalg.norm(weights, 1)\n",
    "\t# check for a vector of all zeros\n",
    "\tif result == 0.0:\n",
    "\t\treturn weights\n",
    "\t# return normalized vector (unit norm)\n",
    "\treturn weights / result"
   ]
  },
  {
   "cell_type": "markdown",
   "metadata": {
    "colab_type": "text",
    "id": "P6driVwJKrFy"
   },
   "source": [
    "### GridSearch"
   ]
  },
  {
   "cell_type": "markdown",
   "metadata": {
    "colab_type": "text",
    "id": "NxtRHNcCLQHX"
   },
   "source": [
    "On cherche les poids sur une grille définie comme un produit cartésien (voir [ici](https://machinelearningmastery.com/weighted-average-ensemble-for-deep-learning-neural-networks/)). Pour chaque combinaison de poids, on évalue le score de notre ensemble par validation croisée 5-folds. Pour cela, on commence par créer `preds`, une liste prédictions que chaque modèle ensembliste effectue sur les 5 folds de X_train"
   ]
  },
  {
   "cell_type": "code",
   "execution_count": 0,
   "metadata": {
    "colab": {},
    "colab_type": "code",
    "id": "C-ERECr9KtkM"
   },
   "outputs": [],
   "source": [
    "from itertools import product\n",
    "from sklearn.model_selection import KFold\n",
    "\n",
    "def score_ensemble(raw_preds, weights, X, y, kf):\n",
    "    \"\"\"Renvoie le score de l'ensemble avec les poids weights, calculé par\n",
    "    validation croisée k-folds sur X\"\"\"\n",
    "    scores = []\n",
    "    for k,(train_index, test_index) in enumerate(kf.split(X)):\n",
    "        y_test = y[test_index]\n",
    "        preds = ensemble_preds(raw_preds[k], weights)\n",
    "        scores.append(gini_normalized(y_test, preds))\n",
    "    return np.mean(scores)\n",
    "\n",
    "# grid search weights\n",
    "def grid_search(X, Y):\n",
    "    \"\"\"X : données sur lesquels on applique les algos de 1er niveau.\n",
    "    Y : targets\"\"\"\n",
    "\t# define weights to consider\n",
    "    w = np.arange(0, 1.05, 0.05)\n",
    "    best_score, best_weights = 0.0, None\n",
    "    #fit a model for every fold\n",
    "    raw_preds = []\n",
    "    kf = KFold(n_splits=5, shuffle=False)\n",
    "    for train_index, test_index in kf.split(X):\n",
    "        Xtrain, Xtest = X.iloc[train_index], X.iloc[test_index]\n",
    "        ytrain, ytest = Y[train_index], Y[test_index]\n",
    "        ensemble = [XGBClassifier(**XGB.get_params()).fit(Xtrain, ytrain),\n",
    "                    RandomForestClassifier(**RFC.get_params()).fit(Xtrain, ytrain),\n",
    "                    LGBMClassifier(**LGBM.get_params()).fit(Xtrain, ytrain),\n",
    "                    LogisticRegression(**LogReg.get_params()).fit(Xtrain, ytrain)]\n",
    "        raw_preds.append(raw_preds1(ensemble, Xtest))\n",
    "\t# iterate all possible combinations (cartesian product)\n",
    "    for weights in product(w, repeat=len(ensemble)):\n",
    "\t\t# skip if all weights are equal\n",
    "        if len(set(weights)) == 1:\n",
    "            continue\n",
    "        # hack, normalize weight vector\n",
    "        weights = normalize(weights)\n",
    "        # evaluate weights\n",
    "        score = score_ensemble(raw_preds, weights, X, Y, kf)\n",
    "        if score > best_score:\n",
    "            best_score, best_weights = score, weights\n",
    "            print('>%s %.3f' % (best_weights, best_score))\n",
    "    return list(best_weights)"
   ]
  },
  {
   "cell_type": "code",
   "execution_count": 129,
   "metadata": {
    "colab": {
     "base_uri": "https://localhost:8080/",
     "height": 523
    },
    "colab_type": "code",
    "id": "NTh-tol8Q5ni",
    "outputId": "993a637a-8d80-4006-b8d4-224ef63c5996"
   },
   "outputs": [
    {
     "name": "stderr",
     "output_type": "stream",
     "text": [
      "/Library/Frameworks/Python.framework/Versions/3.6/lib/python3.6/site-packages/sklearn/linear_model/logistic.py:433: FutureWarning: Default solver will be changed to 'lbfgs' in 0.22. Specify a solver to silence this warning.\n",
      "  FutureWarning)\n",
      "/Library/Frameworks/Python.framework/Versions/3.6/lib/python3.6/site-packages/sklearn/linear_model/logistic.py:433: FutureWarning: Default solver will be changed to 'lbfgs' in 0.22. Specify a solver to silence this warning.\n",
      "  FutureWarning)\n",
      "/Library/Frameworks/Python.framework/Versions/3.6/lib/python3.6/site-packages/sklearn/linear_model/logistic.py:433: FutureWarning: Default solver will be changed to 'lbfgs' in 0.22. Specify a solver to silence this warning.\n",
      "  FutureWarning)\n",
      "/Library/Frameworks/Python.framework/Versions/3.6/lib/python3.6/site-packages/sklearn/linear_model/logistic.py:433: FutureWarning: Default solver will be changed to 'lbfgs' in 0.22. Specify a solver to silence this warning.\n",
      "  FutureWarning)\n",
      "/Library/Frameworks/Python.framework/Versions/3.6/lib/python3.6/site-packages/sklearn/linear_model/logistic.py:433: FutureWarning: Default solver will be changed to 'lbfgs' in 0.22. Specify a solver to silence this warning.\n",
      "  FutureWarning)\n"
     ]
    },
    {
     "name": "stdout",
     "output_type": "stream",
     "text": [
      ">[0. 0. 0. 1.] 0.425\n",
      ">[0. 0. 1. 0.] 0.441\n",
      ">[0.  0.  0.5 0.5] 0.445\n",
      ">[0.         0.         0.66666667 0.33333333] 0.445\n",
      ">[0.  0.  0.6 0.4] 0.445\n",
      ">[0.         0.         0.71428571 0.28571429] 0.446\n",
      ">[0.    0.    0.625 0.375] 0.446\n",
      ">[0.         0.         0.63636364 0.36363636] 0.446\n",
      ">[0.         0.         0.61538462 0.38461538] 0.446\n",
      ">[0.         0.         0.63157895 0.36842105] 0.446\n",
      ">[0.   0.25 0.5  0.25] 0.446\n",
      ">[0.         0.22222222 0.55555556 0.22222222] 0.446\n",
      ">[0.         0.18181818 0.54545455 0.27272727] 0.446\n",
      ">[0.         0.17391304 0.56521739 0.26086957] 0.446\n",
      ">[0.         0.18518519 0.55555556 0.25925926] 0.446\n",
      "\n",
      "Best weights : [0.0, 0.18518518518518517, 0.5555555555555555, 0.25925925925925924]\n",
      "Score : 0.5512688488871716\n"
     ]
    }
   ],
   "source": [
    "best_weights_grid = grid_search(X_train, y_train)\n",
    "print(\"\\nBest weights :\", best_weights_grid)"
   ]
  },
  {
   "cell_type": "markdown",
   "metadata": {
    "colab_type": "text",
    "id": "a0pa77wBKfCQ"
   },
   "source": [
    "### Optimisation d'une fonction de perte (1ère méthode)"
   ]
  },
  {
   "cell_type": "code",
   "execution_count": 0,
   "metadata": {
    "colab": {},
    "colab_type": "code",
    "id": "tLA1iQ3T0b1K"
   },
   "outputs": [],
   "source": [
    "from scipy import optimize"
   ]
  },
  {
   "cell_type": "markdown",
   "metadata": {
    "colab_type": "text",
    "id": "00RHNbKUMcYE"
   },
   "source": [
    "On cherche les poids en maximisant la fonction de score grâce à l'algorithme Simple (voir [ici](https://www.kaggle.com/daisukelab/optimizing-ensemble-weights-using-simple)). On commence par définir la fonction à minimiser, qui utilise les valeurs prédites sur l'ensemble de validation (Xtest) :"
   ]
  },
  {
   "cell_type": "code",
   "execution_count": 0,
   "metadata": {
    "colab": {},
    "colab_type": "code",
    "id": "u9VMZOdPMuFw"
   },
   "outputs": [],
   "source": [
    "raw_preds = np.array([model.predict_proba(Xtest) for model in ensemble_list]) #Prédictions de chaque modèle\n",
    "\n",
    "def ensemble_preds(weights):\n",
    "    \"\"\"Prédiction de l'ensemble sur Xtest\"\"\"\n",
    "    if sum(weights) ==0:\n",
    "        return np.zeros((len(Xtest), 2))\n",
    "    else:\n",
    "        return np.average(raw_preds, axis=0, weights=weights)\n",
    "\n",
    "def loss_function(weights):\n",
    "    \"\"\"Renvoie la valeur de la perte pour les prédictions de l'ensemble.\n",
    "    Ici la perte est l'opposée de la fonction de score, soit -gini_normalized\"\"\"\n",
    "    return -gini_normalized(Ytest, ensemble_preds(weights)[:,1])\n",
    "\n",
    "def acc_function(weights):\n",
    "    return -loss_function(weights)"
   ]
  },
  {
   "cell_type": "markdown",
   "metadata": {
    "colab_type": "text",
    "id": "REeMv0fRaGZs"
   },
   "source": [
    "On optimise maintenant la fonction de perte sous contraintes (l'algorithme est copié de GitHub dans la cellule suivante) :"
   ]
  },
  {
   "cell_type": "code",
   "execution_count": 0,
   "metadata": {
    "colab": {},
    "colab_type": "code",
    "id": "lEF2SRplUvfO"
   },
   "outputs": [],
   "source": [
    "# Copie de l'algorithme Simple\n",
    "# Source : https://github.com/chrisstroemel/Simple/blob/master/Simple.py\n",
    "\n",
    "from heapq import heappush, heappop, heappushpop\n",
    "import numpy\n",
    "import math\n",
    "import time\n",
    "import matplotlib.pyplot as plotter\n",
    "\n",
    "CAPACITY_INCREMENT = 1000\n",
    "\n",
    "\n",
    "class _Simplex:\n",
    "\tdef __init__(self, pointIndices, testCoords, contentFractions, objectiveScore, opportunityCost, contentFraction, difference):\n",
    "\t\tself.pointIndices = pointIndices\n",
    "\t\tself.testCoords = testCoords\n",
    "\t\tself.contentFractions = contentFractions\n",
    "\t\tself.contentFraction = contentFraction\n",
    "\t\tself.__objectiveScore = objectiveScore\n",
    "\t\tself.__opportunityCost = opportunityCost\n",
    "\t\tself.update(difference)\n",
    "\n",
    "\tdef update(self, difference):\n",
    "\t\tself.acquisitionValue = -(self.__objectiveScore + (self.__opportunityCost * difference))\n",
    "\t\tself.difference = difference\n",
    "\n",
    "\tdef __eq__(self, other):\n",
    "\t\treturn self.acquisitionValue == other.acquisitionValue\n",
    "\n",
    "\tdef __lt__(self, other):\n",
    "\t\treturn self.acquisitionValue < other.acquisitionValue\n",
    "\n",
    "class SimpleTuner:\n",
    "\tdef __init__(self, cornerPoints, objectiveFunction, exploration_preference=0.15):\n",
    "\t\tself.__cornerPoints = cornerPoints\n",
    "\t\tself.__numberOfVertices = len(cornerPoints)\n",
    "\t\tself.queue = []\n",
    "\t\tself.capacity = self.__numberOfVertices + CAPACITY_INCREMENT\n",
    "\t\tself.testPoints = numpy.empty((self.capacity, self.__numberOfVertices))\n",
    "\t\tself.objective = objectiveFunction\n",
    "\t\tself.iterations = 0\n",
    "\t\tself.maxValue = None\n",
    "\t\tself.minValue = None\n",
    "\t\tself.bestCoords = []\n",
    "\t\tself.opportunityCostFactor = exploration_preference #/ self.__numberOfVertices\n",
    "\t\t\t\n",
    "\n",
    "\tdef optimize(self, maxSteps=10):\n",
    "\t\tfor step in range(maxSteps):\n",
    "\t\t\t#print(self.maxValue, self.iterations, self.bestCoords)\n",
    "\t\t\tif len(self.queue) > 0:\n",
    "\t\t\t\ttargetSimplex = self.__getNextSimplex()\n",
    "\t\t\t\tnewPointIndex = self.__testCoords(targetSimplex.testCoords)\n",
    "\t\t\t\tfor i in range(0, self.__numberOfVertices):\n",
    "\t\t\t\t\ttempIndex = targetSimplex.pointIndices[i]\n",
    "\t\t\t\t\ttargetSimplex.pointIndices[i] = newPointIndex\n",
    "\t\t\t\t\tnewContentFraction = targetSimplex.contentFraction * targetSimplex.contentFractions[i]\n",
    "\t\t\t\t\tnewSimplex = self.__makeSimplex(targetSimplex.pointIndices, newContentFraction)\n",
    "\t\t\t\t\theappush(self.queue, newSimplex)\n",
    "\t\t\t\t\ttargetSimplex.pointIndices[i] = tempIndex\n",
    "\t\t\telse:\n",
    "\t\t\t\ttestPoint = self.__cornerPoints[self.iterations]\n",
    "\t\t\t\ttestPoint.append(0)\n",
    "\t\t\t\ttestPoint = numpy.array(testPoint, dtype=numpy.float64)\n",
    "\t\t\t\tself.__testCoords(testPoint)\n",
    "\t\t\t\tif self.iterations == (self.__numberOfVertices - 1):\n",
    "\t\t\t\t\tinitialSimplex = self.__makeSimplex(numpy.arange(self.__numberOfVertices, dtype=numpy.intp), 1)\n",
    "\t\t\t\t\theappush(self.queue, initialSimplex)\n",
    "\t\t\tself.iterations += 1\n",
    "\n",
    "\tdef get_best(self):\n",
    "\t\treturn (self.maxValue, self.bestCoords[0:-1])\n",
    "\n",
    "\tdef __getNextSimplex(self):\n",
    "\t\ttargetSimplex = heappop(self.queue)\n",
    "\t\tcurrentDifference = self.maxValue - self.minValue\n",
    "\t\twhile currentDifference > targetSimplex.difference:\n",
    "\t\t\ttargetSimplex.update(currentDifference)\n",
    "\t\t\t# if greater than because heapq is in ascending order\n",
    "\t\t\tif targetSimplex.acquisitionValue > self.queue[0].acquisitionValue:\n",
    "\t\t\t\ttargetSimplex = heappushpop(self.queue, targetSimplex)\n",
    "\t\treturn targetSimplex\n",
    "\t\t\n",
    "\tdef __testCoords(self, testCoords):\n",
    "\t\tobjectiveValue = self.objective(testCoords[0:-1])\n",
    "\t\tif self.maxValue == None or objectiveValue > self.maxValue: \n",
    "\t\t\tself.maxValue = objectiveValue\n",
    "\t\t\tself.bestCoords = testCoords\n",
    "\t\t\tif self.minValue == None: self.minValue = objectiveValue\n",
    "\t\telif objectiveValue < self.minValue:\n",
    "\t\t\tself.minValue = objectiveValue\n",
    "\t\ttestCoords[-1] = objectiveValue\n",
    "\t\tif self.capacity == self.iterations:\n",
    "\t\t\tself.capacity += CAPACITY_INCREMENT\n",
    "\t\t\tself.testPoints.resize((self.capacity, self.__numberOfVertices))\n",
    "\t\tnewPointIndex = self.iterations\n",
    "\t\tself.testPoints[newPointIndex] = testCoords\n",
    "\t\treturn newPointIndex\n",
    "\n",
    "\n",
    "\tdef __makeSimplex(self, pointIndices, contentFraction):\n",
    "\t\tvertexMatrix = self.testPoints[pointIndices]\n",
    "\t\tcoordMatrix = vertexMatrix[:, 0:-1]\n",
    "\t\tbarycenterLocation = numpy.sum(vertexMatrix, axis=0) / self.__numberOfVertices\n",
    "\n",
    "\t\tdifferences = coordMatrix - barycenterLocation[0:-1]\n",
    "\t\tdistances = numpy.sqrt(numpy.sum(differences * differences, axis=1))\n",
    "\t\ttotalDistance = numpy.sum(distances)\n",
    "\t\tbarycentricTestCoords = distances / totalDistance\n",
    "\n",
    "\t\teuclideanTestCoords = vertexMatrix.T.dot(barycentricTestCoords)\n",
    "\t\t\n",
    "\t\tvertexValues = vertexMatrix[:,-1]\n",
    "\n",
    "\t\ttestpointDifferences = coordMatrix - euclideanTestCoords[0:-1]\n",
    "\t\ttestPointDistances = numpy.sqrt(numpy.sum(testpointDifferences * testpointDifferences, axis=1))\n",
    "\n",
    "\n",
    "\n",
    "\t\tinverseDistances = 1 / testPointDistances\n",
    "\t\tinverseSum = numpy.sum(inverseDistances)\n",
    "\t\tinterpolatedValue = inverseDistances.dot(vertexValues) / inverseSum\n",
    "\n",
    "\n",
    "\t\tcurrentDifference = self.maxValue - self.minValue\n",
    "\t\topportunityCost = self.opportunityCostFactor * math.log(contentFraction, self.__numberOfVertices)\n",
    "\n",
    "\t\treturn _Simplex(pointIndices.copy(), euclideanTestCoords, barycentricTestCoords, interpolatedValue, opportunityCost, contentFraction, currentDifference)\n",
    "\n",
    "\tdef plot(self):\n",
    "\t\tif self.__numberOfVertices != 3: raise RuntimeError('Plotting only supported in 2D')\n",
    "\t\tmatrix = self.testPoints[0:self.iterations, :]\n",
    "\n",
    "\t\tx = matrix[:,0].flat\n",
    "\t\ty = matrix[:,1].flat\n",
    "\t\tz = matrix[:,2].flat\n",
    "\n",
    "\t\tcoords = []\n",
    "\t\tacquisitions = []\n",
    "\n",
    "\t\tfor triangle in self.queue:\n",
    "\t\t\tcoords.append(triangle.pointIndices)\n",
    "\t\t\tacquisitions.append(-1 * triangle.acquisitionValue)\n",
    "\n",
    "\n",
    "\t\tplotter.figure()\n",
    "\t\tplotter.tricontourf(x, y, coords, z)\n",
    "\t\tplotter.triplot(x, y, coords, color='white', lw=0.5)\n",
    "\t\tplotter.colorbar()\n",
    "\n",
    "\n",
    "\t\tplotter.figure()\n",
    "\t\tplotter.tripcolor(x, y, coords, acquisitions)\n",
    "\t\tplotter.triplot(x, y, coords, color='white', lw=0.5)\n",
    "\t\tplotter.colorbar()\n",
    "\n",
    "\t\tplotter.show()"
   ]
  },
  {
   "cell_type": "code",
   "execution_count": 0,
   "metadata": {
    "colab": {
     "base_uri": "https://localhost:8080/",
     "height": 69
    },
    "colab_type": "code",
    "id": "oOSxB2zVU1sK",
    "outputId": "1fc1cdc3-dda8-4aa7-f803-de0e3e9e1f65"
   },
   "outputs": [
    {
     "name": "stdout",
     "output_type": "stream",
     "text": [
      "Best objective value = 0.45520193936380177\n",
      "Optimum weights = [0.42658655 0.00983067 0.11402615 0.25205037]\n",
      "Ensembled Accuracy (same as best objective value) = 0.45520193936380177\n"
     ]
    }
   ],
   "source": [
    "# This defines the search area, and other optimization parameters.\n",
    "optimization_domain_vertices = [[0, 0, 0, 0], [0, 0, 0, 1], [0, 0, 1, 0], [0, 1, 0, 0], [1, 0, 0, 0]]\n",
    "number_of_iterations = 3000\n",
    "exploration = 0.15 # optional, default 0.15\n",
    "\n",
    "# Optimize weights\n",
    "tuner = SimpleTuner(optimization_domain_vertices, acc_function, exploration_preference=exploration)\n",
    "tuner.optimize(number_of_iterations)\n",
    "best_objective_value, best_weights = tuner.get_best()\n",
    "\n",
    "print('Best objective value =', best_objective_value)\n",
    "print('Optimum weights =', best_weights)\n",
    "print('Ensembled Accuracy (same as best objective value) =', acc_function(best_weights))"
   ]
  },
  {
   "cell_type": "code",
   "execution_count": 0,
   "metadata": {
    "colab": {
     "base_uri": "https://localhost:8080/",
     "height": 104
    },
    "colab_type": "code",
    "id": "yUjTBZr9XIVV",
    "outputId": "b919efeb-eefd-4e4d-c81a-02663be99184"
   },
   "outputs": [
    {
     "name": "stdout",
     "output_type": "stream",
     "text": [
      "Scores individuels :\n",
      "XGB : 0.45110876287858787\n",
      "RFC : 0.4343864120215693\n",
      "LGBM : 0.44688349831393454\n",
      "LogReg : 0.43267548289847874\n"
     ]
    }
   ],
   "source": [
    "print(\"Scores individuels :\")\n",
    "for k in range(len(ensemble_list)):\n",
    "    print(ensemble_names[k], ':', gini_scorer(ensemble_list[k], Xtest, Ytest))"
   ]
  },
  {
   "cell_type": "markdown",
   "metadata": {
    "colab_type": "text",
    "id": "EWaM45MYroPQ"
   },
   "source": [
    "### Optimisation d'une fonction de perte (2ème méthode)"
   ]
  },
  {
   "cell_type": "code",
   "execution_count": 0,
   "metadata": {
    "colab": {
     "base_uri": "https://localhost:8080/",
     "height": 121
    },
    "colab_type": "code",
    "id": "999HvmPorscs",
    "outputId": "bf07ea7b-25e0-441e-c05b-b673f68a946d"
   },
   "outputs": [
    {
     "data": {
      "text/plain": [
       "     fun: -0.4656661130579202\n",
       " message: 'Optimization terminated successfully.'\n",
       "    nfev: 8705\n",
       "     nit: 144\n",
       " success: True\n",
       "       x: array([0.01095087, 0.31109131, 0.89542826, 0.02990561])"
      ]
     },
     "execution_count": 90,
     "metadata": {
      "tags": []
     },
     "output_type": "execute_result"
    }
   ],
   "source": [
    "from scipy.optimize import differential_evolution\n",
    "\n",
    "def loss_function(weights):\n",
    "    \"\"\"Renvoie la valeur de la perte pour les prédictions de l'ensemble.\n",
    "    Ici la perte est l'opposée de la fonction de score, soit -gini_normalized\"\"\"\n",
    "    return -gini_normalized(Ytest, ensemble_preds(raw_preds, weights))\n",
    "\n",
    "# arguments to the loss function\n",
    "raw_preds = raw_preds1(ensemble_list, Xtest)\n",
    "\n",
    "# define bounds on each weight\n",
    "bound_w = [(0.0, 1.0) for _ in range(len(ensemble_list))]\n",
    "\n",
    "# global optimization of ensemble weights\n",
    "result = differential_evolution(loss_function, bound_w, maxiter=1000, tol=1e-7)\n",
    "result"
   ]
  },
  {
   "cell_type": "markdown",
   "metadata": {
    "colab_type": "text",
    "id": "f176_pCZuH8c"
   },
   "source": [
    "Score :"
   ]
  },
  {
   "cell_type": "code",
   "execution_count": 0,
   "metadata": {
    "colab": {
     "base_uri": "https://localhost:8080/",
     "height": 69
    },
    "colab_type": "code",
    "id": "FF5r-vjAuHiT",
    "outputId": "a97bed00-cccc-4b93-ac31-6cec0e6b471c"
   },
   "outputs": [
    {
     "name": "stdout",
     "output_type": "stream",
     "text": [
      "\n",
      "Best weights : [0.00877913 0.24939657 0.71784949 0.02397482]\n",
      "Score 0.4656661130579202\n"
     ]
    }
   ],
   "source": [
    "best_weights_diff = normalize(result['x'])\n",
    "print(\"\\nBest weights :\", best_weights_diff)\n",
    "print(\"Score\", -loss_function(best_weights_diff))"
   ]
  },
  {
   "cell_type": "markdown",
   "metadata": {
    "colab_type": "text",
    "id": "Eopqxu5e5n2W"
   },
   "source": [
    "## Blending"
   ]
  },
  {
   "cell_type": "markdown",
   "metadata": {
    "colab_type": "text",
    "id": "Af0hwcYIioC6"
   },
   "source": [
    "On fait du tuning de pramètres par grid search sur Xtrain_blending. On prédira ensuite sur `raw_preds1(ensemble_list, X_test)`."
   ]
  },
  {
   "cell_type": "code",
   "execution_count": 0,
   "metadata": {
    "colab": {
     "base_uri": "https://localhost:8080/",
     "height": 34
    },
    "colab_type": "code",
    "id": "FX1iSIL2hfM9",
    "outputId": "8f22476d-bf4c-4fe2-8c10-7d4490b52a68"
   },
   "outputs": [
    {
     "data": {
      "text/plain": [
       "(3033, 4)"
      ]
     },
     "execution_count": 94,
     "metadata": {
      "tags": []
     },
     "output_type": "execute_result"
    }
   ],
   "source": [
    "Xtrain_blending = raw_preds1(ensemble_list, Xtest)\n",
    "Xtrain_blending.shape"
   ]
  },
  {
   "cell_type": "markdown",
   "metadata": {
    "colab_type": "text",
    "id": "K6AyEheSiepu"
   },
   "source": [
    "### Régression Logistique"
   ]
  },
  {
   "cell_type": "markdown",
   "metadata": {
    "colab_type": "text",
    "id": "5oV64YTDiwBv"
   },
   "source": [
    "Puis on entraine un modèle de régression logistique sur ce jeu de données :"
   ]
  },
  {
   "cell_type": "code",
   "execution_count": 0,
   "metadata": {
    "colab": {
     "base_uri": "https://localhost:8080/",
     "height": 176
    },
    "colab_type": "code",
    "id": "tAAK5EXnigFB",
    "outputId": "b92824ca-27c8-4a63-abf4-67420060763b"
   },
   "outputs": [
    {
     "name": "stdout",
     "output_type": "stream",
     "text": [
      "Fitting 10 folds for each of 42 candidates, totalling 420 fits\n"
     ]
    },
    {
     "name": "stderr",
     "output_type": "stream",
     "text": [
      "[Parallel(n_jobs=16)]: Using backend LokyBackend with 16 concurrent workers.\n",
      "[Parallel(n_jobs=16)]: Done  96 tasks      | elapsed:    3.0s\n",
      "[Parallel(n_jobs=16)]: Done 256 tasks      | elapsed:    8.4s\n"
     ]
    },
    {
     "name": "stdout",
     "output_type": "stream",
     "text": [
      "Best parameters : {'tol': 0.01, 'C': 1}\n"
     ]
    },
    {
     "name": "stderr",
     "output_type": "stream",
     "text": [
      "[Parallel(n_jobs=16)]: Done 420 out of 420 | elapsed:   13.8s finished\n",
      "/home/Benjamin/.local/lib/python3.5/site-packages/sklearn/linear_model/logistic.py:433: FutureWarning: Default solver will be changed to 'lbfgs' in 0.22. Specify a solver to silence this warning.\n",
      "  FutureWarning)\n"
     ]
    }
   ],
   "source": [
    "#Grille de paramètres\n",
    "tol = [1e-2, 1e-3, 1e-4, 1e-6, 1e-8, 1e-10, 1e-12]\n",
    "C = [1e-2, 1e-1, 1, 10, 100, 500]\n",
    "\n",
    "#GridSearch\n",
    "param_grid = dict(tol=tol, C=C)\n",
    "grid_search = GridSearchCV(LogisticRegression(),\n",
    "                           param_grid, cv=10, n_jobs=n_jobs, scoring=gini_scorer, verbose=3)\n",
    "grid_result = grid_search.fit(Xtrain_blending, Ytest)\n",
    "\n",
    "\n",
    "#Résultats\n",
    "best_params = grid_result.best_params_\n",
    "print(\"Best parameters :\", best_params)\n",
    "LogReg_blend = grid_result.best_estimator_"
   ]
  },
  {
   "cell_type": "code",
   "execution_count": 0,
   "metadata": {
    "colab": {
     "base_uri": "https://localhost:8080/",
     "height": 34
    },
    "colab_type": "code",
    "id": "7l708mh6vhNh",
    "outputId": "0d762262-71f3-4b54-9beb-fe8c60b77483"
   },
   "outputs": [
    {
     "name": "stdout",
     "output_type": "stream",
     "text": [
      "0.46401492975046116\n"
     ]
    }
   ],
   "source": [
    "print(grid_result.best_score_)"
   ]
  },
  {
   "cell_type": "markdown",
   "metadata": {
    "colab_type": "text",
    "id": "VEZlMuaWihuU"
   },
   "source": [
    "### XGBoost (ne pas utiliser)"
   ]
  },
  {
   "cell_type": "markdown",
   "metadata": {
    "colab_type": "text",
    "id": "D8nQrce5gwFe"
   },
   "source": [
    "Ou un modèle XGBoost :"
   ]
  },
  {
   "cell_type": "code",
   "execution_count": 0,
   "metadata": {
    "colab": {
     "base_uri": "https://localhost:8080/",
     "height": 627
    },
    "colab_type": "code",
    "id": "xcQLnAA6gSkv",
    "outputId": "14830ac2-c904-4241-aaf7-3d5743c96983"
   },
   "outputs": [
    {
     "name": "stdout",
     "output_type": "stream",
     "text": [
      "Fitting 10 folds for each of 9450 candidates, totalling 94500 fits\n"
     ]
    },
    {
     "name": "stderr",
     "output_type": "stream",
     "text": [
      "[Parallel(n_jobs=16)]: Using backend LokyBackend with 16 concurrent workers.\n",
      "[Parallel(n_jobs=16)]: Done  18 tasks      | elapsed:    0.2s\n",
      "[Parallel(n_jobs=16)]: Done 576 tasks      | elapsed:    3.2s\n",
      "[Parallel(n_jobs=16)]: Done 1576 tasks      | elapsed:   10.0s\n",
      "[Parallel(n_jobs=16)]: Done 2976 tasks      | elapsed:   23.5s\n",
      "[Parallel(n_jobs=16)]: Done 4776 tasks      | elapsed:   38.6s\n",
      "[Parallel(n_jobs=16)]: Done 6976 tasks      | elapsed:   59.0s\n",
      "[Parallel(n_jobs=16)]: Done 9576 tasks      | elapsed:  1.3min\n",
      "[Parallel(n_jobs=16)]: Done 12576 tasks      | elapsed:  1.8min\n",
      "[Parallel(n_jobs=16)]: Done 15976 tasks      | elapsed:  2.3min\n",
      "[Parallel(n_jobs=16)]: Done 19776 tasks      | elapsed:  2.9min\n",
      "[Parallel(n_jobs=16)]: Done 23976 tasks      | elapsed:  3.5min\n",
      "[Parallel(n_jobs=16)]: Done 28576 tasks      | elapsed:  4.1min\n",
      "[Parallel(n_jobs=16)]: Done 33572 tasks      | elapsed:  5.0min\n",
      "[Parallel(n_jobs=16)]: Done 36280 tasks      | elapsed:  5.5min\n",
      "[Parallel(n_jobs=16)]: Done 39180 tasks      | elapsed:  6.1min\n",
      "[Parallel(n_jobs=16)]: Done 42280 tasks      | elapsed:  6.6min\n",
      "[Parallel(n_jobs=16)]: Done 45580 tasks      | elapsed:  7.1min\n",
      "[Parallel(n_jobs=16)]: Done 49080 tasks      | elapsed:  7.7min\n",
      "[Parallel(n_jobs=16)]: Done 52780 tasks      | elapsed:  8.5min\n",
      "[Parallel(n_jobs=16)]: Done 56680 tasks      | elapsed:  9.5min\n",
      "[Parallel(n_jobs=16)]: Done 60780 tasks      | elapsed: 10.0min\n",
      "[Parallel(n_jobs=16)]: Done 65080 tasks      | elapsed: 10.8min\n",
      "[Parallel(n_jobs=16)]: Done 69580 tasks      | elapsed: 11.7min\n",
      "[Parallel(n_jobs=16)]: Done 74280 tasks      | elapsed: 13.0min\n",
      "[Parallel(n_jobs=16)]: Done 78610 tasks      | elapsed: 13.9min\n",
      "[Parallel(n_jobs=16)]: Done 83710 tasks      | elapsed: 14.9min\n",
      "[Parallel(n_jobs=16)]: Done 89010 tasks      | elapsed: 16.2min\n",
      "[Parallel(n_jobs=16)]: Done 93942 tasks      | elapsed: 17.9min\n",
      "[Parallel(n_jobs=16)]: Done 94500 out of 94500 | elapsed: 18.2min finished\n"
     ]
    },
    {
     "name": "stdout",
     "output_type": "stream",
     "text": [
      "Best parameters : {'colsample_bylevel': 0.2, 'reg_alpha': 0.1, 'max_depth': 2, 'min_child_weight': 8, 'colsample_bytree': 0.2, 'reg_lambda': 1}\n"
     ]
    },
    {
     "name": "stderr",
     "output_type": "stream",
     "text": [
      "/home/Benjamin/.local/lib/python3.5/site-packages/sklearn/model_selection/_search.py:841: DeprecationWarning: The default of the `iid` parameter will change from True to False in version 0.22 and will be removed in 0.24. This will change numeric results when test-set sizes are unequal.\n",
      "  DeprecationWarning)\n"
     ]
    }
   ],
   "source": [
    "#Grille de paramètres\n",
    "max_depth = [2, 3, 4, 6, 8]\n",
    "min_child_weight = [2, 3, 4, 6, 8, 10]\n",
    "reg_alpha = [0, 1]\n",
    "reg_lambda = [0, 1]\n",
    "colsample_bytree = [0.2, 0.4, 0.6, 0.8, 1]\n",
    "colsample_bylevel = [0.2, 0.4, 0.6, 0.8, 1]\n",
    "param_grid = dict(max_depth=max_depth, min_child_weight=min_child_weight, reg_alpha=reg_alpha, reg_lambda=reg_lambda,\n",
    "                 colsample_bytree=colsample_bytree, colsample_bylevel=colsample_bytree)\n",
    "\n",
    "#GridSearch\n",
    "grid_search = GridSearchCV(XGBClassifier(learning_rate=0.1, n_estimators=100),\n",
    "                           param_grid, cv=5, n_jobs=n_jobs, scoring=gini_scorer, verbose=True)\n",
    "grid_result = grid_search.fit(Xtrain_blending, Ytrain2)\n",
    "\n",
    "#Résultats\n",
    "best_params = grid_result.best_params_\n",
    "print(\"Best parameters :\", best_params)"
   ]
  },
  {
   "cell_type": "code",
   "execution_count": 0,
   "metadata": {
    "colab": {},
    "colab_type": "code",
    "id": "UrOwy-I4hAZP"
   },
   "outputs": [],
   "source": [
    "max_depth = best_params[\"max_depth\"]\n",
    "min_child_weight = best_params[\"min_child_weight\"]\n",
    "reg_alpha = best_params[\"reg_alpha\"]\n",
    "reg_lambda = best_params[\"reg_lambda\"]\n",
    "colsample_bytree = best_params[\"colsample_bytree\"]\n",
    "colsample_bylevel = best_params[\"colsample_bylevel\"]"
   ]
  },
  {
   "cell_type": "markdown",
   "metadata": {
    "colab_type": "text",
    "id": "NIMInlguhAZ3"
   },
   "source": [
    "On cherche maintenant les meilleurs valeurs pour `n_estimators` et `learning_rate` :"
   ]
  },
  {
   "cell_type": "code",
   "execution_count": 0,
   "metadata": {
    "colab": {
     "base_uri": "https://localhost:8080/",
     "height": 159
    },
    "colab_type": "code",
    "id": "qhuNSkP8hAZ7",
    "outputId": "9619edbe-a982-4878-d713-077551ba17b6"
   },
   "outputs": [
    {
     "name": "stderr",
     "output_type": "stream",
     "text": [
      "[Parallel(n_jobs=16)]: Using backend LokyBackend with 16 concurrent workers.\n"
     ]
    },
    {
     "name": "stdout",
     "output_type": "stream",
     "text": [
      "Fitting 10 folds for each of 25 candidates, totalling 250 fits\n"
     ]
    },
    {
     "name": "stderr",
     "output_type": "stream",
     "text": [
      "[Parallel(n_jobs=16)]: Done  96 tasks      | elapsed:   17.5s\n",
      "[Parallel(n_jobs=16)]: Done 250 out of 250 | elapsed:   48.6s finished\n",
      "/home/Benjamin/.local/lib/python3.5/site-packages/sklearn/model_selection/_search.py:841: DeprecationWarning: The default of the `iid` parameter will change from True to False in version 0.22 and will be removed in 0.24. This will change numeric results when test-set sizes are unequal.\n",
      "  DeprecationWarning)\n"
     ]
    },
    {
     "name": "stdout",
     "output_type": "stream",
     "text": [
      "Best parameters : {'n_estimators': 5000, 'learning_rate': 0.001}\n"
     ]
    }
   ],
   "source": [
    "#Grille de paramètres\n",
    "learning_rate = [1e-5, 1e-4, 1e-3, 1e-2, 1e-1]\n",
    "n_estimators = [1000, 2000, 3000, 5000, 7000]\n",
    "param_grid = dict(learning_rate=learning_rate, n_estimators=n_estimators)\n",
    "\n",
    "#GridSearch\n",
    "grid_search = GridSearchCV(XGBClassifier(max_depth=max_depth, min_child_weight=min_child_weight, reg_alpha=reg_alpha,\n",
    "                                         reg_lambda=reg_lambda, colsample_bytree=colsample_bytree, colsample_bylevel=colsample_bylevel),\n",
    "                           param_grid, cv=10, n_jobs=n_jobs, scoring=gini_scorer, verbose=3)\n",
    "grid_result = grid_search.fit(Xtrain_blending, Ytrain2)\n",
    "\n",
    "#Résultats\n",
    "best_params = grid_result.best_params_\n",
    "print(\"Best parameters :\", best_params)\n",
    "XGB_blend = grid_result.best_estimator_"
   ]
  },
  {
   "cell_type": "markdown",
   "metadata": {
    "colab_type": "text",
    "id": "nmK_81zEhHln"
   },
   "source": [
    "Score :"
   ]
  },
  {
   "cell_type": "code",
   "execution_count": 0,
   "metadata": {
    "colab": {},
    "colab_type": "code",
    "id": "56rl1VOPOL5v"
   },
   "outputs": [],
   "source": [
    "print(grid_result.best_score_)"
   ]
  },
  {
   "cell_type": "markdown",
   "metadata": {
    "colab_type": "text",
    "id": "S6WWgGv6b3BR"
   },
   "source": [
    "### LGBM "
   ]
  },
  {
   "cell_type": "markdown",
   "metadata": {
    "colab_type": "text",
    "id": "FSQHltIvb7Gx"
   },
   "source": [
    "On commence en fixant `n_estimators` et `learning_rate`, qu'on optimisera après :"
   ]
  },
  {
   "cell_type": "code",
   "execution_count": 0,
   "metadata": {
    "colab": {
     "base_uri": "https://localhost:8080/",
     "height": 350
    },
    "colab_type": "code",
    "id": "2hUY7G9pb7HF",
    "outputId": "89896498-cc4c-4359-86ed-ed5094a5a2bf"
   },
   "outputs": [
    {
     "name": "stdout",
     "output_type": "stream",
     "text": [
      "Fitting 5 folds for each of 3840 candidates, totalling 19200 fits\n"
     ]
    },
    {
     "name": "stderr",
     "output_type": "stream",
     "text": [
      "[Parallel(n_jobs=16)]: Using backend LokyBackend with 16 concurrent workers.\n",
      "[Parallel(n_jobs=16)]: Done 120 tasks      | elapsed:    0.9s\n",
      "[Parallel(n_jobs=16)]: Done 744 tasks      | elapsed:    2.9s\n",
      "[Parallel(n_jobs=16)]: Done 1640 tasks      | elapsed:    6.1s\n",
      "[Parallel(n_jobs=16)]: Done 2792 tasks      | elapsed:   10.2s\n",
      "[Parallel(n_jobs=16)]: Done 4200 tasks      | elapsed:   15.3s\n",
      "[Parallel(n_jobs=16)]: Done 5864 tasks      | elapsed:   21.8s\n",
      "[Parallel(n_jobs=16)]: Done 7784 tasks      | elapsed:   29.6s\n",
      "[Parallel(n_jobs=16)]: Done 9960 tasks      | elapsed:   38.6s\n",
      "[Parallel(n_jobs=16)]: Done 12392 tasks      | elapsed:   50.6s\n",
      "[Parallel(n_jobs=16)]: Done 15064 tasks      | elapsed:  1.1min\n",
      "[Parallel(n_jobs=16)]: Done 16556 tasks      | elapsed:  1.3min\n",
      "[Parallel(n_jobs=16)]: Done 18156 tasks      | elapsed:  1.5min\n"
     ]
    },
    {
     "name": "stdout",
     "output_type": "stream",
     "text": [
      "Best parameters : {'reg_alpha': 0, 'max_depth': 2, 'reg_lambda': 0, 'min_split_gain': 0, 'min_child_weight': 1e-07, 'subsample_for_bin': 2500, 'num_leaves': 2, 'min_child_samples': 40}\n"
     ]
    },
    {
     "name": "stderr",
     "output_type": "stream",
     "text": [
      "[Parallel(n_jobs=16)]: Done 19200 out of 19200 | elapsed:  1.6min finished\n",
      "/home/Benjamin/.local/lib/python3.5/site-packages/lightgbm/basic.py:195: UserWarning: Usage of np.ndarray subset (sliced data) is not recommended due to it will double the peak memory cost in LightGBM.\n",
      "  warnings.warn(\"Usage of np.ndarray subset (sliced data) is not recommended \"\n"
     ]
    }
   ],
   "source": [
    "#Grille de paramètres\n",
    "num_leaves = [2, 4, 5, 10, 20, 31, 80, 200]\n",
    "max_depth = [2, 3, 5, -1]\n",
    "subsample_for_bin = [1000, 1500, 2000, 2500]\n",
    "min_split_gain = [0]\n",
    "min_child_weight = [1e-7, 1e-6, 1e-5, 1e-4, 1e-3]\n",
    "min_child_samples = [20, 40, 70, 100, 150, 300]\n",
    "reg_alpha = [0]\n",
    "reg_lambda = [0]\n",
    "\n",
    "#GridSearch\n",
    "param_grid = dict(num_leaves=num_leaves, max_depth=max_depth, subsample_for_bin=subsample_for_bin, min_split_gain=min_split_gain, \n",
    "                  min_child_weight=min_child_weight, min_child_samples=min_child_samples,reg_alpha=reg_alpha, reg_lambda=reg_lambda)\n",
    "grid_search = GridSearchCV(LGBMClassifier(learning_rate=0.1, n_estimators=100),\n",
    "                           param_grid, cv=5, n_jobs=n_jobs, scoring=gini_scorer, verbose=3)\n",
    "grid_result = grid_search.fit(Xtrain_blending, Ytest)\n",
    "\n",
    "\n",
    "#Résultats\n",
    "best_params = grid_result.best_params_\n",
    "print(\"Best parameters :\", best_params)"
   ]
  },
  {
   "cell_type": "code",
   "execution_count": 0,
   "metadata": {
    "colab": {},
    "colab_type": "code",
    "id": "wwLySlphb7He"
   },
   "outputs": [],
   "source": [
    "num_leaves = best_params[\"num_leaves\"]\n",
    "max_depth = best_params[\"max_depth\"]\n",
    "subsample_for_bin = best_params[\"subsample_for_bin\"]\n",
    "min_split_gain = best_params[\"min_split_gain\"]\n",
    "min_child_weight = best_params[\"min_child_weight\"]\n",
    "min_child_samples = best_params[\"min_child_samples\"]\n",
    "reg_alpha = best_params[\"reg_alpha\"]\n",
    "reg_lambda = best_params[\"reg_lambda\"]"
   ]
  },
  {
   "cell_type": "markdown",
   "metadata": {
    "colab_type": "text",
    "id": "LCyU0f_Ib7Hp"
   },
   "source": [
    "Optimisation de `n_estimators` et `learning_rate` :"
   ]
  },
  {
   "cell_type": "code",
   "execution_count": 0,
   "metadata": {
    "colab": {
     "base_uri": "https://localhost:8080/",
     "height": 176
    },
    "colab_type": "code",
    "id": "ERmsgoAlb7Hs",
    "outputId": "6498bc05-e794-49f4-dff8-fa47774ed33d"
   },
   "outputs": [
    {
     "name": "stderr",
     "output_type": "stream",
     "text": [
      "[Parallel(n_jobs=16)]: Using backend LokyBackend with 16 concurrent workers.\n"
     ]
    },
    {
     "name": "stdout",
     "output_type": "stream",
     "text": [
      "Fitting 10 folds for each of 36 candidates, totalling 360 fits\n",
      "Best parameters : {'learning_rate': 0.2, 'n_estimators': 30}\n"
     ]
    },
    {
     "name": "stderr",
     "output_type": "stream",
     "text": [
      "[Parallel(n_jobs=16)]: Done 360 out of 360 | elapsed:    3.4s finished\n",
      "/home/Benjamin/.local/lib/python3.5/site-packages/sklearn/model_selection/_search.py:841: DeprecationWarning: The default of the `iid` parameter will change from True to False in version 0.22 and will be removed in 0.24. This will change numeric results when test-set sizes are unequal.\n",
      "  DeprecationWarning)\n",
      "/home/Benjamin/.local/lib/python3.5/site-packages/lightgbm/basic.py:195: UserWarning: Usage of np.ndarray subset (sliced data) is not recommended due to it will double the peak memory cost in LightGBM.\n",
      "  warnings.warn(\"Usage of np.ndarray subset (sliced data) is not recommended \"\n"
     ]
    }
   ],
   "source": [
    "#Grille de paramètres\n",
    "learning_rate = [0.01, 0.1, 0.2, 0.3, 0.4, 0.5]\n",
    "n_estimators = [30, 50, 70, 100, 500, 1000]\n",
    "param_grid = dict(learning_rate=learning_rate, n_estimators=n_estimators)\n",
    "\n",
    "#GridSearch\n",
    "grid_search = GridSearchCV(LGBMClassifier(num_leaves=num_leaves, max_depth=max_depth, subsample_for_bin=subsample_for_bin, \n",
    "                                          min_split_gain=min_split_gain, min_child_weight=min_child_weight, \n",
    "                                          min_child_samples=min_child_samples,reg_alpha=reg_alpha, reg_lambda=reg_lambda),\n",
    "                           param_grid, cv=10, n_jobs=n_jobs, scoring=gini_scorer, verbose=3)\n",
    "grid_result = grid_search.fit(Xtrain_blending, Ytest)\n",
    "\n",
    "#Résultats\n",
    "best_params = grid_result.best_params_\n",
    "print(\"Best parameters :\", best_params)\n",
    "LGBM_blend = grid_result.best_estimator_"
   ]
  },
  {
   "cell_type": "markdown",
   "metadata": {
    "colab_type": "text",
    "id": "4NKSwQHEb7H5"
   },
   "source": [
    "Score :"
   ]
  },
  {
   "cell_type": "code",
   "execution_count": 0,
   "metadata": {
    "colab": {
     "base_uri": "https://localhost:8080/",
     "height": 34
    },
    "colab_type": "code",
    "id": "kUayTYu8b7H7",
    "outputId": "e0c755b7-c69d-443e-e575-843422e34f6a"
   },
   "outputs": [
    {
     "name": "stdout",
     "output_type": "stream",
     "text": [
      "0.4739117550810091\n"
     ]
    }
   ],
   "source": [
    "print(grid_result.best_score_)"
   ]
  },
  {
   "cell_type": "markdown",
   "metadata": {
    "colab_type": "text",
    "id": "PxFgu319O2r-"
   },
   "source": [
    "## Stacking\n"
   ]
  },
  {
   "cell_type": "markdown",
   "metadata": {
    "colab_type": "text",
    "id": "Yvy81t3uO8mf"
   },
   "source": [
    "Préparation des modèles :"
   ]
  },
  {
   "cell_type": "code",
   "execution_count": 0,
   "metadata": {
    "colab": {},
    "colab_type": "code",
    "id": "j71MSh2fO1Vv"
   },
   "outputs": [],
   "source": [
    "ensemble_stack = [XGBClassifier(**XGB.get_params()), RandomForestClassifier(**RFC.get_params()), \n",
    "                  LGBMClassifier(**LGBM.get_params())]"
   ]
  },
  {
   "cell_type": "markdown",
   "metadata": {
    "colab_type": "text",
    "id": "6OnETYfKPD4M"
   },
   "source": [
    "Création des jeux d'entrainement et de test :\n",
    "\n",
    "Pour former le jeu d'entraînement, on fit chaque modèle sur 9/10è du jeu d'entrainement et on prédit des valeurs sur le dernier dixième. On concatène ces prédictions, ce qui forme le nouveau jeu de données d'entraînement.\n",
    "\n",
    "Pour le jeu de test, on entraine chaque modèle sur tout le jeu d'entrainement initial puis on fait des prédictions sur le jeu de test, ce qui forme le nouveau jeu de données test.\n"
   ]
  },
  {
   "cell_type": "code",
   "execution_count": 0,
   "metadata": {
    "colab": {},
    "colab_type": "code",
    "id": "hAnTcPHzPQji"
   },
   "outputs": [],
   "source": [
    "from sklearn.model_selection import StratifiedKFold\n",
    "folds = StratifiedKFold(n_splits=10, shuffle=True)\n",
    "\n",
    "Xtrain_stack = np.zeros((len(Xtrain), 2*len(ensemble_stack)))\n",
    "Xtest_stack = np.zeros((len(Xtest), 2*len(ensemble_stack)))\n",
    "\n",
    "#Création du train\n",
    "for train, pred in folds.split(Xtrain, Ytrain):\n",
    "    Xtrain_fit = Xtrain.iloc[train, :] #9/10e du train sur lequel on fit notre modèle\n",
    "    Ytrain_fit = Ytrain[train]\n",
    "    Xtrain_pred = Xtrain.iloc[pred, :] #1/10e du train sur lequel on prédit avec notre modèle\n",
    "    for i,model in enumerate(ensemble_stack):\n",
    "        Xtrain_stack[pred,2*i:2*(i+1)] = model.fit(Xtrain_fit, Ytrain_fit).predict_proba(Xtrain_pred)\n",
    "\n",
    "#Création du test\n",
    "for i, model in enumerate(ensemble_stack):\n",
    "        Xtest_stack[:,2*i:2*(i+1)] = model.fit(Xtrain, Ytrain).predict_proba(Xtest)"
   ]
  },
  {
   "cell_type": "markdown",
   "metadata": {
    "colab_type": "text",
    "id": "UN-tFIpePSwE"
   },
   "source": [
    "Entrainement d'un modèle de régression logistique sur ce jeu de données :"
   ]
  },
  {
   "cell_type": "code",
   "execution_count": 0,
   "metadata": {
    "colab": {},
    "colab_type": "code",
    "id": "s1BgW1OKPVHh"
   },
   "outputs": [],
   "source": [
    "from sklearn.linear_model import LogisticRegression\n",
    "\n",
    "#Grille de paramètres\n",
    "tol = [1e-2, 1e-4, 1e-6, 1e-8, 1e-10, 1e-12]\n",
    "C = [1e-3, 1e-2, 1e-1, 1, 10, 100]\n",
    "\n",
    "#GridSearch\n",
    "param_grid = dict(tol=tol, C=C)\n",
    "grid_search = GridSearchCV(LogisticRegression(solver='lbfgs'),\n",
    "                           param_grid, cv=10, n_jobs=n_jobs, scoring=gini_scorer, verbose=3)\n",
    "grid_result = grid_search.fit(Xtrain_stack, Ytrain)\n",
    "\n",
    "\n",
    "#Résultats\n",
    "best_params = grid_result.best_params_\n",
    "print(\"Best parameters :\", best_params)\n",
    "LogReg_stack = grid_result.best_estimator_"
   ]
  },
  {
   "cell_type": "markdown",
   "metadata": {
    "colab_type": "text",
    "id": "GYZVD0EGPZgG"
   },
   "source": [
    "Score :"
   ]
  },
  {
   "cell_type": "code",
   "execution_count": 0,
   "metadata": {
    "colab": {},
    "colab_type": "code",
    "id": "qS1AaFjKPZIN"
   },
   "outputs": [],
   "source": [
    "print(grid_result.best_score_)"
   ]
  },
  {
   "cell_type": "markdown",
   "metadata": {
    "colab_type": "text",
    "id": "a3lWw9fziRLH"
   },
   "source": [
    "# Construction des prédictions\n",
    "<a id=\"pred\"></a>"
   ]
  },
  {
   "cell_type": "code",
   "execution_count": 134,
   "metadata": {
    "colab": {
     "base_uri": "https://localhost:8080/",
     "height": 206
    },
    "colab_type": "code",
    "id": "BDJdlRPqiC7Y",
    "outputId": "230dd993-1015-4d1b-a020-7117f2736777"
   },
   "outputs": [
    {
     "data": {
      "text/html": [
       "<div>\n",
       "<style scoped>\n",
       "    .dataframe tbody tr th:only-of-type {\n",
       "        vertical-align: middle;\n",
       "    }\n",
       "\n",
       "    .dataframe tbody tr th {\n",
       "        vertical-align: top;\n",
       "    }\n",
       "\n",
       "    .dataframe thead th {\n",
       "        text-align: right;\n",
       "    }\n",
       "</style>\n",
       "<table border=\"1\" class=\"dataframe\">\n",
       "  <thead>\n",
       "    <tr style=\"text-align: right;\">\n",
       "      <th></th>\n",
       "      <th>Identifiant</th>\n",
       "    </tr>\n",
       "  </thead>\n",
       "  <tbody>\n",
       "    <tr>\n",
       "      <th>0</th>\n",
       "      <td>16872</td>\n",
       "    </tr>\n",
       "    <tr>\n",
       "      <th>1</th>\n",
       "      <td>16852</td>\n",
       "    </tr>\n",
       "    <tr>\n",
       "      <th>2</th>\n",
       "      <td>598</td>\n",
       "    </tr>\n",
       "    <tr>\n",
       "      <th>3</th>\n",
       "      <td>4516</td>\n",
       "    </tr>\n",
       "    <tr>\n",
       "      <th>4</th>\n",
       "      <td>7939</td>\n",
       "    </tr>\n",
       "  </tbody>\n",
       "</table>\n",
       "</div>"
      ],
      "text/plain": [
       "   Identifiant\n",
       "0        16872\n",
       "1        16852\n",
       "2          598\n",
       "3         4516\n",
       "4         7939"
      ]
     },
     "execution_count": 134,
     "metadata": {
      "tags": []
     },
     "output_type": "execute_result"
    }
   ],
   "source": [
    "y_pred = pd.DataFrame({'Identifiant':id_test})\n",
    "y_pred.head()"
   ]
  },
  {
   "cell_type": "markdown",
   "metadata": {
    "colab_type": "text",
    "id": "AsB8t6IloG5M"
   },
   "source": [
    "## Prédictions"
   ]
  },
  {
   "cell_type": "markdown",
   "metadata": {
    "colab_type": "text",
    "id": "6IvEkSUCoIht"
   },
   "source": [
    "Comme les prédictions finales sont faites par ensembling, on doit d'abord créer le jeu de données contenant les prédictions des algorithmes de premier niveau :"
   ]
  },
  {
   "cell_type": "code",
   "execution_count": 131,
   "metadata": {
    "colab": {
     "base_uri": "https://localhost:8080/",
     "height": 72
    },
    "colab_type": "code",
    "id": "nkcUtJ9ktFEZ",
    "outputId": "784c580c-f603-4bca-9f27-d50e3a6744c4"
   },
   "outputs": [
    {
     "name": "stderr",
     "output_type": "stream",
     "text": [
      "/Library/Frameworks/Python.framework/Versions/3.6/lib/python3.6/site-packages/sklearn/linear_model/logistic.py:433: FutureWarning: Default solver will be changed to 'lbfgs' in 0.22. Specify a solver to silence this warning.\n",
      "  FutureWarning)\n"
     ]
    }
   ],
   "source": [
    "ensemble = [XGBClassifier(**XGB.get_params()).fit(X_train, y_train),\n",
    "                    RandomForestClassifier(**RFC.get_params()).fit(X_train, y_train),\n",
    "                    LGBMClassifier(**LGBM.get_params()).fit(X_train, y_train),\n",
    "                    LogisticRegression(**LogReg.get_params()).fit(X_train, y_train)]"
   ]
  },
  {
   "cell_type": "code",
   "execution_count": 0,
   "metadata": {
    "colab": {},
    "colab_type": "code",
    "id": "zowrWQADoIAb"
   },
   "outputs": [],
   "source": [
    "raw_preds_test = raw_preds1(ensemble_list, X_test)"
   ]
  },
  {
   "cell_type": "markdown",
   "metadata": {
    "colab_type": "text",
    "id": "1OPGAeIUoaXj"
   },
   "source": [
    "On prédit les valeurs par weighted average probabilites en utilisant les poids trouvés par gridsearch (et on utilise cette fois des modèles entrainés sur tout X_train) :"
   ]
  },
  {
   "cell_type": "code",
   "execution_count": 0,
   "metadata": {
    "colab": {},
    "colab_type": "code",
    "id": "83Cih8xSofM3"
   },
   "outputs": [],
   "source": [
    "y_pred_average = y_pred.copy()\n",
    "y_pred_average['target'] = ensemble_preds(raw_preds_test, best_weights_grid)"
   ]
  },
  {
   "cell_type": "markdown",
   "metadata": {
    "colab_type": "text",
    "id": "OMRO5Ph9pJQZ"
   },
   "source": [
    "Par le modèle de LGBM (qui semble plus performant que la Régression Logistique) construit par blending, pour comparer :"
   ]
  },
  {
   "cell_type": "code",
   "execution_count": 0,
   "metadata": {
    "colab": {},
    "colab_type": "code",
    "id": "r2mqr1vHpPb4"
   },
   "outputs": [],
   "source": [
    "y_pred_blending = y_pred.copy()\n",
    "y_pred_blending['target'] = LGBM_blend.predict_proba(raw_preds_test)[:,1]"
   ]
  },
  {
   "cell_type": "markdown",
   "metadata": {
    "colab_type": "text",
    "id": "tJj77wU2Pi0D"
   },
   "source": [
    "Par stacking :"
   ]
  },
  {
   "cell_type": "code",
   "execution_count": 0,
   "metadata": {
    "colab": {},
    "colab_type": "code",
    "id": "lYSeuDRHPijY"
   },
   "outputs": [],
   "source": [
    "y_pred_stacking = y_pred.copy()\n",
    "y_pred_stacking['target'] = LogReg_stack.predict_proba(Xtest_stack)[:,1]"
   ]
  },
  {
   "cell_type": "markdown",
   "metadata": {
    "colab_type": "text",
    "id": "ppREjiGLqhFE"
   },
   "source": [
    "Et par un modèle en particulier :"
   ]
  },
  {
   "cell_type": "code",
   "execution_count": 0,
   "metadata": {
    "colab": {},
    "colab_type": "code",
    "id": "FIvo6aB4qnhd"
   },
   "outputs": [],
   "source": [
    "y_pred_ada = y_pred.copy()\n",
    "y_pred_ada['target'] = ADA.predict_proba(X_test)[:,1]"
   ]
  },
  {
   "cell_type": "markdown",
   "metadata": {
    "colab_type": "text",
    "id": "Kk9og-d2paom"
   },
   "source": [
    "On sauvegarde les données :"
   ]
  },
  {
   "cell_type": "code",
   "execution_count": 0,
   "metadata": {
    "colab": {},
    "colab_type": "code",
    "id": "RrBbQTpPpdQy"
   },
   "outputs": [],
   "source": [
    "pd.DataFrame(y_pred_average).to_csv(\"y_pred_average.csv\")\n",
    "#pd.DataFrame(y_pred_blending).to_csv(\"y_pred_blending.csv\")\n",
    "#pd.DataFrame(y_pred_stacking).to_csv(\"y_pred_stacking.csv\")\n",
    "#pd.DataFrame(y_pred_ada).to_csv(save_models_path+\"y_pred_ada_xg.csv\")"
   ]
  },
  {
   "cell_type": "code",
   "execution_count": 0,
   "metadata": {
    "colab": {},
    "colab_type": "code",
    "id": "vHhdfMa2b0FD"
   },
   "outputs": [],
   "source": []
  }
 ],
 "metadata": {
  "colab": {
   "collapsed_sections": [
    "W3HBhNJ_yEGM",
    "wUKDAGEf2-Fn",
    "q2nE7-yTCG8y",
    "Y6wWXwTKkG-y",
    "qh3Kt5Qejs2N",
    "t785UVfnuv-p",
    "hsrgeXKEVlj-",
    "FfCwKDl2qFh0",
    "HINxXYNRzB0X",
    "4M6AXayE56r-",
    "01e4qcsYLNtr",
    "3R-zSGe7Qpmy",
    "tV2hGYDqk62k",
    "D6N3uw_7aL40",
    "Xw0LHBdM4w9-",
    "ug69Cr7hnZIK",
    "CGYMF5A23ghm",
    "P6driVwJKrFy",
    "Eopqxu5e5n2W",
    "K6AyEheSiepu",
    "VEZlMuaWihuU",
    "PxFgu319O2r-"
   ],
   "name": "Data Challenge GENERALI.ipynb",
   "provenance": [],
   "version": "0.3.2"
  },
  "kernelspec": {
   "display_name": "Python 3",
   "language": "python",
   "name": "python3"
  },
  "language_info": {
   "codemirror_mode": {
    "name": "ipython",
    "version": 3
   },
   "file_extension": ".py",
   "mimetype": "text/x-python",
   "name": "python",
   "nbconvert_exporter": "python",
   "pygments_lexer": "ipython3",
   "version": "3.6.5"
  }
 },
 "nbformat": 4,
 "nbformat_minor": 1
}
