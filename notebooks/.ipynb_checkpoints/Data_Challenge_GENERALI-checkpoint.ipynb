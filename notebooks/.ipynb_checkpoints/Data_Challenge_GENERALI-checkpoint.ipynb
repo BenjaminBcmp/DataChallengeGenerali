{
 "cells": [
  {
   "cell_type": "markdown",
   "metadata": {
    "colab_type": "text",
    "heading_collapsed": true,
    "id": "9IJLwKTM-ReK"
   },
   "source": [
    "# Data Challenge GENERALI"
   ]
  },
  {
   "cell_type": "code",
   "execution_count": 2,
   "metadata": {
    "hidden": true
   },
   "outputs": [
    {
     "data": {
      "text/html": [
       "<style>.container { width:100% !important; }</style>"
      ],
      "text/plain": [
       "<IPython.core.display.HTML object>"
      ]
     },
     "metadata": {},
     "output_type": "display_data"
    }
   ],
   "source": [
    "from IPython.core.display import display, HTML\n",
    "display(HTML(\"<style>.container { width:100% !important; }</style>\"))"
   ]
  },
  {
   "cell_type": "markdown",
   "metadata": {
    "colab_type": "text",
    "heading_collapsed": true,
    "id": "W3HBhNJ_yEGM"
   },
   "source": [
    "# Préliminaires"
   ]
  },
  {
   "cell_type": "code",
   "execution_count": 3,
   "metadata": {
    "colab": {},
    "colab_type": "code",
    "hidden": true,
    "id": "1zJGxSYH9pKN"
   },
   "outputs": [],
   "source": [
    "%matplotlib inline\n",
    "import numpy as np\n",
    "import pandas as pd\n",
    "from sklearn.model_selection import GridSearchCV\n",
    "import matplotlib.pyplot as plt\n",
    "import pickle #Pour sauvegarder les modèles\n",
    "from urllib.request import urlopen #Pour charger les modèles depuis GitHub"
   ]
  },
  {
   "cell_type": "markdown",
   "metadata": {
    "colab_type": "text",
    "hidden": true,
    "id": "tJeAXXXAyIn8"
   },
   "source": [
    "Pour charger et sauvegarder des modèles :"
   ]
  },
  {
   "cell_type": "code",
   "execution_count": 4,
   "metadata": {
    "colab": {},
    "colab_type": "code",
    "hidden": true,
    "id": "0IrWANoUnRuz"
   },
   "outputs": [],
   "source": [
    "load_models_url = \"https://raw.githubusercontent.com/BenjaminBcmp/DataChallengeGenerali/master/modeles/\" #GitHub\n",
    "#load_models_url = \"/Users/Benjamin/Documents/MATHAPPLI/APST-ML/DataChallenge/DataChallengeGenerali/modeles/\" #Benjamin\n",
    "#save_models_path = \"/Users/Benjamin/Documents/MATHAPPLI/APST-ML/DataChallenge/DataChallengeGenerali/modeles/\" #Benjamin\n",
    "save_models_path = \"\" #VM Google Cloud"
   ]
  },
  {
   "cell_type": "code",
   "execution_count": 5,
   "metadata": {
    "colab": {
     "base_uri": "https://localhost:8080/"
    },
    "colab_type": "code",
    "hidden": true,
    "id": "mxiwljvMq9Ap",
    "outputId": "61499d60-85e2-48db-e15e-6ced18d0bc3c"
   },
   "outputs": [
    {
     "data": {
      "text/plain": [
       "4"
      ]
     },
     "execution_count": 5,
     "metadata": {},
     "output_type": "execute_result"
    }
   ],
   "source": [
    "import multiprocessing\n",
    "n_jobs=multiprocessing.cpu_count()\n",
    "n_jobs"
   ]
  },
  {
   "cell_type": "markdown",
   "metadata": {
    "colab_type": "text",
    "heading_collapsed": true,
    "id": "RSBt4_aDVnUz"
   },
   "source": [
    "# Sommaire\n"
   ]
  },
  {
   "cell_type": "markdown",
   "metadata": {
    "colab_type": "text",
    "hidden": true,
    "id": "r7WyaChN2C9u"
   },
   "source": [
    "1. [Importation des données et nettoyage](#data)  \n",
    "    1.1 [Suppression de lignes](#nan_rows)  \n",
    "    1.2 [Suppression de colonnes](#nan_cols)  \n",
    "2. [Premiers graphiques](#plots)"
   ]
  },
  {
   "cell_type": "markdown",
   "metadata": {
    "colab_type": "text",
    "heading_collapsed": true,
    "id": "N8uCK3cg-JHd"
   },
   "source": [
    "# Traitement des données\n",
    "<a id=\"data\"></a>"
   ]
  },
  {
   "cell_type": "markdown",
   "metadata": {
    "colab_type": "text",
    "hidden": true,
    "id": "VvFMSC-S2FMw"
   },
   "source": [
    "## Importation"
   ]
  },
  {
   "cell_type": "code",
   "execution_count": 6,
   "metadata": {
    "colab": {
     "base_uri": "https://localhost:8080/"
    },
    "colab_type": "code",
    "hidden": true,
    "id": "Ny9kIa2i-DkB",
    "outputId": "7fab3f62-9850-49bd-c509-8a062f5b022f"
   },
   "outputs": [
    {
     "name": "stdout",
     "output_type": "stream",
     "text": [
      "(10110, 32)\n",
      "(3412, 32)\n"
     ]
    }
   ],
   "source": [
    "X_train_url = \"https://raw.githubusercontent.com/BenjaminBcmp/DataChallengeGenerali/master/data/X_train_new_data.csv\"\n",
    "X_test_url = \"https://raw.githubusercontent.com/BenjaminBcmp/DataChallengeGenerali/master/data/X_test_new_data.csv\"\n",
    "y_train_url = \"https://raw.githubusercontent.com/BenjaminBcmp/DataChallengeGenerali/master/data/y_train_saegPGl_new_data.csv\"\n",
    "X_train = pd.read_csv(X_train_url, header=0, index_col=0)\n",
    "X_test = pd.read_csv(X_test_url, header=0, index_col=0)\n",
    "y_train = pd.read_csv(y_train_url, header=0, index_col=0)\n",
    "print(X_train.shape)\n",
    "print(X_test.shape)"
   ]
  },
  {
   "cell_type": "code",
   "execution_count": 7,
   "metadata": {
    "colab": {
     "base_uri": "https://localhost:8080/"
    },
    "colab_type": "code",
    "hidden": true,
    "id": "1I-5c8Cu_HbJ",
    "outputId": "e0900f07-14f7-49dd-d2d8-de52bf46ad00"
   },
   "outputs": [
    {
     "data": {
      "text/html": [
       "<div>\n",
       "<style scoped>\n",
       "    .dataframe tbody tr th:only-of-type {\n",
       "        vertical-align: middle;\n",
       "    }\n",
       "\n",
       "    .dataframe tbody tr th {\n",
       "        vertical-align: top;\n",
       "    }\n",
       "\n",
       "    .dataframe thead th {\n",
       "        text-align: right;\n",
       "    }\n",
       "</style>\n",
       "<table border=\"1\" class=\"dataframe\">\n",
       "  <thead>\n",
       "    <tr style=\"text-align: right;\">\n",
       "      <th></th>\n",
       "      <th>Identifiant</th>\n",
       "      <th>ft_2_categ</th>\n",
       "      <th>EXPO</th>\n",
       "      <th>ft_4_categ</th>\n",
       "      <th>ft_5_categ</th>\n",
       "      <th>ft_6_categ</th>\n",
       "      <th>ft_7_categ</th>\n",
       "      <th>ft_8_categ</th>\n",
       "      <th>ft_9_categ</th>\n",
       "      <th>ft_10_categ</th>\n",
       "      <th>...</th>\n",
       "      <th>ft_23_categ</th>\n",
       "      <th>ft_24_categ</th>\n",
       "      <th>Insee</th>\n",
       "      <th>pluie</th>\n",
       "      <th>catnat</th>\n",
       "      <th>criminalite</th>\n",
       "      <th>pprn</th>\n",
       "      <th>chomage</th>\n",
       "      <th>rev_med</th>\n",
       "      <th>log_sociaux</th>\n",
       "    </tr>\n",
       "  </thead>\n",
       "  <tbody>\n",
       "    <tr>\n",
       "      <th>0</th>\n",
       "      <td>18702</td>\n",
       "      <td>2014</td>\n",
       "      <td>1</td>\n",
       "      <td>0</td>\n",
       "      <td>V</td>\n",
       "      <td>N</td>\n",
       "      <td>1</td>\n",
       "      <td>O</td>\n",
       "      <td>1</td>\n",
       "      <td>O</td>\n",
       "      <td>...</td>\n",
       "      <td>0.0</td>\n",
       "      <td>2</td>\n",
       "      <td>65440</td>\n",
       "      <td>7</td>\n",
       "      <td>1.0</td>\n",
       "      <td>0.044062</td>\n",
       "      <td>1</td>\n",
       "      <td>11.350</td>\n",
       "      <td>17098.000000</td>\n",
       "      <td>556</td>\n",
       "    </tr>\n",
       "    <tr>\n",
       "      <th>1</th>\n",
       "      <td>3877</td>\n",
       "      <td>2014</td>\n",
       "      <td>1</td>\n",
       "      <td>0</td>\n",
       "      <td>V</td>\n",
       "      <td>V</td>\n",
       "      <td>V</td>\n",
       "      <td>V</td>\n",
       "      <td>V</td>\n",
       "      <td>V</td>\n",
       "      <td>...</td>\n",
       "      <td>0.0</td>\n",
       "      <td>.</td>\n",
       "      <td>14341</td>\n",
       "      <td>1</td>\n",
       "      <td>0.0</td>\n",
       "      <td>0.039299</td>\n",
       "      <td>0</td>\n",
       "      <td>9.750</td>\n",
       "      <td>19767.619048</td>\n",
       "      <td>826</td>\n",
       "    </tr>\n",
       "    <tr>\n",
       "      <th>2</th>\n",
       "      <td>4942</td>\n",
       "      <td>2013</td>\n",
       "      <td>1</td>\n",
       "      <td>1</td>\n",
       "      <td>V</td>\n",
       "      <td>V</td>\n",
       "      <td>V</td>\n",
       "      <td>V</td>\n",
       "      <td>V</td>\n",
       "      <td>V</td>\n",
       "      <td>...</td>\n",
       "      <td>0.0</td>\n",
       "      <td>.</td>\n",
       "      <td>75109</td>\n",
       "      <td>0</td>\n",
       "      <td>0.0</td>\n",
       "      <td>0.109341</td>\n",
       "      <td>0</td>\n",
       "      <td>8.275</td>\n",
       "      <td>32166.978261</td>\n",
       "      <td>1054</td>\n",
       "    </tr>\n",
       "    <tr>\n",
       "      <th>3</th>\n",
       "      <td>13428</td>\n",
       "      <td>2013</td>\n",
       "      <td>0,246575342</td>\n",
       "      <td>0</td>\n",
       "      <td>N</td>\n",
       "      <td>V</td>\n",
       "      <td>V</td>\n",
       "      <td>V</td>\n",
       "      <td>V</td>\n",
       "      <td>V</td>\n",
       "      <td>...</td>\n",
       "      <td>0.0</td>\n",
       "      <td>.</td>\n",
       "      <td>92004</td>\n",
       "      <td>0</td>\n",
       "      <td>0.0</td>\n",
       "      <td>0.063562</td>\n",
       "      <td>0</td>\n",
       "      <td>7.750</td>\n",
       "      <td>23320.555556</td>\n",
       "      <td>1240</td>\n",
       "    </tr>\n",
       "    <tr>\n",
       "      <th>4</th>\n",
       "      <td>17137</td>\n",
       "      <td>2015</td>\n",
       "      <td>1</td>\n",
       "      <td>0</td>\n",
       "      <td>V</td>\n",
       "      <td>N</td>\n",
       "      <td>2</td>\n",
       "      <td>O</td>\n",
       "      <td>1</td>\n",
       "      <td>O</td>\n",
       "      <td>...</td>\n",
       "      <td>0.0</td>\n",
       "      <td>4</td>\n",
       "      <td>59340</td>\n",
       "      <td>1</td>\n",
       "      <td>0.0</td>\n",
       "      <td>0.062406</td>\n",
       "      <td>67</td>\n",
       "      <td>12.950</td>\n",
       "      <td>20914.000000</td>\n",
       "      <td>1025</td>\n",
       "    </tr>\n",
       "  </tbody>\n",
       "</table>\n",
       "<p>5 rows × 32 columns</p>\n",
       "</div>"
      ],
      "text/plain": [
       "   Identifiant  ft_2_categ         EXPO  ft_4_categ ft_5_categ ft_6_categ  \\\n",
       "0        18702        2014            1           0          V          N   \n",
       "1         3877        2014            1           0          V          V   \n",
       "2         4942        2013            1           1          V          V   \n",
       "3        13428        2013  0,246575342           0          N          V   \n",
       "4        17137        2015            1           0          V          N   \n",
       "\n",
       "  ft_7_categ ft_8_categ ft_9_categ ft_10_categ     ...      ft_23_categ  \\\n",
       "0          1          O          1           O     ...              0.0   \n",
       "1          V          V          V           V     ...              0.0   \n",
       "2          V          V          V           V     ...              0.0   \n",
       "3          V          V          V           V     ...              0.0   \n",
       "4          2          O          1           O     ...              0.0   \n",
       "\n",
       "  ft_24_categ  Insee pluie catnat criminalite pprn chomage       rev_med  \\\n",
       "0           2  65440     7    1.0    0.044062    1  11.350  17098.000000   \n",
       "1           .  14341     1    0.0    0.039299    0   9.750  19767.619048   \n",
       "2           .  75109     0    0.0    0.109341    0   8.275  32166.978261   \n",
       "3           .  92004     0    0.0    0.063562    0   7.750  23320.555556   \n",
       "4           4  59340     1    0.0    0.062406   67  12.950  20914.000000   \n",
       "\n",
       "   log_sociaux  \n",
       "0          556  \n",
       "1          826  \n",
       "2         1054  \n",
       "3         1240  \n",
       "4         1025  \n",
       "\n",
       "[5 rows x 32 columns]"
      ]
     },
     "execution_count": 7,
     "metadata": {},
     "output_type": "execute_result"
    }
   ],
   "source": [
    "X_train.head()"
   ]
  },
  {
   "cell_type": "code",
   "execution_count": 8,
   "metadata": {
    "colab": {
     "base_uri": "https://localhost:8080/"
    },
    "colab_type": "code",
    "hidden": true,
    "id": "r-isFIx8rU_n",
    "outputId": "5f257e79-477e-4499-fb32-7b1662e2d911"
   },
   "outputs": [
    {
     "data": {
      "text/plain": [
       "count    10110.000000\n",
       "mean      1725.529674\n",
       "std        643.949264\n",
       "min         -1.000000\n",
       "25%       1950.000000\n",
       "50%       1960.000000\n",
       "75%       1980.000000\n",
       "max       2016.000000\n",
       "Name: ft_22_categ, dtype: float64"
      ]
     },
     "execution_count": 8,
     "metadata": {},
     "output_type": "execute_result"
    }
   ],
   "source": [
    "X_train[\"ft_22_categ\"].describe()"
   ]
  },
  {
   "cell_type": "code",
   "execution_count": 9,
   "metadata": {
    "colab": {
     "base_uri": "https://localhost:8080/"
    },
    "colab_type": "code",
    "hidden": true,
    "id": "9x7tyr1AByuc",
    "outputId": "e49a45c6-b9d4-4055-c0db-9f581313f5a4"
   },
   "outputs": [
    {
     "data": {
      "text/html": [
       "<div>\n",
       "<style scoped>\n",
       "    .dataframe tbody tr th:only-of-type {\n",
       "        vertical-align: middle;\n",
       "    }\n",
       "\n",
       "    .dataframe tbody tr th {\n",
       "        vertical-align: top;\n",
       "    }\n",
       "\n",
       "    .dataframe thead th {\n",
       "        text-align: right;\n",
       "    }\n",
       "</style>\n",
       "<table border=\"1\" class=\"dataframe\">\n",
       "  <thead>\n",
       "    <tr style=\"text-align: right;\">\n",
       "      <th></th>\n",
       "      <th>Identifiant</th>\n",
       "      <th>target</th>\n",
       "    </tr>\n",
       "  </thead>\n",
       "  <tbody>\n",
       "    <tr>\n",
       "      <th>0</th>\n",
       "      <td>18702</td>\n",
       "      <td>0</td>\n",
       "    </tr>\n",
       "    <tr>\n",
       "      <th>1</th>\n",
       "      <td>3877</td>\n",
       "      <td>1</td>\n",
       "    </tr>\n",
       "    <tr>\n",
       "      <th>2</th>\n",
       "      <td>4942</td>\n",
       "      <td>0</td>\n",
       "    </tr>\n",
       "    <tr>\n",
       "      <th>3</th>\n",
       "      <td>13428</td>\n",
       "      <td>0</td>\n",
       "    </tr>\n",
       "    <tr>\n",
       "      <th>4</th>\n",
       "      <td>17137</td>\n",
       "      <td>0</td>\n",
       "    </tr>\n",
       "  </tbody>\n",
       "</table>\n",
       "</div>"
      ],
      "text/plain": [
       "   Identifiant  target\n",
       "0        18702       0\n",
       "1         3877       1\n",
       "2         4942       0\n",
       "3        13428       0\n",
       "4        17137       0"
      ]
     },
     "execution_count": 9,
     "metadata": {},
     "output_type": "execute_result"
    }
   ],
   "source": [
    "y_train.head()"
   ]
  },
  {
   "cell_type": "markdown",
   "metadata": {
    "colab_type": "text",
    "hidden": true,
    "id": "5D-sJgZMC6N0"
   },
   "source": [
    "## Traitement des variables catégorielles"
   ]
  },
  {
   "cell_type": "markdown",
   "metadata": {
    "colab_type": "text",
    "hidden": true,
    "id": "lhwiTTWEXSkG"
   },
   "source": [
    "## Premiers graphiques\n",
    "<a id=\"plots\"></a>"
   ]
  },
  {
   "cell_type": "code",
   "execution_count": 10,
   "metadata": {
    "colab": {},
    "colab_type": "code",
    "hidden": true,
    "id": "aYEArImeI4r-"
   },
   "outputs": [],
   "source": [
    "import seaborn\n",
    "seaborn.set(font=\"monospace\")\n",
    "cmap = seaborn.diverging_palette(h_neg=210, h_pos=350, s=90, l=30, as_cmap=True)\n",
    "#seaborn.clustermap(np.hstack((X_train, y_train)).corr(), linewidths=.5, figsize=(8, 8), cmap=cmap)"
   ]
  },
  {
   "cell_type": "markdown",
   "metadata": {
    "colab_type": "text",
    "hidden": true,
    "id": "wUKDAGEf2-Fn"
   },
   "source": [
    "## Encoding des variables catégorielles"
   ]
  },
  {
   "cell_type": "markdown",
   "metadata": {
    "colab_type": "text",
    "hidden": true,
    "id": "g7Va5M0ozxJP"
   },
   "source": [
    "One-hot-encoding des variables catégorielles pour que notre jeu de données soit utilisable par les algorithmes. Pour s'assurer d'avoir les mêmes variables dans le train et le test, on regroupe les deux datasets ensemble, on encode les variables catégorielles puis on les sépare à nouveau."
   ]
  },
  {
   "cell_type": "code",
   "execution_count": 11,
   "metadata": {
    "colab": {},
    "colab_type": "code",
    "hidden": true,
    "id": "qTCSC5dCDEo9"
   },
   "outputs": [],
   "source": [
    "id_train = X_train['Identifiant'] #Pour séparer le train du test\n",
    "id_test = X_test['Identifiant']"
   ]
  },
  {
   "cell_type": "code",
   "execution_count": 12,
   "metadata": {
    "colab": {
     "base_uri": "https://localhost:8080/"
    },
    "colab_type": "code",
    "hidden": true,
    "id": "r1L9eOnhEO9K",
    "outputId": "db597fc7-12a1-487a-e180-fb27959f4912"
   },
   "outputs": [
    {
     "data": {
      "text/plain": [
       "(13522, 32)"
      ]
     },
     "execution_count": 12,
     "metadata": {},
     "output_type": "execute_result"
    }
   ],
   "source": [
    "X_train_test = pd.concat([X_train,X_test])\n",
    "X_train_test.shape"
   ]
  },
  {
   "cell_type": "markdown",
   "metadata": {
    "colab_type": "text",
    "hidden": true,
    "id": "lQ2zxMeFzPzC"
   },
   "source": [
    "La variable 'EXPO' est numérique mais les flottants sont entrés comme des chaines de caractère, avec une virgule au lieu d'un point pour la partie décimale. On applique donc une fonction sur toute la colonne afin d'avoir une variable numérique :"
   ]
  },
  {
   "cell_type": "code",
   "execution_count": 13,
   "metadata": {
    "colab": {},
    "colab_type": "code",
    "hidden": true,
    "id": "MvD3g3mMw2BT"
   },
   "outputs": [],
   "source": [
    "func = lambda x: float(x.replace(',','.')) if type(x) is str else x\n",
    "X_train_test['EXPO'] = X_train_test['EXPO'].apply(func)"
   ]
  },
  {
   "cell_type": "markdown",
   "metadata": {
    "colab_type": "text",
    "hidden": true,
    "id": "c02C9g8PKnTi"
   },
   "source": [
    "On change le type des variables catégorielles du train et du test :"
   ]
  },
  {
   "cell_type": "code",
   "execution_count": 14,
   "metadata": {
    "colab": {
     "base_uri": "https://localhost:8080/"
    },
    "colab_type": "code",
    "hidden": true,
    "id": "txRa2_oPKjo4",
    "outputId": "1a8b2f51-6819-4e98-e35d-8f5d7d034b57"
   },
   "outputs": [
    {
     "data": {
      "text/plain": [
       "Identifiant       int64\n",
       "ft_2_categ     category\n",
       "EXPO            float64\n",
       "ft_4_categ     category\n",
       "ft_5_categ     category\n",
       "ft_6_categ     category\n",
       "ft_7_categ     category\n",
       "ft_8_categ     category\n",
       "ft_9_categ     category\n",
       "ft_10_categ    category\n",
       "ft_11_categ    category\n",
       "ft_12_categ    category\n",
       "ft_13_categ    category\n",
       "ft_14_categ    category\n",
       "ft_15_categ    category\n",
       "ft_16_categ    category\n",
       "ft_17_categ    category\n",
       "ft_18_categ    category\n",
       "ft_19_categ    category\n",
       "superficief     float64\n",
       "ft_21_categ    category\n",
       "ft_22_categ    category\n",
       "ft_23_categ    category\n",
       "ft_24_categ    category\n",
       "Insee            object\n",
       "pluie             int64\n",
       "catnat          float64\n",
       "criminalite     float64\n",
       "pprn              int64\n",
       "chomage         float64\n",
       "rev_med         float64\n",
       "log_sociaux     float64\n",
       "dtype: object"
      ]
     },
     "execution_count": 14,
     "metadata": {},
     "output_type": "execute_result"
    }
   ],
   "source": [
    "vars_categ = [var for var in X_train.columns if var[:2]==\"ft\"]\n",
    "X_train_test[vars_categ] = X_train_test[vars_categ].astype('category')\n",
    "X_train_test.dtypes"
   ]
  },
  {
   "cell_type": "markdown",
   "metadata": {
    "colab_type": "text",
    "hidden": true,
    "id": "Yc0eIYSpgy5m"
   },
   "source": [
    "Problème de type pour ft_23_categ :"
   ]
  },
  {
   "cell_type": "code",
   "execution_count": 15,
   "metadata": {
    "colab": {
     "base_uri": "https://localhost:8080/"
    },
    "colab_type": "code",
    "hidden": true,
    "id": "74PRJtLPgnVq",
    "outputId": "17fef92c-243d-4263-8ced-775cb750346a"
   },
   "outputs": [
    {
     "data": {
      "text/plain": [
       "Index([0.0, 0.3, 0.6, 1.0, 1.5, 2.0, '0.0', '0.3', '0.6', '1.0', '1.5', '2.0',\n",
       "       'V'],\n",
       "      dtype='object')"
      ]
     },
     "execution_count": 15,
     "metadata": {},
     "output_type": "execute_result"
    }
   ],
   "source": [
    "X_train_test.ft_23_categ.cat.categories"
   ]
  },
  {
   "cell_type": "code",
   "execution_count": 16,
   "metadata": {
    "colab": {
     "base_uri": "https://localhost:8080/"
    },
    "colab_type": "code",
    "hidden": true,
    "id": "kxIhZ2yng3eL",
    "outputId": "ad0c0a42-fed5-433e-d41b-f76115a350ee"
   },
   "outputs": [
    {
     "data": {
      "text/plain": [
       "Index([0.0, 0.3, 0.6, 1.0, 1.5, 2.0, 'V'], dtype='object')"
      ]
     },
     "execution_count": 16,
     "metadata": {},
     "output_type": "execute_result"
    }
   ],
   "source": [
    "func = lambda x: float(x.replace(',','.')) if type(x) is str and x != 'V' else x\n",
    "X_train_test['ft_23_categ'] = X_train_test['ft_23_categ'].apply(func)\n",
    "X_train_test['ft_23_categ'] = X_train_test['ft_23_categ'].astype('category')\n",
    "X_train_test.ft_23_categ.cat.categories"
   ]
  },
  {
   "cell_type": "markdown",
   "metadata": {
    "colab_type": "text",
    "hidden": true,
    "id": "61-aQM7wJc5o"
   },
   "source": [
    "ft_22_categ possède beaucoup de niveaux qui sont des années, nous allons donc les regrouper par groupe de 50 ans afin de réduire le nombre de variables après one-hot-encoding : "
   ]
  },
  {
   "cell_type": "code",
   "execution_count": 17,
   "metadata": {
    "colab": {
     "base_uri": "https://localhost:8080/"
    },
    "colab_type": "code",
    "hidden": true,
    "id": "qNLnqaASJcEJ",
    "outputId": "599fc344-9c58-4a71-e485-d2d1eb32e9e1"
   },
   "outputs": [
    {
     "data": {
      "text/plain": [
       "Float64Index([  -1.0, 1500.0, 1545.0, 1550.0, 1600.0, 1613.0, 1630.0, 1700.0,\n",
       "              1718.0, 1750.0,\n",
       "              ...\n",
       "              2007.0, 2008.0, 2009.0, 2010.0, 2011.0, 2012.0, 2013.0, 2014.0,\n",
       "              2015.0, 2016.0],\n",
       "             dtype='float64', length=149)"
      ]
     },
     "execution_count": 17,
     "metadata": {},
     "output_type": "execute_result"
    }
   ],
   "source": [
    "X_train_test.ft_22_categ.cat.categories"
   ]
  },
  {
   "cell_type": "code",
   "execution_count": 18,
   "metadata": {
    "colab": {},
    "colab_type": "code",
    "hidden": true,
    "id": "uQ3Mr1BoLo3S"
   },
   "outputs": [],
   "source": [
    "def regroup_year(col):\n",
    "    \"\"\"On remplace chaque année par la cinquantaine inférieure\n",
    "    Exemple : on remplace 1973 par 1950, 2012 par 2000\"\"\"\n",
    "    for k in range(len(col)):\n",
    "        if col[k] != -1: #-1 : la valeur n'est pas renseignée\n",
    "            if col[k] % 100 >= 50:\n",
    "                col[k] = col[k]//100 * 100 + 50\n",
    "            else:\n",
    "                col[k] = col[k]//100 * 100\n",
    "    return col\n",
    "\n",
    "X_train_test.ft_22_categ = regroup_year(np.array(X_train_test.ft_22_categ))\n",
    "X_train_test.ft_22_categ = X_train_test.ft_22_categ.astype('category')"
   ]
  },
  {
   "cell_type": "code",
   "execution_count": 19,
   "metadata": {
    "colab": {
     "base_uri": "https://localhost:8080/"
    },
    "colab_type": "code",
    "hidden": true,
    "id": "NBxgsyYGR_ll",
    "outputId": "7e8c2423-d9b4-48ee-db56-5d3afb0945cf"
   },
   "outputs": [
    {
     "data": {
      "text/plain": [
       "Float64Index([  -1.0, 1500.0, 1550.0, 1600.0, 1700.0, 1750.0, 1800.0, 1850.0,\n",
       "              1900.0, 1950.0, 2000.0],\n",
       "             dtype='float64')"
      ]
     },
     "execution_count": 19,
     "metadata": {},
     "output_type": "execute_result"
    }
   ],
   "source": [
    "X_train_test.ft_22_categ.cat.categories"
   ]
  },
  {
   "cell_type": "markdown",
   "metadata": {
    "colab_type": "text",
    "hidden": true,
    "id": "QiIk6oUnFFcN"
   },
   "source": [
    "One-hot-encoding :"
   ]
  },
  {
   "cell_type": "code",
   "execution_count": 20,
   "metadata": {
    "colab": {},
    "colab_type": "code",
    "hidden": true,
    "id": "Ab2340HSE3Ba"
   },
   "outputs": [],
   "source": [
    "X_train_test = pd.get_dummies(X_train_test, columns=vars_categ, prefix=vars_categ)"
   ]
  },
  {
   "cell_type": "code",
   "execution_count": 21,
   "metadata": {
    "colab": {
     "base_uri": "https://localhost:8080/"
    },
    "colab_type": "code",
    "hidden": true,
    "id": "hyIL_sXBFOvi",
    "outputId": "72513355-6751-4042-b8da-5443b0fccd78"
   },
   "outputs": [
    {
     "name": "stdout",
     "output_type": "stream",
     "text": [
      "Index(['Identifiant', 'EXPO', 'superficief', 'Insee', 'pluie', 'catnat',\n",
      "       'criminalite', 'pprn', 'chomage', 'rev_med', 'log_sociaux',\n",
      "       'ft_2_categ_2012', 'ft_2_categ_2013', 'ft_2_categ_2014',\n",
      "       'ft_2_categ_2015', 'ft_2_categ_2016', 'ft_4_categ_0', 'ft_4_categ_1',\n",
      "       'ft_5_categ_N', 'ft_5_categ_O', 'ft_5_categ_V', 'ft_6_categ_N',\n",
      "       'ft_6_categ_O', 'ft_6_categ_V', 'ft_7_categ_1', 'ft_7_categ_2',\n",
      "       'ft_7_categ_3', 'ft_7_categ_V', 'ft_8_categ_N', 'ft_8_categ_O',\n",
      "       'ft_8_categ_V', 'ft_9_categ_1', 'ft_9_categ_2', 'ft_9_categ_3',\n",
      "       'ft_9_categ_V', 'ft_10_categ_N', 'ft_10_categ_O', 'ft_10_categ_V',\n",
      "       'ft_11_categ_N', 'ft_11_categ_O', 'ft_11_categ_V', 'ft_12_categ_N',\n",
      "       'ft_12_categ_O', 'ft_12_categ_V', 'ft_13_categ_N', 'ft_13_categ_O',\n",
      "       'ft_13_categ_V', 'ft_14_categ_N', 'ft_14_categ_O', 'ft_14_categ_V',\n",
      "       'ft_15_categ_AUTRE', 'ft_15_categ_V', 'ft_16_categ_IDENTIQUE',\n",
      "       'ft_16_categ_V', 'ft_17_categ_N', 'ft_17_categ_O', 'ft_17_categ_V',\n",
      "       'ft_18_categ_V', 'ft_18_categ_base', 'ft_18_categ_eff',\n",
      "       'ft_18_categ_effpi', 'ft_18_categ_pi', 'ft_19_categ_1', 'ft_19_categ_2',\n",
      "       'ft_21_categ_1', 'ft_21_categ_2', 'ft_21_categ_3', 'ft_21_categ_4',\n",
      "       'ft_22_categ_-1.0', 'ft_22_categ_1500.0', 'ft_22_categ_1550.0',\n",
      "       'ft_22_categ_1600.0', 'ft_22_categ_1700.0', 'ft_22_categ_1750.0',\n",
      "       'ft_22_categ_1800.0', 'ft_22_categ_1850.0', 'ft_22_categ_1900.0',\n",
      "       'ft_22_categ_1950.0', 'ft_22_categ_2000.0', 'ft_23_categ_0.0',\n",
      "       'ft_23_categ_0.3', 'ft_23_categ_0.6', 'ft_23_categ_1.0',\n",
      "       'ft_23_categ_1.5', 'ft_23_categ_2.0', 'ft_23_categ_V',\n",
      "       'ft_24_categ_   .', 'ft_24_categ_   1', 'ft_24_categ_   2',\n",
      "       'ft_24_categ_   3', 'ft_24_categ_   4', 'ft_24_categ_   5',\n",
      "       'ft_24_categ_   6', 'ft_24_categ_   7', 'ft_24_categ_   8',\n",
      "       'ft_24_categ_   9', 'ft_24_categ_>=10'],\n",
      "      dtype='object')\n"
     ]
    }
   ],
   "source": [
    "print(X_train_test.columns)"
   ]
  },
  {
   "cell_type": "markdown",
   "metadata": {
    "colab_type": "text",
    "hidden": true,
    "id": "bTqN5EZZFfWi"
   },
   "source": [
    "On re-sépare en train et test :"
   ]
  },
  {
   "cell_type": "code",
   "execution_count": 22,
   "metadata": {
    "colab": {},
    "colab_type": "code",
    "hidden": true,
    "id": "hzve537juB6T"
   },
   "outputs": [],
   "source": [
    "X_train = X_train_test.loc[X_train_test['Identifiant'].isin(id_train),:].copy()\n",
    "X_test = X_train_test.loc[X_train_test['Identifiant'].isin(id_test),:].copy()"
   ]
  },
  {
   "cell_type": "code",
   "execution_count": 23,
   "metadata": {
    "colab": {
     "base_uri": "https://localhost:8080/"
    },
    "colab_type": "code",
    "hidden": true,
    "id": "9jOC_yLUHAqT",
    "outputId": "4798422b-d3ac-492e-8e61-13bab62c7fcb"
   },
   "outputs": [
    {
     "data": {
      "text/plain": [
       "(3412, 97)"
      ]
     },
     "execution_count": 23,
     "metadata": {},
     "output_type": "execute_result"
    }
   ],
   "source": [
    "X_test.shape"
   ]
  },
  {
   "cell_type": "code",
   "execution_count": 24,
   "metadata": {
    "colab": {
     "base_uri": "https://localhost:8080/"
    },
    "colab_type": "code",
    "hidden": true,
    "id": "9oTJTlhW1XrS",
    "outputId": "38e7e74e-3be7-46cc-afc8-00713cceccae"
   },
   "outputs": [
    {
     "data": {
      "text/plain": [
       "(10110, 97)"
      ]
     },
     "execution_count": 24,
     "metadata": {},
     "output_type": "execute_result"
    }
   ],
   "source": [
    "X_train.shape"
   ]
  },
  {
   "cell_type": "markdown",
   "metadata": {
    "colab_type": "text",
    "heading_collapsed": true,
    "hidden": true,
    "id": "DU6i0rMvSyRk"
   },
   "source": [
    "## Suppression de colonnes\n",
    "<a id=\"nan_cols\"></a>"
   ]
  },
  {
   "cell_type": "markdown",
   "metadata": {
    "colab_type": "text",
    "hidden": true,
    "id": "7wRf7BSDS4Pt"
   },
   "source": [
    "On supprime les colonnes \"Identifiant\" et \"Insee\" (inutile pour nos modèles) :"
   ]
  },
  {
   "cell_type": "code",
   "execution_count": 25,
   "metadata": {
    "colab": {},
    "colab_type": "code",
    "hidden": true,
    "id": "pao00ohPS3ui"
   },
   "outputs": [],
   "source": [
    "X_train.drop('Identifiant',1, inplace=True)\n",
    "X_test.drop('Identifiant',1, inplace=True)\n",
    "y_train.drop('Identifiant',1, inplace=True)\n",
    "\n",
    "X_train.drop('Insee', 1, inplace=True)\n",
    "X_test.drop('Insee', 1, inplace=True)"
   ]
  },
  {
   "cell_type": "markdown",
   "metadata": {
    "colab_type": "text",
    "hidden": true,
    "id": "IQNHuEW2Wil-"
   },
   "source": [
    "On modifie y_train pour qu'il soit de la forme (n_samples, ) :"
   ]
  },
  {
   "cell_type": "code",
   "execution_count": 26,
   "metadata": {
    "colab": {
     "base_uri": "https://localhost:8080/"
    },
    "colab_type": "code",
    "hidden": true,
    "id": "CT52crrpWo41",
    "outputId": "3c201960-c6a4-4c42-abbe-764301911d4a"
   },
   "outputs": [
    {
     "data": {
      "text/plain": [
       "(10110,)"
      ]
     },
     "execution_count": 26,
     "metadata": {},
     "output_type": "execute_result"
    }
   ],
   "source": [
    "y_train = np.array(y_train).ravel()\n",
    "y_train.shape"
   ]
  },
  {
   "cell_type": "markdown",
   "metadata": {
    "colab_type": "text",
    "hidden": true,
    "id": "kdvc2njyIyTv"
   },
   "source": [
    "Colonnes finales présentes dans notre jeu de données :"
   ]
  },
  {
   "cell_type": "code",
   "execution_count": 27,
   "metadata": {
    "colab": {
     "base_uri": "https://localhost:8080/"
    },
    "colab_type": "code",
    "hidden": true,
    "id": "LdZJrEXef_KG",
    "outputId": "9c0c90eb-7a3d-4f44-8af7-451abfd28b30"
   },
   "outputs": [
    {
     "data": {
      "text/plain": [
       "Index(['EXPO', 'superficief', 'pluie', 'catnat', 'criminalite', 'pprn',\n",
       "       'chomage', 'rev_med', 'log_sociaux', 'ft_2_categ_2012',\n",
       "       'ft_2_categ_2013', 'ft_2_categ_2014', 'ft_2_categ_2015',\n",
       "       'ft_2_categ_2016', 'ft_4_categ_0', 'ft_4_categ_1', 'ft_5_categ_N',\n",
       "       'ft_5_categ_O', 'ft_5_categ_V', 'ft_6_categ_N', 'ft_6_categ_O',\n",
       "       'ft_6_categ_V', 'ft_7_categ_1', 'ft_7_categ_2', 'ft_7_categ_3',\n",
       "       'ft_7_categ_V', 'ft_8_categ_N', 'ft_8_categ_O', 'ft_8_categ_V',\n",
       "       'ft_9_categ_1', 'ft_9_categ_2', 'ft_9_categ_3', 'ft_9_categ_V',\n",
       "       'ft_10_categ_N', 'ft_10_categ_O', 'ft_10_categ_V', 'ft_11_categ_N',\n",
       "       'ft_11_categ_O', 'ft_11_categ_V', 'ft_12_categ_N', 'ft_12_categ_O',\n",
       "       'ft_12_categ_V', 'ft_13_categ_N', 'ft_13_categ_O', 'ft_13_categ_V',\n",
       "       'ft_14_categ_N', 'ft_14_categ_O', 'ft_14_categ_V', 'ft_15_categ_AUTRE',\n",
       "       'ft_15_categ_V', 'ft_16_categ_IDENTIQUE', 'ft_16_categ_V',\n",
       "       'ft_17_categ_N', 'ft_17_categ_O', 'ft_17_categ_V', 'ft_18_categ_V',\n",
       "       'ft_18_categ_base', 'ft_18_categ_eff', 'ft_18_categ_effpi',\n",
       "       'ft_18_categ_pi', 'ft_19_categ_1', 'ft_19_categ_2', 'ft_21_categ_1',\n",
       "       'ft_21_categ_2', 'ft_21_categ_3', 'ft_21_categ_4', 'ft_22_categ_-1.0',\n",
       "       'ft_22_categ_1500.0', 'ft_22_categ_1550.0', 'ft_22_categ_1600.0',\n",
       "       'ft_22_categ_1700.0', 'ft_22_categ_1750.0', 'ft_22_categ_1800.0',\n",
       "       'ft_22_categ_1850.0', 'ft_22_categ_1900.0', 'ft_22_categ_1950.0',\n",
       "       'ft_22_categ_2000.0', 'ft_23_categ_0.0', 'ft_23_categ_0.3',\n",
       "       'ft_23_categ_0.6', 'ft_23_categ_1.0', 'ft_23_categ_1.5',\n",
       "       'ft_23_categ_2.0', 'ft_23_categ_V', 'ft_24_categ_   .',\n",
       "       'ft_24_categ_   1', 'ft_24_categ_   2', 'ft_24_categ_   3',\n",
       "       'ft_24_categ_   4', 'ft_24_categ_   5', 'ft_24_categ_   6',\n",
       "       'ft_24_categ_   7', 'ft_24_categ_   8', 'ft_24_categ_   9',\n",
       "       'ft_24_categ_>=10'],\n",
       "      dtype='object')"
      ]
     },
     "execution_count": 27,
     "metadata": {},
     "output_type": "execute_result"
    }
   ],
   "source": [
    "X_train.columns"
   ]
  },
  {
   "cell_type": "markdown",
   "metadata": {
    "colab_type": "text",
    "id": "Y6wWXwTKkG-y"
   },
   "source": [
    "# Préparatifs pour l'entrainement de modèles"
   ]
  },
  {
   "cell_type": "markdown",
   "metadata": {
    "colab_type": "text",
    "id": "z39rt8uRjygq"
   },
   "source": [
    "Pour pouvoir tester les performances de nos modèles, on découpe le jeu de données train en train-test :"
   ]
  },
  {
   "cell_type": "code",
   "execution_count": 71,
   "metadata": {
    "colab": {
     "base_uri": "https://localhost:8080/",
     "height": 273
    },
    "colab_type": "code",
    "id": "mgtMBYf3kKW-",
    "outputId": "9eb60ac3-07d4-4f89-dcae-59bfa58ae168"
   },
   "outputs": [
    {
     "data": {
      "text/html": [
       "<div>\n",
       "<style scoped>\n",
       "    .dataframe tbody tr th:only-of-type {\n",
       "        vertical-align: middle;\n",
       "    }\n",
       "\n",
       "    .dataframe tbody tr th {\n",
       "        vertical-align: top;\n",
       "    }\n",
       "\n",
       "    .dataframe thead th {\n",
       "        text-align: right;\n",
       "    }\n",
       "</style>\n",
       "<table border=\"1\" class=\"dataframe\">\n",
       "  <thead>\n",
       "    <tr style=\"text-align: right;\">\n",
       "      <th></th>\n",
       "      <th>EXPO</th>\n",
       "      <th>superficief</th>\n",
       "      <th>pluie</th>\n",
       "      <th>catnat</th>\n",
       "      <th>criminalite</th>\n",
       "      <th>pprn</th>\n",
       "      <th>chomage</th>\n",
       "      <th>rev_med</th>\n",
       "      <th>log_sociaux</th>\n",
       "      <th>ft_2_categ_2012</th>\n",
       "      <th>...</th>\n",
       "      <th>ft_24_categ_   1</th>\n",
       "      <th>ft_24_categ_   2</th>\n",
       "      <th>ft_24_categ_   3</th>\n",
       "      <th>ft_24_categ_   4</th>\n",
       "      <th>ft_24_categ_   5</th>\n",
       "      <th>ft_24_categ_   6</th>\n",
       "      <th>ft_24_categ_   7</th>\n",
       "      <th>ft_24_categ_   8</th>\n",
       "      <th>ft_24_categ_   9</th>\n",
       "      <th>ft_24_categ_&gt;=10</th>\n",
       "    </tr>\n",
       "  </thead>\n",
       "  <tbody>\n",
       "    <tr>\n",
       "      <th>5823</th>\n",
       "      <td>1.000000</td>\n",
       "      <td>2900.0</td>\n",
       "      <td>6</td>\n",
       "      <td>0.0</td>\n",
       "      <td>0.040772</td>\n",
       "      <td>1</td>\n",
       "      <td>8.200</td>\n",
       "      <td>21352.000000</td>\n",
       "      <td>514.0</td>\n",
       "      <td>1</td>\n",
       "      <td>...</td>\n",
       "      <td>0</td>\n",
       "      <td>0</td>\n",
       "      <td>0</td>\n",
       "      <td>0</td>\n",
       "      <td>0</td>\n",
       "      <td>0</td>\n",
       "      <td>0</td>\n",
       "      <td>0</td>\n",
       "      <td>0</td>\n",
       "      <td>0</td>\n",
       "    </tr>\n",
       "    <tr>\n",
       "      <th>2463</th>\n",
       "      <td>1.000000</td>\n",
       "      <td>5278.0</td>\n",
       "      <td>0</td>\n",
       "      <td>0.0</td>\n",
       "      <td>0.060545</td>\n",
       "      <td>0</td>\n",
       "      <td>7.425</td>\n",
       "      <td>26905.333333</td>\n",
       "      <td>1240.0</td>\n",
       "      <td>1</td>\n",
       "      <td>...</td>\n",
       "      <td>0</td>\n",
       "      <td>0</td>\n",
       "      <td>0</td>\n",
       "      <td>0</td>\n",
       "      <td>1</td>\n",
       "      <td>0</td>\n",
       "      <td>0</td>\n",
       "      <td>0</td>\n",
       "      <td>0</td>\n",
       "      <td>0</td>\n",
       "    </tr>\n",
       "    <tr>\n",
       "      <th>2459</th>\n",
       "      <td>0.646575</td>\n",
       "      <td>14950.0</td>\n",
       "      <td>4</td>\n",
       "      <td>0.0</td>\n",
       "      <td>0.083323</td>\n",
       "      <td>0</td>\n",
       "      <td>12.075</td>\n",
       "      <td>13837.692308</td>\n",
       "      <td>766.0</td>\n",
       "      <td>0</td>\n",
       "      <td>...</td>\n",
       "      <td>0</td>\n",
       "      <td>0</td>\n",
       "      <td>0</td>\n",
       "      <td>0</td>\n",
       "      <td>0</td>\n",
       "      <td>0</td>\n",
       "      <td>0</td>\n",
       "      <td>0</td>\n",
       "      <td>0</td>\n",
       "      <td>0</td>\n",
       "    </tr>\n",
       "    <tr>\n",
       "      <th>4045</th>\n",
       "      <td>1.000000</td>\n",
       "      <td>168.0</td>\n",
       "      <td>0</td>\n",
       "      <td>0.0</td>\n",
       "      <td>0.067960</td>\n",
       "      <td>3</td>\n",
       "      <td>10.350</td>\n",
       "      <td>23290.434783</td>\n",
       "      <td>978.0</td>\n",
       "      <td>0</td>\n",
       "      <td>...</td>\n",
       "      <td>0</td>\n",
       "      <td>0</td>\n",
       "      <td>0</td>\n",
       "      <td>0</td>\n",
       "      <td>0</td>\n",
       "      <td>0</td>\n",
       "      <td>0</td>\n",
       "      <td>0</td>\n",
       "      <td>0</td>\n",
       "      <td>0</td>\n",
       "    </tr>\n",
       "    <tr>\n",
       "      <th>8744</th>\n",
       "      <td>1.000000</td>\n",
       "      <td>720.0</td>\n",
       "      <td>5</td>\n",
       "      <td>0.0</td>\n",
       "      <td>0.067545</td>\n",
       "      <td>54</td>\n",
       "      <td>9.150</td>\n",
       "      <td>25728.000000</td>\n",
       "      <td>905.0</td>\n",
       "      <td>0</td>\n",
       "      <td>...</td>\n",
       "      <td>0</td>\n",
       "      <td>0</td>\n",
       "      <td>0</td>\n",
       "      <td>0</td>\n",
       "      <td>0</td>\n",
       "      <td>0</td>\n",
       "      <td>0</td>\n",
       "      <td>0</td>\n",
       "      <td>0</td>\n",
       "      <td>0</td>\n",
       "    </tr>\n",
       "  </tbody>\n",
       "</table>\n",
       "<p>5 rows × 95 columns</p>\n",
       "</div>"
      ],
      "text/plain": [
       "          EXPO  superficief  pluie  catnat  criminalite  pprn  chomage  \\\n",
       "5823  1.000000       2900.0      6     0.0     0.040772     1    8.200   \n",
       "2463  1.000000       5278.0      0     0.0     0.060545     0    7.425   \n",
       "2459  0.646575      14950.0      4     0.0     0.083323     0   12.075   \n",
       "4045  1.000000        168.0      0     0.0     0.067960     3   10.350   \n",
       "8744  1.000000        720.0      5     0.0     0.067545    54    9.150   \n",
       "\n",
       "           rev_med  log_sociaux  ft_2_categ_2012        ...         \\\n",
       "5823  21352.000000        514.0                1        ...          \n",
       "2463  26905.333333       1240.0                1        ...          \n",
       "2459  13837.692308        766.0                0        ...          \n",
       "4045  23290.434783        978.0                0        ...          \n",
       "8744  25728.000000        905.0                0        ...          \n",
       "\n",
       "      ft_24_categ_   1  ft_24_categ_   2  ft_24_categ_   3  ft_24_categ_   4  \\\n",
       "5823                 0                 0                 0                 0   \n",
       "2463                 0                 0                 0                 0   \n",
       "2459                 0                 0                 0                 0   \n",
       "4045                 0                 0                 0                 0   \n",
       "8744                 0                 0                 0                 0   \n",
       "\n",
       "      ft_24_categ_   5  ft_24_categ_   6  ft_24_categ_   7  ft_24_categ_   8  \\\n",
       "5823                 0                 0                 0                 0   \n",
       "2463                 1                 0                 0                 0   \n",
       "2459                 0                 0                 0                 0   \n",
       "4045                 0                 0                 0                 0   \n",
       "8744                 0                 0                 0                 0   \n",
       "\n",
       "      ft_24_categ_   9  ft_24_categ_>=10  \n",
       "5823                 0                 0  \n",
       "2463                 0                 0  \n",
       "2459                 0                 0  \n",
       "4045                 0                 0  \n",
       "8744                 0                 0  \n",
       "\n",
       "[5 rows x 95 columns]"
      ]
     },
     "execution_count": 71,
     "metadata": {},
     "output_type": "execute_result"
    }
   ],
   "source": [
    "from sklearn.model_selection import train_test_split\n",
    "\n",
    "seed = 666\n",
    "Xtrain,Xtest,Ytrain,Ytest = train_test_split(X_train,y_train,train_size=0.7,test_size=0.3, random_state=seed)\n",
    "#Xtrain = X_train #Pour l'entrainement sur tout le jeu de données\n",
    "#Ytrain = y_train\n",
    "#Xtest = X_test\n",
    "Xtrain.head()"
   ]
  },
  {
   "cell_type": "markdown",
   "metadata": {
    "colab_type": "text",
    "id": "kz4bxncxj8CE"
   },
   "source": [
    "On définit la métrique utilisée par le challenge ainsi qu'un scorer basé sur cette métrique, qui sera utilisé dans la GridSearch pour déterminer le meilleur modèle :"
   ]
  },
  {
   "cell_type": "code",
   "execution_count": 29,
   "metadata": {
    "colab": {},
    "colab_type": "code",
    "id": "ZV12sRiYkOy6"
   },
   "outputs": [],
   "source": [
    "import numpy as np\n",
    "\n",
    "def gini(actual, pred):\n",
    "    assert (len(actual) == len(pred))\n",
    "    all = np.asarray(np.c_[actual, pred, np.arange(len(actual))], dtype=np.float)\n",
    "    all = all[np.lexsort((all[:, 2], -1 * all[:, 1]))]\n",
    "    totalLosses = all[:, 0].sum()\n",
    "    giniSum = all[:, 0].cumsum().sum() / totalLosses\n",
    "\n",
    "    giniSum -= (len(actual) + 1) / 2.\n",
    "    return giniSum / len(actual)\n",
    "\n",
    "\n",
    "def gini_normalized(actual, pred):\n",
    "    return gini(actual, pred) / gini(actual, actual)"
   ]
  },
  {
   "cell_type": "code",
   "execution_count": 30,
   "metadata": {
    "colab": {},
    "colab_type": "code",
    "id": "To93ERkLkMiJ"
   },
   "outputs": [],
   "source": [
    "from sklearn.metrics import make_scorer\n",
    "gini_scorer = make_scorer(gini_normalized, greater_is_better=True, needs_proba=True)"
   ]
  },
  {
   "cell_type": "markdown",
   "metadata": {
    "colab_type": "text",
    "id": "SAV2nc4akQCy"
   },
   "source": [
    "On définit une fonction pour afficher l'importance des variables dans nos modèles :"
   ]
  },
  {
   "cell_type": "code",
   "execution_count": 31,
   "metadata": {
    "colab": {},
    "colab_type": "code",
    "id": "fBgCqBC-kPdj"
   },
   "outputs": [],
   "source": [
    "def feat_importance(model, feature_names, max_num_features=10):\n",
    "    \"\"\"model doit posséder la méthode feature_importances_\n",
    "    num_features : nombre de features à afficher\"\"\"\n",
    "    importance = list(zip(feature_names, model.feature_importances_))\n",
    "    importance.sort(key=lambda x: x[1], reverse=True)\n",
    "    importance = [[elem[0], elem[1]] for elem in importance]\n",
    "    names, vals = zip(*importance)\n",
    "    plt.figure()\n",
    "    plt.barh(np.arange(max_num_features)[::-1], vals[:max_num_features], tick_label=names[:max_num_features])\n",
    "    plt.xticks([])\n",
    "    plt.show()"
   ]
  },
  {
   "cell_type": "markdown",
   "metadata": {
    "colab_type": "text",
    "heading_collapsed": true,
    "id": "qh3Kt5Qejs2N"
   },
   "source": [
    "# Performances du benchmark (XGBoost)"
   ]
  },
  {
   "cell_type": "code",
   "execution_count": 42,
   "metadata": {
    "colab": {},
    "colab_type": "code",
    "hidden": true,
    "id": "0upoDr--sBaJ"
   },
   "outputs": [],
   "source": [
    "from xgboost import XGBClassifier, Booster\n",
    "from xgboost import plot_importance"
   ]
  },
  {
   "cell_type": "markdown",
   "metadata": {
    "colab_type": "text",
    "hidden": true,
    "id": "t785UVfnuv-p"
   },
   "source": [
    "## (Optionnel) Chargement d'un modèle"
   ]
  },
  {
   "cell_type": "markdown",
   "metadata": {
    "colab_type": "text",
    "hidden": true,
    "id": "2Nf5NFDOr3wF"
   },
   "source": [
    "Pour éviter de faire un GridSearch :"
   ]
  },
  {
   "cell_type": "code",
   "execution_count": 43,
   "metadata": {
    "colab": {},
    "colab_type": "code",
    "hidden": true,
    "id": "H7Snm0kZza13"
   },
   "outputs": [],
   "source": [
    "model_name = \"xgbfull\"\n",
    "with urlopen(load_models_url+'XGB/%s.txt'%(model_name)) as f:\n",
    "    XGB = pickle.loads(f.read())"
   ]
  },
  {
   "cell_type": "code",
   "execution_count": 35,
   "metadata": {
    "colab": {
     "base_uri": "https://localhost:8080/",
     "height": 364
    },
    "colab_type": "code",
    "hidden": true,
    "id": "PQlhkwrm_HkG",
    "outputId": "4aae5952-845a-42a4-96fa-229452b583b8"
   },
   "outputs": [
    {
     "data": {
      "text/plain": [
       "{'base_score': 0.5,\n",
       " 'booster': 'gbtree',\n",
       " 'colsample_bylevel': 0.7,\n",
       " 'colsample_bytree': 1,\n",
       " 'gamma': 0,\n",
       " 'learning_rate': 0.01,\n",
       " 'max_delta_step': 0,\n",
       " 'max_depth': 3,\n",
       " 'min_child_weight': 3,\n",
       " 'missing': nan,\n",
       " 'n_estimators': 1000,\n",
       " 'nthread': 1,\n",
       " 'objective': 'binary:logistic',\n",
       " 'reg_alpha': 1,\n",
       " 'reg_lambda': 0,\n",
       " 'scale_pos_weight': 1,\n",
       " 'seed': 0,\n",
       " 'silent': True,\n",
       " 'subsample': 1,\n",
       " 'verbosity': 0}"
      ]
     },
     "execution_count": 35,
     "metadata": {},
     "output_type": "execute_result"
    }
   ],
   "source": [
    "XGB.get_xgb_params()"
   ]
  },
  {
   "cell_type": "markdown",
   "metadata": {
    "colab_type": "text",
    "hidden": true,
    "id": "M87qNcruu3kX"
   },
   "source": [
    "## Tuning par GridSearch"
   ]
  },
  {
   "cell_type": "markdown",
   "metadata": {
    "colab_type": "text",
    "hidden": true,
    "id": "x5NvZ3FQlHNH"
   },
   "source": [
    "On entraîne un classifieur XGBoost par GridSearch (comme pour le benchmark) sur notre jeu de données. On commence par fixer `n_estimators` et `learning_rate` pour déterminer les autres paramètres :"
   ]
  },
  {
   "cell_type": "code",
   "execution_count": null,
   "metadata": {
    "colab": {
     "base_uri": "https://localhost:8080/",
     "height": 247
    },
    "colab_type": "code",
    "hidden": true,
    "id": "KAsWc3zIkTkP",
    "outputId": "1ee0cec3-7729-4e49-885a-318d7774ac55"
   },
   "outputs": [
    {
     "name": "stdout",
     "output_type": "stream",
     "text": [
      "Fitting 5 folds for each of 675 candidates, totalling 3375 fits\n"
     ]
    },
    {
     "name": "stderr",
     "output_type": "stream",
     "text": [
      "[Parallel(n_jobs=16)]: Using backend LokyBackend with 16 concurrent workers.\n",
      "[Parallel(n_jobs=16)]: Done  96 tasks      | elapsed:    4.7s\n",
      "[Parallel(n_jobs=16)]: Done 256 tasks      | elapsed:   14.0s\n",
      "[Parallel(n_jobs=16)]: Done 480 tasks      | elapsed:   27.8s\n",
      "[Parallel(n_jobs=16)]: Done 768 tasks      | elapsed:   50.7s\n",
      "[Parallel(n_jobs=16)]: Done 1120 tasks      | elapsed:  1.4min\n",
      "[Parallel(n_jobs=16)]: Done 1536 tasks      | elapsed:  1.8min\n",
      "[Parallel(n_jobs=16)]: Done 2016 tasks      | elapsed:  2.6min\n",
      "[Parallel(n_jobs=16)]: Done 2560 tasks      | elapsed:  3.8min\n",
      "[Parallel(n_jobs=16)]: Done 3168 tasks      | elapsed:  5.3min\n",
      "[Parallel(n_jobs=16)]: Done 3375 out of 3375 | elapsed:  6.2min finished\n"
     ]
    },
    {
     "name": "stdout",
     "output_type": "stream",
     "text": [
      "Best parameters : {'reg_alpha': 0, 'colsample_bylevel': 0.7, 'reg_lambda': 0, 'colsample_bytree': 1, 'min_child_weight': 3, 'max_depth': 3, 'subsample': 1}\n"
     ]
    }
   ],
   "source": [
    "#Grille de paramètres\n",
    "max_depth = [1, 2, 3, 4, 5]\n",
    "min_child_weight = [1, 2, 3, 4, 5]\n",
    "reg_alpha = [0, 1]\n",
    "reg_lambda = [0]\n",
    "subsample = [0.3, 0.7, 1]\n",
    "colsample_bytree = [0.3, 0.7, 1]\n",
    "colsample_bylevel = [0.3, 0.7, 1]\n",
    "param_grid = dict(max_depth=max_depth, min_child_weight=min_child_weight, reg_alpha=reg_alpha, reg_lambda=reg_lambda,\n",
    "                 colsample_bytree=colsample_bytree, colsample_bylevel=colsample_bytree, subsample=subsample)\n",
    "\n",
    "#GridSearch\n",
    "grid_search = GridSearchCV(XGBClassifier(learning_rate=0.1, n_estimators=100),\n",
    "                           param_grid, cv=5, n_jobs=n_jobs, scoring=gini_scorer, verbose=3)\n",
    "grid_result = grid_search.fit(Xtrain, Ytrain)\n",
    "\n",
    "#Résultats\n",
    "best_params = grid_result.best_params_\n",
    "print(\"Best parameters :\", best_params)"
   ]
  },
  {
   "cell_type": "code",
   "execution_count": null,
   "metadata": {
    "colab": {},
    "colab_type": "code",
    "hidden": true,
    "id": "F24BaFIq3cpt"
   },
   "outputs": [],
   "source": [
    "max_depth = best_params[\"max_depth\"]\n",
    "min_child_weight = best_params[\"min_child_weight\"]\n",
    "reg_alpha = best_params[\"reg_alpha\"]\n",
    "reg_lambda = best_params[\"reg_lambda\"]\n",
    "subsample = best_params[\"subsample\"]\n",
    "colsample_bytree = best_params[\"colsample_bytree\"]\n",
    "colsample_bylevel = best_params[\"colsample_bylevel\"]"
   ]
  },
  {
   "cell_type": "markdown",
   "metadata": {
    "colab_type": "text",
    "hidden": true,
    "id": "oZ6ntgIOlmlM"
   },
   "source": [
    "On cherche maintenant les meilleurs valeurs pour `n_estimators` et `learning_rate` :"
   ]
  },
  {
   "cell_type": "code",
   "execution_count": null,
   "metadata": {
    "colab": {
     "base_uri": "https://localhost:8080/",
     "height": 105
    },
    "colab_type": "code",
    "hidden": true,
    "id": "mq52NcUU1KmG",
    "outputId": "e6a89c2e-8add-468d-fd85-cb4738e9e3e2"
   },
   "outputs": [
    {
     "name": "stdout",
     "output_type": "stream",
     "text": [
      "Fitting 5 folds for each of 15 candidates, totalling 75 fits\n"
     ]
    },
    {
     "name": "stderr",
     "output_type": "stream",
     "text": [
      "[Parallel(n_jobs=16)]: Using backend LokyBackend with 16 concurrent workers.\n",
      "[Parallel(n_jobs=16)]: Done  70 out of  75 | elapsed:  1.3min remaining:    5.7s\n",
      "[Parallel(n_jobs=16)]: Done  75 out of  75 | elapsed:  1.6min finished\n"
     ]
    },
    {
     "name": "stdout",
     "output_type": "stream",
     "text": [
      "Best parameters : {'n_estimators': 1000, 'learning_rate': 0.01}\n"
     ]
    }
   ],
   "source": [
    "#Grille de paramètres\n",
    "learning_rate = [1e-3, 1e-2, 1e-1]\n",
    "n_estimators = [200, 500, 700, 1000, 2000]\n",
    "param_grid = dict(learning_rate=learning_rate, n_estimators=n_estimators)\n",
    "\n",
    "#GridSearch\n",
    "grid_search = GridSearchCV(XGBClassifier(max_depth=max_depth, min_child_weight=min_child_weight, reg_alpha=reg_alpha,\n",
    "                                         reg_lambda=reg_lambda, colsample_bytree=colsample_bytree, colsample_bylevel=colsample_bylevel),\n",
    "                           param_grid, cv=5, n_jobs=n_jobs, scoring=gini_scorer, verbose=3)\n",
    "grid_result = grid_search.fit(Xtrain, Ytrain)\n",
    "\n",
    "#Résultats\n",
    "best_params = grid_result.best_params_\n",
    "print(\"Best parameters :\", best_params)\n",
    "XGB = grid_result.best_estimator_"
   ]
  },
  {
   "cell_type": "markdown",
   "metadata": {
    "colab_type": "text",
    "hidden": true,
    "id": "hsrgeXKEVlj-"
   },
   "source": [
    "## Résultats"
   ]
  },
  {
   "cell_type": "markdown",
   "metadata": {
    "colab_type": "text",
    "hidden": true,
    "id": "Q9HodIpumnpe"
   },
   "source": [
    "Score obtenu :"
   ]
  },
  {
   "cell_type": "code",
   "execution_count": null,
   "metadata": {
    "colab": {
     "base_uri": "https://localhost:8080/",
     "height": 35
    },
    "colab_type": "code",
    "hidden": true,
    "id": "5E-LfXSYXqjw",
    "outputId": "324ab329-1ebc-4e58-efac-248ea24f88e0"
   },
   "outputs": [
    {
     "name": "stdout",
     "output_type": "stream",
     "text": [
      "0.4412965540277236\n"
     ]
    }
   ],
   "source": [
    "print(grid_result.best_score_)"
   ]
  },
  {
   "cell_type": "code",
   "execution_count": null,
   "metadata": {
    "colab": {},
    "colab_type": "code",
    "hidden": true,
    "id": "Y-kiQ7f4I-zr"
   },
   "outputs": [],
   "source": [
    "gini_scorer(XGB, Xtest, Ytest)"
   ]
  },
  {
   "cell_type": "code",
   "execution_count": null,
   "metadata": {
    "colab": {},
    "colab_type": "code",
    "hidden": true,
    "id": "qMazcWjbRcRK"
   },
   "outputs": [],
   "source": [
    "gini_normalized(Ytest, XGB.predict_proba(Xtest)[:,1])"
   ]
  },
  {
   "cell_type": "markdown",
   "metadata": {
    "colab_type": "text",
    "hidden": true,
    "id": "THNGOP7fml0J"
   },
   "source": [
    "Importance des variables :"
   ]
  },
  {
   "cell_type": "code",
   "execution_count": null,
   "metadata": {
    "colab": {
     "base_uri": "https://localhost:8080/",
     "height": 301
    },
    "colab_type": "code",
    "hidden": true,
    "id": "O44ABC1llb0s",
    "outputId": "d3a8b7f1-a5b6-4a56-fb2e-e72507016869"
   },
   "outputs": [
    {
     "data": {
      "image/png": "[encoded data removed]",
      "text/plain": [
       "<Figure size 432x288 with 1 Axes>"
      ]
     },
     "metadata": {
      "tags": []
     },
     "output_type": "display_data"
    }
   ],
   "source": [
    "plot_importance(XGB, max_num_features=10)\n",
    "plt.show()"
   ]
  },
  {
   "cell_type": "markdown",
   "metadata": {
    "colab_type": "text",
    "hidden": true,
    "id": "sasbI6LZmpmg"
   },
   "source": [
    "Sauvegarde du modèle :"
   ]
  },
  {
   "cell_type": "code",
   "execution_count": null,
   "metadata": {
    "colab": {},
    "colab_type": "code",
    "hidden": true,
    "id": "mhGhRwDamsgG"
   },
   "outputs": [],
   "source": [
    "model_name = 'xgb' + str(seed)\n",
    "with open(save_models_path+'%s.txt'%(model_name), 'wb') as f:\n",
    "    pickle.dump(XGB, f)"
   ]
  },
  {
   "cell_type": "markdown",
   "metadata": {
    "colab_type": "text",
    "hidden": true,
    "id": "iQnwYMM-5yeW"
   },
   "source": [
    "## (Pour les tests) Paramètres customs"
   ]
  },
  {
   "cell_type": "code",
   "execution_count": null,
   "metadata": {
    "colab": {
     "base_uri": "https://localhost:8080/",
     "height": 121
    },
    "colab_type": "code",
    "hidden": true,
    "id": "njw3XDL3oJhO",
    "outputId": "05520bf7-b1eb-4cf3-eadd-b4d4109a1d89"
   },
   "outputs": [
    {
     "data": {
      "text/plain": [
       "XGBClassifier(base_score=0.5, booster='gbtree', colsample_bylevel=1,\n",
       "       colsample_bytree=1, gamma=0, learning_rate=0.01, max_delta_step=0,\n",
       "       max_depth=2, min_child_weight=4, missing=None, n_estimators=500,\n",
       "       n_jobs=2, nthread=None, objective='binary:logistic', random_state=0,\n",
       "       reg_alpha=0, reg_lambda=1, scale_pos_weight=1, seed=None,\n",
       "       silent=True, subsample=1)"
      ]
     },
     "execution_count": 72,
     "metadata": {
      "tags": []
     },
     "output_type": "execute_result"
    }
   ],
   "source": [
    "XGB_cust = XGBClassifier(n_estimators=500, max_depth=2, min_child_weight=4, learning_rate=0.01, n_jobs=2)\n",
    "XGB_cust.fit(Xtrain, Ytrain)"
   ]
  },
  {
   "cell_type": "code",
   "execution_count": null,
   "metadata": {
    "colab": {
     "base_uri": "https://localhost:8080/",
     "height": 318
    },
    "colab_type": "code",
    "hidden": true,
    "id": "8bZphLdehU1S",
    "outputId": "1466a01e-0eda-4df3-a66f-23c181118052"
   },
   "outputs": [
    {
     "name": "stdout",
     "output_type": "stream",
     "text": [
      "Score : -0.4457182049774642\n"
     ]
    },
    {
     "data": {
      "image/png": "[encoded data removed]",
      "text/plain": [
       "<Figure size 432x288 with 1 Axes>"
      ]
     },
     "metadata": {
      "tags": []
     },
     "output_type": "display_data"
    }
   ],
   "source": [
    "print(\"Score :\", gini_scorer(XGB_cust, Xtest, Ytest))\n",
    "plot_importance(XGB_cust, max_num_features=10)\n",
    "plt.show()"
   ]
  },
  {
   "cell_type": "markdown",
   "metadata": {
    "colab_type": "text",
    "hidden": true,
    "id": "50V7-rXIoODu"
   },
   "source": [
    "Pour vérifier que `gini_scorer` fonctionne bien :"
   ]
  },
  {
   "cell_type": "code",
   "execution_count": null,
   "metadata": {
    "colab": {
     "base_uri": "https://localhost:8080/",
     "height": 34
    },
    "colab_type": "code",
    "hidden": true,
    "id": "5yLprXuoK5-3",
    "outputId": "27fc3b85-c617-452c-9c46-5e5601ddcb08"
   },
   "outputs": [
    {
     "data": {
      "text/plain": [
       "0.44549009161277675"
      ]
     },
     "execution_count": 75,
     "metadata": {
      "tags": []
     },
     "output_type": "execute_result"
    }
   ],
   "source": [
    "gini_normalized(Ytest, XGB_cust.predict_proba(Xtest)[:,1])"
   ]
  },
  {
   "cell_type": "markdown",
   "metadata": {
    "colab_type": "text",
    "heading_collapsed": true,
    "id": "FfCwKDl2qFh0"
   },
   "source": [
    "# Random Forest"
   ]
  },
  {
   "cell_type": "code",
   "execution_count": null,
   "metadata": {
    "colab": {},
    "colab_type": "code",
    "hidden": true,
    "id": "RuMla277tj0A"
   },
   "outputs": [],
   "source": [
    "from sklearn.ensemble import RandomForestClassifier"
   ]
  },
  {
   "cell_type": "markdown",
   "metadata": {
    "colab_type": "text",
    "hidden": true,
    "id": "JG1RIQASulBi"
   },
   "source": [
    "## Chargement d'un modèle"
   ]
  },
  {
   "cell_type": "code",
   "execution_count": null,
   "metadata": {
    "colab": {},
    "colab_type": "code",
    "hidden": true,
    "id": "95X1xoxYugY5"
   },
   "outputs": [],
   "source": [
    "model_name = \"rfcfull\"\n",
    "with urlopen(load_models_url+'RFC/%s.txt'%(model_name)) as f:\n",
    "    RFC = pickle.loads(f.read())"
   ]
  },
  {
   "cell_type": "code",
   "execution_count": null,
   "metadata": {
    "colab": {
     "base_uri": "https://localhost:8080/",
     "height": 312
    },
    "colab_type": "code",
    "hidden": true,
    "id": "EkPm1_3GJXIM",
    "outputId": "b3f125de-5b36-4914-82a4-651e0d8c8b0c"
   },
   "outputs": [
    {
     "data": {
      "text/plain": [
       "{'bootstrap': True,\n",
       " 'class_weight': None,\n",
       " 'criterion': 'gini',\n",
       " 'max_depth': 7,\n",
       " 'max_features': 30,\n",
       " 'max_leaf_nodes': None,\n",
       " 'min_impurity_decrease': 0.0,\n",
       " 'min_impurity_split': None,\n",
       " 'min_samples_leaf': 1,\n",
       " 'min_samples_split': 0.01,\n",
       " 'min_weight_fraction_leaf': 0.0,\n",
       " 'n_estimators': 300,\n",
       " 'n_jobs': None,\n",
       " 'oob_score': False,\n",
       " 'random_state': None,\n",
       " 'verbose': 0,\n",
       " 'warm_start': False}"
      ]
     },
     "execution_count": 60,
     "metadata": {
      "tags": []
     },
     "output_type": "execute_result"
    }
   ],
   "source": [
    "RFC.get_params()"
   ]
  },
  {
   "cell_type": "markdown",
   "metadata": {
    "colab_type": "text",
    "hidden": true,
    "id": "HINxXYNRzB0X"
   },
   "source": [
    "## Tuning par GridSearch"
   ]
  },
  {
   "cell_type": "code",
   "execution_count": null,
   "metadata": {
    "colab": {
     "base_uri": "https://localhost:8080/",
     "height": 123
    },
    "colab_type": "code",
    "hidden": true,
    "id": "AIfcGQ0Kq5lh",
    "outputId": "f1ef0267-e9ed-4b7a-fc54-f883ec070780"
   },
   "outputs": [
    {
     "name": "stdout",
     "output_type": "stream",
     "text": [
      "Fitting 5 folds for each of 72 candidates, totalling 360 fits\n"
     ]
    },
    {
     "name": "stderr",
     "output_type": "stream",
     "text": [
      "[Parallel(n_jobs=16)]: Using backend LokyBackend with 16 concurrent workers.\n",
      "[Parallel(n_jobs=16)]: Done  96 tasks      | elapsed:    7.6s\n",
      "[Parallel(n_jobs=16)]: Done 256 tasks      | elapsed:   14.4s\n",
      "[Parallel(n_jobs=16)]: Done 360 out of 360 | elapsed:   21.8s finished\n"
     ]
    },
    {
     "name": "stdout",
     "output_type": "stream",
     "text": [
      "Best parameters : {'max_depth': 7, 'max_features': 30, 'min_samples_split': 0.01}\n"
     ]
    }
   ],
   "source": [
    "#Grille de paramètres\n",
    "max_depth = [None, 3, 5, 7, 10, 15]\n",
    "min_samples_split = [0.001, 0.005, 0.01, 0.05]\n",
    "max_features = [10, 20, 30, 40, 50, 60, 70]\n",
    "param_grid = dict(max_features=max_features, min_samples_split=min_samples_split, max_depth=max_depth)\n",
    "\n",
    "#GridSearch\n",
    "grid_search = GridSearchCV(RandomForestClassifier(n_estimators=30),\n",
    "                           param_grid, cv=5, n_jobs=n_jobs, scoring=gini_scorer, verbose=3)\n",
    "grid_result = grid_search.fit(Xtrain, Ytrain)\n",
    "\n",
    "#Résultats\n",
    "best_params = grid_result.best_params_\n",
    "print(\"Best parameters :\", best_params)"
   ]
  },
  {
   "cell_type": "markdown",
   "metadata": {
    "colab_type": "text",
    "hidden": true,
    "id": "vhGe7JYvycGV"
   },
   "source": [
    "On optimise `n_estimators` :"
   ]
  },
  {
   "cell_type": "code",
   "execution_count": null,
   "metadata": {
    "colab": {},
    "colab_type": "code",
    "hidden": true,
    "id": "vF4qv-lWyuWu"
   },
   "outputs": [],
   "source": [
    "max_features = best_params[\"max_features\"]\n",
    "min_samples_split = best_params[\"min_samples_split\"]\n",
    "max_depth = best_params[\"max_depth\"]"
   ]
  },
  {
   "cell_type": "code",
   "execution_count": null,
   "metadata": {
    "colab": {},
    "colab_type": "code",
    "hidden": true,
    "id": "bm7JyFOVyiIO"
   },
   "outputs": [],
   "source": [
    "#Grille de paramètres\n",
    "n_estimators = [30, 50, 100, 300, 500, 700, 1000, 1500, 2000, 2500, 3000]\n",
    "param_grid = dict(n_estimators=n_estimators)\n",
    "\n",
    "#GridSearch\n",
    "grid_search = GridSearchCV(RandomForestClassifier(max_features=max_features, min_samples_split=min_samples_split, max_depth=max_depth),\n",
    "                           param_grid, cv=10, n_jobs=n_jobs, scoring=gini_scorer, verbose=5)\n",
    "grid_result = grid_search.fit(Xtrain, Ytrain)\n",
    "\n",
    "#Résultats\n",
    "best_params = grid_result.best_params_\n",
    "print(\"Best parameters :\", best_params)\n",
    "RFC = grid_result.best_estimator_"
   ]
  },
  {
   "cell_type": "markdown",
   "metadata": {
    "colab_type": "text",
    "hidden": true,
    "id": "zTzG-7-Bt3K9"
   },
   "source": [
    "Score :"
   ]
  },
  {
   "cell_type": "code",
   "execution_count": null,
   "metadata": {
    "colab": {
     "base_uri": "https://localhost:8080/",
     "height": 35
    },
    "colab_type": "code",
    "hidden": true,
    "id": "Ro9e4CfOmiSa",
    "outputId": "667c3faa-61f3-4438-9313-c609277c3d55"
   },
   "outputs": [
    {
     "name": "stdout",
     "output_type": "stream",
     "text": [
      "0.4340533318488004\n"
     ]
    }
   ],
   "source": [
    "print(grid_result.best_score_)"
   ]
  },
  {
   "cell_type": "code",
   "execution_count": null,
   "metadata": {
    "colab": {
     "base_uri": "https://localhost:8080/",
     "height": 34
    },
    "colab_type": "code",
    "hidden": true,
    "id": "4Q_5KVvRsKBC",
    "outputId": "4aa6e594-4b5f-4960-8d68-5f796af961d7"
   },
   "outputs": [
    {
     "name": "stdout",
     "output_type": "stream",
     "text": [
      "0.4588538684084016\n"
     ]
    }
   ],
   "source": [
    "print(gini_scorer(RFC, Xtest, Ytest))"
   ]
  },
  {
   "cell_type": "code",
   "execution_count": null,
   "metadata": {
    "colab": {
     "base_uri": "https://localhost:8080/",
     "height": 34
    },
    "colab_type": "code",
    "hidden": true,
    "id": "NvJ0VlPf6Pw8",
    "outputId": "5e34c70d-2543-46df-8fe0-869d6a7130cb"
   },
   "outputs": [
    {
     "name": "stdout",
     "output_type": "stream",
     "text": [
      "0.4588538684084016\n"
     ]
    }
   ],
   "source": [
    "print(gini_normalized(Ytest, RFC.predict_proba(Xtest)[:,1]))"
   ]
  },
  {
   "cell_type": "markdown",
   "metadata": {
    "colab_type": "text",
    "hidden": true,
    "id": "PKRaAbwVa1ej"
   },
   "source": [
    "Importance des variables :"
   ]
  },
  {
   "cell_type": "code",
   "execution_count": null,
   "metadata": {
    "colab": {
     "base_uri": "https://localhost:8080/",
     "height": 260
    },
    "colab_type": "code",
    "hidden": true,
    "id": "ZC-cUM1cbUgC",
    "outputId": "08a11a58-c2f8-4b2b-d803-e09792264df4"
   },
   "outputs": [
    {
     "data": {
      "image/png": "[encoded data removed]",
      "text/plain": [
       "<Figure size 432x288 with 1 Axes>"
      ]
     },
     "metadata": {
      "tags": []
     },
     "output_type": "display_data"
    }
   ],
   "source": [
    "feat_importance(RFC, np.array(X_train.columns), 10)"
   ]
  },
  {
   "cell_type": "markdown",
   "metadata": {
    "colab_type": "text",
    "hidden": true,
    "id": "UVHv9TVXuWT3"
   },
   "source": [
    "Sauvegarde du modèle :"
   ]
  },
  {
   "cell_type": "code",
   "execution_count": null,
   "metadata": {
    "colab": {},
    "colab_type": "code",
    "hidden": true,
    "id": "iO4jNT2GuYCo"
   },
   "outputs": [],
   "source": [
    "model_name = 'rfc' + str(seed)\n",
    "with open(save_models_path+'%s.txt'%(model_name), 'wb') as f:\n",
    "    pickle.dump(RFC, f)"
   ]
  },
  {
   "cell_type": "markdown",
   "metadata": {
    "colab_type": "text",
    "hidden": true,
    "id": "4M6AXayE56r-"
   },
   "source": [
    "## (Pour les tests) Paramètres customs"
   ]
  },
  {
   "cell_type": "code",
   "execution_count": null,
   "metadata": {
    "colab": {
     "base_uri": "https://localhost:8080/",
     "height": 139
    },
    "colab_type": "code",
    "hidden": true,
    "id": "-EEPzrBxsBId",
    "outputId": "cfc1c14e-d72d-431e-a3b2-3d17cdb776d2"
   },
   "outputs": [
    {
     "data": {
      "text/plain": [
       "RandomForestClassifier(bootstrap=True, class_weight=None, criterion='gini',\n",
       "            max_depth=50, max_features=10, max_leaf_nodes=None,\n",
       "            min_impurity_decrease=0.0, min_impurity_split=None,\n",
       "            min_samples_leaf=1, min_samples_split=500,\n",
       "            min_weight_fraction_leaf=0.0, n_estimators=200, n_jobs=1,\n",
       "            oob_score=False, random_state=None, verbose=0,\n",
       "            warm_start=False)"
      ]
     },
     "execution_count": 83,
     "metadata": {
      "tags": []
     },
     "output_type": "execute_result"
    }
   ],
   "source": [
    "RFC = RandomForestClassifier(n_estimators=200, max_features=10, max_depth=50, min_samples_split=500)\n",
    "RFC.fit(Xtrain, Ytrain)"
   ]
  },
  {
   "cell_type": "code",
   "execution_count": null,
   "metadata": {
    "colab": {
     "base_uri": "https://localhost:8080/",
     "height": 34
    },
    "colab_type": "code",
    "hidden": true,
    "id": "ySUzllL_ytW0",
    "outputId": "fef5495e-0b22-44ee-df99-55fd2bd31525"
   },
   "outputs": [
    {
     "name": "stdout",
     "output_type": "stream",
     "text": [
      "-0.4084453997648442\n"
     ]
    }
   ],
   "source": [
    "print(gini_scorer(RFC, Xtest, Ytest))"
   ]
  },
  {
   "cell_type": "code",
   "execution_count": null,
   "metadata": {
    "colab": {
     "base_uri": "https://localhost:8080/",
     "height": 34
    },
    "colab_type": "code",
    "hidden": true,
    "id": "NjpTHR1zEYzy",
    "outputId": "38e87abe-36ca-4dce-a01e-7feb04f637f9"
   },
   "outputs": [
    {
     "data": {
      "text/plain": [
       "0.40845458553791886"
      ]
     },
     "execution_count": 85,
     "metadata": {
      "tags": []
     },
     "output_type": "execute_result"
    }
   ],
   "source": [
    "gini_normalized(Ytest, RFC.predict_proba(Xtest)[:,1])"
   ]
  },
  {
   "cell_type": "markdown",
   "metadata": {
    "colab_type": "text",
    "heading_collapsed": true,
    "id": "01e4qcsYLNtr"
   },
   "source": [
    "# Light GBM"
   ]
  },
  {
   "cell_type": "markdown",
   "metadata": {
    "colab_type": "text",
    "hidden": true,
    "id": "HNPuka7DQGcK"
   },
   "source": [
    "On utilise la version avec l'API de scikit-learn (voir [ici](https://lightgbm.readthedocs.io/en/latest/Python-API.html#lightgbm.LGBMClassifier))"
   ]
  },
  {
   "cell_type": "code",
   "execution_count": 44,
   "metadata": {
    "colab": {},
    "colab_type": "code",
    "hidden": true,
    "id": "_vP1RmQrLPY_"
   },
   "outputs": [
    {
     "name": "stderr",
     "output_type": "stream",
     "text": [
      "/Library/Frameworks/Python.framework/Versions/3.6/lib/python3.6/site-packages/lightgbm/__init__.py:46: UserWarning: Starting from version 2.2.1, the library file in distribution wheels for macOS is built by the Apple Clang (Xcode_8.3.3) compiler.\n",
      "This means that in case of installing LightGBM from PyPI via the ``pip install lightgbm`` command, you don't need to install the gcc compiler anymore.\n",
      "Instead of that, you need to install the OpenMP library, which is required for running LightGBM on the system with the Apple Clang compiler.\n",
      "You can install the OpenMP library by the following command: ``brew install libomp``.\n",
      "  \"You can install the OpenMP library by the following command: ``brew install libomp``.\", UserWarning)\n"
     ]
    }
   ],
   "source": [
    "from lightgbm import LGBMClassifier"
   ]
  },
  {
   "cell_type": "markdown",
   "metadata": {
    "colab_type": "text",
    "hidden": true,
    "id": "zn-LwErJQhOP"
   },
   "source": [
    "Premier test sans spécifier de paramètres :"
   ]
  },
  {
   "cell_type": "code",
   "execution_count": null,
   "metadata": {
    "colab": {},
    "colab_type": "code",
    "hidden": true,
    "id": "sh-MY0B-Lkt1"
   },
   "outputs": [],
   "source": [
    "LGBM = LGBMClassifier()\n",
    "LGBM.fit(Xtrain, Ytrain)\n",
    "gini_scorer(LGBM, Xtest, Ytest)"
   ]
  },
  {
   "cell_type": "markdown",
   "metadata": {
    "colab_type": "text",
    "heading_collapsed": true,
    "hidden": true,
    "id": "HJLOH4CLxqW3"
   },
   "source": [
    "## Chargement d'un modèle"
   ]
  },
  {
   "cell_type": "code",
   "execution_count": 45,
   "metadata": {
    "colab": {},
    "colab_type": "code",
    "hidden": true,
    "id": "WG8xpHf6xqXN"
   },
   "outputs": [],
   "source": [
    "model_name = \"lgbmfull\"\n",
    "with urlopen(load_models_url+'LGBM/%s.txt'%(model_name)) as f:\n",
    "    LGBM = pickle.loads(f.read())"
   ]
  },
  {
   "cell_type": "code",
   "execution_count": 46,
   "metadata": {
    "colab": {
     "base_uri": "https://localhost:8080/",
     "height": 364
    },
    "colab_type": "code",
    "hidden": true,
    "id": "-ZyoE0A-J2h4",
    "outputId": "dac23d53-a661-4930-a397-bcd148a4ee64"
   },
   "outputs": [
    {
     "data": {
      "text/plain": [
       "{'boosting_type': 'gbdt',\n",
       " 'class_weight': None,\n",
       " 'colsample_bytree': 1.0,\n",
       " 'importance_type': 'split',\n",
       " 'learning_rate': 0.01,\n",
       " 'max_depth': 3,\n",
       " 'min_child_samples': 10,\n",
       " 'min_child_weight': 0.01,\n",
       " 'min_split_gain': 0,\n",
       " 'n_estimators': 1500,\n",
       " 'n_jobs': -1,\n",
       " 'num_leaves': 10,\n",
       " 'objective': None,\n",
       " 'random_state': None,\n",
       " 'reg_alpha': 1,\n",
       " 'reg_lambda': 0.1,\n",
       " 'silent': True,\n",
       " 'subsample': 1.0,\n",
       " 'subsample_for_bin': 200000,\n",
       " 'subsample_freq': 0}"
      ]
     },
     "execution_count": 46,
     "metadata": {},
     "output_type": "execute_result"
    }
   ],
   "source": [
    "LGBM.get_params()"
   ]
  },
  {
   "cell_type": "markdown",
   "metadata": {
    "colab_type": "text",
    "hidden": true,
    "id": "3R-zSGe7Qpmy"
   },
   "source": [
    "## Tuning par GridSearch"
   ]
  },
  {
   "cell_type": "markdown",
   "metadata": {
    "colab_type": "text",
    "hidden": true,
    "id": "CqsIIqX2Rb5F"
   },
   "source": [
    "On commence en fixant `n_estimators` et `learning_rate`, qu'on optimisera après :"
   ]
  },
  {
   "cell_type": "code",
   "execution_count": null,
   "metadata": {
    "colab": {
     "base_uri": "https://localhost:8080/",
     "height": 575
    },
    "colab_type": "code",
    "hidden": true,
    "id": "p0lv7BDBQeMd",
    "outputId": "0f4aa4bb-30ad-4393-a5f7-33e1851656cf"
   },
   "outputs": [
    {
     "name": "stdout",
     "output_type": "stream",
     "text": [
      "Fitting 5 folds for each of 5184 candidates, totalling 25920 fits\n"
     ]
    },
    {
     "name": "stderr",
     "output_type": "stream",
     "text": [
      "[Parallel(n_jobs=16)]: Using backend LokyBackend with 16 concurrent workers.\n",
      "[Parallel(n_jobs=16)]: Done  96 tasks      | elapsed:    2.2s\n",
      "[Parallel(n_jobs=16)]: Done 256 tasks      | elapsed:    6.3s\n",
      "[Parallel(n_jobs=16)]: Done 480 tasks      | elapsed:   12.1s\n",
      "[Parallel(n_jobs=16)]: Done 768 tasks      | elapsed:   19.4s\n",
      "[Parallel(n_jobs=16)]: Done 1120 tasks      | elapsed:   28.3s\n",
      "[Parallel(n_jobs=16)]: Done 1536 tasks      | elapsed:   39.0s\n",
      "[Parallel(n_jobs=16)]: Done 2016 tasks      | elapsed:   51.2s\n",
      "[Parallel(n_jobs=16)]: Done 2560 tasks      | elapsed:  1.1min\n",
      "[Parallel(n_jobs=16)]: Done 3168 tasks      | elapsed:  1.3min\n",
      "[Parallel(n_jobs=16)]: Done 3840 tasks      | elapsed:  1.6min\n",
      "[Parallel(n_jobs=16)]: Done 4576 tasks      | elapsed:  1.9min\n",
      "[Parallel(n_jobs=16)]: Done 5376 tasks      | elapsed:  2.3min\n",
      "[Parallel(n_jobs=16)]: Done 6240 tasks      | elapsed:  2.6min\n",
      "[Parallel(n_jobs=16)]: Done 7168 tasks      | elapsed:  3.1min\n",
      "[Parallel(n_jobs=16)]: Done 8160 tasks      | elapsed:  3.5min\n",
      "[Parallel(n_jobs=16)]: Done 9216 tasks      | elapsed:  4.0min\n",
      "[Parallel(n_jobs=16)]: Done 10336 tasks      | elapsed:  4.5min\n",
      "[Parallel(n_jobs=16)]: Done 11520 tasks      | elapsed:  5.1min\n",
      "[Parallel(n_jobs=16)]: Done 12768 tasks      | elapsed:  5.6min\n",
      "[Parallel(n_jobs=16)]: Done 14080 tasks      | elapsed:  6.3min\n",
      "[Parallel(n_jobs=16)]: Done 15456 tasks      | elapsed:  7.0min\n",
      "[Parallel(n_jobs=16)]: Done 16896 tasks      | elapsed:  7.7min\n",
      "[Parallel(n_jobs=16)]: Done 18400 tasks      | elapsed:  8.4min\n",
      "[Parallel(n_jobs=16)]: Done 19968 tasks      | elapsed:  9.2min\n",
      "[Parallel(n_jobs=16)]: Done 21600 tasks      | elapsed: 10.0min\n",
      "[Parallel(n_jobs=16)]: Done 23296 tasks      | elapsed: 10.9min\n",
      "[Parallel(n_jobs=16)]: Done 25056 tasks      | elapsed: 11.8min\n",
      "[Parallel(n_jobs=16)]: Done 25920 out of 25920 | elapsed: 12.2min finished\n"
     ]
    },
    {
     "name": "stdout",
     "output_type": "stream",
     "text": [
      "Best parameters : {'max_depth': 3, 'num_leaves': 10, 'min_child_samples': 10, 'subsample_for_bin': 200000, 'min_child_weight': 0.01, 'reg_lambda': 0.1, 'min_split_gain': 0, 'reg_alpha': 1}\n"
     ]
    }
   ],
   "source": [
    "#Grille de paramètres\n",
    "num_leaves = [2, 4, 5, 7, 10, 20]\n",
    "max_depth = [2, 3, 5, -1]\n",
    "subsample_for_bin = [200000]\n",
    "min_split_gain = [0]\n",
    "min_child_weight = [1e-2, 1e-1, 1, 10, 50, 100]\n",
    "min_child_samples = [10, 20, 30, 50, 70, 100]\n",
    "reg_alpha = [0, 1, 10]\n",
    "reg_lambda = [0, 1e-1]\n",
    "\n",
    "#GridSearch\n",
    "param_grid = dict(num_leaves=num_leaves, max_depth=max_depth, subsample_for_bin=subsample_for_bin, min_split_gain=min_split_gain, \n",
    "                  min_child_weight=min_child_weight, min_child_samples=min_child_samples,reg_alpha=reg_alpha, reg_lambda=reg_lambda)\n",
    "grid_search = GridSearchCV(LGBMClassifier(learning_rate=0.1, n_estimators=100),\n",
    "                           param_grid, cv=5, n_jobs=n_jobs, scoring=gini_scorer, verbose=3)\n",
    "grid_result = grid_search.fit(Xtrain, Ytrain)\n",
    "\n",
    "\n",
    "#Résultats\n",
    "best_params = grid_result.best_params_\n",
    "print(\"Best parameters :\", best_params)"
   ]
  },
  {
   "cell_type": "code",
   "execution_count": null,
   "metadata": {
    "colab": {},
    "colab_type": "code",
    "hidden": true,
    "id": "lbSf1nmsRppg"
   },
   "outputs": [],
   "source": [
    "num_leaves = best_params[\"num_leaves\"]\n",
    "max_depth = best_params[\"max_depth\"]\n",
    "subsample_for_bin = best_params[\"subsample_for_bin\"]\n",
    "min_split_gain = best_params[\"min_split_gain\"]\n",
    "min_child_weight = best_params[\"min_child_weight\"]\n",
    "min_child_samples = best_params[\"min_child_samples\"]\n",
    "reg_alpha = best_params[\"reg_alpha\"]\n",
    "reg_lambda = best_params[\"reg_lambda\"]"
   ]
  },
  {
   "cell_type": "markdown",
   "metadata": {
    "colab_type": "text",
    "hidden": true,
    "id": "ZKgA_pUeyvbC"
   },
   "source": [
    "Optimisation de `n_estimators` et `learning_rate` :"
   ]
  },
  {
   "cell_type": "code",
   "execution_count": null,
   "metadata": {
    "colab": {
     "base_uri": "https://localhost:8080/",
     "height": 139
    },
    "colab_type": "code",
    "hidden": true,
    "id": "iOAEtMpHRosd",
    "outputId": "e568473e-0b4b-4fab-c4f1-1e8180a0b2ab"
   },
   "outputs": [
    {
     "name": "stdout",
     "output_type": "stream",
     "text": [
      "Fitting 10 folds for each of 64 candidates, totalling 640 fits\n"
     ]
    },
    {
     "name": "stderr",
     "output_type": "stream",
     "text": [
      "[Parallel(n_jobs=16)]: Using backend LokyBackend with 16 concurrent workers.\n",
      "[Parallel(n_jobs=16)]: Done  96 tasks      | elapsed:   12.4s\n",
      "[Parallel(n_jobs=16)]: Done 256 tasks      | elapsed:   36.1s\n",
      "[Parallel(n_jobs=16)]: Done 480 tasks      | elapsed:  1.2min\n",
      "[Parallel(n_jobs=16)]: Done 640 out of 640 | elapsed:  1.6min finished\n"
     ]
    },
    {
     "name": "stdout",
     "output_type": "stream",
     "text": [
      "Best parameters : {'learning_rate': 0.01, 'n_estimators': 1500}\n"
     ]
    }
   ],
   "source": [
    "#Grille de paramètres\n",
    "learning_rate = [0.001, 0.01, 0.1, 0.2, 0.3, 0.4, 0.5, 1]\n",
    "n_estimators = [30, 50, 70, 100, 500, 1000, 1500, 2000]\n",
    "param_grid = dict(learning_rate=learning_rate, n_estimators=n_estimators)\n",
    "\n",
    "#GridSearch\n",
    "grid_search = GridSearchCV(LGBMClassifier(num_leaves=num_leaves, max_depth=max_depth, subsample_for_bin=subsample_for_bin, \n",
    "                                          min_split_gain=min_split_gain, min_child_weight=min_child_weight, \n",
    "                                          min_child_samples=min_child_samples,reg_alpha=reg_alpha, reg_lambda=reg_lambda),\n",
    "                           param_grid, cv=10, n_jobs=n_jobs, scoring=gini_scorer, verbose=3)\n",
    "grid_result = grid_search.fit(Xtrain, Ytrain)\n",
    "\n",
    "#Résultats\n",
    "best_params = grid_result.best_params_\n",
    "print(\"Best parameters :\", best_params)\n",
    "LGBM = grid_result.best_estimator_"
   ]
  },
  {
   "cell_type": "markdown",
   "metadata": {
    "colab_type": "text",
    "hidden": true,
    "id": "5-LDz52iUvyL"
   },
   "source": [
    "Score :"
   ]
  },
  {
   "cell_type": "code",
   "execution_count": null,
   "metadata": {
    "colab": {
     "base_uri": "https://localhost:8080/",
     "height": 34
    },
    "colab_type": "code",
    "hidden": true,
    "id": "fuXnilCKm5yG",
    "outputId": "40e4313d-817d-48ba-9962-48544db327e1"
   },
   "outputs": [
    {
     "name": "stdout",
     "output_type": "stream",
     "text": [
      "0.44450815565328733\n"
     ]
    }
   ],
   "source": [
    "print(grid_result.best_score_)"
   ]
  },
  {
   "cell_type": "code",
   "execution_count": null,
   "metadata": {
    "colab": {},
    "colab_type": "code",
    "hidden": true,
    "id": "pLlZo8VwUujX"
   },
   "outputs": [],
   "source": [
    "gini_scorer(LGBM, Xtest, Ytest)"
   ]
  },
  {
   "cell_type": "code",
   "execution_count": null,
   "metadata": {
    "colab": {},
    "colab_type": "code",
    "hidden": true,
    "id": "_22Z4Pd0O9a8"
   },
   "outputs": [],
   "source": [
    "gini_normalized(Ytest, LGBM.predict_proba(Xtest)[:,1])"
   ]
  },
  {
   "cell_type": "markdown",
   "metadata": {
    "colab_type": "text",
    "hidden": true,
    "id": "B5u7hjBezFkj"
   },
   "source": [
    "Importance des variables : "
   ]
  },
  {
   "cell_type": "code",
   "execution_count": null,
   "metadata": {
    "colab": {
     "base_uri": "https://localhost:8080/",
     "height": 260
    },
    "colab_type": "code",
    "hidden": true,
    "id": "sGihZuCIU49d",
    "outputId": "99a90580-e496-4694-c91b-b5b72689bb54"
   },
   "outputs": [
    {
     "data": {
      "image/png": "[encoded data removed]",
      "text/plain": [
       "<Figure size 432x288 with 1 Axes>"
      ]
     },
     "metadata": {
      "tags": []
     },
     "output_type": "display_data"
    }
   ],
   "source": [
    "feat_importance(LGBM, np.array(X_train.columns), 10)"
   ]
  },
  {
   "cell_type": "markdown",
   "metadata": {
    "colab_type": "text",
    "hidden": true,
    "id": "CN-6OcBDhxrs"
   },
   "source": [
    "On remarque que RandomForest et Light GBM n'ont pas les mêmes variables d'importance."
   ]
  },
  {
   "cell_type": "markdown",
   "metadata": {
    "colab_type": "text",
    "hidden": true,
    "id": "TtzLBlF9zSEn"
   },
   "source": [
    "Sauvegarde du modèle :"
   ]
  },
  {
   "cell_type": "code",
   "execution_count": null,
   "metadata": {
    "colab": {},
    "colab_type": "code",
    "hidden": true,
    "id": "Lh-G5wuozSEx"
   },
   "outputs": [],
   "source": [
    "model_name = 'lgbmfull'# + str(seed)\n",
    "with open(save_models_path+'%s.txt'%(model_name), 'wb') as f:\n",
    "    pickle.dump(LGBM, f)"
   ]
  },
  {
   "cell_type": "markdown",
   "metadata": {
    "colab_type": "text",
    "heading_collapsed": true,
    "id": "tV2hGYDqk62k"
   },
   "source": [
    "# Régression logistique"
   ]
  },
  {
   "cell_type": "code",
   "execution_count": 62,
   "metadata": {
    "colab": {},
    "colab_type": "code",
    "hidden": true,
    "id": "_6rHrkSezvwA"
   },
   "outputs": [],
   "source": [
    "from sklearn.linear_model import LogisticRegression"
   ]
  },
  {
   "cell_type": "markdown",
   "metadata": {
    "colab_type": "text",
    "hidden": true,
    "id": "6urtfdoJzvwr"
   },
   "source": [
    "## Chargement d'un modèle"
   ]
  },
  {
   "cell_type": "code",
   "execution_count": null,
   "metadata": {
    "colab": {},
    "colab_type": "code",
    "hidden": true,
    "id": "1BzDO1IJzvwy"
   },
   "outputs": [],
   "source": [
    "model_name = \"logreg666\"\n",
    "with urlopen(load_models_url+'LogReg/%s.txt'%(model_name)) as f:\n",
    "    LogReg = pickle.loads(f.read())"
   ]
  },
  {
   "cell_type": "markdown",
   "metadata": {
    "colab_type": "text",
    "hidden": true,
    "id": "PkXvKq1Lzvw6"
   },
   "source": [
    "## Tuning par GridSearch"
   ]
  },
  {
   "cell_type": "markdown",
   "metadata": {
    "colab_type": "text",
    "hidden": true,
    "id": "EvDfMrFB0mhS"
   },
   "source": [
    "On ajuste ici un modèle avec pénalisation l2. Comme il y a peu de paramètres à choisir, on fait de la valisation croisée 10 folds :"
   ]
  },
  {
   "cell_type": "code",
   "execution_count": null,
   "metadata": {
    "colab": {
     "base_uri": "https://localhost:8080/",
     "height": 161
    },
    "colab_type": "code",
    "hidden": true,
    "id": "ZdZ8zW-Uzvw_",
    "outputId": "cb0d3865-ff44-4961-8953-e31db7d66a1e"
   },
   "outputs": [
    {
     "name": "stdout",
     "output_type": "stream",
     "text": [
      "Fitting 10 folds for each of 25 candidates, totalling 250 fits\n"
     ]
    },
    {
     "name": "stderr",
     "output_type": "stream",
     "text": [
      "[Parallel(n_jobs=16)]: Using backend LokyBackend with 16 concurrent workers.\n",
      "[Parallel(n_jobs=16)]: Done  96 tasks      | elapsed:    7.0s\n",
      "[Parallel(n_jobs=16)]: Done 250 out of 250 | elapsed:   22.1s finished\n",
      "/home/Benjamin/.local/lib/python3.5/site-packages/sklearn/linear_model/logistic.py:433: FutureWarning: Default solver will be changed to 'lbfgs' in 0.22. Specify a solver to silence this warning.\n",
      "  FutureWarning)\n"
     ]
    },
    {
     "name": "stdout",
     "output_type": "stream",
     "text": [
      "Best parameters : {'C': 0.1, 'tol': 1e-08}\n"
     ]
    }
   ],
   "source": [
    "#Grille de paramètres\n",
    "tol = [1e-4, 1e-6, 1e-8, 1e-10, 1e-12]\n",
    "C = [1e-3, 1e-2, 1e-1, 1, 10]\n",
    "\n",
    "#GridSearch\n",
    "param_grid = dict(tol=tol, C=C)\n",
    "grid_search = GridSearchCV(LogisticRegression(),\n",
    "                           param_grid, cv=10, n_jobs=n_jobs, scoring=gini_scorer, verbose=3)\n",
    "grid_result = grid_search.fit(Xtrain, Ytrain)\n",
    "\n",
    "\n",
    "#Résultats\n",
    "best_params = grid_result.best_params_\n",
    "print(\"Best parameters :\", best_params)\n",
    "LogReg = grid_result.best_estimator_"
   ]
  },
  {
   "cell_type": "markdown",
   "metadata": {
    "colab_type": "text",
    "hidden": true,
    "id": "9JOgllvlzvxM"
   },
   "source": [
    "Score :"
   ]
  },
  {
   "cell_type": "code",
   "execution_count": null,
   "metadata": {
    "colab": {
     "base_uri": "https://localhost:8080/",
     "height": 35
    },
    "colab_type": "code",
    "hidden": true,
    "id": "viY8qlsQm03D",
    "outputId": "d2b698a3-9ffb-4e1e-eaf0-7cb82fac7801"
   },
   "outputs": [
    {
     "name": "stdout",
     "output_type": "stream",
     "text": [
      "0.42168902744530423\n"
     ]
    }
   ],
   "source": [
    "print(grid_result.best_score_)"
   ]
  },
  {
   "cell_type": "code",
   "execution_count": null,
   "metadata": {
    "colab": {},
    "colab_type": "code",
    "hidden": true,
    "id": "lc6tAVtFzvxP"
   },
   "outputs": [],
   "source": [
    "gini_scorer(LogReg, Xtest, Ytest)"
   ]
  },
  {
   "cell_type": "markdown",
   "metadata": {
    "colab_type": "text",
    "hidden": true,
    "id": "P7WbsDDRzvxw"
   },
   "source": [
    "Sauvegarde du modèle :"
   ]
  },
  {
   "cell_type": "code",
   "execution_count": null,
   "metadata": {
    "colab": {},
    "colab_type": "code",
    "hidden": true,
    "id": "myY41r4fzvxz"
   },
   "outputs": [],
   "source": [
    "model_name = 'logreg' + str(seed)\n",
    "with open(save_models_path+'%s.txt'%(model_name), 'wb') as f:\n",
    "    pickle.dump(LogReg, f)"
   ]
  },
  {
   "cell_type": "markdown",
   "metadata": {
    "colab_type": "text",
    "heading_collapsed": true,
    "id": "D6N3uw_7aL40"
   },
   "source": [
    "# Réseau de neurones"
   ]
  },
  {
   "cell_type": "code",
   "execution_count": null,
   "metadata": {
    "colab": {},
    "colab_type": "code",
    "hidden": true,
    "id": "aNKY9QdLaPlc"
   },
   "outputs": [],
   "source": [
    "from keras.models import Sequential\n",
    "from keras.layers.core import Dense, Activation\n",
    "from keras.optimizers import SGD, Adam\n",
    "from keras.utils.np_utils import to_categorical"
   ]
  },
  {
   "cell_type": "markdown",
   "metadata": {
    "colab_type": "text",
    "hidden": true,
    "id": "ahVpDuzjbP74"
   },
   "source": [
    "Modèle :"
   ]
  },
  {
   "cell_type": "code",
   "execution_count": null,
   "metadata": {
    "colab": {},
    "colab_type": "code",
    "hidden": true,
    "id": "Q2Ss_8JVdTp8"
   },
   "outputs": [],
   "source": [
    "Ytrain_neural = to_categorical(Ytrain)\n",
    "Ytest_neural = to_categorical(Ytest)"
   ]
  },
  {
   "cell_type": "code",
   "execution_count": null,
   "metadata": {
    "colab": {},
    "colab_type": "code",
    "hidden": true,
    "id": "4-grN4neaay-"
   },
   "outputs": [],
   "source": [
    "N = Xtrain.shape[1] #Dimension en entrée\n",
    "H = 200 #Dimension de la couche cachée\n",
    "K = 2 #Nombre de classes"
   ]
  },
  {
   "cell_type": "code",
   "execution_count": null,
   "metadata": {
    "colab": {},
    "colab_type": "code",
    "hidden": true,
    "id": "AjLNCLJoaoxu"
   },
   "outputs": [],
   "source": [
    "#Modèle\n",
    "model = Sequential()\n",
    "model.add(Dense(H, input_dim=N))\n",
    "model.add(Activation(\"tanh\"))\n",
    "model.add(Dense(H//4))\n",
    "model.add(Activation(\"tanh\"))\n",
    "model.add(Dense(K))\n",
    "model.add(Activation(\"tanh\"))\n",
    "model.add(Dense(K))\n",
    "model.add(Activation(\"softmax\"))\n",
    "\n",
    "#Optimiseur\n",
    "sgd = SGD(lr=0.1, momentum=0)\n",
    "adam = Adam(lr=0.0003)\n",
    "\n",
    "#Compilation\n",
    "model.compile(optimizer=adam,loss='binary_crossentropy', metrics=['accuracy'])"
   ]
  },
  {
   "cell_type": "markdown",
   "metadata": {
    "colab_type": "text",
    "hidden": true,
    "id": "v-CDMM9abPJo"
   },
   "source": [
    "Entrainement :"
   ]
  },
  {
   "cell_type": "code",
   "execution_count": null,
   "metadata": {
    "colab": {},
    "colab_type": "code",
    "hidden": true,
    "id": "crzgxP3cbOkI"
   },
   "outputs": [],
   "source": [
    "history = model.fit(Xtrain, Ytrain_neural, epochs=500, batch_size=300, verbose=False)"
   ]
  },
  {
   "cell_type": "markdown",
   "metadata": {
    "colab_type": "text",
    "hidden": true,
    "id": "C9iqFfBwbi3-"
   },
   "source": [
    "Score : "
   ]
  },
  {
   "cell_type": "code",
   "execution_count": null,
   "metadata": {
    "colab": {
     "base_uri": "https://localhost:8080/",
     "height": 52
    },
    "colab_type": "code",
    "hidden": true,
    "id": "EC8ePzWrh9K3",
    "outputId": "83b81ddb-2245-43ba-903b-a8377695164e"
   },
   "outputs": [
    {
     "name": "stdout",
     "output_type": "stream",
     "text": [
      "3033/3033 [==============================] - 1s 286us/step\n"
     ]
    },
    {
     "data": {
      "text/plain": [
       "[0.49797295087483545, 0.7781074844371986]"
      ]
     },
     "execution_count": 141,
     "metadata": {
      "tags": []
     },
     "output_type": "execute_result"
    }
   ],
   "source": [
    "model.evaluate(Xtest, Ytest_neural)"
   ]
  },
  {
   "cell_type": "code",
   "execution_count": null,
   "metadata": {
    "colab": {
     "base_uri": "https://localhost:8080/",
     "height": 34
    },
    "colab_type": "code",
    "hidden": true,
    "id": "6MnTNau7biMP",
    "outputId": "868ec3b6-0672-47fb-b060-b223298b0fdc"
   },
   "outputs": [
    {
     "data": {
      "text/plain": [
       "0.30353742324734384"
      ]
     },
     "execution_count": 142,
     "metadata": {
      "tags": []
     },
     "output_type": "execute_result"
    }
   ],
   "source": [
    "gini_normalized(Ytest, model.predict_proba(Xtest)[:,1])"
   ]
  },
  {
   "cell_type": "code",
   "execution_count": null,
   "metadata": {
    "colab": {
     "base_uri": "https://localhost:8080/",
     "height": 291
    },
    "colab_type": "code",
    "hidden": true,
    "id": "3s4_2JMvihek",
    "outputId": "fc2b9290-5967-4aa6-b69a-c750e6be58e1"
   },
   "outputs": [
    {
     "data": {
      "text/plain": [
       "[<matplotlib.lines.Line2D at 0x1418d2908>]"
      ]
     },
     "execution_count": 143,
     "metadata": {
      "tags": []
     },
     "output_type": "execute_result"
    },
    {
     "data": {
      "image/png": "[encoded data removed]",
      "text/plain": [
       "<Figure size 432x288 with 1 Axes>"
      ]
     },
     "metadata": {
      "tags": []
     },
     "output_type": "display_data"
    }
   ],
   "source": [
    "plt.plot(history.history['loss'])"
   ]
  },
  {
   "cell_type": "markdown",
   "metadata": {
    "colab_type": "text",
    "heading_collapsed": true,
    "id": "ug69Cr7hnZIK"
   },
   "source": [
    "# SVM"
   ]
  },
  {
   "cell_type": "code",
   "execution_count": null,
   "metadata": {
    "colab": {},
    "colab_type": "code",
    "hidden": true,
    "id": "oFsHxXU6cJLx"
   },
   "outputs": [],
   "source": [
    "from sklearn.svm import SVC"
   ]
  },
  {
   "cell_type": "markdown",
   "metadata": {
    "colab_type": "text",
    "hidden": true,
    "id": "vXFSUo0ibafW"
   },
   "source": [
    "## GridSearch"
   ]
  },
  {
   "cell_type": "code",
   "execution_count": null,
   "metadata": {
    "colab": {
     "base_uri": "https://localhost:8080/",
     "height": 159
    },
    "colab_type": "code",
    "hidden": true,
    "id": "B8u4havNndn9",
    "outputId": "663f90ec-ecb6-4113-92cd-b72d86411d09"
   },
   "outputs": [
    {
     "name": "stdout",
     "output_type": "stream",
     "text": [
      "Fitting 5 folds for each of 9 candidates, totalling 45 fits\n"
     ]
    },
    {
     "name": "stderr",
     "output_type": "stream",
     "text": [
      "[Parallel(n_jobs=16)]: Using backend LokyBackend with 16 concurrent workers.\n",
      "[Parallel(n_jobs=16)]: Done  24 out of  45 | elapsed:  1.1min remaining:   59.3s\n",
      "[Parallel(n_jobs=16)]: Done  34 out of  45 | elapsed:  1.9min remaining:   36.5s\n",
      "[Parallel(n_jobs=16)]: Done  45 out of  45 | elapsed:  7.1min finished\n",
      "/home/Benjamin/.local/lib/python3.5/site-packages/sklearn/model_selection/_search.py:841: DeprecationWarning: The default of the `iid` parameter will change from True to False in version 0.22 and will be removed in 0.24. This will change numeric results when test-set sizes are unequal.\n",
      "  DeprecationWarning)\n"
     ]
    }
   ],
   "source": [
    "#Grille de paramètres\n",
    "kernel = ['linear', 'poly', 'rbf']\n",
    "C = [1e-12, 1e-6, 1e-4]\n",
    "gamma = ['scale']\n",
    "\n",
    "#GridSearch\n",
    "param_grid = dict(kernel=kernel, C=C, gamma=gamma)\n",
    "grid_search = GridSearchCV(SVC(probability=True),\n",
    "                           param_grid, cv=5, n_jobs=n_jobs, scoring=gini_scorer, verbose=5)\n",
    "grid_result = grid_search.fit(Xtrain, Ytrain)\n",
    "\n",
    "\n",
    "#Résultats\n",
    "best_params = grid_result.best_params_\n",
    "print(\"Best parameters :\", best_params)\n",
    "SVM = grid_result.best_estimator_"
   ]
  },
  {
   "cell_type": "markdown",
   "metadata": {
    "colab_type": "text",
    "hidden": true,
    "id": "jlMVjJfJbYvH"
   },
   "source": [
    "## Score"
   ]
  },
  {
   "cell_type": "code",
   "execution_count": null,
   "metadata": {
    "colab": {},
    "colab_type": "code",
    "hidden": true,
    "id": "3fVjzBGNbVep"
   },
   "outputs": [],
   "source": [
    "print(grid_result.best_score_)"
   ]
  },
  {
   "cell_type": "code",
   "execution_count": null,
   "metadata": {
    "colab": {},
    "colab_type": "code",
    "hidden": true,
    "id": "hwLUhUC2bYAJ"
   },
   "outputs": [],
   "source": [
    "print(gini_scorer(SVM, Xtest, Ytest))"
   ]
  },
  {
   "cell_type": "markdown",
   "metadata": {
    "colab_type": "text",
    "id": "CGYMF5A23ghm"
   },
   "source": [
    "# Ensembling"
   ]
  },
  {
   "cell_type": "markdown",
   "metadata": {
    "colab_type": "text",
    "id": "2pYP_hJY3jEF"
   },
   "source": [
    "Dans cette partie on s'intéresse à l'ensembling, une méthode qui consiste à utiliser les prédictions de plusieurs estimateurs différents afin d'en créer un nouveau plus performant. Nous nous concentrons sur deux méthodes différentes :\n",
    "* Weighted Average Probabilities (voir [ici](https://scikit-learn.org/stable/modules/ensemble.html#weighted-average-probabilities-soft-voting)) : consiste à attribuer un poids à chaque modèle, puis à calculer la moyenne pondérée des probabilités d'appartenance à chaque classe.\n",
    "* Stacking/Blending (voir [ici](https://mlwave.com/kaggle-ensembling-guide/)) : consiste à créer un nouveau jeu de données à partir des prédictions faites par nos modèles. On entraine ensuite un nouveau modèle sur ce jeu de données."
   ]
  },
  {
   "cell_type": "code",
   "execution_count": null,
   "metadata": {
    "colab": {
     "base_uri": "https://localhost:8080/",
     "height": 182
    },
    "colab_type": "code",
    "id": "tEec50t7hGsH",
    "outputId": "f3f39e1e-49c7-48fa-c4e1-baa47e8317fc"
   },
   "outputs": [
    {
     "ename": "NameError",
     "evalue": "ignored",
     "output_type": "error",
     "traceback": [
      "\u001b[0;31m---------------------------------------------------------------------------\u001b[0m",
      "\u001b[0;31mNameError\u001b[0m                                 Traceback (most recent call last)",
      "\u001b[0;32m<ipython-input-45-3a2ff796a74f>\u001b[0m in \u001b[0;36m<module>\u001b[0;34m\u001b[0m\n\u001b[0;32m----> 1\u001b[0;31m \u001b[0mensemble_list\u001b[0m \u001b[0;34m=\u001b[0m \u001b[0;34m[\u001b[0m\u001b[0mXGB\u001b[0m\u001b[0;34m,\u001b[0m \u001b[0mRFC\u001b[0m\u001b[0;34m,\u001b[0m \u001b[0mLGBM\u001b[0m\u001b[0;34m,\u001b[0m \u001b[0mLogReg\u001b[0m\u001b[0;34m]\u001b[0m\u001b[0;34m\u001b[0m\u001b[0m\n\u001b[0m\u001b[1;32m      2\u001b[0m \u001b[0mensemble_names\u001b[0m \u001b[0;34m=\u001b[0m \u001b[0;34m[\u001b[0m\u001b[0;34m'XGB'\u001b[0m\u001b[0;34m,\u001b[0m \u001b[0;34m'RFC'\u001b[0m\u001b[0;34m,\u001b[0m \u001b[0;34m'LGBM'\u001b[0m\u001b[0;34m,\u001b[0m \u001b[0;34m'LogReg'\u001b[0m\u001b[0;34m]\u001b[0m\u001b[0;34m\u001b[0m\u001b[0m\n",
      "\u001b[0;31mNameError\u001b[0m: name 'XGB' is not defined"
     ]
    }
   ],
   "source": [
    "ensemble_list = [XGB, RFC, LGBM, LogReg]\n",
    "ensemble_names = ['XGB', 'RFC', 'LGBM', 'LogReg']"
   ]
  },
  {
   "cell_type": "code",
   "execution_count": null,
   "metadata": {
    "colab": {
     "base_uri": "https://localhost:8080/",
     "height": 217
    },
    "colab_type": "code",
    "id": "dNbUSWVpfYYJ",
    "outputId": "ca7087a8-40f6-4bce-8765-c963ec946050"
   },
   "outputs": [
    {
     "name": "stdout",
     "output_type": "stream",
     "text": [
      "Scores individuels sur le test :\n"
     ]
    },
    {
     "ename": "NameError",
     "evalue": "ignored",
     "output_type": "error",
     "traceback": [
      "\u001b[0;31m---------------------------------------------------------------------------\u001b[0m",
      "\u001b[0;31mNameError\u001b[0m                                 Traceback (most recent call last)",
      "\u001b[0;32m<ipython-input-46-8b8d445ad783>\u001b[0m in \u001b[0;36m<module>\u001b[0;34m\u001b[0m\n\u001b[1;32m      1\u001b[0m \u001b[0mprint\u001b[0m\u001b[0;34m(\u001b[0m\u001b[0;34m\"Scores individuels sur le test :\"\u001b[0m\u001b[0;34m)\u001b[0m\u001b[0;34m\u001b[0m\u001b[0m\n\u001b[0;32m----> 2\u001b[0;31m \u001b[0;32mfor\u001b[0m \u001b[0mk\u001b[0m \u001b[0;32min\u001b[0m \u001b[0mrange\u001b[0m\u001b[0;34m(\u001b[0m\u001b[0mlen\u001b[0m\u001b[0;34m(\u001b[0m\u001b[0mensemble_list\u001b[0m\u001b[0;34m)\u001b[0m\u001b[0;34m)\u001b[0m\u001b[0;34m:\u001b[0m\u001b[0;34m\u001b[0m\u001b[0m\n\u001b[0m\u001b[1;32m      3\u001b[0m     \u001b[0mprint\u001b[0m\u001b[0;34m(\u001b[0m\u001b[0mensemble_names\u001b[0m\u001b[0;34m[\u001b[0m\u001b[0mk\u001b[0m\u001b[0;34m]\u001b[0m\u001b[0;34m,\u001b[0m \u001b[0;34m':'\u001b[0m\u001b[0;34m,\u001b[0m \u001b[0mgini_scorer\u001b[0m\u001b[0;34m(\u001b[0m\u001b[0mensemble_list\u001b[0m\u001b[0;34m[\u001b[0m\u001b[0mk\u001b[0m\u001b[0;34m]\u001b[0m\u001b[0;34m,\u001b[0m \u001b[0mXtest\u001b[0m\u001b[0;34m,\u001b[0m \u001b[0mYtest\u001b[0m\u001b[0;34m)\u001b[0m\u001b[0;34m)\u001b[0m\u001b[0;34m\u001b[0m\u001b[0m\n",
      "\u001b[0;31mNameError\u001b[0m: name 'ensemble_list' is not defined"
     ]
    }
   ],
   "source": [
    "print(\"Scores individuels sur le test :\")\n",
    "for k in range(len(ensemble_list)):\n",
    "    print(ensemble_names[k], ':', gini_scorer(ensemble_list[k], Xtest, Ytest))"
   ]
  },
  {
   "cell_type": "markdown",
   "metadata": {
    "colab_type": "text",
    "heading_collapsed": true,
    "id": "9TvlTpgN5kH_"
   },
   "source": [
    "## Weighted Average Probabilities\n"
   ]
  },
  {
   "cell_type": "markdown",
   "metadata": {
    "colab_type": "text",
    "hidden": true,
    "id": "ZWYuwMyGL8uM"
   },
   "source": [
    "Prédictions de la classe 1 par les algorithmes :"
   ]
  },
  {
   "cell_type": "code",
   "execution_count": null,
   "metadata": {
    "colab": {},
    "colab_type": "code",
    "hidden": true,
    "id": "GKtESZGjMCC-"
   },
   "outputs": [],
   "source": [
    "def raw_preds1(ensemble, X):\n",
    "    \"\"\"Prédictions des modèles de premier niveau\"\"\"\n",
    "    y_pred = np.hstack([model.predict_proba(X) for model in ensemble]) #Toutes les prédictions\n",
    "    return y_pred[:, 1::2] #Prédictions pour la classe 1\n",
    "\n",
    "def ensemble_preds(raw_preds, weights):\n",
    "    \"\"\"Prédiction de l'ensemble sur Xtest\"\"\"\n",
    "    if sum(weights) ==0:\n",
    "        return np.zeros((len(Xtest), 2))\n",
    "    else:\n",
    "        return np.average(raw_preds, axis=1, weights=weights)\n",
    "\n",
    "def normalize(weights):\n",
    "\t# calculate l1 vector norm\n",
    "\tresult = np.linalg.norm(weights, 1)\n",
    "\t# check for a vector of all zeros\n",
    "\tif result == 0.0:\n",
    "\t\treturn weights\n",
    "\t# return normalized vector (unit norm)\n",
    "\treturn weights / result"
   ]
  },
  {
   "cell_type": "markdown",
   "metadata": {
    "colab_type": "text",
    "hidden": true,
    "id": "P6driVwJKrFy"
   },
   "source": [
    "### GridSearch"
   ]
  },
  {
   "cell_type": "markdown",
   "metadata": {
    "colab_type": "text",
    "hidden": true,
    "id": "NxtRHNcCLQHX"
   },
   "source": [
    "On cherche les poids sur une grille définie comme un produit cartésien (voir [ici](https://machinelearningmastery.com/weighted-average-ensemble-for-deep-learning-neural-networks/)) :"
   ]
  },
  {
   "cell_type": "code",
   "execution_count": null,
   "metadata": {
    "colab": {},
    "colab_type": "code",
    "hidden": true,
    "id": "C-ERECr9KtkM"
   },
   "outputs": [],
   "source": [
    "from itertools import product\n",
    "\n",
    "\n",
    "# grid search weights\n",
    "def grid_search(ensemble, X, Y):\n",
    "    \"\"\"X : données sur lesquels on applique les algos de 1er niveau.\n",
    "    Y : targets\"\"\"\n",
    "\t# define weights to consider\n",
    "    w = np.arange(0, 1.05, 0.05)\n",
    "    best_score, best_weights = 0.0, None\n",
    "    raw_preds = raw_preds1(ensemble, X)\n",
    "\t# iterate all possible combinations (cartesian product)\n",
    "    for weights in product(w, repeat=len(ensemble)):\n",
    "\t\t# skip if all weights are equal\n",
    "        if len(set(weights)) == 1:\n",
    "            continue\n",
    "        # hack, normalize weight vector\n",
    "        weights = normalize(weights)\n",
    "        # evaluate weights\n",
    "        score = gini_normalized(Y, ensemble_preds(raw_preds, weights))\n",
    "        if score > best_score:\n",
    "            best_score, best_weights = score, weights\n",
    "            print('>%s %.3f' % (best_weights, best_score))\n",
    "    return list(best_weights)"
   ]
  },
  {
   "cell_type": "code",
   "execution_count": null,
   "metadata": {
    "colab": {
     "base_uri": "https://localhost:8080/",
     "height": 208
    },
    "colab_type": "code",
    "hidden": true,
    "id": "NTh-tol8Q5ni",
    "outputId": "d89a2b0a-19f3-4ddd-f838-8e68740af6bd"
   },
   "outputs": [
    {
     "name": "stdout",
     "output_type": "stream",
     "text": [
      ">[0. 0. 0. 1.] 0.434\n",
      ">[0. 0. 1. 0.] 0.448\n",
      ">[0.  0.  0.5 0.5] 0.451\n",
      ">[0.         0.         0.66666667 0.33333333] 0.452\n",
      ">[0.         0.         0.69230769 0.30769231] 0.452\n",
      ">[0.     0.     0.6875 0.3125] 0.452\n",
      ">[0.         0.         0.68421053 0.31578947] 0.452\n",
      ">[0.         0.         0.68965517 0.31034483] 0.452\n",
      "\n",
      "Best weights : [0.0, 0.0, 0.6896551724137931, 0.3103448275862069]\n",
      "Score : 0.4521064163727059\n"
     ]
    }
   ],
   "source": [
    "best_weights_grid = grid_search(ensemble_list, Xtest, Ytest)\n",
    "print(\"\\nBest weights :\", best_weights_grid)\n",
    "print(\"Score :\", gini_normalized(Ytest, ensemble_preds(raw_preds1(ensemble_list, Xtest), best_weights_grid)))"
   ]
  },
  {
   "cell_type": "markdown",
   "metadata": {
    "colab_type": "text",
    "hidden": true,
    "id": "a0pa77wBKfCQ"
   },
   "source": [
    "### Optimisation d'une fonction de perte (1ère méthode)"
   ]
  },
  {
   "cell_type": "code",
   "execution_count": null,
   "metadata": {
    "colab": {},
    "colab_type": "code",
    "hidden": true,
    "id": "tLA1iQ3T0b1K"
   },
   "outputs": [],
   "source": [
    "from scipy import optimize"
   ]
  },
  {
   "cell_type": "markdown",
   "metadata": {
    "colab_type": "text",
    "hidden": true,
    "id": "00RHNbKUMcYE"
   },
   "source": [
    "On cherche les poids en maximisant la fonction de score grâce à l'algorithme Simple (voir [ici](https://www.kaggle.com/daisukelab/optimizing-ensemble-weights-using-simple)). On commence par définir la fonction à minimiser, qui utilise les valeurs prédites sur l'ensemble de validation (Xtest) :"
   ]
  },
  {
   "cell_type": "code",
   "execution_count": null,
   "metadata": {
    "colab": {},
    "colab_type": "code",
    "hidden": true,
    "id": "u9VMZOdPMuFw"
   },
   "outputs": [],
   "source": [
    "raw_preds = np.array([model.predict_proba(Xtest) for model in ensemble_list]) #Prédictions de chaque modèle\n",
    "\n",
    "def ensemble_preds(weights):\n",
    "    \"\"\"Prédiction de l'ensemble sur Xtest\"\"\"\n",
    "    if sum(weights) ==0:\n",
    "        return np.zeros((len(Xtest), 2))\n",
    "    else:\n",
    "        return np.average(raw_preds, axis=0, weights=weights)\n",
    "\n",
    "def loss_function(weights):\n",
    "    \"\"\"Renvoie la valeur de la perte pour les prédictions de l'ensemble.\n",
    "    Ici la perte est l'opposée de la fonction de score, soit -gini_normalized\"\"\"\n",
    "    return -gini_normalized(Ytest, ensemble_preds(weights)[:,1])\n",
    "\n",
    "def acc_function(weights):\n",
    "    return -loss_function(weights)"
   ]
  },
  {
   "cell_type": "markdown",
   "metadata": {
    "colab_type": "text",
    "hidden": true,
    "id": "REeMv0fRaGZs"
   },
   "source": [
    "On optimise maintenant la fonction de perte sous contraintes :"
   ]
  },
  {
   "cell_type": "code",
   "execution_count": null,
   "metadata": {
    "colab": {},
    "colab_type": "code",
    "hidden": true,
    "id": "lEF2SRplUvfO"
   },
   "outputs": [],
   "source": [
    "# Copie de l'algorithme Simple\n",
    "# Source : https://github.com/chrisstroemel/Simple/blob/master/Simple.py\n",
    "\n",
    "from heapq import heappush, heappop, heappushpop\n",
    "import numpy\n",
    "import math\n",
    "import time\n",
    "import matplotlib.pyplot as plotter\n",
    "\n",
    "CAPACITY_INCREMENT = 1000\n",
    "\n",
    "\n",
    "class _Simplex:\n",
    "\tdef __init__(self, pointIndices, testCoords, contentFractions, objectiveScore, opportunityCost, contentFraction, difference):\n",
    "\t\tself.pointIndices = pointIndices\n",
    "\t\tself.testCoords = testCoords\n",
    "\t\tself.contentFractions = contentFractions\n",
    "\t\tself.contentFraction = contentFraction\n",
    "\t\tself.__objectiveScore = objectiveScore\n",
    "\t\tself.__opportunityCost = opportunityCost\n",
    "\t\tself.update(difference)\n",
    "\n",
    "\tdef update(self, difference):\n",
    "\t\tself.acquisitionValue = -(self.__objectiveScore + (self.__opportunityCost * difference))\n",
    "\t\tself.difference = difference\n",
    "\n",
    "\tdef __eq__(self, other):\n",
    "\t\treturn self.acquisitionValue == other.acquisitionValue\n",
    "\n",
    "\tdef __lt__(self, other):\n",
    "\t\treturn self.acquisitionValue < other.acquisitionValue\n",
    "\n",
    "class SimpleTuner:\n",
    "\tdef __init__(self, cornerPoints, objectiveFunction, exploration_preference=0.15):\n",
    "\t\tself.__cornerPoints = cornerPoints\n",
    "\t\tself.__numberOfVertices = len(cornerPoints)\n",
    "\t\tself.queue = []\n",
    "\t\tself.capacity = self.__numberOfVertices + CAPACITY_INCREMENT\n",
    "\t\tself.testPoints = numpy.empty((self.capacity, self.__numberOfVertices))\n",
    "\t\tself.objective = objectiveFunction\n",
    "\t\tself.iterations = 0\n",
    "\t\tself.maxValue = None\n",
    "\t\tself.minValue = None\n",
    "\t\tself.bestCoords = []\n",
    "\t\tself.opportunityCostFactor = exploration_preference #/ self.__numberOfVertices\n",
    "\t\t\t\n",
    "\n",
    "\tdef optimize(self, maxSteps=10):\n",
    "\t\tfor step in range(maxSteps):\n",
    "\t\t\t#print(self.maxValue, self.iterations, self.bestCoords)\n",
    "\t\t\tif len(self.queue) > 0:\n",
    "\t\t\t\ttargetSimplex = self.__getNextSimplex()\n",
    "\t\t\t\tnewPointIndex = self.__testCoords(targetSimplex.testCoords)\n",
    "\t\t\t\tfor i in range(0, self.__numberOfVertices):\n",
    "\t\t\t\t\ttempIndex = targetSimplex.pointIndices[i]\n",
    "\t\t\t\t\ttargetSimplex.pointIndices[i] = newPointIndex\n",
    "\t\t\t\t\tnewContentFraction = targetSimplex.contentFraction * targetSimplex.contentFractions[i]\n",
    "\t\t\t\t\tnewSimplex = self.__makeSimplex(targetSimplex.pointIndices, newContentFraction)\n",
    "\t\t\t\t\theappush(self.queue, newSimplex)\n",
    "\t\t\t\t\ttargetSimplex.pointIndices[i] = tempIndex\n",
    "\t\t\telse:\n",
    "\t\t\t\ttestPoint = self.__cornerPoints[self.iterations]\n",
    "\t\t\t\ttestPoint.append(0)\n",
    "\t\t\t\ttestPoint = numpy.array(testPoint, dtype=numpy.float64)\n",
    "\t\t\t\tself.__testCoords(testPoint)\n",
    "\t\t\t\tif self.iterations == (self.__numberOfVertices - 1):\n",
    "\t\t\t\t\tinitialSimplex = self.__makeSimplex(numpy.arange(self.__numberOfVertices, dtype=numpy.intp), 1)\n",
    "\t\t\t\t\theappush(self.queue, initialSimplex)\n",
    "\t\t\tself.iterations += 1\n",
    "\n",
    "\tdef get_best(self):\n",
    "\t\treturn (self.maxValue, self.bestCoords[0:-1])\n",
    "\n",
    "\tdef __getNextSimplex(self):\n",
    "\t\ttargetSimplex = heappop(self.queue)\n",
    "\t\tcurrentDifference = self.maxValue - self.minValue\n",
    "\t\twhile currentDifference > targetSimplex.difference:\n",
    "\t\t\ttargetSimplex.update(currentDifference)\n",
    "\t\t\t# if greater than because heapq is in ascending order\n",
    "\t\t\tif targetSimplex.acquisitionValue > self.queue[0].acquisitionValue:\n",
    "\t\t\t\ttargetSimplex = heappushpop(self.queue, targetSimplex)\n",
    "\t\treturn targetSimplex\n",
    "\t\t\n",
    "\tdef __testCoords(self, testCoords):\n",
    "\t\tobjectiveValue = self.objective(testCoords[0:-1])\n",
    "\t\tif self.maxValue == None or objectiveValue > self.maxValue: \n",
    "\t\t\tself.maxValue = objectiveValue\n",
    "\t\t\tself.bestCoords = testCoords\n",
    "\t\t\tif self.minValue == None: self.minValue = objectiveValue\n",
    "\t\telif objectiveValue < self.minValue:\n",
    "\t\t\tself.minValue = objectiveValue\n",
    "\t\ttestCoords[-1] = objectiveValue\n",
    "\t\tif self.capacity == self.iterations:\n",
    "\t\t\tself.capacity += CAPACITY_INCREMENT\n",
    "\t\t\tself.testPoints.resize((self.capacity, self.__numberOfVertices))\n",
    "\t\tnewPointIndex = self.iterations\n",
    "\t\tself.testPoints[newPointIndex] = testCoords\n",
    "\t\treturn newPointIndex\n",
    "\n",
    "\n",
    "\tdef __makeSimplex(self, pointIndices, contentFraction):\n",
    "\t\tvertexMatrix = self.testPoints[pointIndices]\n",
    "\t\tcoordMatrix = vertexMatrix[:, 0:-1]\n",
    "\t\tbarycenterLocation = numpy.sum(vertexMatrix, axis=0) / self.__numberOfVertices\n",
    "\n",
    "\t\tdifferences = coordMatrix - barycenterLocation[0:-1]\n",
    "\t\tdistances = numpy.sqrt(numpy.sum(differences * differences, axis=1))\n",
    "\t\ttotalDistance = numpy.sum(distances)\n",
    "\t\tbarycentricTestCoords = distances / totalDistance\n",
    "\n",
    "\t\teuclideanTestCoords = vertexMatrix.T.dot(barycentricTestCoords)\n",
    "\t\t\n",
    "\t\tvertexValues = vertexMatrix[:,-1]\n",
    "\n",
    "\t\ttestpointDifferences = coordMatrix - euclideanTestCoords[0:-1]\n",
    "\t\ttestPointDistances = numpy.sqrt(numpy.sum(testpointDifferences * testpointDifferences, axis=1))\n",
    "\n",
    "\n",
    "\n",
    "\t\tinverseDistances = 1 / testPointDistances\n",
    "\t\tinverseSum = numpy.sum(inverseDistances)\n",
    "\t\tinterpolatedValue = inverseDistances.dot(vertexValues) / inverseSum\n",
    "\n",
    "\n",
    "\t\tcurrentDifference = self.maxValue - self.minValue\n",
    "\t\topportunityCost = self.opportunityCostFactor * math.log(contentFraction, self.__numberOfVertices)\n",
    "\n",
    "\t\treturn _Simplex(pointIndices.copy(), euclideanTestCoords, barycentricTestCoords, interpolatedValue, opportunityCost, contentFraction, currentDifference)\n",
    "\n",
    "\tdef plot(self):\n",
    "\t\tif self.__numberOfVertices != 3: raise RuntimeError('Plotting only supported in 2D')\n",
    "\t\tmatrix = self.testPoints[0:self.iterations, :]\n",
    "\n",
    "\t\tx = matrix[:,0].flat\n",
    "\t\ty = matrix[:,1].flat\n",
    "\t\tz = matrix[:,2].flat\n",
    "\n",
    "\t\tcoords = []\n",
    "\t\tacquisitions = []\n",
    "\n",
    "\t\tfor triangle in self.queue:\n",
    "\t\t\tcoords.append(triangle.pointIndices)\n",
    "\t\t\tacquisitions.append(-1 * triangle.acquisitionValue)\n",
    "\n",
    "\n",
    "\t\tplotter.figure()\n",
    "\t\tplotter.tricontourf(x, y, coords, z)\n",
    "\t\tplotter.triplot(x, y, coords, color='white', lw=0.5)\n",
    "\t\tplotter.colorbar()\n",
    "\n",
    "\n",
    "\t\tplotter.figure()\n",
    "\t\tplotter.tripcolor(x, y, coords, acquisitions)\n",
    "\t\tplotter.triplot(x, y, coords, color='white', lw=0.5)\n",
    "\t\tplotter.colorbar()\n",
    "\n",
    "\t\tplotter.show()"
   ]
  },
  {
   "cell_type": "code",
   "execution_count": null,
   "metadata": {
    "colab": {
     "base_uri": "https://localhost:8080/",
     "height": 69
    },
    "colab_type": "code",
    "hidden": true,
    "id": "oOSxB2zVU1sK",
    "outputId": "1fc1cdc3-dda8-4aa7-f803-de0e3e9e1f65"
   },
   "outputs": [
    {
     "name": "stdout",
     "output_type": "stream",
     "text": [
      "Best objective value = 0.45520193936380177\n",
      "Optimum weights = [0.42658655 0.00983067 0.11402615 0.25205037]\n",
      "Ensembled Accuracy (same as best objective value) = 0.45520193936380177\n"
     ]
    }
   ],
   "source": [
    "# This defines the search area, and other optimization parameters.\n",
    "optimization_domain_vertices = [[0, 0, 0, 0], [0, 0, 0, 1], [0, 0, 1, 0], [0, 1, 0, 0], [1, 0, 0, 0]]\n",
    "number_of_iterations = 3000\n",
    "exploration = 0.15 # optional, default 0.15\n",
    "\n",
    "# Optimize weights\n",
    "tuner = SimpleTuner(optimization_domain_vertices, acc_function, exploration_preference=exploration)\n",
    "tuner.optimize(number_of_iterations)\n",
    "best_objective_value, best_weights = tuner.get_best()\n",
    "\n",
    "print('Best objective value =', best_objective_value)\n",
    "print('Optimum weights =', best_weights)\n",
    "print('Ensembled Accuracy (same as best objective value) =', acc_function(best_weights))"
   ]
  },
  {
   "cell_type": "code",
   "execution_count": null,
   "metadata": {
    "colab": {
     "base_uri": "https://localhost:8080/",
     "height": 104
    },
    "colab_type": "code",
    "hidden": true,
    "id": "yUjTBZr9XIVV",
    "outputId": "b919efeb-eefd-4e4d-c81a-02663be99184"
   },
   "outputs": [
    {
     "name": "stdout",
     "output_type": "stream",
     "text": [
      "Scores individuels :\n",
      "XGB : 0.45110876287858787\n",
      "RFC : 0.4343864120215693\n",
      "LGBM : 0.44688349831393454\n",
      "LogReg : 0.43267548289847874\n"
     ]
    }
   ],
   "source": [
    "print(\"Scores individuels :\")\n",
    "for k in range(len(ensemble_list)):\n",
    "    print(ensemble_names[k], ':', gini_scorer(ensemble_list[k], Xtest, Ytest))"
   ]
  },
  {
   "cell_type": "markdown",
   "metadata": {
    "colab_type": "text",
    "hidden": true,
    "id": "EWaM45MYroPQ"
   },
   "source": [
    "### Optimisation d'une fonction de perte (2ème méthode)"
   ]
  },
  {
   "cell_type": "code",
   "execution_count": null,
   "metadata": {
    "colab": {
     "base_uri": "https://localhost:8080/",
     "height": 121
    },
    "colab_type": "code",
    "hidden": true,
    "id": "999HvmPorscs",
    "outputId": "bf07ea7b-25e0-441e-c05b-b673f68a946d"
   },
   "outputs": [
    {
     "data": {
      "text/plain": [
       "     fun: -0.4656661130579202\n",
       " message: 'Optimization terminated successfully.'\n",
       "    nfev: 8705\n",
       "     nit: 144\n",
       " success: True\n",
       "       x: array([0.01095087, 0.31109131, 0.89542826, 0.02990561])"
      ]
     },
     "execution_count": 90,
     "metadata": {
      "tags": []
     },
     "output_type": "execute_result"
    }
   ],
   "source": [
    "from scipy.optimize import differential_evolution\n",
    "\n",
    "def loss_function(weights):\n",
    "    \"\"\"Renvoie la valeur de la perte pour les prédictions de l'ensemble.\n",
    "    Ici la perte est l'opposée de la fonction de score, soit -gini_normalized\"\"\"\n",
    "    return -gini_normalized(Ytest, ensemble_preds(raw_preds, weights))\n",
    "\n",
    "# arguments to the loss function\n",
    "raw_preds = raw_preds1(ensemble_list, Xtest)\n",
    "\n",
    "# define bounds on each weight\n",
    "bound_w = [(0.0, 1.0) for _ in range(len(ensemble_list))]\n",
    "\n",
    "# global optimization of ensemble weights\n",
    "result = differential_evolution(loss_function, bound_w, maxiter=1000, tol=1e-7)\n",
    "result"
   ]
  },
  {
   "cell_type": "markdown",
   "metadata": {
    "colab_type": "text",
    "hidden": true,
    "id": "f176_pCZuH8c"
   },
   "source": [
    "Score :"
   ]
  },
  {
   "cell_type": "code",
   "execution_count": null,
   "metadata": {
    "colab": {
     "base_uri": "https://localhost:8080/",
     "height": 69
    },
    "colab_type": "code",
    "hidden": true,
    "id": "FF5r-vjAuHiT",
    "outputId": "a97bed00-cccc-4b93-ac31-6cec0e6b471c"
   },
   "outputs": [
    {
     "name": "stdout",
     "output_type": "stream",
     "text": [
      "\n",
      "Best weights : [0.00877913 0.24939657 0.71784949 0.02397482]\n",
      "Score 0.4656661130579202\n"
     ]
    }
   ],
   "source": [
    "best_weights_diff = normalize(result['x'])\n",
    "print(\"\\nBest weights :\", best_weights_diff)\n",
    "print(\"Score\", -loss_function(best_weights_diff))"
   ]
  },
  {
   "cell_type": "markdown",
   "metadata": {
    "colab_type": "text",
    "heading_collapsed": true,
    "id": "Eopqxu5e5n2W"
   },
   "source": [
    "## Blending"
   ]
  },
  {
   "cell_type": "markdown",
   "metadata": {
    "colab_type": "text",
    "hidden": true,
    "id": "Af0hwcYIioC6"
   },
   "source": [
    "On fait du tuning de pramètres par grid search sur Xtrain_stacking, mais on ne garde pas d'ensemble de test pour évaluer nos modèles car on ne dispose déjà que de 30% du jeu de données initial. On a une idée du score grâce à la validation croisée."
   ]
  },
  {
   "cell_type": "code",
   "execution_count": null,
   "metadata": {
    "colab": {
     "base_uri": "https://localhost:8080/",
     "height": 34
    },
    "colab_type": "code",
    "hidden": true,
    "id": "FX1iSIL2hfM9",
    "outputId": "8f22476d-bf4c-4fe2-8c10-7d4490b52a68"
   },
   "outputs": [
    {
     "data": {
      "text/plain": [
       "(3033, 4)"
      ]
     },
     "execution_count": 94,
     "metadata": {
      "tags": []
     },
     "output_type": "execute_result"
    }
   ],
   "source": [
    "Xtrain_stacking = raw_preds1(ensemble_list, Xtest)\n",
    "Xtrain_stacking.shape"
   ]
  },
  {
   "cell_type": "markdown",
   "metadata": {
    "colab_type": "text",
    "hidden": true,
    "id": "K6AyEheSiepu"
   },
   "source": [
    "### Régression Logistique"
   ]
  },
  {
   "cell_type": "markdown",
   "metadata": {
    "colab_type": "text",
    "hidden": true,
    "id": "5oV64YTDiwBv"
   },
   "source": [
    "Puis on entraine un modèle de régression logistique sur ce jeu de données :"
   ]
  },
  {
   "cell_type": "code",
   "execution_count": null,
   "metadata": {
    "colab": {
     "base_uri": "https://localhost:8080/",
     "height": 176
    },
    "colab_type": "code",
    "hidden": true,
    "id": "tAAK5EXnigFB",
    "outputId": "b92824ca-27c8-4a63-abf4-67420060763b"
   },
   "outputs": [
    {
     "name": "stdout",
     "output_type": "stream",
     "text": [
      "Fitting 10 folds for each of 42 candidates, totalling 420 fits\n"
     ]
    },
    {
     "name": "stderr",
     "output_type": "stream",
     "text": [
      "[Parallel(n_jobs=16)]: Using backend LokyBackend with 16 concurrent workers.\n",
      "[Parallel(n_jobs=16)]: Done  96 tasks      | elapsed:    3.0s\n",
      "[Parallel(n_jobs=16)]: Done 256 tasks      | elapsed:    8.4s\n"
     ]
    },
    {
     "name": "stdout",
     "output_type": "stream",
     "text": [
      "Best parameters : {'tol': 0.01, 'C': 1}\n"
     ]
    },
    {
     "name": "stderr",
     "output_type": "stream",
     "text": [
      "[Parallel(n_jobs=16)]: Done 420 out of 420 | elapsed:   13.8s finished\n",
      "/home/Benjamin/.local/lib/python3.5/site-packages/sklearn/linear_model/logistic.py:433: FutureWarning: Default solver will be changed to 'lbfgs' in 0.22. Specify a solver to silence this warning.\n",
      "  FutureWarning)\n"
     ]
    }
   ],
   "source": [
    "#Grille de paramètres\n",
    "tol = [1e-2, 1e-3, 1e-4, 1e-6, 1e-8, 1e-10, 1e-12]\n",
    "C = [1e-2, 1e-1, 1, 10, 100, 500]\n",
    "\n",
    "#GridSearch\n",
    "param_grid = dict(tol=tol, C=C)\n",
    "grid_search = GridSearchCV(LogisticRegression(),\n",
    "                           param_grid, cv=10, n_jobs=n_jobs, scoring=gini_scorer, verbose=3)\n",
    "grid_result = grid_search.fit(Xtrain_stacking, Ytest)\n",
    "\n",
    "\n",
    "#Résultats\n",
    "best_params = grid_result.best_params_\n",
    "print(\"Best parameters :\", best_params)\n",
    "LogReg_stack = grid_result.best_estimator_"
   ]
  },
  {
   "cell_type": "code",
   "execution_count": null,
   "metadata": {
    "colab": {
     "base_uri": "https://localhost:8080/",
     "height": 34
    },
    "colab_type": "code",
    "hidden": true,
    "id": "7l708mh6vhNh",
    "outputId": "0d762262-71f3-4b54-9beb-fe8c60b77483"
   },
   "outputs": [
    {
     "name": "stdout",
     "output_type": "stream",
     "text": [
      "0.46401492975046116\n"
     ]
    }
   ],
   "source": [
    "print(grid_result.best_score_)"
   ]
  },
  {
   "cell_type": "markdown",
   "metadata": {
    "colab_type": "text",
    "hidden": true,
    "id": "VEZlMuaWihuU"
   },
   "source": [
    "### XGBoost (ne pas utiliser)"
   ]
  },
  {
   "cell_type": "markdown",
   "metadata": {
    "colab_type": "text",
    "hidden": true,
    "id": "D8nQrce5gwFe"
   },
   "source": [
    "Ou un modèle XGBoost :"
   ]
  },
  {
   "cell_type": "code",
   "execution_count": null,
   "metadata": {
    "colab": {
     "base_uri": "https://localhost:8080/",
     "height": 627
    },
    "colab_type": "code",
    "hidden": true,
    "id": "xcQLnAA6gSkv",
    "outputId": "14830ac2-c904-4241-aaf7-3d5743c96983"
   },
   "outputs": [
    {
     "name": "stdout",
     "output_type": "stream",
     "text": [
      "Fitting 10 folds for each of 9450 candidates, totalling 94500 fits\n"
     ]
    },
    {
     "name": "stderr",
     "output_type": "stream",
     "text": [
      "[Parallel(n_jobs=16)]: Using backend LokyBackend with 16 concurrent workers.\n",
      "[Parallel(n_jobs=16)]: Done  18 tasks      | elapsed:    0.2s\n",
      "[Parallel(n_jobs=16)]: Done 576 tasks      | elapsed:    3.2s\n",
      "[Parallel(n_jobs=16)]: Done 1576 tasks      | elapsed:   10.0s\n",
      "[Parallel(n_jobs=16)]: Done 2976 tasks      | elapsed:   23.5s\n",
      "[Parallel(n_jobs=16)]: Done 4776 tasks      | elapsed:   38.6s\n",
      "[Parallel(n_jobs=16)]: Done 6976 tasks      | elapsed:   59.0s\n",
      "[Parallel(n_jobs=16)]: Done 9576 tasks      | elapsed:  1.3min\n",
      "[Parallel(n_jobs=16)]: Done 12576 tasks      | elapsed:  1.8min\n",
      "[Parallel(n_jobs=16)]: Done 15976 tasks      | elapsed:  2.3min\n",
      "[Parallel(n_jobs=16)]: Done 19776 tasks      | elapsed:  2.9min\n",
      "[Parallel(n_jobs=16)]: Done 23976 tasks      | elapsed:  3.5min\n",
      "[Parallel(n_jobs=16)]: Done 28576 tasks      | elapsed:  4.1min\n",
      "[Parallel(n_jobs=16)]: Done 33572 tasks      | elapsed:  5.0min\n",
      "[Parallel(n_jobs=16)]: Done 36280 tasks      | elapsed:  5.5min\n",
      "[Parallel(n_jobs=16)]: Done 39180 tasks      | elapsed:  6.1min\n",
      "[Parallel(n_jobs=16)]: Done 42280 tasks      | elapsed:  6.6min\n",
      "[Parallel(n_jobs=16)]: Done 45580 tasks      | elapsed:  7.1min\n",
      "[Parallel(n_jobs=16)]: Done 49080 tasks      | elapsed:  7.7min\n",
      "[Parallel(n_jobs=16)]: Done 52780 tasks      | elapsed:  8.5min\n",
      "[Parallel(n_jobs=16)]: Done 56680 tasks      | elapsed:  9.5min\n",
      "[Parallel(n_jobs=16)]: Done 60780 tasks      | elapsed: 10.0min\n",
      "[Parallel(n_jobs=16)]: Done 65080 tasks      | elapsed: 10.8min\n",
      "[Parallel(n_jobs=16)]: Done 69580 tasks      | elapsed: 11.7min\n",
      "[Parallel(n_jobs=16)]: Done 74280 tasks      | elapsed: 13.0min\n",
      "[Parallel(n_jobs=16)]: Done 78610 tasks      | elapsed: 13.9min\n",
      "[Parallel(n_jobs=16)]: Done 83710 tasks      | elapsed: 14.9min\n",
      "[Parallel(n_jobs=16)]: Done 89010 tasks      | elapsed: 16.2min\n",
      "[Parallel(n_jobs=16)]: Done 93942 tasks      | elapsed: 17.9min\n",
      "[Parallel(n_jobs=16)]: Done 94500 out of 94500 | elapsed: 18.2min finished\n"
     ]
    },
    {
     "name": "stdout",
     "output_type": "stream",
     "text": [
      "Best parameters : {'colsample_bylevel': 0.2, 'reg_alpha': 0.1, 'max_depth': 2, 'min_child_weight': 8, 'colsample_bytree': 0.2, 'reg_lambda': 1}\n"
     ]
    },
    {
     "name": "stderr",
     "output_type": "stream",
     "text": [
      "/home/Benjamin/.local/lib/python3.5/site-packages/sklearn/model_selection/_search.py:841: DeprecationWarning: The default of the `iid` parameter will change from True to False in version 0.22 and will be removed in 0.24. This will change numeric results when test-set sizes are unequal.\n",
      "  DeprecationWarning)\n"
     ]
    }
   ],
   "source": [
    "#Grille de paramètres\n",
    "max_depth = [2, 3, 4, 6, 8]\n",
    "min_child_weight = [2, 3, 4, 6, 8, 10]\n",
    "reg_alpha = [0, 1]\n",
    "reg_lambda = [0, 1]\n",
    "colsample_bytree = [0.2, 0.4, 0.6, 0.8, 1]\n",
    "colsample_bylevel = [0.2, 0.4, 0.6, 0.8, 1]\n",
    "param_grid = dict(max_depth=max_depth, min_child_weight=min_child_weight, reg_alpha=reg_alpha, reg_lambda=reg_lambda,\n",
    "                 colsample_bytree=colsample_bytree, colsample_bylevel=colsample_bytree)\n",
    "\n",
    "#GridSearch\n",
    "grid_search = GridSearchCV(XGBClassifier(learning_rate=0.1, n_estimators=100),\n",
    "                           param_grid, cv=5, n_jobs=n_jobs, scoring=gini_scorer, verbose=True)\n",
    "grid_result = grid_search.fit(Xtrain_stack, Ytrain2)\n",
    "\n",
    "#Résultats\n",
    "best_params = grid_result.best_params_\n",
    "print(\"Best parameters :\", best_params)"
   ]
  },
  {
   "cell_type": "code",
   "execution_count": null,
   "metadata": {
    "colab": {},
    "colab_type": "code",
    "hidden": true,
    "id": "UrOwy-I4hAZP"
   },
   "outputs": [],
   "source": [
    "max_depth = best_params[\"max_depth\"]\n",
    "min_child_weight = best_params[\"min_child_weight\"]\n",
    "reg_alpha = best_params[\"reg_alpha\"]\n",
    "reg_lambda = best_params[\"reg_lambda\"]\n",
    "colsample_bytree = best_params[\"colsample_bytree\"]\n",
    "colsample_bylevel = best_params[\"colsample_bylevel\"]"
   ]
  },
  {
   "cell_type": "markdown",
   "metadata": {
    "colab_type": "text",
    "hidden": true,
    "id": "NIMInlguhAZ3"
   },
   "source": [
    "On cherche maintenant les meilleurs valeurs pour `n_estimators` et `learning_rate` :"
   ]
  },
  {
   "cell_type": "code",
   "execution_count": null,
   "metadata": {
    "colab": {
     "base_uri": "https://localhost:8080/",
     "height": 159
    },
    "colab_type": "code",
    "hidden": true,
    "id": "qhuNSkP8hAZ7",
    "outputId": "9619edbe-a982-4878-d713-077551ba17b6"
   },
   "outputs": [
    {
     "name": "stderr",
     "output_type": "stream",
     "text": [
      "[Parallel(n_jobs=16)]: Using backend LokyBackend with 16 concurrent workers.\n"
     ]
    },
    {
     "name": "stdout",
     "output_type": "stream",
     "text": [
      "Fitting 10 folds for each of 25 candidates, totalling 250 fits\n"
     ]
    },
    {
     "name": "stderr",
     "output_type": "stream",
     "text": [
      "[Parallel(n_jobs=16)]: Done  96 tasks      | elapsed:   17.5s\n",
      "[Parallel(n_jobs=16)]: Done 250 out of 250 | elapsed:   48.6s finished\n",
      "/home/Benjamin/.local/lib/python3.5/site-packages/sklearn/model_selection/_search.py:841: DeprecationWarning: The default of the `iid` parameter will change from True to False in version 0.22 and will be removed in 0.24. This will change numeric results when test-set sizes are unequal.\n",
      "  DeprecationWarning)\n"
     ]
    },
    {
     "name": "stdout",
     "output_type": "stream",
     "text": [
      "Best parameters : {'n_estimators': 5000, 'learning_rate': 0.001}\n"
     ]
    }
   ],
   "source": [
    "#Grille de paramètres\n",
    "learning_rate = [1e-5, 1e-4, 1e-3, 1e-2, 1e-1]\n",
    "n_estimators = [1000, 2000, 3000, 5000, 7000]\n",
    "param_grid = dict(learning_rate=learning_rate, n_estimators=n_estimators)\n",
    "\n",
    "#GridSearch\n",
    "grid_search = GridSearchCV(XGBClassifier(max_depth=max_depth, min_child_weight=min_child_weight, reg_alpha=reg_alpha,\n",
    "                                         reg_lambda=reg_lambda, colsample_bytree=colsample_bytree, colsample_bylevel=colsample_bylevel),\n",
    "                           param_grid, cv=10, n_jobs=n_jobs, scoring=gini_scorer, verbose=3)\n",
    "grid_result = grid_search.fit(Xtrain_stack, Ytrain2)\n",
    "\n",
    "#Résultats\n",
    "best_params = grid_result.best_params_\n",
    "print(\"Best parameters :\", best_params)\n",
    "XGB_stack = grid_result.best_estimator_"
   ]
  },
  {
   "cell_type": "markdown",
   "metadata": {
    "colab_type": "text",
    "hidden": true,
    "id": "nmK_81zEhHln"
   },
   "source": [
    "Score (très variant car l'ensemble de test est petit) :"
   ]
  },
  {
   "cell_type": "code",
   "execution_count": null,
   "metadata": {
    "colab": {
     "base_uri": "https://localhost:8080/",
     "height": 34
    },
    "colab_type": "code",
    "hidden": true,
    "id": "784KE1LahHly",
    "outputId": "9f561925-a354-4e4a-fd6b-bdf1a232768c"
   },
   "outputs": [
    {
     "data": {
      "text/plain": [
       "0.4521992211518753"
      ]
     },
     "execution_count": 113,
     "metadata": {
      "tags": []
     },
     "output_type": "execute_result"
    }
   ],
   "source": [
    "gini_scorer(XGB_stack, Xtest_stack, Ytest2)"
   ]
  },
  {
   "cell_type": "code",
   "execution_count": null,
   "metadata": {
    "colab": {
     "base_uri": "https://localhost:8080/",
     "height": 104
    },
    "colab_type": "code",
    "hidden": true,
    "id": "Nkq0xQaChHmJ",
    "outputId": "b7a16937-9b4b-4e4a-c4f4-b5fdb9127d27"
   },
   "outputs": [
    {
     "name": "stdout",
     "output_type": "stream",
     "text": [
      "Scores individuels :\n",
      "XGB : 0.45110876287858787\n",
      "RFC : 0.4343864120215693\n",
      "LGBM : 0.44688349831393454\n",
      "LogReg : 0.43267548289847874\n"
     ]
    }
   ],
   "source": [
    "print(\"Scores individuels :\")\n",
    "for k in range(len(ensemble_list)):\n",
    "    print(ensemble_names[k], ':', gini_scorer(ensemble_list[k], Xtest, Ytest))"
   ]
  },
  {
   "cell_type": "markdown",
   "metadata": {
    "colab_type": "text",
    "hidden": true,
    "id": "S6WWgGv6b3BR"
   },
   "source": [
    "### LGBM "
   ]
  },
  {
   "cell_type": "markdown",
   "metadata": {
    "colab_type": "text",
    "hidden": true,
    "id": "FSQHltIvb7Gx"
   },
   "source": [
    "On commence en fixant `n_estimators` et `learning_rate`, qu'on optimisera après :"
   ]
  },
  {
   "cell_type": "code",
   "execution_count": null,
   "metadata": {
    "colab": {
     "base_uri": "https://localhost:8080/",
     "height": 350
    },
    "colab_type": "code",
    "hidden": true,
    "id": "2hUY7G9pb7HF",
    "outputId": "89896498-cc4c-4359-86ed-ed5094a5a2bf"
   },
   "outputs": [
    {
     "name": "stdout",
     "output_type": "stream",
     "text": [
      "Fitting 5 folds for each of 3840 candidates, totalling 19200 fits\n"
     ]
    },
    {
     "name": "stderr",
     "output_type": "stream",
     "text": [
      "[Parallel(n_jobs=16)]: Using backend LokyBackend with 16 concurrent workers.\n",
      "[Parallel(n_jobs=16)]: Done 120 tasks      | elapsed:    0.9s\n",
      "[Parallel(n_jobs=16)]: Done 744 tasks      | elapsed:    2.9s\n",
      "[Parallel(n_jobs=16)]: Done 1640 tasks      | elapsed:    6.1s\n",
      "[Parallel(n_jobs=16)]: Done 2792 tasks      | elapsed:   10.2s\n",
      "[Parallel(n_jobs=16)]: Done 4200 tasks      | elapsed:   15.3s\n",
      "[Parallel(n_jobs=16)]: Done 5864 tasks      | elapsed:   21.8s\n",
      "[Parallel(n_jobs=16)]: Done 7784 tasks      | elapsed:   29.6s\n",
      "[Parallel(n_jobs=16)]: Done 9960 tasks      | elapsed:   38.6s\n",
      "[Parallel(n_jobs=16)]: Done 12392 tasks      | elapsed:   50.6s\n",
      "[Parallel(n_jobs=16)]: Done 15064 tasks      | elapsed:  1.1min\n",
      "[Parallel(n_jobs=16)]: Done 16556 tasks      | elapsed:  1.3min\n",
      "[Parallel(n_jobs=16)]: Done 18156 tasks      | elapsed:  1.5min\n"
     ]
    },
    {
     "name": "stdout",
     "output_type": "stream",
     "text": [
      "Best parameters : {'reg_alpha': 0, 'max_depth': 2, 'reg_lambda': 0, 'min_split_gain': 0, 'min_child_weight': 1e-07, 'subsample_for_bin': 2500, 'num_leaves': 2, 'min_child_samples': 40}\n"
     ]
    },
    {
     "name": "stderr",
     "output_type": "stream",
     "text": [
      "[Parallel(n_jobs=16)]: Done 19200 out of 19200 | elapsed:  1.6min finished\n",
      "/home/Benjamin/.local/lib/python3.5/site-packages/lightgbm/basic.py:195: UserWarning: Usage of np.ndarray subset (sliced data) is not recommended due to it will double the peak memory cost in LightGBM.\n",
      "  warnings.warn(\"Usage of np.ndarray subset (sliced data) is not recommended \"\n"
     ]
    }
   ],
   "source": [
    "#Grille de paramètres\n",
    "num_leaves = [2, 4, 5, 10, 20, 31, 80, 200]\n",
    "max_depth = [2, 3, 5, -1]\n",
    "subsample_for_bin = [1000, 1500, 2000, 2500]\n",
    "min_split_gain = [0]\n",
    "min_child_weight = [1e-7, 1e-6, 1e-5, 1e-4, 1e-3]\n",
    "min_child_samples = [20, 40, 70, 100, 150, 300]\n",
    "reg_alpha = [0]\n",
    "reg_lambda = [0]\n",
    "\n",
    "#GridSearch\n",
    "param_grid = dict(num_leaves=num_leaves, max_depth=max_depth, subsample_for_bin=subsample_for_bin, min_split_gain=min_split_gain, \n",
    "                  min_child_weight=min_child_weight, min_child_samples=min_child_samples,reg_alpha=reg_alpha, reg_lambda=reg_lambda)\n",
    "grid_search = GridSearchCV(LGBMClassifier(learning_rate=0.1, n_estimators=100),\n",
    "                           param_grid, cv=5, n_jobs=n_jobs, scoring=gini_scorer, verbose=3)\n",
    "grid_result = grid_search.fit(Xtrain_stacking, Ytest)\n",
    "\n",
    "\n",
    "#Résultats\n",
    "best_params = grid_result.best_params_\n",
    "print(\"Best parameters :\", best_params)"
   ]
  },
  {
   "cell_type": "code",
   "execution_count": null,
   "metadata": {
    "colab": {},
    "colab_type": "code",
    "hidden": true,
    "id": "wwLySlphb7He"
   },
   "outputs": [],
   "source": [
    "num_leaves = best_params[\"num_leaves\"]\n",
    "max_depth = best_params[\"max_depth\"]\n",
    "subsample_for_bin = best_params[\"subsample_for_bin\"]\n",
    "min_split_gain = best_params[\"min_split_gain\"]\n",
    "min_child_weight = best_params[\"min_child_weight\"]\n",
    "min_child_samples = best_params[\"min_child_samples\"]\n",
    "reg_alpha = best_params[\"reg_alpha\"]\n",
    "reg_lambda = best_params[\"reg_lambda\"]"
   ]
  },
  {
   "cell_type": "markdown",
   "metadata": {
    "colab_type": "text",
    "hidden": true,
    "id": "LCyU0f_Ib7Hp"
   },
   "source": [
    "Optimisation de `n_estimators` et `learning_rate` :"
   ]
  },
  {
   "cell_type": "code",
   "execution_count": null,
   "metadata": {
    "colab": {
     "base_uri": "https://localhost:8080/",
     "height": 176
    },
    "colab_type": "code",
    "hidden": true,
    "id": "ERmsgoAlb7Hs",
    "outputId": "6498bc05-e794-49f4-dff8-fa47774ed33d"
   },
   "outputs": [
    {
     "name": "stderr",
     "output_type": "stream",
     "text": [
      "[Parallel(n_jobs=16)]: Using backend LokyBackend with 16 concurrent workers.\n"
     ]
    },
    {
     "name": "stdout",
     "output_type": "stream",
     "text": [
      "Fitting 10 folds for each of 36 candidates, totalling 360 fits\n",
      "Best parameters : {'learning_rate': 0.2, 'n_estimators': 30}\n"
     ]
    },
    {
     "name": "stderr",
     "output_type": "stream",
     "text": [
      "[Parallel(n_jobs=16)]: Done 360 out of 360 | elapsed:    3.4s finished\n",
      "/home/Benjamin/.local/lib/python3.5/site-packages/sklearn/model_selection/_search.py:841: DeprecationWarning: The default of the `iid` parameter will change from True to False in version 0.22 and will be removed in 0.24. This will change numeric results when test-set sizes are unequal.\n",
      "  DeprecationWarning)\n",
      "/home/Benjamin/.local/lib/python3.5/site-packages/lightgbm/basic.py:195: UserWarning: Usage of np.ndarray subset (sliced data) is not recommended due to it will double the peak memory cost in LightGBM.\n",
      "  warnings.warn(\"Usage of np.ndarray subset (sliced data) is not recommended \"\n"
     ]
    }
   ],
   "source": [
    "#Grille de paramètres\n",
    "learning_rate = [0.01, 0.1, 0.2, 0.3, 0.4, 0.5]\n",
    "n_estimators = [30, 50, 70, 100, 500, 1000]\n",
    "param_grid = dict(learning_rate=learning_rate, n_estimators=n_estimators)\n",
    "\n",
    "#GridSearch\n",
    "grid_search = GridSearchCV(LGBMClassifier(num_leaves=num_leaves, max_depth=max_depth, subsample_for_bin=subsample_for_bin, \n",
    "                                          min_split_gain=min_split_gain, min_child_weight=min_child_weight, \n",
    "                                          min_child_samples=min_child_samples,reg_alpha=reg_alpha, reg_lambda=reg_lambda),\n",
    "                           param_grid, cv=10, n_jobs=n_jobs, scoring=gini_scorer, verbose=3)\n",
    "grid_result = grid_search.fit(Xtrain_stacking, Ytest)\n",
    "\n",
    "#Résultats\n",
    "best_params = grid_result.best_params_\n",
    "print(\"Best parameters :\", best_params)\n",
    "LGBM_stack = grid_result.best_estimator_"
   ]
  },
  {
   "cell_type": "markdown",
   "metadata": {
    "colab_type": "text",
    "hidden": true,
    "id": "4NKSwQHEb7H5"
   },
   "source": [
    "Score :"
   ]
  },
  {
   "cell_type": "code",
   "execution_count": null,
   "metadata": {
    "colab": {
     "base_uri": "https://localhost:8080/",
     "height": 34
    },
    "colab_type": "code",
    "hidden": true,
    "id": "kUayTYu8b7H7",
    "outputId": "e0c755b7-c69d-443e-e575-843422e34f6a"
   },
   "outputs": [
    {
     "name": "stdout",
     "output_type": "stream",
     "text": [
      "0.4739117550810091\n"
     ]
    }
   ],
   "source": [
    "print(grid_result.best_score_)"
   ]
  },
  {
   "cell_type": "markdown",
   "metadata": {},
   "source": [
    "## Stacking"
   ]
  },
  {
   "cell_type": "markdown",
   "metadata": {},
   "source": [
    "Seulement avec XGB et LGBM"
   ]
  },
  {
   "cell_type": "code",
   "execution_count": 69,
   "metadata": {},
   "outputs": [],
   "source": [
    "params_xgb = XGB.get_params()\n",
    "params_lgbm = LGBM.get_params()"
   ]
  },
  {
   "cell_type": "code",
   "execution_count": 70,
   "metadata": {},
   "outputs": [],
   "source": [
    "params_stack = [params_xgb, params_lgbm]"
   ]
  },
  {
   "cell_type": "markdown",
   "metadata": {},
   "source": [
    "Création des jeux d'entrainement et de test. \n",
    "\n",
    "Pour former le jeu d'entraînement, on fit chaque modèle sur 9/10è du jeu d'entrainement et on prédit des valeurs sur le dernier dixième. On concatène ces prédictions, ce qui forme le nouveau jeu de données.\n",
    "\n",
    "Pour le jeu de test, on entraine chaque modèle sur tout le jeu d'entrainement puis on fait des prédictions sur le jeu de test, ce qui forme le nouveau jeu de données."
   ]
  },
  {
   "cell_type": "code",
   "execution_count": 72,
   "metadata": {},
   "outputs": [],
   "source": [
    "from sklearn.model_selection import StratifiedKFold\n",
    "folds = StratifiedKFold(n_splits=10, shuffle=True)\n",
    "\n",
    "Xtrain_stack = np.zeros((len(Xtrain), 4))\n",
    "Xtest_stack = np.zeros((len(Xtest), 4))\n",
    "for train, pred in folds.split(Xtrain, Ytrain):\n",
    "    Xtrain_fit = Xtrain.iloc[train, :] #9/10e du train sur lequel on fit notre modèle\n",
    "    Ytrain_fit = Ytrain[train]\n",
    "    Xtrain_pred = Xtrain.iloc[pred, :] #1/10e du train sur lequel on prédit avec notre modèle\n",
    "    Xtrain_stack[pred,0:2] = XGBClassifier(**params_stack[0]).fit(Xtrain_fit, Ytrain_fit).predict_proba(Xtrain_pred)\n",
    "    Xtrain_stack[pred,2:4] = LGBMClassifier(**params_stack[1]).fit(Xtrain_fit, Ytrain_fit).predict_proba(Xtrain_pred)\n",
    "\n",
    "Xtest_stack[:,0:2] = XGBClassifier(**params_stack[0]).fit(Xtrain, Ytrain).predict_proba(Xtest)\n",
    "Xtest_stack[:,2:4] = LGBMClassifier(**params_stack[1]).fit(Xtrain, Ytrain).predict_proba(Xtest)"
   ]
  },
  {
   "cell_type": "markdown",
   "metadata": {},
   "source": [
    "Entrainement d'un modèle sur ce jeu de données :"
   ]
  },
  {
   "cell_type": "code",
   "execution_count": 73,
   "metadata": {},
   "outputs": [
    {
     "name": "stdout",
     "output_type": "stream",
     "text": [
      "Fitting 10 folds for each of 36 candidates, totalling 360 fits\n"
     ]
    },
    {
     "name": "stderr",
     "output_type": "stream",
     "text": [
      "[Parallel(n_jobs=4)]: Using backend LokyBackend with 4 concurrent workers.\n",
      "[Parallel(n_jobs=4)]: Done  24 tasks      | elapsed:    2.5s\n"
     ]
    },
    {
     "name": "stdout",
     "output_type": "stream",
     "text": [
      "Best parameters : {'C': 100, 'tol': 0.0001}\n"
     ]
    },
    {
     "name": "stderr",
     "output_type": "stream",
     "text": [
      "[Parallel(n_jobs=4)]: Done 360 out of 360 | elapsed:    5.6s finished\n"
     ]
    }
   ],
   "source": [
    "#Grille de paramètres\n",
    "tol = [1e-2, 1e-4, 1e-6, 1e-8, 1e-10, 1e-12]\n",
    "C = [1e-3, 1e-2, 1e-1, 1, 10, 100]\n",
    "\n",
    "#GridSearch\n",
    "param_grid = dict(tol=tol, C=C)\n",
    "grid_search = GridSearchCV(LogisticRegression(solver='lbfgs'),\n",
    "                           param_grid, cv=10, n_jobs=n_jobs, scoring=gini_scorer, verbose=3)\n",
    "grid_result = grid_search.fit(Xtrain_stack, Ytrain)\n",
    "\n",
    "\n",
    "#Résultats\n",
    "best_params = grid_result.best_params_\n",
    "print(\"Best parameters :\", best_params)\n",
    "LogReg_stack = grid_result.best_estimator_"
   ]
  },
  {
   "cell_type": "markdown",
   "metadata": {},
   "source": [
    "Sur le jeu de données où on supprimes les probas d'appartenance à la classe 0 :"
   ]
  },
  {
   "cell_type": "markdown",
   "metadata": {},
   "source": [
    "Score :"
   ]
  },
  {
   "cell_type": "code",
   "execution_count": 77,
   "metadata": {},
   "outputs": [
    {
     "name": "stdout",
     "output_type": "stream",
     "text": [
      "0.4232185479873063\n",
      "0.42316321652957095\n"
     ]
    }
   ],
   "source": [
    "print(grid_result.best_score_)"
   ]
  },
  {
   "cell_type": "code",
   "execution_count": 78,
   "metadata": {},
   "outputs": [
    {
     "name": "stdout",
     "output_type": "stream",
     "text": [
      "0.46075713597211215\n",
      "0.46101562660424256\n"
     ]
    }
   ],
   "source": [
    "print(gini_scorer(LogReg_stack, Xtest_stack, Ytest))"
   ]
  },
  {
   "cell_type": "markdown",
   "metadata": {
    "colab_type": "text",
    "heading_collapsed": true,
    "id": "a3lWw9fziRLH"
   },
   "source": [
    "# Construction des prédictions"
   ]
  },
  {
   "cell_type": "code",
   "execution_count": null,
   "metadata": {
    "colab": {
     "base_uri": "https://localhost:8080/",
     "height": 206
    },
    "colab_type": "code",
    "hidden": true,
    "id": "BDJdlRPqiC7Y",
    "outputId": "cf1a05b2-b8ab-4141-a17d-9b0c0b7f8418"
   },
   "outputs": [
    {
     "data": {
      "text/html": [
       "<div>\n",
       "<style scoped>\n",
       "    .dataframe tbody tr th:only-of-type {\n",
       "        vertical-align: middle;\n",
       "    }\n",
       "\n",
       "    .dataframe tbody tr th {\n",
       "        vertical-align: top;\n",
       "    }\n",
       "\n",
       "    .dataframe thead th {\n",
       "        text-align: right;\n",
       "    }\n",
       "</style>\n",
       "<table border=\"1\" class=\"dataframe\">\n",
       "  <thead>\n",
       "    <tr style=\"text-align: right;\">\n",
       "      <th></th>\n",
       "      <th>Identifiant</th>\n",
       "    </tr>\n",
       "  </thead>\n",
       "  <tbody>\n",
       "    <tr>\n",
       "      <th>0</th>\n",
       "      <td>16872</td>\n",
       "    </tr>\n",
       "    <tr>\n",
       "      <th>1</th>\n",
       "      <td>16852</td>\n",
       "    </tr>\n",
       "    <tr>\n",
       "      <th>2</th>\n",
       "      <td>598</td>\n",
       "    </tr>\n",
       "    <tr>\n",
       "      <th>3</th>\n",
       "      <td>4516</td>\n",
       "    </tr>\n",
       "    <tr>\n",
       "      <th>4</th>\n",
       "      <td>7939</td>\n",
       "    </tr>\n",
       "  </tbody>\n",
       "</table>\n",
       "</div>"
      ],
      "text/plain": [
       "   Identifiant\n",
       "0        16872\n",
       "1        16852\n",
       "2          598\n",
       "3         4516\n",
       "4         7939"
      ]
     },
     "execution_count": 47,
     "metadata": {
      "tags": []
     },
     "output_type": "execute_result"
    }
   ],
   "source": [
    "y_pred = pd.DataFrame({'Identifiant':id_test})\n",
    "y_pred.head()"
   ]
  },
  {
   "cell_type": "markdown",
   "metadata": {
    "colab_type": "text",
    "hidden": true,
    "id": "AsB8t6IloG5M"
   },
   "source": [
    "## Prédictions"
   ]
  },
  {
   "cell_type": "markdown",
   "metadata": {
    "colab_type": "text",
    "hidden": true,
    "id": "6IvEkSUCoIht"
   },
   "source": [
    "Comme les prédictions finales sont faites par ensembling, on doit d'abord créer le jeu de données contenant les prédictions des algorithmes de premier niveau :"
   ]
  },
  {
   "cell_type": "code",
   "execution_count": null,
   "metadata": {
    "colab": {},
    "colab_type": "code",
    "hidden": true,
    "id": "zowrWQADoIAb"
   },
   "outputs": [],
   "source": [
    "raw_preds_test = raw_preds1(ensemble_list, X_test)"
   ]
  },
  {
   "cell_type": "markdown",
   "metadata": {
    "colab_type": "text",
    "hidden": true,
    "id": "1OPGAeIUoaXj"
   },
   "source": [
    "On prédit les valeurs par weighted average probabilites en utilisant la minimisation par `differential_evolution` :"
   ]
  },
  {
   "cell_type": "code",
   "execution_count": null,
   "metadata": {
    "colab": {},
    "colab_type": "code",
    "hidden": true,
    "id": "83Cih8xSofM3"
   },
   "outputs": [],
   "source": [
    "y_pred_average = y_pred.copy()\n",
    "y_pred_average['target'] = ensemble_preds(raw_preds_test, best_weights_diff)"
   ]
  },
  {
   "cell_type": "markdown",
   "metadata": {
    "colab_type": "text",
    "hidden": true,
    "id": "OMRO5Ph9pJQZ"
   },
   "source": [
    "Par le modèle de LGBM (qui semble plus performant que la Régression Logistique) construit par stacking, pour comparer :"
   ]
  },
  {
   "cell_type": "code",
   "execution_count": null,
   "metadata": {
    "colab": {
     "base_uri": "https://localhost:8080/",
     "height": 72
    },
    "colab_type": "code",
    "hidden": true,
    "id": "r2mqr1vHpPb4",
    "outputId": "e7654289-96e0-42a7-9aa7-337215f5f86b"
   },
   "outputs": [
    {
     "name": "stderr",
     "output_type": "stream",
     "text": [
      "/home/Benjamin/.local/lib/python3.5/site-packages/lightgbm/basic.py:195: UserWarning: Usage of np.ndarray subset (sliced data) is not recommended due to it will double the peak memory cost in LightGBM.\n",
      "  warnings.warn(\"Usage of np.ndarray subset (sliced data) is not recommended \"\n"
     ]
    }
   ],
   "source": [
    "y_pred_stacking = y_pred.copy()\n",
    "y_pred_stacking['target'] = LGBM_stack.predict_proba(raw_preds_test)[:,1]"
   ]
  },
  {
   "cell_type": "markdown",
   "metadata": {
    "colab_type": "text",
    "hidden": true,
    "id": "ppREjiGLqhFE"
   },
   "source": [
    "Et par un modèle en particulier :"
   ]
  },
  {
   "cell_type": "code",
   "execution_count": null,
   "metadata": {
    "colab": {},
    "colab_type": "code",
    "hidden": true,
    "id": "FIvo6aB4qnhd"
   },
   "outputs": [],
   "source": [
    "y_pred_lgbm = y_pred.copy()\n",
    "y_pred_lgbm['target'] = LGBM.predict_proba(X_test)[:,1]"
   ]
  },
  {
   "cell_type": "markdown",
   "metadata": {
    "colab_type": "text",
    "hidden": true,
    "id": "Kk9og-d2paom"
   },
   "source": [
    "On sauvegarde les données :"
   ]
  },
  {
   "cell_type": "code",
   "execution_count": null,
   "metadata": {
    "colab": {},
    "colab_type": "code",
    "hidden": true,
    "id": "RrBbQTpPpdQy"
   },
   "outputs": [],
   "source": [
    "pd.DataFrame(y_pred_average).to_csv(\"y_pred_average.csv\")\n",
    "pd.DataFrame(y_pred_stacking).to_csv(\"y_pred_stacking.csv\")\n",
    "pd.DataFrame(y_pred_lgbm).to_csv(\"y_pred_lgbm_full.csv\")"
   ]
  },
  {
   "cell_type": "code",
   "execution_count": 36,
   "metadata": {
    "colab": {},
    "colab_type": "code",
    "hidden": true,
    "id": "Wy5XiqvrUCzA"
   },
   "outputs": [],
   "source": [
    "ypred_xgbfull = pd.read_csv(\"../predictions/full/y_pred_xgb_full.csv\", index_col=0, header=0)\n",
    "ypred_lgbmfull = pd.read_csv(\"../predictions/full/y_pred_lgbm_full.csv\", index_col=0, header=0)"
   ]
  },
  {
   "cell_type": "code",
   "execution_count": null,
   "metadata": {
    "hidden": true
   },
   "outputs": [],
   "source": []
  },
  {
   "cell_type": "code",
   "execution_count": null,
   "metadata": {
    "hidden": true
   },
   "outputs": [],
   "source": []
  }
 ],
 "metadata": {
  "colab": {
   "collapsed_sections": [
    "W3HBhNJ_yEGM",
    "RSBt4_aDVnUz",
    "N8uCK3cg-JHd",
    "Y6wWXwTKkG-y",
    "qh3Kt5Qejs2N",
    "t785UVfnuv-p",
    "M87qNcruu3kX",
    "hsrgeXKEVlj-",
    "iQnwYMM-5yeW",
    "FfCwKDl2qFh0",
    "4M6AXayE56r-",
    "P6driVwJKrFy",
    "a0pa77wBKfCQ",
    "K6AyEheSiepu",
    "VEZlMuaWihuU",
    "S6WWgGv6b3BR"
   ],
   "name": "Data Challenge GENERALI.ipynb",
   "provenance": [],
   "version": "0.3.2"
  },
  "kernelspec": {
   "display_name": "Python 3",
   "language": "python",
   "name": "python3"
  },
  "language_info": {
   "codemirror_mode": {
    "name": "ipython",
    "version": 3
   },
   "file_extension": ".py",
   "mimetype": "text/x-python",
   "name": "python",
   "nbconvert_exporter": "python",
   "pygments_lexer": "ipython3",
   "version": "3.6.5"
  }
 },
 "nbformat": 4,
 "nbformat_minor": 2
}
